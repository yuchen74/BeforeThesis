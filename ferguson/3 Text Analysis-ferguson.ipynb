{
 "cells": [
  {
   "cell_type": "markdown",
   "id": "approximate-office",
   "metadata": {},
   "source": [
    "# Text Analysis on ferguson data"
   ]
  },
  {
   "cell_type": "code",
   "execution_count": 20,
   "id": "eastern-wildlife",
   "metadata": {},
   "outputs": [],
   "source": [
    "import numpy as np\n",
    "import pandas as pd\n",
    "import datetime \n",
    "import matplotlib.pyplot as plt\n",
    "import seaborn as sns"
   ]
  },
  {
   "cell_type": "code",
   "execution_count": 21,
   "id": "bulgarian-promotion",
   "metadata": {},
   "outputs": [],
   "source": [
    "df = pd.read_csv(r'D:\\論文\\PHEME9\\Data\\CSV\\ferguson.csv', encoding = 'utf-8', header = None)\n",
    "df.columns = ['src_tweet_id', 'src_user_id', 'src_tweet','src_date','reply_tweet_id','reply_user_id','reply_tweet','reply_date', 'label']\n",
    "df.reply_tweet = df.reply_tweet.replace(np.nan,\"\")"
   ]
  },
  {
   "cell_type": "code",
   "execution_count": 22,
   "id": "brazilian-relations",
   "metadata": {},
   "outputs": [
    {
     "data": {
      "text/html": [
       "<div>\n",
       "<style scoped>\n",
       "    .dataframe tbody tr th:only-of-type {\n",
       "        vertical-align: middle;\n",
       "    }\n",
       "\n",
       "    .dataframe tbody tr th {\n",
       "        vertical-align: top;\n",
       "    }\n",
       "\n",
       "    .dataframe thead th {\n",
       "        text-align: right;\n",
       "    }\n",
       "</style>\n",
       "<table border=\"1\" class=\"dataframe\">\n",
       "  <thead>\n",
       "    <tr style=\"text-align: right;\">\n",
       "      <th></th>\n",
       "      <th>src_tweet_id</th>\n",
       "      <th>src_user_id</th>\n",
       "      <th>src_tweet</th>\n",
       "      <th>src_date</th>\n",
       "      <th>label</th>\n",
       "    </tr>\n",
       "  </thead>\n",
       "  <tbody>\n",
       "    <tr>\n",
       "      <th>0</th>\n",
       "      <td>498235547685756928</td>\n",
       "      <td>1539100118</td>\n",
       "      <td>Black teenage boys are not men. They are child...</td>\n",
       "      <td>Sat Aug 09 22:33:06 +0000 2014</td>\n",
       "      <td>0</td>\n",
       "    </tr>\n",
       "    <tr>\n",
       "      <th>14</th>\n",
       "      <td>498248415223246848</td>\n",
       "      <td>14090948</td>\n",
       "      <td>The mother of the boy killed in #Ferguson spea...</td>\n",
       "      <td>Sat Aug 09 23:24:13 +0000 2014</td>\n",
       "      <td>0</td>\n",
       "    </tr>\n",
       "    <tr>\n",
       "      <th>40</th>\n",
       "      <td>498248648699150336</td>\n",
       "      <td>14090948</td>\n",
       "      <td>Police have brought out the large gear in #Fer...</td>\n",
       "      <td>Sat Aug 09 23:25:09 +0000 2014</td>\n",
       "      <td>0</td>\n",
       "    </tr>\n",
       "    <tr>\n",
       "      <th>96</th>\n",
       "      <td>498250100079341568</td>\n",
       "      <td>1921517718</td>\n",
       "      <td>Omg Wow \"@FLOCKAfierce: WOW RT @AntonioFrench:...</td>\n",
       "      <td>Sat Aug 09 23:30:55 +0000 2014</td>\n",
       "      <td>0</td>\n",
       "    </tr>\n",
       "    <tr>\n",
       "      <th>100</th>\n",
       "      <td>498251940997136384</td>\n",
       "      <td>228120405</td>\n",
       "      <td>When you see citizens as enemies... RT @Antoni...</td>\n",
       "      <td>Sat Aug 09 23:38:14 +0000 2014</td>\n",
       "      <td>0</td>\n",
       "    </tr>\n",
       "    <tr>\n",
       "      <th>...</th>\n",
       "      <td>...</td>\n",
       "      <td>...</td>\n",
       "      <td>...</td>\n",
       "      <td>...</td>\n",
       "      <td>...</td>\n",
       "    </tr>\n",
       "    <tr>\n",
       "      <th>22910</th>\n",
       "      <td>500413818368184321</td>\n",
       "      <td>179732982</td>\n",
       "      <td>Remarkably, despite the military-style police ...</td>\n",
       "      <td>Fri Aug 15 22:48:46 +0000 2014</td>\n",
       "      <td>1</td>\n",
       "    </tr>\n",
       "    <tr>\n",
       "      <th>22929</th>\n",
       "      <td>500417151346696192</td>\n",
       "      <td>2193946021</td>\n",
       "      <td>Americans are 8 times more likely to be killed...</td>\n",
       "      <td>Fri Aug 15 23:02:00 +0000 2014</td>\n",
       "      <td>1</td>\n",
       "    </tr>\n",
       "    <tr>\n",
       "      <th>22982</th>\n",
       "      <td>500421926079066112</td>\n",
       "      <td>5513002</td>\n",
       "      <td>Shot ten times.\\nUnarmed.\\nWhat else is there ...</td>\n",
       "      <td>Fri Aug 15 23:20:59 +0000 2014</td>\n",
       "      <td>1</td>\n",
       "    </tr>\n",
       "    <tr>\n",
       "      <th>22996</th>\n",
       "      <td>500422971320963072</td>\n",
       "      <td>470708968</td>\n",
       "      <td>I refuse to call the #Ferguson police chief in...</td>\n",
       "      <td>Fri Aug 15 23:25:08 +0000 2014</td>\n",
       "      <td>1</td>\n",
       "    </tr>\n",
       "    <tr>\n",
       "      <th>23014</th>\n",
       "      <td>500427786159681536</td>\n",
       "      <td>225235528</td>\n",
       "      <td>Police in #Ferguson once charged a man w/ dest...</td>\n",
       "      <td>Fri Aug 15 23:44:16 +0000 2014</td>\n",
       "      <td>1</td>\n",
       "    </tr>\n",
       "  </tbody>\n",
       "</table>\n",
       "<p>1010 rows × 5 columns</p>\n",
       "</div>"
      ],
      "text/plain": [
       "             src_tweet_id  src_user_id  \\\n",
       "0      498235547685756928   1539100118   \n",
       "14     498248415223246848     14090948   \n",
       "40     498248648699150336     14090948   \n",
       "96     498250100079341568   1921517718   \n",
       "100    498251940997136384    228120405   \n",
       "...                   ...          ...   \n",
       "22910  500413818368184321    179732982   \n",
       "22929  500417151346696192   2193946021   \n",
       "22982  500421926079066112      5513002   \n",
       "22996  500422971320963072    470708968   \n",
       "23014  500427786159681536    225235528   \n",
       "\n",
       "                                               src_tweet  \\\n",
       "0      Black teenage boys are not men. They are child...   \n",
       "14     The mother of the boy killed in #Ferguson spea...   \n",
       "40     Police have brought out the large gear in #Fer...   \n",
       "96     Omg Wow \"@FLOCKAfierce: WOW RT @AntonioFrench:...   \n",
       "100    When you see citizens as enemies... RT @Antoni...   \n",
       "...                                                  ...   \n",
       "22910  Remarkably, despite the military-style police ...   \n",
       "22929  Americans are 8 times more likely to be killed...   \n",
       "22982  Shot ten times.\\nUnarmed.\\nWhat else is there ...   \n",
       "22996  I refuse to call the #Ferguson police chief in...   \n",
       "23014  Police in #Ferguson once charged a man w/ dest...   \n",
       "\n",
       "                             src_date  label  \n",
       "0      Sat Aug 09 22:33:06 +0000 2014      0  \n",
       "14     Sat Aug 09 23:24:13 +0000 2014      0  \n",
       "40     Sat Aug 09 23:25:09 +0000 2014      0  \n",
       "96     Sat Aug 09 23:30:55 +0000 2014      0  \n",
       "100    Sat Aug 09 23:38:14 +0000 2014      0  \n",
       "...                               ...    ...  \n",
       "22910  Fri Aug 15 22:48:46 +0000 2014      1  \n",
       "22929  Fri Aug 15 23:02:00 +0000 2014      1  \n",
       "22982  Fri Aug 15 23:20:59 +0000 2014      1  \n",
       "22996  Fri Aug 15 23:25:08 +0000 2014      1  \n",
       "23014  Fri Aug 15 23:44:16 +0000 2014      1  \n",
       "\n",
       "[1010 rows x 5 columns]"
      ]
     },
     "execution_count": 22,
     "metadata": {},
     "output_type": "execute_result"
    }
   ],
   "source": [
    "src_tw_df = df.iloc[:,[0,1,2,3,8]].copy()\n",
    "src_tw_df = src_tw_df.drop_duplicates()\n",
    "src_tw_df"
   ]
  },
  {
   "cell_type": "markdown",
   "id": "structural-dominican",
   "metadata": {},
   "source": [
    "## Prepocessing\n",
    "- Define function to process text at one time"
   ]
  },
  {
   "cell_type": "code",
   "execution_count": 23,
   "id": "respected-gates",
   "metadata": {},
   "outputs": [],
   "source": [
    "def textprocessing(text):\n",
    "    text = text.lower()\n",
    "\n",
    "    text = \" \".join([word for word in text.split() if 'http' not in word\n",
    "                                and not word.startswith('@')])\n",
    "                                #and word != 'RT'])\n",
    "    import re\n",
    "    def remove_punct(tweet):\n",
    "        new_words = []\n",
    "        for word in tweet:\n",
    "            w = re.sub(r'[^\\w\\s]','',word) #remove everything except words and space\n",
    "            w = re.sub(r'_','',w) #how to remove underscore as well\n",
    "            new_words.append(w)\n",
    "\n",
    "        return new_words\n",
    "    text = \"\".join(remove_punct(text))\n",
    "          \n",
    "    from nltk.tokenize import TweetTokenizer\n",
    "    tknzr = TweetTokenizer(strip_handles=True)\n",
    "    text = tknzr.tokenize(text)\n",
    "    \n",
    "    from nltk.stem.porter import PorterStemmer\n",
    "    stem = PorterStemmer()\n",
    "    text = [stem.stem(i) for i in text]\n",
    "    \n",
    "    from nltk.corpus import stopwords\n",
    "    stop_words=set(stopwords.words(\"english\"))\n",
    "    def filterstopwords(tw):\n",
    "        filter_stopwords = []\n",
    "        for w in tw:\n",
    "            if w not in stop_words:\n",
    "                filter_stopwords.append(w)\n",
    "        return filter_stopwords\n",
    "    text = filterstopwords(text)\n",
    "    text = \" \".join(text)\n",
    "    \n",
    "    return text"
   ]
  },
  {
   "cell_type": "code",
   "execution_count": 24,
   "id": "therapeutic-delaware",
   "metadata": {},
   "outputs": [
    {
     "name": "stdout",
     "output_type": "stream",
     "text": [
      "original text:  @AntonioFrench @AngieinWAState Cops on speed. Time we cleaned out the police depts. made them do psychological testing. This is a horror.\n",
      "cleaned text:  cop speed time clean polic dept made psycholog test thi horror\n"
     ]
    }
   ],
   "source": [
    "print(\"original text: \", df.reply_tweet.iloc[20])\n",
    "print(\"cleaned text: \", textprocessing(df.reply_tweet.iloc[20]))"
   ]
  },
  {
   "cell_type": "markdown",
   "id": "touched-berkeley",
   "metadata": {},
   "source": [
    "### applied on original data (**df**)"
   ]
  },
  {
   "cell_type": "code",
   "execution_count": 25,
   "id": "dated-laugh",
   "metadata": {},
   "outputs": [],
   "source": [
    "df['cleaned_src_tw'] = df.src_tweet.apply(textprocessing)\n",
    "df['cleaned_reply_tw'] = df.reply_tweet.apply(textprocessing)"
   ]
  },
  {
   "cell_type": "code",
   "execution_count": 26,
   "id": "beginning-bunny",
   "metadata": {},
   "outputs": [
    {
     "data": {
      "text/html": [
       "<div>\n",
       "<style scoped>\n",
       "    .dataframe tbody tr th:only-of-type {\n",
       "        vertical-align: middle;\n",
       "    }\n",
       "\n",
       "    .dataframe tbody tr th {\n",
       "        vertical-align: top;\n",
       "    }\n",
       "\n",
       "    .dataframe thead th {\n",
       "        text-align: right;\n",
       "    }\n",
       "</style>\n",
       "<table border=\"1\" class=\"dataframe\">\n",
       "  <thead>\n",
       "    <tr style=\"text-align: right;\">\n",
       "      <th></th>\n",
       "      <th>src_tweet_id</th>\n",
       "      <th>src_user_id</th>\n",
       "      <th>src_tweet</th>\n",
       "      <th>src_date</th>\n",
       "      <th>reply_tweet_id</th>\n",
       "      <th>reply_user_id</th>\n",
       "      <th>reply_tweet</th>\n",
       "      <th>reply_date</th>\n",
       "      <th>label</th>\n",
       "      <th>cleaned_src_tw</th>\n",
       "      <th>cleaned_reply_tw</th>\n",
       "    </tr>\n",
       "  </thead>\n",
       "  <tbody>\n",
       "    <tr>\n",
       "      <th>0</th>\n",
       "      <td>498235547685756928</td>\n",
       "      <td>1539100118</td>\n",
       "      <td>Black teenage boys are not men. They are child...</td>\n",
       "      <td>Sat Aug 09 22:33:06 +0000 2014</td>\n",
       "      <td>498235547685756928</td>\n",
       "      <td>1539100118</td>\n",
       "      <td>Black teenage boys are not men. They are child...</td>\n",
       "      <td>Sat Aug 09 22:33:06 +0000 2014</td>\n",
       "      <td>0</td>\n",
       "      <td>black teenag boy men children stop refer 17 ye...</td>\n",
       "      <td>black teenag boy men children stop refer 17 ye...</td>\n",
       "    </tr>\n",
       "    <tr>\n",
       "      <th>1</th>\n",
       "      <td>498235547685756928</td>\n",
       "      <td>1539100118</td>\n",
       "      <td>Black teenage boys are not men. They are child...</td>\n",
       "      <td>Sat Aug 09 22:33:06 +0000 2014</td>\n",
       "      <td>498243332204949504</td>\n",
       "      <td>587926686</td>\n",
       "      <td>@annaxsweat @NeoSoulPol Same thing when #Trayv...</td>\n",
       "      <td>Sat Aug 09 23:04:01 +0000 2014</td>\n",
       "      <td>0</td>\n",
       "      <td>black teenag boy men children stop refer 17 ye...</td>\n",
       "      <td>thing trayvon wa kill zimmerman wannab cop 17y...</td>\n",
       "    </tr>\n",
       "    <tr>\n",
       "      <th>2</th>\n",
       "      <td>498235547685756928</td>\n",
       "      <td>1539100118</td>\n",
       "      <td>Black teenage boys are not men. They are child...</td>\n",
       "      <td>Sat Aug 09 22:33:06 +0000 2014</td>\n",
       "      <td>498265524397432832</td>\n",
       "      <td>21461995</td>\n",
       "      <td>@annaxsweat http://t.co/Z7Qm4iaoSR</td>\n",
       "      <td>Sun Aug 10 00:32:13 +0000 2014</td>\n",
       "      <td>0</td>\n",
       "      <td>black teenag boy men children stop refer 17 ye...</td>\n",
       "      <td></td>\n",
       "    </tr>\n",
       "    <tr>\n",
       "      <th>3</th>\n",
       "      <td>498235547685756928</td>\n",
       "      <td>1539100118</td>\n",
       "      <td>Black teenage boys are not men. They are child...</td>\n",
       "      <td>Sat Aug 09 22:33:06 +0000 2014</td>\n",
       "      <td>498266827676741632</td>\n",
       "      <td>21461995</td>\n",
       "      <td>@annaxsweat #StopThugCops We have to take acti...</td>\n",
       "      <td>Sun Aug 10 00:37:23 +0000 2014</td>\n",
       "      <td>0</td>\n",
       "      <td>black teenag boy men children stop refer 17 ye...</td>\n",
       "      <td>stopthugcop take action stop thi insan ferguson</td>\n",
       "    </tr>\n",
       "    <tr>\n",
       "      <th>4</th>\n",
       "      <td>498235547685756928</td>\n",
       "      <td>1539100118</td>\n",
       "      <td>Black teenage boys are not men. They are child...</td>\n",
       "      <td>Sat Aug 09 22:33:06 +0000 2014</td>\n",
       "      <td>498272808560889858</td>\n",
       "      <td>2411474370</td>\n",
       "      <td>@annaxsweat @KidFriendlyCamb 17 year olds can ...</td>\n",
       "      <td>Sun Aug 10 01:01:09 +0000 2014</td>\n",
       "      <td>0</td>\n",
       "      <td>black teenag boy men children stop refer 17 ye...</td>\n",
       "      <td>17 year old prosecut adult regardless color so...</td>\n",
       "    </tr>\n",
       "  </tbody>\n",
       "</table>\n",
       "</div>"
      ],
      "text/plain": [
       "         src_tweet_id  src_user_id  \\\n",
       "0  498235547685756928   1539100118   \n",
       "1  498235547685756928   1539100118   \n",
       "2  498235547685756928   1539100118   \n",
       "3  498235547685756928   1539100118   \n",
       "4  498235547685756928   1539100118   \n",
       "\n",
       "                                           src_tweet  \\\n",
       "0  Black teenage boys are not men. They are child...   \n",
       "1  Black teenage boys are not men. They are child...   \n",
       "2  Black teenage boys are not men. They are child...   \n",
       "3  Black teenage boys are not men. They are child...   \n",
       "4  Black teenage boys are not men. They are child...   \n",
       "\n",
       "                         src_date      reply_tweet_id  reply_user_id  \\\n",
       "0  Sat Aug 09 22:33:06 +0000 2014  498235547685756928     1539100118   \n",
       "1  Sat Aug 09 22:33:06 +0000 2014  498243332204949504      587926686   \n",
       "2  Sat Aug 09 22:33:06 +0000 2014  498265524397432832       21461995   \n",
       "3  Sat Aug 09 22:33:06 +0000 2014  498266827676741632       21461995   \n",
       "4  Sat Aug 09 22:33:06 +0000 2014  498272808560889858     2411474370   \n",
       "\n",
       "                                         reply_tweet  \\\n",
       "0  Black teenage boys are not men. They are child...   \n",
       "1  @annaxsweat @NeoSoulPol Same thing when #Trayv...   \n",
       "2                 @annaxsweat http://t.co/Z7Qm4iaoSR   \n",
       "3  @annaxsweat #StopThugCops We have to take acti...   \n",
       "4  @annaxsweat @KidFriendlyCamb 17 year olds can ...   \n",
       "\n",
       "                       reply_date  label  \\\n",
       "0  Sat Aug 09 22:33:06 +0000 2014      0   \n",
       "1  Sat Aug 09 23:04:01 +0000 2014      0   \n",
       "2  Sun Aug 10 00:32:13 +0000 2014      0   \n",
       "3  Sun Aug 10 00:37:23 +0000 2014      0   \n",
       "4  Sun Aug 10 01:01:09 +0000 2014      0   \n",
       "\n",
       "                                      cleaned_src_tw  \\\n",
       "0  black teenag boy men children stop refer 17 ye...   \n",
       "1  black teenag boy men children stop refer 17 ye...   \n",
       "2  black teenag boy men children stop refer 17 ye...   \n",
       "3  black teenag boy men children stop refer 17 ye...   \n",
       "4  black teenag boy men children stop refer 17 ye...   \n",
       "\n",
       "                                    cleaned_reply_tw  \n",
       "0  black teenag boy men children stop refer 17 ye...  \n",
       "1  thing trayvon wa kill zimmerman wannab cop 17y...  \n",
       "2                                                     \n",
       "3    stopthugcop take action stop thi insan ferguson  \n",
       "4  17 year old prosecut adult regardless color so...  "
      ]
     },
     "execution_count": 26,
     "metadata": {},
     "output_type": "execute_result"
    }
   ],
   "source": [
    "df.head()"
   ]
  },
  {
   "cell_type": "markdown",
   "id": "voluntary-ordinary",
   "metadata": {},
   "source": [
    "### applied on source tweet data (**src_tw_df**) "
   ]
  },
  {
   "cell_type": "code",
   "execution_count": 27,
   "id": "tribal-collection",
   "metadata": {},
   "outputs": [],
   "source": [
    "src_tw_df['cleaned_src_tw'] = src_tw_df.src_tweet.apply(textprocessing)"
   ]
  },
  {
   "cell_type": "markdown",
   "id": "stone-process",
   "metadata": {},
   "source": [
    "## Sentiment Analysis"
   ]
  },
  {
   "cell_type": "code",
   "execution_count": 28,
   "id": "quality-contract",
   "metadata": {},
   "outputs": [],
   "source": [
    "from vaderSentiment.vaderSentiment import SentimentIntensityAnalyzer"
   ]
  },
  {
   "cell_type": "code",
   "execution_count": 29,
   "id": "aboriginal-rebecca",
   "metadata": {},
   "outputs": [],
   "source": [
    "def get_sentiment(tweet):\n",
    "    analyzer = SentimentIntensityAnalyzer()\n",
    "    vs = analyzer.polarity_scores(tweet)\n",
    "    if vs['compound'] >=0.05:\n",
    "        sentiment_label = 'Positive'\n",
    "    elif (vs['compound'] > -0.05) & (vs['compound'] < 0.05):\n",
    "        sentiment_label = 'Neutral'\n",
    "    elif vs['compound']<= -0.05:\n",
    "        sentiment_label = 'Negative' \n",
    "    result = sentiment_label\n",
    "    return result"
   ]
  },
  {
   "cell_type": "markdown",
   "id": "sensitive-possible",
   "metadata": {},
   "source": [
    "### applied on original df"
   ]
  },
  {
   "cell_type": "code",
   "execution_count": 30,
   "id": "successful-locking",
   "metadata": {},
   "outputs": [],
   "source": [
    "df['src_sentiment']= df.cleaned_src_tw.apply(get_sentiment)\n",
    "df['reply_sentiment']= df.cleaned_reply_tw.apply(get_sentiment)"
   ]
  },
  {
   "cell_type": "code",
   "execution_count": 31,
   "id": "worthy-equilibrium",
   "metadata": {},
   "outputs": [
    {
     "data": {
      "text/html": [
       "<div>\n",
       "<style scoped>\n",
       "    .dataframe tbody tr th:only-of-type {\n",
       "        vertical-align: middle;\n",
       "    }\n",
       "\n",
       "    .dataframe tbody tr th {\n",
       "        vertical-align: top;\n",
       "    }\n",
       "\n",
       "    .dataframe thead th {\n",
       "        text-align: right;\n",
       "    }\n",
       "</style>\n",
       "<table border=\"1\" class=\"dataframe\">\n",
       "  <thead>\n",
       "    <tr style=\"text-align: right;\">\n",
       "      <th></th>\n",
       "      <th>src_tweet_id</th>\n",
       "      <th>src_user_id</th>\n",
       "      <th>src_tweet</th>\n",
       "      <th>src_date</th>\n",
       "      <th>reply_tweet_id</th>\n",
       "      <th>reply_user_id</th>\n",
       "      <th>reply_tweet</th>\n",
       "      <th>reply_date</th>\n",
       "      <th>label</th>\n",
       "      <th>cleaned_src_tw</th>\n",
       "      <th>cleaned_reply_tw</th>\n",
       "      <th>src_sentiment</th>\n",
       "      <th>reply_sentiment</th>\n",
       "    </tr>\n",
       "  </thead>\n",
       "  <tbody>\n",
       "    <tr>\n",
       "      <th>0</th>\n",
       "      <td>498235547685756928</td>\n",
       "      <td>1539100118</td>\n",
       "      <td>Black teenage boys are not men. They are child...</td>\n",
       "      <td>Sat Aug 09 22:33:06 +0000 2014</td>\n",
       "      <td>498235547685756928</td>\n",
       "      <td>1539100118</td>\n",
       "      <td>Black teenage boys are not men. They are child...</td>\n",
       "      <td>Sat Aug 09 22:33:06 +0000 2014</td>\n",
       "      <td>0</td>\n",
       "      <td>black teenag boy men children stop refer 17 ye...</td>\n",
       "      <td>black teenag boy men children stop refer 17 ye...</td>\n",
       "      <td>Negative</td>\n",
       "      <td>Negative</td>\n",
       "    </tr>\n",
       "  </tbody>\n",
       "</table>\n",
       "</div>"
      ],
      "text/plain": [
       "         src_tweet_id  src_user_id  \\\n",
       "0  498235547685756928   1539100118   \n",
       "\n",
       "                                           src_tweet  \\\n",
       "0  Black teenage boys are not men. They are child...   \n",
       "\n",
       "                         src_date      reply_tweet_id  reply_user_id  \\\n",
       "0  Sat Aug 09 22:33:06 +0000 2014  498235547685756928     1539100118   \n",
       "\n",
       "                                         reply_tweet  \\\n",
       "0  Black teenage boys are not men. They are child...   \n",
       "\n",
       "                       reply_date  label  \\\n",
       "0  Sat Aug 09 22:33:06 +0000 2014      0   \n",
       "\n",
       "                                      cleaned_src_tw  \\\n",
       "0  black teenag boy men children stop refer 17 ye...   \n",
       "\n",
       "                                    cleaned_reply_tw src_sentiment  \\\n",
       "0  black teenag boy men children stop refer 17 ye...      Negative   \n",
       "\n",
       "  reply_sentiment  \n",
       "0        Negative  "
      ]
     },
     "execution_count": 31,
     "metadata": {},
     "output_type": "execute_result"
    }
   ],
   "source": [
    "df.head(1)"
   ]
  },
  {
   "cell_type": "markdown",
   "id": "textile-worthy",
   "metadata": {},
   "source": [
    "### applied on source tweet data only "
   ]
  },
  {
   "cell_type": "code",
   "execution_count": 32,
   "id": "native-latitude",
   "metadata": {},
   "outputs": [],
   "source": [
    "### source tweet data only \n",
    "src_tw_df['src_sentiment']=  src_tw_df['cleaned_src_tw'].apply(get_sentiment)"
   ]
  },
  {
   "cell_type": "markdown",
   "id": "other-perspective",
   "metadata": {},
   "source": [
    "### Visualization"
   ]
  },
  {
   "cell_type": "code",
   "execution_count": null,
   "id": "abstract-found",
   "metadata": {},
   "outputs": [],
   "source": [
    "print(df[df.label ==1]['reply_sentiment'].value_counts())\n",
    "plt.figure(figsize=(8,6))\n",
    "sns.countplot(x='reply_sentiment',data= df[df['label'] == 1])\n",
    "\n",
    "plt.suptitle('Sentiment analysis on Reply tweets under Catergory Rumour',fontsize=16)\n",
    "plt.title('Reply tweets show more positive attitude towards rumour tweet',fontsize=12,color='grey')\n",
    "plt.savefig('graph/ferguson/senti_reply_rumour.pdf',dpi=300)"
   ]
  },
  {
   "cell_type": "code",
   "execution_count": null,
   "id": "biological-latex",
   "metadata": {},
   "outputs": [],
   "source": [
    "print(df[df.label ==0]['reply_sentiment'].value_counts())\n",
    "plt.figure(figsize=(8,6))\n",
    "sns.countplot(x='reply_sentiment',data= df[df['label'] == 0])\n",
    "\n",
    "plt.suptitle('Sentiment analysis on Reply tweets under Catergory Non-Rumour',fontsize=16)\n",
    "plt.title('Reply tweets show more neutrual attitude towards non-rumour tweet',fontsize=12,color='grey')\n",
    "plt.savefig('graph/ferguson/senti_reply_nonrumour.pdf',dpi=300)"
   ]
  },
  {
   "cell_type": "code",
   "execution_count": null,
   "id": "aerial-blast",
   "metadata": {},
   "outputs": [],
   "source": [
    "print(src_tw_df['src_sentiment'].value_counts())\n",
    "sns.countplot(x='src_sentiment',data =src_tw_df,hue='label')\n",
    "\n",
    "plt.suptitle('Sentiment analysis on Source Tweets',fontsize=16)\n",
    "plt.title('Rumour source tweets show more neutral attitude.',fontsize=12,color='grey')\n",
    "plt.savefig('graph/ferguson/senti_source.pdf',dpi=300)"
   ]
  },
  {
   "cell_type": "markdown",
   "id": "unique-breeding",
   "metadata": {},
   "source": [
    "### save data to csv "
   ]
  },
  {
   "cell_type": "code",
   "execution_count": null,
   "id": "dependent-stereo",
   "metadata": {},
   "outputs": [],
   "source": [
    "df.to_csv(r'D:\\論文\\PHEME9\\Data\\CSV\\ferguson-df.csv',index=False)\n",
    "src_tw_df.to_csv(r'D:\\論文\\PHEME9\\Data\\CSV\\ferguson-src.csv',index=False)"
   ]
  },
  {
   "cell_type": "markdown",
   "id": "solved-workshop",
   "metadata": {},
   "source": [
    "## Keywords Extraction\n",
    "### WordCloud"
   ]
  },
  {
   "cell_type": "code",
   "execution_count": null,
   "id": "moved-equity",
   "metadata": {},
   "outputs": [],
   "source": [
    "from wordcloud import WordCloud"
   ]
  },
  {
   "cell_type": "code",
   "execution_count": null,
   "id": "adjusted-merchandise",
   "metadata": {},
   "outputs": [],
   "source": [
    "plt.figure(figsize=(20,10))\n",
    "mywordcloud = WordCloud().generate(docx)\n",
    "plt.imshow(mywordcloud,interpolation='bilinear')\n",
    "plt.axis('off')\n",
    "plt.show()"
   ]
  },
  {
   "cell_type": "markdown",
   "id": "fatal-tennessee",
   "metadata": {},
   "source": [
    "#### Reply Tweets"
   ]
  },
  {
   "cell_type": "code",
   "execution_count": null,
   "id": "strategic-chambers",
   "metadata": {},
   "outputs": [],
   "source": [
    "#nltk.download('punkt')\n",
    "from nltk.tokenize import word_tokenize"
   ]
  },
  {
   "cell_type": "code",
   "execution_count": null,
   "id": "floating-development",
   "metadata": {},
   "outputs": [],
   "source": [
    "reply_sen = df.cleaned_reply_tw.apply(word_tokenize)\n",
    "reply_tw_list = []\n",
    "for sen in reply_sen:\n",
    "    for token in sen:\n",
    "        reply_tw_list.append(token)\n",
    "reply_tw_doc = \" \".join(reply_tw_list)"
   ]
  },
  {
   "cell_type": "code",
   "execution_count": null,
   "id": "attractive-promise",
   "metadata": {},
   "outputs": [],
   "source": [
    "plt.figure(figsize=(20,10))\n",
    "mywordcloud = WordCloud().generate(reply_tw_doc)\n",
    "plt.imshow(mywordcloud,interpolation='bilinear')\n",
    "plt.axis('off')\n",
    "plt.show()\n",
    "mywordcloud.to_file('graph/ferguson/wordcloud_reply.pdf')"
   ]
  },
  {
   "cell_type": "code",
   "execution_count": null,
   "id": "smooth-requirement",
   "metadata": {},
   "outputs": [],
   "source": [
    "# positive \n",
    "posi_reply_sen = df[df.reply_sentiment=='Positive'].cleaned_reply_tw.apply(word_tokenize)\n",
    "posi_reply_tw_list = []\n",
    "for sen in posi_reply_sen:\n",
    "    for token in sen:\n",
    "        posi_reply_tw_list.append(token)\n",
    "posi_reply_tw_doc = \" \".join(posi_reply_tw_list)\n"
   ]
  },
  {
   "cell_type": "code",
   "execution_count": null,
   "id": "integrated-alcohol",
   "metadata": {},
   "outputs": [],
   "source": [
    "plt.figure(figsize=(20,10))\n",
    "mywordcloud = WordCloud().generate(posi_reply_tw_doc)\n",
    "plt.imshow(mywordcloud,interpolation='bilinear')\n",
    "plt.axis('off')\n",
    "plt.show()\n",
    "mywordcloud.to_file('graph/ferguson/wordcloud_reply_posi.pdf')"
   ]
  },
  {
   "cell_type": "markdown",
   "id": "progressive-bearing",
   "metadata": {},
   "source": [
    "#### Source Tweet"
   ]
  },
  {
   "cell_type": "code",
   "execution_count": null,
   "id": "perfect-atmosphere",
   "metadata": {},
   "outputs": [],
   "source": [
    "src_sen = src_tw_df.cleaned_src_tw.apply(word_tokenize)\n",
    "src_tw_list = []\n",
    "for sen in src_sen:\n",
    "    for token in sen:\n",
    "        src_tw_list.append(token)\n",
    "\n",
    "src_tw_doc = \" \".join(src_tw_list)"
   ]
  },
  {
   "cell_type": "code",
   "execution_count": null,
   "id": "amateur-specialist",
   "metadata": {},
   "outputs": [],
   "source": [
    "plt.figure(figsize=(20,10))\n",
    "mywordcloud = WordCloud().generate(src_tw_doc)\n",
    "plt.imshow(mywordcloud,interpolation='bilinear')\n",
    "plt.axis('off')\n",
    "plt.show()\n",
    "mywordcloud.to_file('graph/ferguson/wordcloud_src.pdf')"
   ]
  },
  {
   "cell_type": "markdown",
   "id": "fixed-machine",
   "metadata": {},
   "source": [
    "### Common"
   ]
  },
  {
   "cell_type": "code",
   "execution_count": null,
   "id": "choice-sally",
   "metadata": {},
   "outputs": [],
   "source": [
    "from collections import Counter"
   ]
  },
  {
   "cell_type": "code",
   "execution_count": null,
   "id": "graphic-correlation",
   "metadata": {},
   "outputs": [],
   "source": [
    "def get_tokens(docx,num=30):\n",
    "    word_tokens = Counter(docx)\n",
    "    most_common = word_tokens.most_common(num)\n",
    "    result = dict(most_common)\n",
    "    return result"
   ]
  },
  {
   "cell_type": "code",
   "execution_count": null,
   "id": "following-station",
   "metadata": {},
   "outputs": [],
   "source": [
    "pd.DataFrame(get_tokens(reply_tw_list).items(),columns=['word','freq']).plot(kind='bar',x='word',y='freq')\n",
    "plt.title(\"Most frequent words among reply tweets are 'Prince','show','tonight'.\")"
   ]
  },
  {
   "cell_type": "code",
   "execution_count": null,
   "id": "corrected-rwanda",
   "metadata": {},
   "outputs": [],
   "source": [
    "pd.DataFrame(get_tokens(src_tw_list).items(),columns=['word','freq']).plot(kind='bar',x='word',y='freq')\n",
    "plt.title(\"Most frequent words among source tweets are 'Price', 'show', 'tonight'\")\n"
   ]
  },
  {
   "cell_type": "markdown",
   "id": "assumed-amateur",
   "metadata": {},
   "source": [
    "## Emotion Detection"
   ]
  },
  {
   "cell_type": "markdown",
   "id": "described-blade",
   "metadata": {},
   "source": [
    "### text2emotion package\n",
    "https://snyk.io/advisor/python/text2emotion "
   ]
  },
  {
   "cell_type": "code",
   "execution_count": 33,
   "id": "tamil-forward",
   "metadata": {},
   "outputs": [],
   "source": [
    "import text2emotion as te"
   ]
  },
  {
   "cell_type": "code",
   "execution_count": 34,
   "id": "sticky-history",
   "metadata": {},
   "outputs": [],
   "source": [
    "emotion = df.cleaned_reply_tw.apply(te.get_emotion)"
   ]
  },
  {
   "cell_type": "code",
   "execution_count": 39,
   "id": "sonic-complex",
   "metadata": {},
   "outputs": [],
   "source": [
    "emo = emotion.apply(lambda x: max(x,key=x.get))\n",
    "df['reply_emotion']=emo"
   ]
  },
  {
   "cell_type": "code",
   "execution_count": 40,
   "id": "retained-produce",
   "metadata": {},
   "outputs": [],
   "source": [
    "df.to_csv(r'D:\\論文\\PHEME9\\Data\\CSV\\ferguson-df.csv',index=False)"
   ]
  },
  {
   "cell_type": "code",
   "execution_count": 41,
   "id": "freelance-grenada",
   "metadata": {},
   "outputs": [],
   "source": [
    "emotion1 = src_tw_df.cleaned_src_tw.apply(te.get_emotion)\n",
    "emo1 = emotion.apply(lambda x: max(x,key=x.get))\n",
    "src_tw_df['src_emotion']=emo1"
   ]
  },
  {
   "cell_type": "code",
   "execution_count": 42,
   "id": "formed-announcement",
   "metadata": {},
   "outputs": [],
   "source": [
    "src_tw_df.to_csv(r'D:\\論文\\PHEME9\\Data\\CSV\\ferguson-src.csv',index=False)"
   ]
  },
  {
   "cell_type": "code",
   "execution_count": null,
   "id": "played-halifax",
   "metadata": {},
   "outputs": [],
   "source": []
  }
 ],
 "metadata": {
  "kernelspec": {
   "display_name": "Python 3",
   "language": "python",
   "name": "python3"
  },
  "language_info": {
   "codemirror_mode": {
    "name": "ipython",
    "version": 3
   },
   "file_extension": ".py",
   "mimetype": "text/x-python",
   "name": "python",
   "nbconvert_exporter": "python",
   "pygments_lexer": "ipython3",
   "version": "3.9.1"
  },
  "toc-autonumbering": true,
  "toc-showmarkdowntxt": false
 },
 "nbformat": 4,
 "nbformat_minor": 5
}
