{
 "cells": [
  {
   "cell_type": "markdown",
   "id": "recent-details",
   "metadata": {},
   "source": [
    "# Dataset: *ferguson*"
   ]
  },
  {
   "cell_type": "markdown",
   "id": "careful-proposition",
   "metadata": {},
   "source": [
    "- df.to_csv(r'D:\\論文\\PHEME9\\Data\\CSV\\ferguson-df.csv',index=False)\n",
    "- src_tw_df.to_csv(r'D:\\論文\\PHEME9\\Data\\CSV\\ferguson-src.csv',index=False)"
   ]
  },
  {
   "cell_type": "code",
   "execution_count": 1,
   "id": "blocked-infrared",
   "metadata": {},
   "outputs": [],
   "source": [
    "import numpy as np\n",
    "import pandas as pd\n",
    "import datetime \n",
    "import matplotlib.pyplot as plt\n",
    "import seaborn as sns\n",
    "from wordcloud import WordCloud,ImageColorGenerator\n",
    "import nltk\n",
    "from nltk import FreqDist, word_tokenize"
   ]
  },
  {
   "cell_type": "code",
   "execution_count": 2,
   "id": "coastal-jumping",
   "metadata": {},
   "outputs": [
    {
     "name": "stdout",
     "output_type": "stream",
     "text": [
      "Index(['src_tweet_id', 'src_user_id', 'src_tweet', 'src_date',\n",
      "       'reply_tweet_id', 'reply_user_id', 'reply_tweet', 'reply_date', 'label',\n",
      "       'cleaned_reply_tw', 'reply_sentiment', 'reply_emo_ro'],\n",
      "      dtype='object')\n",
      "(21729, 12)\n"
     ]
    },
    {
     "data": {
      "text/html": [
       "<div>\n",
       "<style scoped>\n",
       "    .dataframe tbody tr th:only-of-type {\n",
       "        vertical-align: middle;\n",
       "    }\n",
       "\n",
       "    .dataframe tbody tr th {\n",
       "        vertical-align: top;\n",
       "    }\n",
       "\n",
       "    .dataframe thead th {\n",
       "        text-align: right;\n",
       "    }\n",
       "</style>\n",
       "<table border=\"1\" class=\"dataframe\">\n",
       "  <thead>\n",
       "    <tr style=\"text-align: right;\">\n",
       "      <th></th>\n",
       "      <th>src_tweet_id</th>\n",
       "      <th>src_user_id</th>\n",
       "      <th>src_tweet</th>\n",
       "      <th>src_date</th>\n",
       "      <th>reply_tweet_id</th>\n",
       "      <th>reply_user_id</th>\n",
       "      <th>reply_tweet</th>\n",
       "      <th>reply_date</th>\n",
       "      <th>label</th>\n",
       "      <th>cleaned_reply_tw</th>\n",
       "      <th>reply_sentiment</th>\n",
       "      <th>reply_emo_ro</th>\n",
       "    </tr>\n",
       "  </thead>\n",
       "  <tbody>\n",
       "    <tr>\n",
       "      <th>0</th>\n",
       "      <td>498235547685756928</td>\n",
       "      <td>1539100118</td>\n",
       "      <td>Black teenage boys are not men. They are child...</td>\n",
       "      <td>Sat Aug 09 22:33:06 +0000 2014</td>\n",
       "      <td>4.982355e+17</td>\n",
       "      <td>1.539100e+09</td>\n",
       "      <td>Black teenage boys are not men. They are child...</td>\n",
       "      <td>Sat Aug 09 22:33:06 +0000 2014</td>\n",
       "      <td>0</td>\n",
       "      <td>black teenage boys not men children stop refer...</td>\n",
       "      <td>Negative</td>\n",
       "      <td>anger</td>\n",
       "    </tr>\n",
       "  </tbody>\n",
       "</table>\n",
       "</div>"
      ],
      "text/plain": [
       "         src_tweet_id  src_user_id  \\\n",
       "0  498235547685756928   1539100118   \n",
       "\n",
       "                                           src_tweet  \\\n",
       "0  Black teenage boys are not men. They are child...   \n",
       "\n",
       "                         src_date  reply_tweet_id  reply_user_id  \\\n",
       "0  Sat Aug 09 22:33:06 +0000 2014    4.982355e+17   1.539100e+09   \n",
       "\n",
       "                                         reply_tweet  \\\n",
       "0  Black teenage boys are not men. They are child...   \n",
       "\n",
       "                       reply_date  label  \\\n",
       "0  Sat Aug 09 22:33:06 +0000 2014      0   \n",
       "\n",
       "                                    cleaned_reply_tw reply_sentiment  \\\n",
       "0  black teenage boys not men children stop refer...        Negative   \n",
       "\n",
       "  reply_emo_ro  \n",
       "0        anger  "
      ]
     },
     "execution_count": 2,
     "metadata": {},
     "output_type": "execute_result"
    }
   ],
   "source": [
    "df = pd.read_csv(r'D:\\論文\\PHEME9\\Data\\CSV\\ferguson-df-2.csv', encoding = 'utf-8', header = 0)\n",
    "print(df.columns)\n",
    "print(df.shape)\n",
    "df.head(1)"
   ]
  },
  {
   "cell_type": "code",
   "execution_count": 3,
   "id": "exterior-recording",
   "metadata": {},
   "outputs": [
    {
     "name": "stdout",
     "output_type": "stream",
     "text": [
      "Index(['src_tweet_id', 'src_user_id', 'src_tweet', 'src_date', 'label',\n",
      "       'cleaned_src_tw', 'src_sentiment', 'src_emo_ro'],\n",
      "      dtype='object')\n",
      "(1143, 8)\n"
     ]
    },
    {
     "data": {
      "text/html": [
       "<div>\n",
       "<style scoped>\n",
       "    .dataframe tbody tr th:only-of-type {\n",
       "        vertical-align: middle;\n",
       "    }\n",
       "\n",
       "    .dataframe tbody tr th {\n",
       "        vertical-align: top;\n",
       "    }\n",
       "\n",
       "    .dataframe thead th {\n",
       "        text-align: right;\n",
       "    }\n",
       "</style>\n",
       "<table border=\"1\" class=\"dataframe\">\n",
       "  <thead>\n",
       "    <tr style=\"text-align: right;\">\n",
       "      <th></th>\n",
       "      <th>src_tweet_id</th>\n",
       "      <th>src_user_id</th>\n",
       "      <th>src_tweet</th>\n",
       "      <th>src_date</th>\n",
       "      <th>label</th>\n",
       "      <th>cleaned_src_tw</th>\n",
       "      <th>src_sentiment</th>\n",
       "      <th>src_emo_ro</th>\n",
       "    </tr>\n",
       "  </thead>\n",
       "  <tbody>\n",
       "    <tr>\n",
       "      <th>0</th>\n",
       "      <td>498235547685756928</td>\n",
       "      <td>1539100118</td>\n",
       "      <td>Black teenage boys are not men. They are child...</td>\n",
       "      <td>Sat Aug 09 22:33:06 +0000 2014</td>\n",
       "      <td>0</td>\n",
       "      <td>black teenage boys not men children stop refer...</td>\n",
       "      <td>Negative</td>\n",
       "      <td>anger</td>\n",
       "    </tr>\n",
       "  </tbody>\n",
       "</table>\n",
       "</div>"
      ],
      "text/plain": [
       "         src_tweet_id  src_user_id  \\\n",
       "0  498235547685756928   1539100118   \n",
       "\n",
       "                                           src_tweet  \\\n",
       "0  Black teenage boys are not men. They are child...   \n",
       "\n",
       "                         src_date  label  \\\n",
       "0  Sat Aug 09 22:33:06 +0000 2014      0   \n",
       "\n",
       "                                      cleaned_src_tw src_sentiment src_emo_ro  \n",
       "0  black teenage boys not men children stop refer...      Negative      anger  "
      ]
     },
     "execution_count": 3,
     "metadata": {},
     "output_type": "execute_result"
    }
   ],
   "source": [
    "src_tw_df = pd.read_csv(r'D:\\論文\\PHEME9\\Data\\CSV\\ferguson-src-2.csv', encoding = 'utf-8', header =0)\n",
    "print(src_tw_df.columns)\n",
    "print(src_tw_df.shape)\n",
    "src_tw_df.head(1)"
   ]
  },
  {
   "cell_type": "code",
   "execution_count": 4,
   "id": "failing-venezuela",
   "metadata": {},
   "outputs": [
    {
     "data": {
      "text/html": [
       "<div>\n",
       "<style scoped>\n",
       "    .dataframe tbody tr th:only-of-type {\n",
       "        vertical-align: middle;\n",
       "    }\n",
       "\n",
       "    .dataframe tbody tr th {\n",
       "        vertical-align: top;\n",
       "    }\n",
       "\n",
       "    .dataframe thead th {\n",
       "        text-align: right;\n",
       "    }\n",
       "</style>\n",
       "<table border=\"1\" class=\"dataframe\">\n",
       "  <thead>\n",
       "    <tr style=\"text-align: right;\">\n",
       "      <th></th>\n",
       "      <th>src_tweet_id</th>\n",
       "      <th>src_tweet</th>\n",
       "      <th>cleaned_src_tw</th>\n",
       "      <th>src_sentiment</th>\n",
       "    </tr>\n",
       "  </thead>\n",
       "  <tbody>\n",
       "    <tr>\n",
       "      <th>31</th>\n",
       "      <td>498274493337702401</td>\n",
       "      <td>: Teenager #MikeBrown won't start college on M...</td>\n",
       "      <td>NaN</td>\n",
       "      <td>Neutral</td>\n",
       "    </tr>\n",
       "    <tr>\n",
       "      <th>65</th>\n",
       "      <td>498287947301814274</td>\n",
       "      <td>Police dogs snarl at a crowd of mourners in #F...</td>\n",
       "      <td>NaN</td>\n",
       "      <td>Neutral</td>\n",
       "    </tr>\n",
       "    <tr>\n",
       "      <th>74</th>\n",
       "      <td>498293625420148736</td>\n",
       "      <td>RT @_westwest_yall: Never forget the original ...</td>\n",
       "      <td>NaN</td>\n",
       "      <td>Neutral</td>\n",
       "    </tr>\n",
       "    <tr>\n",
       "      <th>158</th>\n",
       "      <td>498507434693246977</td>\n",
       "      <td>RT @TOO_LIVE_MILZ: The sad truth RT @kupkakeka...</td>\n",
       "      <td>NaN</td>\n",
       "      <td>Neutral</td>\n",
       "    </tr>\n",
       "    <tr>\n",
       "      <th>289</th>\n",
       "      <td>499441454498852864</td>\n",
       "      <td>RT @PDPJ: #Ferguson picture from earlier in th...</td>\n",
       "      <td>NaN</td>\n",
       "      <td>Neutral</td>\n",
       "    </tr>\n",
       "    <tr>\n",
       "      <th>314</th>\n",
       "      <td>499507509171060736</td>\n",
       "      <td>RT @manofsteele: Man picks up burning tear gas...</td>\n",
       "      <td>NaN</td>\n",
       "      <td>Neutral</td>\n",
       "    </tr>\n",
       "    <tr>\n",
       "      <th>315</th>\n",
       "      <td>499511714438971392</td>\n",
       "      <td>RT @tabithalou: This what they not showing you...</td>\n",
       "      <td>NaN</td>\n",
       "      <td>Neutral</td>\n",
       "    </tr>\n",
       "    <tr>\n",
       "      <th>405</th>\n",
       "      <td>499650234914713600</td>\n",
       "      <td>RT @AntonioFrench: State Senator asks the #Fer...</td>\n",
       "      <td>NaN</td>\n",
       "      <td>Neutral</td>\n",
       "    </tr>\n",
       "    <tr>\n",
       "      <th>436</th>\n",
       "      <td>499672226887897089</td>\n",
       "      <td>RT @freegcf: RT @organizemo: @OpFerguson PLS R...</td>\n",
       "      <td>NaN</td>\n",
       "      <td>Neutral</td>\n",
       "    </tr>\n",
       "    <tr>\n",
       "      <th>443</th>\n",
       "      <td>499676350064508928</td>\n",
       "      <td>RT @JJohnsonKMOV: Intersection of Canfield and...</td>\n",
       "      <td>NaN</td>\n",
       "      <td>Neutral</td>\n",
       "    </tr>\n",
       "    <tr>\n",
       "      <th>459</th>\n",
       "      <td>499689757652566016</td>\n",
       "      <td>RT .@FOX2now: The #STL SWAT team has weapons d...</td>\n",
       "      <td>NaN</td>\n",
       "      <td>Neutral</td>\n",
       "    </tr>\n",
       "    <tr>\n",
       "      <th>466</th>\n",
       "      <td>499690869784846336</td>\n",
       "      <td>RT @FOX2now: The #STL SWAT team has weapons dr...</td>\n",
       "      <td>NaN</td>\n",
       "      <td>Neutral</td>\n",
       "    </tr>\n",
       "    <tr>\n",
       "      <th>472</th>\n",
       "      <td>499691638424608768</td>\n",
       "      <td>RT .@ryanjreilly: A massive SWAT team just sho...</td>\n",
       "      <td>NaN</td>\n",
       "      <td>Neutral</td>\n",
       "    </tr>\n",
       "    <tr>\n",
       "      <th>544</th>\n",
       "      <td>499703651079045121</td>\n",
       "      <td>This. RT @grasswire: State Senator asks the #F...</td>\n",
       "      <td>NaN</td>\n",
       "      <td>Neutral</td>\n",
       "    </tr>\n",
       "    <tr>\n",
       "      <th>562</th>\n",
       "      <td>499705915227271168</td>\n",
       "      <td>RT @YourAnonNews: SWAT police just entered a M...</td>\n",
       "      <td>NaN</td>\n",
       "      <td>Neutral</td>\n",
       "    </tr>\n",
       "    <tr>\n",
       "      <th>595</th>\n",
       "      <td>500180625312083968</td>\n",
       "      <td>@eyeFLOODpanties RT @iFalasteen: The oppressed...</td>\n",
       "      <td>NaN</td>\n",
       "      <td>Neutral</td>\n",
       "    </tr>\n",
       "    <tr>\n",
       "      <th>657</th>\n",
       "      <td>500278978557804544</td>\n",
       "      <td>RT @Smith83K This Cartoon Says It All: via @Be...</td>\n",
       "      <td>NaN</td>\n",
       "      <td>Neutral</td>\n",
       "    </tr>\n",
       "    <tr>\n",
       "      <th>751</th>\n",
       "      <td>500353295903637504</td>\n",
       "      <td>HERE ARE 50 QUESTIONS! about report released t...</td>\n",
       "      <td>NaN</td>\n",
       "      <td>Neutral</td>\n",
       "    </tr>\n",
       "    <tr>\n",
       "      <th>766</th>\n",
       "      <td>500362679039840257</td>\n",
       "      <td>RT @FreeTopher: OFFICER DARREN WILSON STANDING...</td>\n",
       "      <td>NaN</td>\n",
       "      <td>Neutral</td>\n",
       "    </tr>\n",
       "    <tr>\n",
       "      <th>896</th>\n",
       "      <td>499565555645685760</td>\n",
       "      <td>RT @bonedog84: Over 50 people have been arrest...</td>\n",
       "      <td>NaN</td>\n",
       "      <td>Neutral</td>\n",
       "    </tr>\n",
       "    <tr>\n",
       "      <th>1007</th>\n",
       "      <td>500299904817049600</td>\n",
       "      <td>RT .@rolandsmartin: This is simple: IF #MikeBr...</td>\n",
       "      <td>NaN</td>\n",
       "      <td>Neutral</td>\n",
       "    </tr>\n",
       "  </tbody>\n",
       "</table>\n",
       "</div>"
      ],
      "text/plain": [
       "            src_tweet_id                                          src_tweet  \\\n",
       "31    498274493337702401  : Teenager #MikeBrown won't start college on M...   \n",
       "65    498287947301814274  Police dogs snarl at a crowd of mourners in #F...   \n",
       "74    498293625420148736  RT @_westwest_yall: Never forget the original ...   \n",
       "158   498507434693246977  RT @TOO_LIVE_MILZ: The sad truth RT @kupkakeka...   \n",
       "289   499441454498852864  RT @PDPJ: #Ferguson picture from earlier in th...   \n",
       "314   499507509171060736  RT @manofsteele: Man picks up burning tear gas...   \n",
       "315   499511714438971392  RT @tabithalou: This what they not showing you...   \n",
       "405   499650234914713600  RT @AntonioFrench: State Senator asks the #Fer...   \n",
       "436   499672226887897089  RT @freegcf: RT @organizemo: @OpFerguson PLS R...   \n",
       "443   499676350064508928  RT @JJohnsonKMOV: Intersection of Canfield and...   \n",
       "459   499689757652566016  RT .@FOX2now: The #STL SWAT team has weapons d...   \n",
       "466   499690869784846336  RT @FOX2now: The #STL SWAT team has weapons dr...   \n",
       "472   499691638424608768  RT .@ryanjreilly: A massive SWAT team just sho...   \n",
       "544   499703651079045121  This. RT @grasswire: State Senator asks the #F...   \n",
       "562   499705915227271168  RT @YourAnonNews: SWAT police just entered a M...   \n",
       "595   500180625312083968  @eyeFLOODpanties RT @iFalasteen: The oppressed...   \n",
       "657   500278978557804544  RT @Smith83K This Cartoon Says It All: via @Be...   \n",
       "751   500353295903637504  HERE ARE 50 QUESTIONS! about report released t...   \n",
       "766   500362679039840257  RT @FreeTopher: OFFICER DARREN WILSON STANDING...   \n",
       "896   499565555645685760  RT @bonedog84: Over 50 people have been arrest...   \n",
       "1007  500299904817049600  RT .@rolandsmartin: This is simple: IF #MikeBr...   \n",
       "\n",
       "     cleaned_src_tw src_sentiment  \n",
       "31              NaN       Neutral  \n",
       "65              NaN       Neutral  \n",
       "74              NaN       Neutral  \n",
       "158             NaN       Neutral  \n",
       "289             NaN       Neutral  \n",
       "314             NaN       Neutral  \n",
       "315             NaN       Neutral  \n",
       "405             NaN       Neutral  \n",
       "436             NaN       Neutral  \n",
       "443             NaN       Neutral  \n",
       "459             NaN       Neutral  \n",
       "466             NaN       Neutral  \n",
       "472             NaN       Neutral  \n",
       "544             NaN       Neutral  \n",
       "562             NaN       Neutral  \n",
       "595             NaN       Neutral  \n",
       "657             NaN       Neutral  \n",
       "751             NaN       Neutral  \n",
       "766             NaN       Neutral  \n",
       "896             NaN       Neutral  \n",
       "1007            NaN       Neutral  "
      ]
     },
     "execution_count": 4,
     "metadata": {},
     "output_type": "execute_result"
    }
   ],
   "source": [
    "src_tw_df.loc[src_tw_df.cleaned_src_tw.isnull(),['src_tweet_id','src_tweet','cleaned_src_tw','src_sentiment']]"
   ]
  },
  {
   "cell_type": "code",
   "execution_count": 5,
   "id": "gross-sussex",
   "metadata": {},
   "outputs": [
    {
     "data": {
      "text/html": [
       "<div>\n",
       "<style scoped>\n",
       "    .dataframe tbody tr th:only-of-type {\n",
       "        vertical-align: middle;\n",
       "    }\n",
       "\n",
       "    .dataframe tbody tr th {\n",
       "        vertical-align: top;\n",
       "    }\n",
       "\n",
       "    .dataframe thead th {\n",
       "        text-align: right;\n",
       "    }\n",
       "</style>\n",
       "<table border=\"1\" class=\"dataframe\">\n",
       "  <thead>\n",
       "    <tr style=\"text-align: right;\">\n",
       "      <th></th>\n",
       "      <th>src_tweet_id</th>\n",
       "      <th>src_user_id</th>\n",
       "      <th>src_tweet</th>\n",
       "      <th>src_date</th>\n",
       "      <th>reply_tweet_id</th>\n",
       "      <th>reply_user_id</th>\n",
       "      <th>reply_tweet</th>\n",
       "      <th>reply_date</th>\n",
       "      <th>label</th>\n",
       "      <th>cleaned_reply_tw</th>\n",
       "      <th>reply_sentiment</th>\n",
       "      <th>reply_emo_ro</th>\n",
       "      <th>cleaned_src_tw</th>\n",
       "      <th>src_sentiment</th>\n",
       "      <th>src_emo_ro</th>\n",
       "    </tr>\n",
       "  </thead>\n",
       "  <tbody>\n",
       "    <tr>\n",
       "      <th>0</th>\n",
       "      <td>498235547685756928</td>\n",
       "      <td>1539100118</td>\n",
       "      <td>Black teenage boys are not men. They are child...</td>\n",
       "      <td>Sat Aug 09 22:33:06 +0000 2014</td>\n",
       "      <td>4.982355e+17</td>\n",
       "      <td>1.539100e+09</td>\n",
       "      <td>Black teenage boys are not men. They are child...</td>\n",
       "      <td>Sat Aug 09 22:33:06 +0000 2014</td>\n",
       "      <td>0</td>\n",
       "      <td>black teenage boys not men children stop refer...</td>\n",
       "      <td>Negative</td>\n",
       "      <td>anger</td>\n",
       "      <td>black teenage boys not men children stop refer...</td>\n",
       "      <td>Negative</td>\n",
       "      <td>anger</td>\n",
       "    </tr>\n",
       "  </tbody>\n",
       "</table>\n",
       "</div>"
      ],
      "text/plain": [
       "         src_tweet_id  src_user_id  \\\n",
       "0  498235547685756928   1539100118   \n",
       "\n",
       "                                           src_tweet  \\\n",
       "0  Black teenage boys are not men. They are child...   \n",
       "\n",
       "                         src_date  reply_tweet_id  reply_user_id  \\\n",
       "0  Sat Aug 09 22:33:06 +0000 2014    4.982355e+17   1.539100e+09   \n",
       "\n",
       "                                         reply_tweet  \\\n",
       "0  Black teenage boys are not men. They are child...   \n",
       "\n",
       "                       reply_date  label  \\\n",
       "0  Sat Aug 09 22:33:06 +0000 2014      0   \n",
       "\n",
       "                                    cleaned_reply_tw reply_sentiment  \\\n",
       "0  black teenage boys not men children stop refer...        Negative   \n",
       "\n",
       "  reply_emo_ro                                     cleaned_src_tw  \\\n",
       "0        anger  black teenage boys not men children stop refer...   \n",
       "\n",
       "  src_sentiment src_emo_ro  \n",
       "0      Negative      anger  "
      ]
     },
     "execution_count": 5,
     "metadata": {},
     "output_type": "execute_result"
    }
   ],
   "source": [
    "df1 = pd.merge(df, src_tw_df[['src_tweet_id','cleaned_src_tw','src_sentiment','src_emo_ro']],\\\n",
    "               on='src_tweet_id')\n",
    "df1.head(1)"
   ]
  },
  {
   "cell_type": "code",
   "execution_count": 6,
   "id": "legendary-coach",
   "metadata": {},
   "outputs": [
    {
     "name": "stdout",
     "output_type": "stream",
     "text": [
      "df's shape:  (21729, 12)\n",
      "df1's shape:  (21729, 15)\n",
      "src_tw_df's shapes:  (1143, 8)\n"
     ]
    }
   ],
   "source": [
    "print(\"df's shape: \",df.shape)\n",
    "print(\"df1's shape: \",df1.shape)\n",
    "print(\"src_tw_df's shapes: \", src_tw_df.shape)"
   ]
  },
  {
   "cell_type": "code",
   "execution_count": null,
   "id": "infrared-collect",
   "metadata": {},
   "outputs": [],
   "source": [
    "src_null = df1.loc[df1.cleaned_src_tw.isnull()].index"
   ]
  },
  {
   "cell_type": "code",
   "execution_count": null,
   "id": "previous-washington",
   "metadata": {},
   "outputs": [],
   "source": [
    "#df1.drop(src_null,0).shape"
   ]
  },
  {
   "cell_type": "markdown",
   "id": "subject-bobby",
   "metadata": {},
   "source": [
    "## Sentiment Analysis"
   ]
  },
  {
   "cell_type": "code",
   "execution_count": 7,
   "id": "scheduled-samuel",
   "metadata": {},
   "outputs": [
    {
     "data": {
      "text/plain": [
       "0    0.751531\n",
       "1    0.248469\n",
       "Name: label, dtype: float64"
      ]
     },
     "execution_count": 7,
     "metadata": {},
     "output_type": "execute_result"
    }
   ],
   "source": [
    "src_tw_df.label.value_counts(normalize=True)"
   ]
  },
  {
   "cell_type": "markdown",
   "id": "relative-african",
   "metadata": {},
   "source": [
    "### Source Tweets "
   ]
  },
  {
   "cell_type": "code",
   "execution_count": 18,
   "id": "competitive-charge",
   "metadata": {},
   "outputs": [
    {
     "data": {
      "image/png": "[encoded data removed]",
      "text/plain": [
       "<Figure size 432x288 with 1 Axes>"
      ]
     },
     "metadata": {
      "needs_background": "light"
     },
     "output_type": "display_data"
    }
   ],
   "source": [
    "g = src_tw_df.groupby(['label'])['src_sentiment'].value_counts(normalize=True).mul(100).rename('count').reset_index()\\\n",
    ".pipe((sns.barplot,'data'), x ='label',y='count',hue='src_sentiment',palette=\"vlag\")\n",
    "\n",
    "g.axes.set_ylim(0,100)\n",
    "g.axes.set_xticklabels(['Non-rumor','Rumor'])\n",
    "g.axes.set_ylabel('Count (%)')\n",
    "g.axes.set_title('Sentiment Analysis of Source Tweet (for each label)')\n",
    "\n",
    "for p in g.axes.patches:\n",
    "    txt = str(p.get_height().round(1)) + '%'\n",
    "    txt_x = p.get_x() \n",
    "    txt_y = p.get_height()\n",
    "    g.axes.text(txt_x,txt_y,txt)\n",
    "plt.savefig('D:/論文/PHEME9/Code/graph/ferguson/src-sentiment.pdf',dpi=300)"
   ]
  },
  {
   "cell_type": "code",
   "execution_count": 8,
   "id": "statewide-information",
   "metadata": {},
   "outputs": [
    {
     "data": {
      "text/plain": [
       "Text(0.5, 1.0, '# of rumor/non-rumor Source tweet (for each sentiment class).')"
      ]
     },
     "execution_count": 8,
     "metadata": {},
     "output_type": "execute_result"
    },
    {
     "data": {
      "image/png": "[encoded data removed]",
      "text/plain": [
       "<Figure size 432x288 with 1 Axes>"
      ]
     },
     "metadata": {
      "needs_background": "light"
     },
     "output_type": "display_data"
    }
   ],
   "source": [
    "g = src_tw_df.groupby(['src_sentiment'])['label'].value_counts(normalize=True).mul(100).rename('count').reset_index()\\\n",
    ".pipe((sns.barplot,'data'), x ='src_sentiment',y='count',hue='label',palette=\"vlag\")\n",
    "\n",
    "g.axes.set_ylim(0,100)\n",
    "g.axes.set_ylabel('Count (%)')\n",
    "\n",
    "for p in g.axes.patches:\n",
    "    txt = str(p.get_height().round(1)) + '%'\n",
    "    txt_x = p.get_x() \n",
    "    txt_y = p.get_height()\n",
    "    g.axes.text(txt_x,txt_y,txt)\n",
    "plt.title('# of rumor/non-rumor Source tweet (for each sentiment class).',fontsize=12)"
   ]
  },
  {
   "cell_type": "markdown",
   "id": "commercial-indicator",
   "metadata": {},
   "source": [
    "### Reply Tweets"
   ]
  },
  {
   "cell_type": "code",
   "execution_count": 9,
   "id": "golden-velvet",
   "metadata": {},
   "outputs": [
    {
     "data": {
      "text/plain": [
       "Negative    0.408072\n",
       "Positive    0.319389\n",
       "Neutral     0.272539\n",
       "Name: reply_sentiment, dtype: float64"
      ]
     },
     "execution_count": 9,
     "metadata": {},
     "output_type": "execute_result"
    }
   ],
   "source": [
    "df.reply_sentiment.value_counts(normalize=True)"
   ]
  },
  {
   "cell_type": "code",
   "execution_count": 17,
   "id": "stretch-judges",
   "metadata": {},
   "outputs": [
    {
     "data": {
      "image/png": "[encoded data removed]",
      "text/plain": [
       "<Figure size 432x288 with 1 Axes>"
      ]
     },
     "metadata": {
      "needs_background": "light"
     },
     "output_type": "display_data"
    }
   ],
   "source": [
    "g = df.groupby(['label'])['reply_sentiment'].value_counts(normalize=True).mul(100).rename('count').reset_index()\\\n",
    ".pipe((sns.barplot,'data'), x ='label',y='count',hue='reply_sentiment',palette=\"Set3\")\n",
    "\n",
    "g.axes.set_ylim(0,100)\n",
    "g.axes.set_title('Sentiment Analysis of Reply Tweet (for each label)')\n",
    "g.axes.set_xticklabels(['Non-rumor','Rumor'])\n",
    "g.axes.set_ylabel('Count (%)')\n",
    "\n",
    "for p in g.axes.patches:\n",
    "    txt = str(p.get_height().round(1)) + '%'\n",
    "    txt_x = p.get_x() \n",
    "    txt_y = p.get_height()\n",
    "    g.axes.text(txt_x,txt_y,txt)\n",
    "plt.savefig('D:/論文/PHEME9/Code/graph/ferguson/reply-sentiment.pdf',dpi=300)"
   ]
  },
  {
   "cell_type": "code",
   "execution_count": 11,
   "id": "focal-above",
   "metadata": {},
   "outputs": [
    {
     "data": {
      "text/plain": [
       "Text(0.5, 1.0, '# of rumor/non-rumor Reply tweet (for each sentiment class).')"
      ]
     },
     "execution_count": 11,
     "metadata": {},
     "output_type": "execute_result"
    },
    {
     "data": {
      "image/png": "[encoded data removed]",
      "text/plain": [
       "<Figure size 432x288 with 1 Axes>"
      ]
     },
     "metadata": {
      "needs_background": "light"
     },
     "output_type": "display_data"
    }
   ],
   "source": [
    "g = df.groupby(['reply_sentiment'])['label'].value_counts(normalize=True).mul(100).rename('count').reset_index()\\\n",
    ".pipe((sns.barplot,'data'), x ='reply_sentiment',y='count',hue='label',palette=\"Set3\")\n",
    "\n",
    "g.axes.set_ylim(0,100)\n",
    "g.axes.set_ylabel('Count (%)')\n",
    "\n",
    "for p in g.axes.patches:\n",
    "    txt = str(p.get_height().round(1)) + '%'\n",
    "    txt_x = p.get_x() \n",
    "    txt_y = p.get_height()\n",
    "    g.axes.text(txt_x,txt_y,txt)\n",
    "plt.title('# of rumor/non-rumor Reply tweet (for each sentiment class).',fontsize=12)"
   ]
  },
  {
   "cell_type": "markdown",
   "id": "continent-tournament",
   "metadata": {},
   "source": [
    "## Emotion Analysis"
   ]
  },
  {
   "cell_type": "markdown",
   "id": "hungarian-momentum",
   "metadata": {},
   "source": [
    "### Source Tweets"
   ]
  },
  {
   "cell_type": "code",
   "execution_count": 12,
   "id": "nearby-berlin",
   "metadata": {},
   "outputs": [
    {
     "data": {
      "text/plain": [
       "anger       0.776903\n",
       "joy         0.099738\n",
       "sadness     0.098863\n",
       "optimism    0.024497\n",
       "Name: src_emo_ro, dtype: float64"
      ]
     },
     "execution_count": 12,
     "metadata": {},
     "output_type": "execute_result"
    }
   ],
   "source": [
    "src_tw_df['src_emo_ro'].value_counts(normalize=True)"
   ]
  },
  {
   "cell_type": "code",
   "execution_count": 16,
   "id": "authorized-knowing",
   "metadata": {},
   "outputs": [
    {
     "data": {
      "image/png": "[encoded data removed]",
      "text/plain": [
       "<Figure size 432x288 with 1 Axes>"
      ]
     },
     "metadata": {
      "needs_background": "light"
     },
     "output_type": "display_data"
    }
   ],
   "source": [
    "g = src_tw_df.groupby(['label'])['src_emo_ro'].value_counts(normalize=True).mul(100).rename('count').reset_index()\\\n",
    ".pipe((sns.barplot,'data'), x ='label',y='count',hue='src_emo_ro',palette=\"vlag\")\n",
    "\n",
    "g.axes.set_ylim(0,100)\n",
    "g.axes.set_xticklabels(['Non-rumor','Rumor'])\n",
    "g.axes.set_ylabel('Count (%)')\n",
    "\n",
    "for p in g.axes.patches:\n",
    "    txt = str(p.get_height().round(1)) + '%'\n",
    "    txt_x = p.get_x() \n",
    "    txt_y = p.get_height()\n",
    "    g.axes.text(txt_x,txt_y,txt)\n",
    "plt.title('Emotion Analysis of Source tweet (for each label).',fontsize=12)\n",
    "plt.savefig('D:/論文/PHEME9/Code/graph/ferguson/src-emotion.pdf',dpi=300)"
   ]
  },
  {
   "cell_type": "markdown",
   "id": "comparative-inspection",
   "metadata": {},
   "source": [
    "### Reply Tweets"
   ]
  },
  {
   "cell_type": "code",
   "execution_count": 15,
   "id": "deluxe-monaco",
   "metadata": {},
   "outputs": [
    {
     "data": {
      "image/png": "[encoded data removed]",
      "text/plain": [
       "<Figure size 432x288 with 1 Axes>"
      ]
     },
     "metadata": {
      "needs_background": "light"
     },
     "output_type": "display_data"
    }
   ],
   "source": [
    "g =df.groupby(['label'])['reply_emo_ro'].value_counts(normalize=True).mul(100).rename('count').reset_index()\\\n",
    ".pipe((sns.barplot,'data'), x ='label',y='count',hue='reply_emo_ro',palette=\"Set3\")\n",
    "\n",
    "g.axes.set_ylim(0,100)\n",
    "g.axes.set_xticklabels(['Non-rumor','Rumor'])\n",
    "g.axes.set_ylabel('Count (%)')\n",
    "\n",
    "for p in g.axes.patches:\n",
    "    txt = str(p.get_height().round(1)) + '%'\n",
    "    txt_x = p.get_x() \n",
    "    txt_y = p.get_height()\n",
    "    g.axes.text(txt_x,txt_y,txt)\n",
    "plt.title('Emotion Analysis of Reply tweet (for each label).',fontsize=12)\n",
    "plt.savefig('D:/論文/PHEME9/Code/graph/ferguson/reply-emotion.pdf',dpi=300)"
   ]
  },
  {
   "cell_type": "code",
   "execution_count": null,
   "id": "associate-france",
   "metadata": {},
   "outputs": [],
   "source": []
  }
 ],
 "metadata": {
  "kernelspec": {
   "display_name": "Python 3",
   "language": "python",
   "name": "python3"
  },
  "language_info": {
   "codemirror_mode": {
    "name": "ipython",
    "version": 3
   },
   "file_extension": ".py",
   "mimetype": "text/x-python",
   "name": "python",
   "nbconvert_exporter": "python",
   "pygments_lexer": "ipython3",
   "version": "3.9.1"
  },
  "toc-autonumbering": true,
  "toc-showmarkdowntxt": false
 },
 "nbformat": 4,
 "nbformat_minor": 5
}
