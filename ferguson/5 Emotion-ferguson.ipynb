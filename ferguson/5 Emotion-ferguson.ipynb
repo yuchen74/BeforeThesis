{
 "cells": [
  {
   "cell_type": "markdown",
   "id": "infectious-tradition",
   "metadata": {},
   "source": [
    "# Dataset: *ferguson*"
   ]
  },
  {
   "cell_type": "markdown",
   "id": "naval-hypothetical",
   "metadata": {},
   "source": [
    "- df.to_csv(r'D:\\論文\\PHEME9\\Data\\CSV\\ferguson-df.csv',index=False)\n",
    "- src_tw_df.to_csv(r'D:\\論文\\PHEME9\\Data\\CSV\\ferguson-src.csv',index=False)"
   ]
  },
  {
   "cell_type": "code",
   "execution_count": 1,
   "id": "acute-creature",
   "metadata": {},
   "outputs": [],
   "source": [
    "import numpy as np\n",
    "import pandas as pd\n",
    "import datetime \n",
    "import matplotlib.pyplot as plt\n",
    "import seaborn as sns"
   ]
  },
  {
   "cell_type": "code",
   "execution_count": 3,
   "id": "typical-photograph",
   "metadata": {},
   "outputs": [
    {
     "name": "stdout",
     "output_type": "stream",
     "text": [
      "INFO:tensorflow:Enabling eager execution\n",
      "INFO:tensorflow:Enabling v2 tensorshape\n",
      "INFO:tensorflow:Enabling resource variables\n",
      "INFO:tensorflow:Enabling tensor equality\n",
      "INFO:tensorflow:Enabling control flow v2\n"
     ]
    }
   ],
   "source": [
    "from transformers import AutoTokenizer, AutoModelWithLMHead, AutoModelForSequenceClassification"
   ]
  },
  {
   "cell_type": "code",
   "execution_count": 2,
   "id": "structured-banks",
   "metadata": {},
   "outputs": [
    {
     "name": "stdout",
     "output_type": "stream",
     "text": [
      "(23165, 11)\n",
      "(1143, 7)\n"
     ]
    }
   ],
   "source": [
    "df = pd.read_csv(r'D:\\論文\\PHEME9\\Data\\CSV\\ferguson-df.csv', encoding = 'utf-8', header = 0)\n",
    "src_tw_df = pd.read_csv(r'D:\\論文\\PHEME9\\Data\\CSV\\ferguson-src.csv', encoding = 'utf-8', header =0)\n",
    "print(df.shape)\n",
    "print(src_tw_df.shape)"
   ]
  },
  {
   "cell_type": "code",
   "execution_count": 3,
   "id": "fifth-conclusion",
   "metadata": {},
   "outputs": [
    {
     "data": {
      "text/plain": [
       "src_tweet_id           0\n",
       "src_user_id            0\n",
       "src_tweet              0\n",
       "src_date               0\n",
       "reply_tweet_id       133\n",
       "reply_user_id        133\n",
       "reply_tweet          133\n",
       "reply_date           133\n",
       "label                  0\n",
       "cleaned_reply_tw    1436\n",
       "reply_sentiment        0\n",
       "dtype: int64"
      ]
     },
     "execution_count": 3,
     "metadata": {},
     "output_type": "execute_result"
    }
   ],
   "source": [
    "df.isnull().sum()"
   ]
  },
  {
   "cell_type": "code",
   "execution_count": 7,
   "id": "pharmaceutical-sailing",
   "metadata": {},
   "outputs": [
    {
     "data": {
      "text/html": [
       "<div>\n",
       "<style scoped>\n",
       "    .dataframe tbody tr th:only-of-type {\n",
       "        vertical-align: middle;\n",
       "    }\n",
       "\n",
       "    .dataframe tbody tr th {\n",
       "        vertical-align: top;\n",
       "    }\n",
       "\n",
       "    .dataframe thead th {\n",
       "        text-align: right;\n",
       "    }\n",
       "</style>\n",
       "<table border=\"1\" class=\"dataframe\">\n",
       "  <thead>\n",
       "    <tr style=\"text-align: right;\">\n",
       "      <th></th>\n",
       "      <th>src_tweet_id</th>\n",
       "      <th>label</th>\n",
       "    </tr>\n",
       "  </thead>\n",
       "  <tbody>\n",
       "    <tr>\n",
       "      <th>370</th>\n",
       "      <td>498265555833720832</td>\n",
       "      <td>0</td>\n",
       "    </tr>\n",
       "    <tr>\n",
       "      <th>414</th>\n",
       "      <td>498269365175721984</td>\n",
       "      <td>0</td>\n",
       "    </tr>\n",
       "    <tr>\n",
       "      <th>415</th>\n",
       "      <td>498269636551798784</td>\n",
       "      <td>0</td>\n",
       "    </tr>\n",
       "    <tr>\n",
       "      <th>459</th>\n",
       "      <td>498271531386953728</td>\n",
       "      <td>0</td>\n",
       "    </tr>\n",
       "    <tr>\n",
       "      <th>967</th>\n",
       "      <td>498286202077085696</td>\n",
       "      <td>0</td>\n",
       "    </tr>\n",
       "    <tr>\n",
       "      <th>...</th>\n",
       "      <td>...</td>\n",
       "      <td>...</td>\n",
       "    </tr>\n",
       "    <tr>\n",
       "      <th>21697</th>\n",
       "      <td>500359088757555200</td>\n",
       "      <td>1</td>\n",
       "    </tr>\n",
       "    <tr>\n",
       "      <th>21971</th>\n",
       "      <td>500360889347096576</td>\n",
       "      <td>1</td>\n",
       "    </tr>\n",
       "    <tr>\n",
       "      <th>22138</th>\n",
       "      <td>500362083221786625</td>\n",
       "      <td>1</td>\n",
       "    </tr>\n",
       "    <tr>\n",
       "      <th>22531</th>\n",
       "      <td>500377191029673984</td>\n",
       "      <td>1</td>\n",
       "    </tr>\n",
       "    <tr>\n",
       "      <th>22724</th>\n",
       "      <td>500387844758994946</td>\n",
       "      <td>1</td>\n",
       "    </tr>\n",
       "  </tbody>\n",
       "</table>\n",
       "<p>133 rows × 2 columns</p>\n",
       "</div>"
      ],
      "text/plain": [
       "             src_tweet_id  label\n",
       "370    498265555833720832      0\n",
       "414    498269365175721984      0\n",
       "415    498269636551798784      0\n",
       "459    498271531386953728      0\n",
       "967    498286202077085696      0\n",
       "...                   ...    ...\n",
       "21697  500359088757555200      1\n",
       "21971  500360889347096576      1\n",
       "22138  500362083221786625      1\n",
       "22531  500377191029673984      1\n",
       "22724  500387844758994946      1\n",
       "\n",
       "[133 rows x 2 columns]"
      ]
     },
     "execution_count": 7,
     "metadata": {},
     "output_type": "execute_result"
    }
   ],
   "source": [
    "df.loc[df.reply_tweet.isnull(),['src_tweet_id','label']]"
   ]
  },
  {
   "cell_type": "code",
   "execution_count": 14,
   "id": "national-gravity",
   "metadata": {},
   "outputs": [],
   "source": [
    "df.dropna(inplace = True)\n",
    "df.reset_index(drop=True,inplace=True)"
   ]
  },
  {
   "cell_type": "code",
   "execution_count": 15,
   "id": "desirable-collection",
   "metadata": {},
   "outputs": [
    {
     "data": {
      "text/plain": [
       "src_tweet_id       0\n",
       "src_user_id        0\n",
       "src_tweet          0\n",
       "src_date           0\n",
       "label              0\n",
       "cleaned_src_tw    21\n",
       "src_sentiment      0\n",
       "dtype: int64"
      ]
     },
     "execution_count": 15,
     "metadata": {},
     "output_type": "execute_result"
    }
   ],
   "source": [
    "src_tw_df.isnull().sum()"
   ]
  },
  {
   "cell_type": "code",
   "execution_count": 16,
   "id": "given-recruitment",
   "metadata": {},
   "outputs": [
    {
     "data": {
      "text/plain": [
       "31      : Teenager #MikeBrown won't start college on M...\n",
       "65      Police dogs snarl at a crowd of mourners in #F...\n",
       "74      RT @_westwest_yall: Never forget the original ...\n",
       "158     RT @TOO_LIVE_MILZ: The sad truth RT @kupkakeka...\n",
       "289     RT @PDPJ: #Ferguson picture from earlier in th...\n",
       "314     RT @manofsteele: Man picks up burning tear gas...\n",
       "315     RT @tabithalou: This what they not showing you...\n",
       "405     RT @AntonioFrench: State Senator asks the #Fer...\n",
       "436     RT @freegcf: RT @organizemo: @OpFerguson PLS R...\n",
       "443     RT @JJohnsonKMOV: Intersection of Canfield and...\n",
       "459     RT .@FOX2now: The #STL SWAT team has weapons d...\n",
       "466     RT @FOX2now: The #STL SWAT team has weapons dr...\n",
       "472     RT .@ryanjreilly: A massive SWAT team just sho...\n",
       "544     This. RT @grasswire: State Senator asks the #F...\n",
       "562     RT @YourAnonNews: SWAT police just entered a M...\n",
       "595     @eyeFLOODpanties RT @iFalasteen: The oppressed...\n",
       "657     RT @Smith83K This Cartoon Says It All: via @Be...\n",
       "751     HERE ARE 50 QUESTIONS! about report released t...\n",
       "766     RT @FreeTopher: OFFICER DARREN WILSON STANDING...\n",
       "896     RT @bonedog84: Over 50 people have been arrest...\n",
       "1007    RT .@rolandsmartin: This is simple: IF #MikeBr...\n",
       "Name: src_tweet, dtype: object"
      ]
     },
     "execution_count": 16,
     "metadata": {},
     "output_type": "execute_result"
    }
   ],
   "source": [
    "src_tw_df[src_tw_df.cleaned_src_tw.isnull()].src_tweet"
   ]
  },
  {
   "cell_type": "code",
   "execution_count": 17,
   "id": "unlike-shell",
   "metadata": {},
   "outputs": [
    {
     "data": {
      "text/html": [
       "<div>\n",
       "<style scoped>\n",
       "    .dataframe tbody tr th:only-of-type {\n",
       "        vertical-align: middle;\n",
       "    }\n",
       "\n",
       "    .dataframe tbody tr th {\n",
       "        vertical-align: top;\n",
       "    }\n",
       "\n",
       "    .dataframe thead th {\n",
       "        text-align: right;\n",
       "    }\n",
       "</style>\n",
       "<table border=\"1\" class=\"dataframe\">\n",
       "  <thead>\n",
       "    <tr style=\"text-align: right;\">\n",
       "      <th></th>\n",
       "      <th>reply_tweet</th>\n",
       "      <th>cleaned_reply_tw</th>\n",
       "    </tr>\n",
       "  </thead>\n",
       "  <tbody>\n",
       "    <tr>\n",
       "      <th>455</th>\n",
       "      <td>@LocaFMCGB @thepoliticalcat How to set filters...</td>\n",
       "      <td>set filter tweet media people warn see</td>\n",
       "    </tr>\n",
       "    <tr>\n",
       "      <th>456</th>\n",
       "      <td>@LocaFMCGB I love my bullet lol #NutriBullet #...</td>\n",
       "      <td>love bullet lol nutribullet nutrition health s...</td>\n",
       "    </tr>\n",
       "    <tr>\n",
       "      <th>457</th>\n",
       "      <td>@LocaFMCGB @BlueDuPage what happened?!</td>\n",
       "      <td>happen</td>\n",
       "    </tr>\n",
       "    <tr>\n",
       "      <th>458</th>\n",
       "      <td>@LocaFMCGB @jblack501c3 unreal talk about exce...</td>\n",
       "      <td>unreal talk excessive force</td>\n",
       "    </tr>\n",
       "    <tr>\n",
       "      <th>459</th>\n",
       "      <td>@LocaFMCGB sad.</td>\n",
       "      <td>sad</td>\n",
       "    </tr>\n",
       "    <tr>\n",
       "      <th>...</th>\n",
       "      <td>...</td>\n",
       "      <td>...</td>\n",
       "    </tr>\n",
       "    <tr>\n",
       "      <th>18973</th>\n",
       "      <td>@BigBoi  it takes time to put a story that all...</td>\n",
       "      <td>take time put story officer learn like learn l...</td>\n",
       "    </tr>\n",
       "    <tr>\n",
       "      <th>18974</th>\n",
       "      <td>@BigBoi @rolandsmartin So when do police ask r...</td>\n",
       "      <td>police ask robbery suspect walk sidewalk get s...</td>\n",
       "    </tr>\n",
       "    <tr>\n",
       "      <th>18975</th>\n",
       "      <td>@BigBoi I'm sooo proud to see people not buyin...</td>\n",
       "      <td>im sooo proud see people not buy lie let keep ...</td>\n",
       "    </tr>\n",
       "    <tr>\n",
       "      <th>18976</th>\n",
       "      <td>@BigBoi @rolandsmartin They needed something t...</td>\n",
       "      <td>need something muddy secondrate announcement p...</td>\n",
       "    </tr>\n",
       "    <tr>\n",
       "      <th>18977</th>\n",
       "      <td>@BigBoi @rolandsmartin Here it is!\\nMy dedicat...</td>\n",
       "      <td>dedication michael brown please share fight ag...</td>\n",
       "    </tr>\n",
       "  </tbody>\n",
       "</table>\n",
       "<p>223 rows × 2 columns</p>\n",
       "</div>"
      ],
      "text/plain": [
       "                                             reply_tweet  \\\n",
       "455    @LocaFMCGB @thepoliticalcat How to set filters...   \n",
       "456    @LocaFMCGB I love my bullet lol #NutriBullet #...   \n",
       "457               @LocaFMCGB @BlueDuPage what happened?!   \n",
       "458    @LocaFMCGB @jblack501c3 unreal talk about exce...   \n",
       "459                                      @LocaFMCGB sad.   \n",
       "...                                                  ...   \n",
       "18973  @BigBoi  it takes time to put a story that all...   \n",
       "18974  @BigBoi @rolandsmartin So when do police ask r...   \n",
       "18975  @BigBoi I'm sooo proud to see people not buyin...   \n",
       "18976  @BigBoi @rolandsmartin They needed something t...   \n",
       "18977  @BigBoi @rolandsmartin Here it is!\\nMy dedicat...   \n",
       "\n",
       "                                        cleaned_reply_tw  \n",
       "455               set filter tweet media people warn see  \n",
       "456    love bullet lol nutribullet nutrition health s...  \n",
       "457                                               happen  \n",
       "458                          unreal talk excessive force  \n",
       "459                                                  sad  \n",
       "...                                                  ...  \n",
       "18973  take time put story officer learn like learn l...  \n",
       "18974  police ask robbery suspect walk sidewalk get s...  \n",
       "18975  im sooo proud see people not buy lie let keep ...  \n",
       "18976  need something muddy secondrate announcement p...  \n",
       "18977  dedication michael brown please share fight ag...  \n",
       "\n",
       "[223 rows x 2 columns]"
      ]
     },
     "execution_count": 17,
     "metadata": {},
     "output_type": "execute_result"
    }
   ],
   "source": [
    "a = src_tw_df[src_tw_df.cleaned_src_tw.isnull()].src_tweet_id.values\n",
    "df.loc[df.src_tweet_id.isin(a),['reply_tweet','cleaned_reply_tw']]"
   ]
  },
  {
   "cell_type": "markdown",
   "id": "coated-accommodation",
   "metadata": {},
   "source": [
    "## Emotion Analysis"
   ]
  },
  {
   "cell_type": "markdown",
   "id": "missing-sunday",
   "metadata": {},
   "source": [
    "### T5 Based\n",
    "<https://huggingface.co/mrm8488/t5-base-finetuned-emotion?text=I+wish+you+were+here+but+it+is+impossible>"
   ]
  },
  {
   "cell_type": "code",
   "execution_count": null,
   "id": "bizarre-disco",
   "metadata": {},
   "outputs": [],
   "source": [
    "t5_tokenizer = AutoTokenizer.from_pretrained(\"mrm8488/t5-base-finetuned-emotion\",use_fast=False)\n",
    "t5_model = AutoModelWithLMHead.from_pretrained(\"mrm8488/t5-base-finetuned-emotion\")\n",
    "\n",
    "\n",
    "\n",
    "def get_emotion_t5(text):\n",
    "    input_ids = t5_tokenizer.encode(text , return_tensors='pt')\n",
    "    output = t5_model.generate(input_ids=input_ids,max_length=2)\n",
    "  \n",
    "    dec = [t5_tokenizer.decode(ids) for ids in output]\n",
    "    label = dec[0]\n",
    "    return label"
   ]
  },
  {
   "cell_type": "code",
   "execution_count": null,
   "id": "surprised-williams",
   "metadata": {},
   "outputs": [],
   "source": [
    "emotion_t5 = df.cleaned_reply_tw.apply(get_emotion_t5)"
   ]
  },
  {
   "cell_type": "code",
   "execution_count": null,
   "id": "threatened-parish",
   "metadata": {},
   "outputs": [],
   "source": [
    "df['reply_emo_t5'] = emotion_t5"
   ]
  },
  {
   "cell_type": "code",
   "execution_count": null,
   "id": "productive-voice",
   "metadata": {},
   "outputs": [],
   "source": [
    "import re\n",
    "df['reply_emo_t5'] = df['reply_emo_t5'].apply(lambda x : re.sub('<pad> ',\"\",x))\n",
    "df.reply_emo_t5"
   ]
  },
  {
   "cell_type": "code",
   "execution_count": null,
   "id": "active-ratio",
   "metadata": {},
   "outputs": [],
   "source": [
    "src_emo_t5 = src_tw_df.cleaned_src_tw.astype(str).apply(get_emotion_t5)\n",
    "src_tw_df['src_emo_t5'] = src_emo_t5"
   ]
  },
  {
   "cell_type": "code",
   "execution_count": null,
   "id": "harmful-object",
   "metadata": {},
   "outputs": [],
   "source": [
    "src_tw_df['src_emo_t5']  = src_tw_df.src_emo_t5.apply(lambda x : re.sub('<pad> ',\"\",x))"
   ]
  },
  {
   "cell_type": "code",
   "execution_count": null,
   "id": "outdoor-charge",
   "metadata": {},
   "outputs": [],
   "source": [
    "ax = df.reply_emotion.value_counts().plot.bar()\n",
    "\n",
    "for i in ax.patches:\n",
    "    height = i.get_height()\n",
    "    ax.text(\n",
    "        i.get_x() + i.get_width() / 2,height, str(height), ha=\"center\", va=\"bottom\"\n",
    "    )\n",
    "plt.xticks(rotation=0)\n",
    "plt.show()\n",
    "#plt.savefig('D:/論文/PHEME9/Code/graph/ferguson/rep-emotion.pdf',dpi=300)"
   ]
  },
  {
   "cell_type": "markdown",
   "id": "distributed-plaza",
   "metadata": {},
   "source": [
    "### roBERTa-base model\n",
    "<https://huggingface.co/cardiffnlp/twitter-roberta-base-emotion>"
   ]
  },
  {
   "cell_type": "code",
   "execution_count": 4,
   "id": "yellow-train",
   "metadata": {},
   "outputs": [],
   "source": [
    "import numpy as np\n",
    "from scipy.special import softmax\n",
    "\n",
    "task='emotion'\n",
    "MODEL = f\"cardiffnlp/twitter-roberta-base-{task}\"\n",
    "ro_tokenizer = AutoTokenizer.from_pretrained(MODEL)\n",
    "ro_model = AutoModelForSequenceClassification.from_pretrained(MODEL)\n"
   ]
  },
  {
   "cell_type": "code",
   "execution_count": 5,
   "id": "based-teaching",
   "metadata": {},
   "outputs": [],
   "source": [
    "def get_emotion_roBERT(text):\n",
    "    \n",
    "    def preprocess(txt):\n",
    "        new_text = []\n",
    "        for t in txt.split(\" \"):\n",
    "            t = '@user' if t.startswith('@') and len(t) > 1 else t\n",
    "            t = 'http' if t.startswith('http') else t\n",
    "            new_text.append(t)\n",
    "        return \" \".join(new_text)\n",
    "    \n",
    "    labels = ['anger','joy','optimism','sadness']\n",
    "    text = preprocess(text)\n",
    "    encoded_input = ro_tokenizer(text, return_tensors='pt')\n",
    "    output = ro_model(**encoded_input)\n",
    "\n",
    "    scores = output[0][0].detach().numpy()\n",
    "    scores = softmax(scores)\n",
    "    ranking = np.argsort(scores)\n",
    "    ranking = ranking[::-1]\n",
    "    emo = labels[ranking[0]]\n",
    "    return emo"
   ]
  },
  {
   "cell_type": "code",
   "execution_count": 6,
   "id": "existing-taxation",
   "metadata": {},
   "outputs": [],
   "source": [
    "emotion_ro = df.cleaned_reply_tw.apply(get_emotion_roBERT)"
   ]
  },
  {
   "cell_type": "code",
   "execution_count": 7,
   "id": "adopted-kitty",
   "metadata": {},
   "outputs": [],
   "source": [
    "df['reply_emo_ro'] = emotion_ro\n",
    "df.to_csv(r'D:\\論文\\PHEME9\\Data\\CSV\\ferguson-df-2.csv',index=False)"
   ]
  },
  {
   "cell_type": "code",
   "execution_count": 8,
   "id": "apparent-reflection",
   "metadata": {},
   "outputs": [],
   "source": [
    "src_emo_ro = src_tw_df.cleaned_src_tw.astype(str).apply(get_emotion_roBERT)\n",
    "src_tw_df['src_emo_ro'] = src_emo_ro"
   ]
  },
  {
   "cell_type": "code",
   "execution_count": 9,
   "id": "right-kingston",
   "metadata": {},
   "outputs": [],
   "source": [
    "src_tw_df.to_csv(r'D:\\論文\\PHEME9\\Data\\CSV\\ferguson-src-2.csv',index=False)"
   ]
  },
  {
   "cell_type": "code",
   "execution_count": null,
   "id": "opening-fellowship",
   "metadata": {},
   "outputs": [],
   "source": [
    "print(\"source tweet:\", df.src_tweet[9126])\n",
    "print(\"original reply tw: \", df.reply_tweet[9126])\n",
    "print(\"cleaned reply tw: \", df.cleaned_reply_tw[9126])\n",
    "\n",
    "print('roBERT based: ',df.reply_emo_ro[9126])\n",
    "print('t5 based: ',df.reply_emo_t5[9126])\n",
    "print('text2emotion: ', df.reply_emo_te[9126])"
   ]
  },
  {
   "cell_type": "code",
   "execution_count": null,
   "id": "decent-manitoba",
   "metadata": {},
   "outputs": [],
   "source": []
  }
 ],
 "metadata": {
  "kernelspec": {
   "display_name": "Python 3",
   "language": "python",
   "name": "python3"
  },
  "language_info": {
   "codemirror_mode": {
    "name": "ipython",
    "version": 3
   },
   "file_extension": ".py",
   "mimetype": "text/x-python",
   "name": "python",
   "nbconvert_exporter": "python",
   "pygments_lexer": "ipython3",
   "version": "3.9.1"
  },
  "toc-autonumbering": true,
  "toc-showmarkdowntxt": false
 },
 "nbformat": 4,
 "nbformat_minor": 5
}
