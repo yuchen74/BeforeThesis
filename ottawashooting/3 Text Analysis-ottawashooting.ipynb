{
 "cells": [
  {
   "cell_type": "markdown",
   "id": "functional-coral",
   "metadata": {},
   "source": [
    "# Text Analysis on ottawashooting data"
   ]
  },
  {
   "cell_type": "code",
   "execution_count": 26,
   "id": "flush-equivalent",
   "metadata": {},
   "outputs": [],
   "source": [
    "import numpy as np\n",
    "import pandas as pd\n",
    "import datetime \n",
    "import matplotlib.pyplot as plt\n",
    "import seaborn as sns"
   ]
  },
  {
   "cell_type": "code",
   "execution_count": 27,
   "id": "ranking-married",
   "metadata": {},
   "outputs": [],
   "source": [
    "df = pd.read_csv(r'D:\\論文\\PHEME9\\Data\\CSV\\ottawashooting.csv', encoding = 'utf-8', header = None)\n",
    "df.columns = ['src_tweet_id', 'src_user_id', 'src_tweet','src_date','reply_tweet_id','reply_user_id','reply_tweet','reply_date', 'label']\n",
    "df.reply_tweet = df.reply_tweet.replace(np.nan,\"\")"
   ]
  },
  {
   "cell_type": "code",
   "execution_count": 28,
   "id": "amateur-scanner",
   "metadata": {},
   "outputs": [
    {
     "data": {
      "text/html": [
       "<div>\n",
       "<style scoped>\n",
       "    .dataframe tbody tr th:only-of-type {\n",
       "        vertical-align: middle;\n",
       "    }\n",
       "\n",
       "    .dataframe tbody tr th {\n",
       "        vertical-align: top;\n",
       "    }\n",
       "\n",
       "    .dataframe thead th {\n",
       "        text-align: right;\n",
       "    }\n",
       "</style>\n",
       "<table border=\"1\" class=\"dataframe\">\n",
       "  <thead>\n",
       "    <tr style=\"text-align: right;\">\n",
       "      <th></th>\n",
       "      <th>src_tweet_id</th>\n",
       "      <th>src_user_id</th>\n",
       "      <th>src_tweet</th>\n",
       "      <th>src_date</th>\n",
       "      <th>label</th>\n",
       "    </tr>\n",
       "  </thead>\n",
       "  <tbody>\n",
       "    <tr>\n",
       "      <th>0</th>\n",
       "      <td>524922078638903296</td>\n",
       "      <td>18999969</td>\n",
       "      <td>Ottawa police are confirming a shooting at the...</td>\n",
       "      <td>Wed Oct 22 13:55:50 +0000 2014</td>\n",
       "      <td>0</td>\n",
       "    </tr>\n",
       "    <tr>\n",
       "      <th>50</th>\n",
       "      <td>524922499466022913</td>\n",
       "      <td>18999969</td>\n",
       "      <td>Passersby working on shooting victim. From the...</td>\n",
       "      <td>Wed Oct 22 13:57:31 +0000 2014</td>\n",
       "      <td>0</td>\n",
       "    </tr>\n",
       "    <tr>\n",
       "      <th>65</th>\n",
       "      <td>524923148576518144</td>\n",
       "      <td>81122301</td>\n",
       "      <td>Shooting at the war memorial in Ottawa. http:/...</td>\n",
       "      <td>Wed Oct 22 14:00:05 +0000 2014</td>\n",
       "      <td>0</td>\n",
       "    </tr>\n",
       "    <tr>\n",
       "      <th>87</th>\n",
       "      <td>524923403183333376</td>\n",
       "      <td>150425432</td>\n",
       "      <td>After today we will officially be done shootin...</td>\n",
       "      <td>Wed Oct 22 14:01:06 +0000 2014</td>\n",
       "      <td>0</td>\n",
       "    </tr>\n",
       "    <tr>\n",
       "      <th>106</th>\n",
       "      <td>524924660480487424</td>\n",
       "      <td>15996661</td>\n",
       "      <td>KEY: Nothing in Wilson's story in new autopsy ...</td>\n",
       "      <td>Wed Oct 22 14:06:06 +0000 2014</td>\n",
       "      <td>0</td>\n",
       "    </tr>\n",
       "    <tr>\n",
       "      <th>...</th>\n",
       "      <td>...</td>\n",
       "      <td>...</td>\n",
       "      <td>...</td>\n",
       "      <td>...</td>\n",
       "      <td>...</td>\n",
       "    </tr>\n",
       "    <tr>\n",
       "      <th>11328</th>\n",
       "      <td>525068915068923904</td>\n",
       "      <td>17820367</td>\n",
       "      <td>***EXCLUSIVE*** Michael Zahaf-Bibeau caught on...</td>\n",
       "      <td>Wed Oct 22 23:39:19 +0000 2014</td>\n",
       "      <td>1</td>\n",
       "    </tr>\n",
       "    <tr>\n",
       "      <th>11331</th>\n",
       "      <td>525070933556350977</td>\n",
       "      <td>351120282</td>\n",
       "      <td>And this is Cpl. Nathan Cirillo, the brave #Ca...</td>\n",
       "      <td>Wed Oct 22 23:47:20 +0000 2014</td>\n",
       "      <td>1</td>\n",
       "    </tr>\n",
       "    <tr>\n",
       "      <th>11350</th>\n",
       "      <td>525071376084791297</td>\n",
       "      <td>25235198</td>\n",
       "      <td>Rest in Peace, Cpl. Nathan Cirillo. Killed tod...</td>\n",
       "      <td>Wed Oct 22 23:49:06 +0000 2014</td>\n",
       "      <td>1</td>\n",
       "    </tr>\n",
       "    <tr>\n",
       "      <th>11363</th>\n",
       "      <td>525071638464049152</td>\n",
       "      <td>19038934</td>\n",
       "      <td>Watch live: PM Stephen Harper expected to spea...</td>\n",
       "      <td>Wed Oct 22 23:50:08 +0000 2014</td>\n",
       "      <td>1</td>\n",
       "    </tr>\n",
       "    <tr>\n",
       "      <th>11374</th>\n",
       "      <td>525072912957452289</td>\n",
       "      <td>19636948</td>\n",
       "      <td>This photo, reported to be of suspected Ottawa...</td>\n",
       "      <td>Wed Oct 22 23:55:12 +0000 2014</td>\n",
       "      <td>1</td>\n",
       "    </tr>\n",
       "  </tbody>\n",
       "</table>\n",
       "<p>857 rows × 5 columns</p>\n",
       "</div>"
      ],
      "text/plain": [
       "             src_tweet_id  src_user_id  \\\n",
       "0      524922078638903296     18999969   \n",
       "50     524922499466022913     18999969   \n",
       "65     524923148576518144     81122301   \n",
       "87     524923403183333376    150425432   \n",
       "106    524924660480487424     15996661   \n",
       "...                   ...          ...   \n",
       "11328  525068915068923904     17820367   \n",
       "11331  525070933556350977    351120282   \n",
       "11350  525071376084791297     25235198   \n",
       "11363  525071638464049152     19038934   \n",
       "11374  525072912957452289     19636948   \n",
       "\n",
       "                                               src_tweet  \\\n",
       "0      Ottawa police are confirming a shooting at the...   \n",
       "50     Passersby working on shooting victim. From the...   \n",
       "65     Shooting at the war memorial in Ottawa. http:/...   \n",
       "87     After today we will officially be done shootin...   \n",
       "106    KEY: Nothing in Wilson's story in new autopsy ...   \n",
       "...                                                  ...   \n",
       "11328  ***EXCLUSIVE*** Michael Zahaf-Bibeau caught on...   \n",
       "11331  And this is Cpl. Nathan Cirillo, the brave #Ca...   \n",
       "11350  Rest in Peace, Cpl. Nathan Cirillo. Killed tod...   \n",
       "11363  Watch live: PM Stephen Harper expected to spea...   \n",
       "11374  This photo, reported to be of suspected Ottawa...   \n",
       "\n",
       "                             src_date  label  \n",
       "0      Wed Oct 22 13:55:50 +0000 2014      0  \n",
       "50     Wed Oct 22 13:57:31 +0000 2014      0  \n",
       "65     Wed Oct 22 14:00:05 +0000 2014      0  \n",
       "87     Wed Oct 22 14:01:06 +0000 2014      0  \n",
       "106    Wed Oct 22 14:06:06 +0000 2014      0  \n",
       "...                               ...    ...  \n",
       "11328  Wed Oct 22 23:39:19 +0000 2014      1  \n",
       "11331  Wed Oct 22 23:47:20 +0000 2014      1  \n",
       "11350  Wed Oct 22 23:49:06 +0000 2014      1  \n",
       "11363  Wed Oct 22 23:50:08 +0000 2014      1  \n",
       "11374  Wed Oct 22 23:55:12 +0000 2014      1  \n",
       "\n",
       "[857 rows x 5 columns]"
      ]
     },
     "execution_count": 28,
     "metadata": {},
     "output_type": "execute_result"
    }
   ],
   "source": [
    "src_tw_df = df.iloc[:,[0,1,2,3,8]].copy()\n",
    "src_tw_df = src_tw_df.drop_duplicates()\n",
    "src_tw_df"
   ]
  },
  {
   "cell_type": "markdown",
   "id": "mental-blowing",
   "metadata": {},
   "source": [
    "## Prepocessing\n",
    "- Define function to process text at one time"
   ]
  },
  {
   "cell_type": "code",
   "execution_count": 29,
   "id": "north-castle",
   "metadata": {},
   "outputs": [],
   "source": [
    "def textprocessing(text):\n",
    "    text = text.lower()\n",
    "\n",
    "    text = \" \".join([word for word in text.split() if 'http' not in word\n",
    "                                and not word.startswith('@')])\n",
    "                                #and word != 'RT'])\n",
    "    import re\n",
    "    def remove_punct(tweet):\n",
    "        new_words = []\n",
    "        for word in tweet:\n",
    "            w = re.sub(r'[^\\w\\s]','',word) #remove everything except words and space\n",
    "            w = re.sub(r'_','',w) #how to remove underscore as well\n",
    "            new_words.append(w)\n",
    "\n",
    "        return new_words\n",
    "    text = \"\".join(remove_punct(text))\n",
    "          \n",
    "    from nltk.tokenize import TweetTokenizer\n",
    "    tknzr = TweetTokenizer(strip_handles=True)\n",
    "    text = tknzr.tokenize(text)\n",
    "    \n",
    "    from nltk.stem.porter import PorterStemmer\n",
    "    stem = PorterStemmer()\n",
    "    text = [stem.stem(i) for i in text]\n",
    "    \n",
    "    from nltk.corpus import stopwords\n",
    "    stop_words=set(stopwords.words(\"english\"))\n",
    "    def filterstopwords(tw):\n",
    "        filter_stopwords = []\n",
    "        for w in tw:\n",
    "            if w not in stop_words:\n",
    "                filter_stopwords.append(w)\n",
    "        return filter_stopwords\n",
    "    text = filterstopwords(text)\n",
    "    text = \" \".join(text)\n",
    "    \n",
    "    return text"
   ]
  },
  {
   "cell_type": "code",
   "execution_count": 30,
   "id": "cleared-wealth",
   "metadata": {},
   "outputs": [
    {
     "name": "stdout",
     "output_type": "stream",
     "text": [
      "original text:  @StephBerthomet @en_passant_la Sauf que ça c'est retrouver partout bien avant d'être confirmé. Bien triste nouvelle au final.\n",
      "cleaned text:  sauf que ça cest retrouv partout bien avant dêtre confirmé bien trist nouvel au final\n"
     ]
    }
   ],
   "source": [
    "print(\"original text: \", df.reply_tweet.iloc[20])\n",
    "print(\"cleaned text: \", textprocessing(df.reply_tweet.iloc[20]))"
   ]
  },
  {
   "cell_type": "markdown",
   "id": "logical-harvard",
   "metadata": {},
   "source": [
    "### applied on original data (**df**)"
   ]
  },
  {
   "cell_type": "code",
   "execution_count": 31,
   "id": "shaped-supervision",
   "metadata": {},
   "outputs": [],
   "source": [
    "df['cleaned_src_tw'] = df.src_tweet.apply(textprocessing)\n",
    "df['cleaned_reply_tw'] = df.reply_tweet.apply(textprocessing)"
   ]
  },
  {
   "cell_type": "code",
   "execution_count": 32,
   "id": "conditional-angle",
   "metadata": {},
   "outputs": [
    {
     "data": {
      "text/html": [
       "<div>\n",
       "<style scoped>\n",
       "    .dataframe tbody tr th:only-of-type {\n",
       "        vertical-align: middle;\n",
       "    }\n",
       "\n",
       "    .dataframe tbody tr th {\n",
       "        vertical-align: top;\n",
       "    }\n",
       "\n",
       "    .dataframe thead th {\n",
       "        text-align: right;\n",
       "    }\n",
       "</style>\n",
       "<table border=\"1\" class=\"dataframe\">\n",
       "  <thead>\n",
       "    <tr style=\"text-align: right;\">\n",
       "      <th></th>\n",
       "      <th>src_tweet_id</th>\n",
       "      <th>src_user_id</th>\n",
       "      <th>src_tweet</th>\n",
       "      <th>src_date</th>\n",
       "      <th>reply_tweet_id</th>\n",
       "      <th>reply_user_id</th>\n",
       "      <th>reply_tweet</th>\n",
       "      <th>reply_date</th>\n",
       "      <th>label</th>\n",
       "      <th>cleaned_src_tw</th>\n",
       "      <th>cleaned_reply_tw</th>\n",
       "    </tr>\n",
       "  </thead>\n",
       "  <tbody>\n",
       "    <tr>\n",
       "      <th>0</th>\n",
       "      <td>524922078638903296</td>\n",
       "      <td>18999969</td>\n",
       "      <td>Ottawa police are confirming a shooting at the...</td>\n",
       "      <td>Wed Oct 22 13:55:50 +0000 2014</td>\n",
       "      <td>524922392582586368</td>\n",
       "      <td>2433907530</td>\n",
       "      <td>.@dominiquehardy @CBCOttawa related to St-Jean ?</td>\n",
       "      <td>Wed Oct 22 13:57:05 +0000 2014</td>\n",
       "      <td>0</td>\n",
       "      <td>ottawa polic confirm shoot war memori minut ag...</td>\n",
       "      <td>dominiquehardi relat stjean</td>\n",
       "    </tr>\n",
       "    <tr>\n",
       "      <th>1</th>\n",
       "      <td>524922078638903296</td>\n",
       "      <td>18999969</td>\n",
       "      <td>Ottawa police are confirming a shooting at the...</td>\n",
       "      <td>Wed Oct 22 13:55:50 +0000 2014</td>\n",
       "      <td>524922589861658624</td>\n",
       "      <td>15816550</td>\n",
       "      <td>@petitmetroide @CBCOttawa Il est tôt pour une ...</td>\n",
       "      <td>Wed Oct 22 13:57:52 +0000 2014</td>\n",
       "      <td>0</td>\n",
       "      <td>ottawa polic confirm shoot war memori minut ag...</td>\n",
       "      <td>il est tôt pour une quelconqu hypothès</td>\n",
       "    </tr>\n",
       "    <tr>\n",
       "      <th>2</th>\n",
       "      <td>524922078638903296</td>\n",
       "      <td>18999969</td>\n",
       "      <td>Ottawa police are confirming a shooting at the...</td>\n",
       "      <td>Wed Oct 22 13:55:50 +0000 2014</td>\n",
       "      <td>524922681595269120</td>\n",
       "      <td>1206639234</td>\n",
       "      <td>Prudence avant d'en savoir plus “@CBCOttawa: O...</td>\n",
       "      <td>Wed Oct 22 13:58:14 +0000 2014</td>\n",
       "      <td>0</td>\n",
       "      <td>ottawa polic confirm shoot war memori minut ag...</td>\n",
       "      <td>prudenc avant den savoir plu cbcottawa ottawa ...</td>\n",
       "    </tr>\n",
       "    <tr>\n",
       "      <th>3</th>\n",
       "      <td>524922078638903296</td>\n",
       "      <td>18999969</td>\n",
       "      <td>Ottawa police are confirming a shooting at the...</td>\n",
       "      <td>Wed Oct 22 13:55:50 +0000 2014</td>\n",
       "      <td>524923071090917376</td>\n",
       "      <td>347531577</td>\n",
       "      <td>@StephBerthomet Ça va être rapporté partout sa...</td>\n",
       "      <td>Wed Oct 22 13:59:47 +0000 2014</td>\n",
       "      <td>0</td>\n",
       "      <td>ottawa polic confirm shoot war memori minut ag...</td>\n",
       "      <td>ça va être rapporté partout san validationsur ...</td>\n",
       "    </tr>\n",
       "    <tr>\n",
       "      <th>4</th>\n",
       "      <td>524922078638903296</td>\n",
       "      <td>18999969</td>\n",
       "      <td>Ottawa police are confirming a shooting at the...</td>\n",
       "      <td>Wed Oct 22 13:55:50 +0000 2014</td>\n",
       "      <td>524923096911052802</td>\n",
       "      <td>96146974</td>\n",
       "      <td>“@CBCOttawa: Ottawa police are confirming a sh...</td>\n",
       "      <td>Wed Oct 22 13:59:53 +0000 2014</td>\n",
       "      <td>0</td>\n",
       "      <td>ottawa polic confirm shoot war memori minut ag...</td>\n",
       "      <td>cbcottawa ottawa polic confirm shoot war memor...</td>\n",
       "    </tr>\n",
       "  </tbody>\n",
       "</table>\n",
       "</div>"
      ],
      "text/plain": [
       "         src_tweet_id  src_user_id  \\\n",
       "0  524922078638903296     18999969   \n",
       "1  524922078638903296     18999969   \n",
       "2  524922078638903296     18999969   \n",
       "3  524922078638903296     18999969   \n",
       "4  524922078638903296     18999969   \n",
       "\n",
       "                                           src_tweet  \\\n",
       "0  Ottawa police are confirming a shooting at the...   \n",
       "1  Ottawa police are confirming a shooting at the...   \n",
       "2  Ottawa police are confirming a shooting at the...   \n",
       "3  Ottawa police are confirming a shooting at the...   \n",
       "4  Ottawa police are confirming a shooting at the...   \n",
       "\n",
       "                         src_date      reply_tweet_id  reply_user_id  \\\n",
       "0  Wed Oct 22 13:55:50 +0000 2014  524922392582586368     2433907530   \n",
       "1  Wed Oct 22 13:55:50 +0000 2014  524922589861658624       15816550   \n",
       "2  Wed Oct 22 13:55:50 +0000 2014  524922681595269120     1206639234   \n",
       "3  Wed Oct 22 13:55:50 +0000 2014  524923071090917376      347531577   \n",
       "4  Wed Oct 22 13:55:50 +0000 2014  524923096911052802       96146974   \n",
       "\n",
       "                                         reply_tweet  \\\n",
       "0   .@dominiquehardy @CBCOttawa related to St-Jean ?   \n",
       "1  @petitmetroide @CBCOttawa Il est tôt pour une ...   \n",
       "2  Prudence avant d'en savoir plus “@CBCOttawa: O...   \n",
       "3  @StephBerthomet Ça va être rapporté partout sa...   \n",
       "4  “@CBCOttawa: Ottawa police are confirming a sh...   \n",
       "\n",
       "                       reply_date  label  \\\n",
       "0  Wed Oct 22 13:57:05 +0000 2014      0   \n",
       "1  Wed Oct 22 13:57:52 +0000 2014      0   \n",
       "2  Wed Oct 22 13:58:14 +0000 2014      0   \n",
       "3  Wed Oct 22 13:59:47 +0000 2014      0   \n",
       "4  Wed Oct 22 13:59:53 +0000 2014      0   \n",
       "\n",
       "                                      cleaned_src_tw  \\\n",
       "0  ottawa polic confirm shoot war memori minut ag...   \n",
       "1  ottawa polic confirm shoot war memori minut ag...   \n",
       "2  ottawa polic confirm shoot war memori minut ag...   \n",
       "3  ottawa polic confirm shoot war memori minut ag...   \n",
       "4  ottawa polic confirm shoot war memori minut ag...   \n",
       "\n",
       "                                    cleaned_reply_tw  \n",
       "0                        dominiquehardi relat stjean  \n",
       "1             il est tôt pour une quelconqu hypothès  \n",
       "2  prudenc avant den savoir plu cbcottawa ottawa ...  \n",
       "3  ça va être rapporté partout san validationsur ...  \n",
       "4  cbcottawa ottawa polic confirm shoot war memor...  "
      ]
     },
     "execution_count": 32,
     "metadata": {},
     "output_type": "execute_result"
    }
   ],
   "source": [
    "df.head()"
   ]
  },
  {
   "cell_type": "markdown",
   "id": "jewish-dakota",
   "metadata": {},
   "source": [
    "### applied on source tweet data (**src_tw_df**) "
   ]
  },
  {
   "cell_type": "code",
   "execution_count": 33,
   "id": "organized-delaware",
   "metadata": {},
   "outputs": [],
   "source": [
    "src_tw_df['cleaned_src_tw'] = src_tw_df.src_tweet.apply(textprocessing)"
   ]
  },
  {
   "cell_type": "markdown",
   "id": "apart-adjustment",
   "metadata": {},
   "source": [
    "## Sentiment Analysis"
   ]
  },
  {
   "cell_type": "code",
   "execution_count": 34,
   "id": "original-deposit",
   "metadata": {},
   "outputs": [],
   "source": [
    "from vaderSentiment.vaderSentiment import SentimentIntensityAnalyzer"
   ]
  },
  {
   "cell_type": "code",
   "execution_count": 35,
   "id": "vietnamese-weekend",
   "metadata": {},
   "outputs": [],
   "source": [
    "def get_sentiment(tweet):\n",
    "    analyzer = SentimentIntensityAnalyzer()\n",
    "    vs = analyzer.polarity_scores(tweet)\n",
    "    if vs['compound'] >=0.05:\n",
    "        sentiment_label = 'Positive'\n",
    "    elif (vs['compound'] > -0.05) & (vs['compound'] < 0.05):\n",
    "        sentiment_label = 'Neutral'\n",
    "    elif vs['compound']<= -0.05:\n",
    "        sentiment_label = 'Negative' \n",
    "    result = sentiment_label\n",
    "    return result"
   ]
  },
  {
   "cell_type": "markdown",
   "id": "pending-absorption",
   "metadata": {},
   "source": [
    "### applied on original df"
   ]
  },
  {
   "cell_type": "code",
   "execution_count": 36,
   "id": "accepted-collaboration",
   "metadata": {},
   "outputs": [],
   "source": [
    "df['src_sentiment']= df.cleaned_src_tw.apply(get_sentiment)\n",
    "df['reply_sentiment']= df.cleaned_reply_tw.apply(get_sentiment)"
   ]
  },
  {
   "cell_type": "code",
   "execution_count": 37,
   "id": "dimensional-finger",
   "metadata": {},
   "outputs": [
    {
     "data": {
      "text/html": [
       "<div>\n",
       "<style scoped>\n",
       "    .dataframe tbody tr th:only-of-type {\n",
       "        vertical-align: middle;\n",
       "    }\n",
       "\n",
       "    .dataframe tbody tr th {\n",
       "        vertical-align: top;\n",
       "    }\n",
       "\n",
       "    .dataframe thead th {\n",
       "        text-align: right;\n",
       "    }\n",
       "</style>\n",
       "<table border=\"1\" class=\"dataframe\">\n",
       "  <thead>\n",
       "    <tr style=\"text-align: right;\">\n",
       "      <th></th>\n",
       "      <th>src_tweet_id</th>\n",
       "      <th>src_user_id</th>\n",
       "      <th>src_tweet</th>\n",
       "      <th>src_date</th>\n",
       "      <th>reply_tweet_id</th>\n",
       "      <th>reply_user_id</th>\n",
       "      <th>reply_tweet</th>\n",
       "      <th>reply_date</th>\n",
       "      <th>label</th>\n",
       "      <th>cleaned_src_tw</th>\n",
       "      <th>cleaned_reply_tw</th>\n",
       "      <th>src_sentiment</th>\n",
       "      <th>reply_sentiment</th>\n",
       "    </tr>\n",
       "  </thead>\n",
       "  <tbody>\n",
       "    <tr>\n",
       "      <th>0</th>\n",
       "      <td>524922078638903296</td>\n",
       "      <td>18999969</td>\n",
       "      <td>Ottawa police are confirming a shooting at the...</td>\n",
       "      <td>Wed Oct 22 13:55:50 +0000 2014</td>\n",
       "      <td>524922392582586368</td>\n",
       "      <td>2433907530</td>\n",
       "      <td>.@dominiquehardy @CBCOttawa related to St-Jean ?</td>\n",
       "      <td>Wed Oct 22 13:57:05 +0000 2014</td>\n",
       "      <td>0</td>\n",
       "      <td>ottawa polic confirm shoot war memori minut ag...</td>\n",
       "      <td>dominiquehardi relat stjean</td>\n",
       "      <td>Negative</td>\n",
       "      <td>Neutral</td>\n",
       "    </tr>\n",
       "  </tbody>\n",
       "</table>\n",
       "</div>"
      ],
      "text/plain": [
       "         src_tweet_id  src_user_id  \\\n",
       "0  524922078638903296     18999969   \n",
       "\n",
       "                                           src_tweet  \\\n",
       "0  Ottawa police are confirming a shooting at the...   \n",
       "\n",
       "                         src_date      reply_tweet_id  reply_user_id  \\\n",
       "0  Wed Oct 22 13:55:50 +0000 2014  524922392582586368     2433907530   \n",
       "\n",
       "                                        reply_tweet  \\\n",
       "0  .@dominiquehardy @CBCOttawa related to St-Jean ?   \n",
       "\n",
       "                       reply_date  label  \\\n",
       "0  Wed Oct 22 13:57:05 +0000 2014      0   \n",
       "\n",
       "                                      cleaned_src_tw  \\\n",
       "0  ottawa polic confirm shoot war memori minut ag...   \n",
       "\n",
       "              cleaned_reply_tw src_sentiment reply_sentiment  \n",
       "0  dominiquehardi relat stjean      Negative         Neutral  "
      ]
     },
     "execution_count": 37,
     "metadata": {},
     "output_type": "execute_result"
    }
   ],
   "source": [
    "df.head(1)"
   ]
  },
  {
   "cell_type": "markdown",
   "id": "played-offering",
   "metadata": {},
   "source": [
    "### applied on source tweet data only "
   ]
  },
  {
   "cell_type": "code",
   "execution_count": 38,
   "id": "wanted-mitchell",
   "metadata": {},
   "outputs": [],
   "source": [
    "### source tweet data only \n",
    "src_tw_df['src_sentiment']=  src_tw_df['cleaned_src_tw'].apply(get_sentiment)"
   ]
  },
  {
   "cell_type": "markdown",
   "id": "spatial-upper",
   "metadata": {},
   "source": [
    "### Visualization"
   ]
  },
  {
   "cell_type": "code",
   "execution_count": null,
   "id": "senior-blank",
   "metadata": {},
   "outputs": [],
   "source": [
    "print(df[df.label ==1]['reply_sentiment'].value_counts())\n",
    "plt.figure(figsize=(8,6))\n",
    "sns.countplot(x='reply_sentiment',data= df[df['label'] == 1])\n",
    "\n",
    "plt.suptitle('Sentiment analysis on Reply tweets under Catergory Rumour',fontsize=16)\n",
    "plt.title('Reply tweets show more positive attitude towards rumour tweet',fontsize=12,color='grey')\n",
    "plt.savefig('graph/ottawashooting/senti_reply_rumour.pdf',dpi=300)"
   ]
  },
  {
   "cell_type": "code",
   "execution_count": null,
   "id": "asian-architecture",
   "metadata": {},
   "outputs": [],
   "source": [
    "print(df[df.label ==0]['reply_sentiment'].value_counts())\n",
    "plt.figure(figsize=(8,6))\n",
    "sns.countplot(x='reply_sentiment',data= df[df['label'] == 0])\n",
    "\n",
    "plt.suptitle('Sentiment analysis on Reply tweets under Catergory Non-Rumour',fontsize=16)\n",
    "plt.title('Reply tweets show more neutrual attitude towards non-rumour tweet',fontsize=12,color='grey')\n",
    "plt.savefig('graph/ottawashooting/senti_reply_nonrumour.pdf',dpi=300)"
   ]
  },
  {
   "cell_type": "code",
   "execution_count": null,
   "id": "substantial-lebanon",
   "metadata": {},
   "outputs": [],
   "source": [
    "print(src_tw_df['src_sentiment'].value_counts())\n",
    "sns.countplot(x='src_sentiment',data =src_tw_df,hue='label')\n",
    "\n",
    "plt.suptitle('Sentiment analysis on Source Tweets',fontsize=16)\n",
    "plt.title('Rumour source tweets show more neutral attitude.',fontsize=12,color='grey')\n",
    "plt.savefig('graph/ottawashooting/senti_source.pdf',dpi=300)"
   ]
  },
  {
   "cell_type": "markdown",
   "id": "mounted-indiana",
   "metadata": {},
   "source": [
    "### save data to csv "
   ]
  },
  {
   "cell_type": "code",
   "execution_count": null,
   "id": "characteristic-parliament",
   "metadata": {},
   "outputs": [],
   "source": [
    "# df.to_csv(r'D:\\論文\\PHEME9\\Data\\CSV\\ottawashooting-df.csv',index=False)\n",
    "src_tw_df.to_csv(r'D:\\論文\\PHEME9\\Data\\CSV\\ottawashooting-src.csv',index=False)"
   ]
  },
  {
   "cell_type": "markdown",
   "id": "personal-rescue",
   "metadata": {},
   "source": [
    "## Keywords Extraction\n",
    "### WordCloud"
   ]
  },
  {
   "cell_type": "code",
   "execution_count": null,
   "id": "bearing-catalyst",
   "metadata": {},
   "outputs": [],
   "source": [
    "from wordcloud import WordCloud"
   ]
  },
  {
   "cell_type": "code",
   "execution_count": null,
   "id": "aging-voltage",
   "metadata": {},
   "outputs": [],
   "source": [
    "plt.figure(figsize=(20,10))\n",
    "mywordcloud = WordCloud().generate(docx)\n",
    "plt.imshow(mywordcloud,interpolation='bilinear')\n",
    "plt.axis('off')\n",
    "plt.show()"
   ]
  },
  {
   "cell_type": "markdown",
   "id": "spread-blank",
   "metadata": {},
   "source": [
    "#### Reply Tweets"
   ]
  },
  {
   "cell_type": "code",
   "execution_count": null,
   "id": "loaded-beads",
   "metadata": {},
   "outputs": [],
   "source": [
    "#nltk.download('punkt')\n",
    "from nltk.tokenize import word_tokenize"
   ]
  },
  {
   "cell_type": "code",
   "execution_count": null,
   "id": "sustained-albuquerque",
   "metadata": {},
   "outputs": [],
   "source": [
    "reply_sen = df.cleaned_reply_tw.apply(word_tokenize)\n",
    "reply_tw_list = []\n",
    "for sen in reply_sen:\n",
    "    for token in sen:\n",
    "        reply_tw_list.append(token)\n",
    "reply_tw_doc = \" \".join(reply_tw_list)"
   ]
  },
  {
   "cell_type": "code",
   "execution_count": null,
   "id": "herbal-dominican",
   "metadata": {},
   "outputs": [],
   "source": [
    "plt.figure(figsize=(20,10))\n",
    "mywordcloud = WordCloud().generate(reply_tw_doc)\n",
    "plt.imshow(mywordcloud,interpolation='bilinear')\n",
    "plt.axis('off')\n",
    "plt.show()\n",
    "mywordcloud.to_file('graph/ottawashooting/wordcloud_reply.pdf')"
   ]
  },
  {
   "cell_type": "code",
   "execution_count": null,
   "id": "convinced-grounds",
   "metadata": {},
   "outputs": [],
   "source": [
    "# positive \n",
    "posi_reply_sen = df[df.reply_sentiment=='Positive'].cleaned_reply_tw.apply(word_tokenize)\n",
    "posi_reply_tw_list = []\n",
    "for sen in posi_reply_sen:\n",
    "    for token in sen:\n",
    "        posi_reply_tw_list.append(token)\n",
    "posi_reply_tw_doc = \" \".join(posi_reply_tw_list)\n"
   ]
  },
  {
   "cell_type": "code",
   "execution_count": null,
   "id": "discrete-variation",
   "metadata": {},
   "outputs": [],
   "source": [
    "plt.figure(figsize=(20,10))\n",
    "mywordcloud = WordCloud().generate(posi_reply_tw_doc)\n",
    "plt.imshow(mywordcloud,interpolation='bilinear')\n",
    "plt.axis('off')\n",
    "plt.show()\n",
    "mywordcloud.to_file('graph/ottawashooting/wordcloud_reply_posi.pdf')"
   ]
  },
  {
   "cell_type": "markdown",
   "id": "turned-agenda",
   "metadata": {},
   "source": [
    "#### Source Tweet"
   ]
  },
  {
   "cell_type": "code",
   "execution_count": null,
   "id": "physical-disability",
   "metadata": {},
   "outputs": [],
   "source": [
    "src_sen = src_tw_df.cleaned_src_tw.apply(word_tokenize)\n",
    "src_tw_list = []\n",
    "for sen in src_sen:\n",
    "    for token in sen:\n",
    "        src_tw_list.append(token)\n",
    "\n",
    "src_tw_doc = \" \".join(src_tw_list)"
   ]
  },
  {
   "cell_type": "code",
   "execution_count": null,
   "id": "excited-schedule",
   "metadata": {},
   "outputs": [],
   "source": [
    "plt.figure(figsize=(20,10))\n",
    "mywordcloud = WordCloud().generate(src_tw_doc)\n",
    "plt.imshow(mywordcloud,interpolation='bilinear')\n",
    "plt.axis('off')\n",
    "plt.show()\n",
    "mywordcloud.to_file('graph/ottawashooting/wordcloud_src.pdf')"
   ]
  },
  {
   "cell_type": "markdown",
   "id": "athletic-marker",
   "metadata": {},
   "source": [
    "### Common"
   ]
  },
  {
   "cell_type": "code",
   "execution_count": null,
   "id": "developmental-journalist",
   "metadata": {},
   "outputs": [],
   "source": [
    "from collections import Counter"
   ]
  },
  {
   "cell_type": "code",
   "execution_count": null,
   "id": "premium-trout",
   "metadata": {},
   "outputs": [],
   "source": [
    "def get_tokens(docx,num=30):\n",
    "    word_tokens = Counter(docx)\n",
    "    most_common = word_tokens.most_common(num)\n",
    "    result = dict(most_common)\n",
    "    return result"
   ]
  },
  {
   "cell_type": "code",
   "execution_count": null,
   "id": "double-ensemble",
   "metadata": {},
   "outputs": [],
   "source": [
    "pd.DataFrame(get_tokens(reply_tw_list).items(),columns=['word','freq']).plot(kind='bar',x='word',y='freq')\n",
    "plt.title(\"Most frequent words among reply tweets are 'Prince','show','tonight'.\")"
   ]
  },
  {
   "cell_type": "code",
   "execution_count": null,
   "id": "light-cleaning",
   "metadata": {},
   "outputs": [],
   "source": [
    "pd.DataFrame(get_tokens(src_tw_list).items(),columns=['word','freq']).plot(kind='bar',x='word',y='freq')\n",
    "plt.title(\"Most frequent words among source tweets are 'Price', 'show', 'tonight'\")\n"
   ]
  },
  {
   "cell_type": "markdown",
   "id": "optimum-manhattan",
   "metadata": {},
   "source": [
    "## Emotion Detection"
   ]
  },
  {
   "cell_type": "markdown",
   "id": "guilty-george",
   "metadata": {},
   "source": [
    "### text2emotion package\n",
    "https://snyk.io/advisor/python/text2emotion "
   ]
  },
  {
   "cell_type": "code",
   "execution_count": 39,
   "id": "powered-constitutional",
   "metadata": {},
   "outputs": [],
   "source": [
    "import text2emotion as te"
   ]
  },
  {
   "cell_type": "code",
   "execution_count": 40,
   "id": "august-pakistan",
   "metadata": {},
   "outputs": [],
   "source": [
    "emotion = df.cleaned_reply_tw.apply(te.get_emotion)"
   ]
  },
  {
   "cell_type": "code",
   "execution_count": 46,
   "id": "focal-apartment",
   "metadata": {},
   "outputs": [],
   "source": [
    "emo = emotion.apply(lambda x: max(x,key=x.get))\n",
    "df['reply_emotion']=emo"
   ]
  },
  {
   "cell_type": "code",
   "execution_count": 47,
   "id": "stupid-knight",
   "metadata": {},
   "outputs": [],
   "source": [
    "df.to_csv(r'D:\\論文\\PHEME9\\Data\\CSV\\ottawashooting-df.csv',index=False)"
   ]
  },
  {
   "cell_type": "code",
   "execution_count": 48,
   "id": "breeding-prescription",
   "metadata": {},
   "outputs": [],
   "source": [
    "emotion1 = src_tw_df.cleaned_src_tw.apply(te.get_emotion)\n",
    "emo1 = emotion.apply(lambda x: max(x,key=x.get))\n",
    "src_tw_df['src_emotion']=emo1"
   ]
  },
  {
   "cell_type": "code",
   "execution_count": 49,
   "id": "artistic-oxide",
   "metadata": {},
   "outputs": [],
   "source": [
    "src_tw_df.to_csv(r'D:\\論文\\PHEME9\\Data\\CSV\\ottawashooting-src.csv',index=False)"
   ]
  },
  {
   "cell_type": "code",
   "execution_count": 45,
   "id": "urban-floor",
   "metadata": {},
   "outputs": [],
   "source": [
    "src_tw_df_1 = pd.read_csv(r'D:\\論文\\PHEME9\\Data\\CSV\\ottawashooting-src.csv', encoding = 'utf-8', header =0)"
   ]
  },
  {
   "cell_type": "code",
   "execution_count": null,
   "id": "dominant-council",
   "metadata": {},
   "outputs": [],
   "source": []
  }
 ],
 "metadata": {
  "kernelspec": {
   "display_name": "Python 3",
   "language": "python",
   "name": "python3"
  },
  "language_info": {
   "codemirror_mode": {
    "name": "ipython",
    "version": 3
   },
   "file_extension": ".py",
   "mimetype": "text/x-python",
   "name": "python",
   "nbconvert_exporter": "python",
   "pygments_lexer": "ipython3",
   "version": "3.9.1"
  },
  "toc-autonumbering": true,
  "toc-showmarkdowntxt": false
 },
 "nbformat": 4,
 "nbformat_minor": 5
}
