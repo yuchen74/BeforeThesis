{
 "cells": [
  {
   "cell_type": "markdown",
   "id": "undefined-encounter",
   "metadata": {},
   "source": [
    "# Dataset: *ottawashooting*"
   ]
  },
  {
   "cell_type": "markdown",
   "id": "signed-north",
   "metadata": {},
   "source": [
    "- df.to_csv(r'D:\\論文\\PHEME9\\Data\\CSV\\ottawashooting-df.csv',index=False)\n",
    "- src_tw_df.to_csv(r'D:\\論文\\PHEME9\\Data\\CSV\\ottawashooting-src.csv',index=False)"
   ]
  },
  {
   "cell_type": "code",
   "execution_count": 1,
   "id": "absolute-pocket",
   "metadata": {},
   "outputs": [],
   "source": [
    "import numpy as np\n",
    "import pandas as pd\n",
    "import datetime \n",
    "import matplotlib.pyplot as plt\n",
    "import seaborn as sns"
   ]
  },
  {
   "cell_type": "code",
   "execution_count": 2,
   "id": "approved-guyana",
   "metadata": {},
   "outputs": [],
   "source": [
    "df = pd.read_csv(r'D:\\論文\\PHEME9\\Data\\CSV\\ottawashooting-df.csv', encoding = 'utf-8', header = 0)\n",
    "df.dropna(inplace = True)\n",
    "df.reset_index(drop=True,inplace=True)\n",
    "src_tw_df = pd.read_csv(r'D:\\論文\\PHEME9\\Data\\CSV\\ottawashooting-src.csv', encoding = 'utf-8', header =0)"
   ]
  },
  {
   "cell_type": "markdown",
   "id": "lesbian-uncle",
   "metadata": {},
   "source": [
    "## Emotion Analysis"
   ]
  },
  {
   "cell_type": "markdown",
   "id": "speaking-amazon",
   "metadata": {},
   "source": [
    "### T5 Based\n",
    "<https://huggingface.co/mrm8488/t5-base-finetuned-emotion?text=I+wish+you+were+here+but+it+is+impossible>"
   ]
  },
  {
   "cell_type": "code",
   "execution_count": 3,
   "id": "consolidated-leisure",
   "metadata": {},
   "outputs": [
    {
     "name": "stdout",
     "output_type": "stream",
     "text": [
      "INFO:tensorflow:Enabling eager execution\n",
      "INFO:tensorflow:Enabling v2 tensorshape\n",
      "INFO:tensorflow:Enabling resource variables\n",
      "INFO:tensorflow:Enabling tensor equality\n",
      "INFO:tensorflow:Enabling control flow v2\n"
     ]
    }
   ],
   "source": [
    "from transformers import AutoTokenizer, AutoModelWithLMHead, AutoModelForSequenceClassification"
   ]
  },
  {
   "cell_type": "code",
   "execution_count": 4,
   "id": "recorded-teddy",
   "metadata": {},
   "outputs": [
    {
     "name": "stderr",
     "output_type": "stream",
     "text": [
      "c:\\users\\user\\appdata\\local\\programs\\python\\python39\\lib\\site-packages\\transformers\\models\\auto\\modeling_auto.py:694: FutureWarning: The class `AutoModelWithLMHead` is deprecated and will be removed in a future version. Please use `AutoModelForCausalLM` for causal language models, `AutoModelForMaskedLM` for masked language models and `AutoModelForSeq2SeqLM` for encoder-decoder models.\n",
      "  warnings.warn(\n"
     ]
    }
   ],
   "source": [
    "t5_tokenizer = AutoTokenizer.from_pretrained(\"mrm8488/t5-base-finetuned-emotion\",use_fast=False)\n",
    "t5_model = AutoModelWithLMHead.from_pretrained(\"mrm8488/t5-base-finetuned-emotion\")\n",
    "\n",
    "\n",
    "\n",
    "def get_emotion_t5(text):\n",
    "    input_ids = t5_tokenizer.encode(text , return_tensors='pt')\n",
    "    output = t5_model.generate(input_ids=input_ids,max_length=2)\n",
    "  \n",
    "    dec = [t5_tokenizer.decode(ids) for ids in output]\n",
    "    label = dec[0]\n",
    "    return label"
   ]
  },
  {
   "cell_type": "code",
   "execution_count": 5,
   "id": "ignored-calcium",
   "metadata": {},
   "outputs": [],
   "source": [
    "emotion_t5 = df.cleaned_reply_tw.apply(get_emotion_t5)"
   ]
  },
  {
   "cell_type": "code",
   "execution_count": 6,
   "id": "hindu-kruger",
   "metadata": {},
   "outputs": [],
   "source": [
    "df['reply_emo_t5'] = emotion_t5"
   ]
  },
  {
   "cell_type": "code",
   "execution_count": 7,
   "id": "final-purchase",
   "metadata": {},
   "outputs": [],
   "source": [
    "import re\n",
    "df['reply_emo_t5'] = df['reply_emo_t5'].apply(lambda x : re.sub('<pad> ',\"\",x))"
   ]
  },
  {
   "cell_type": "code",
   "execution_count": 8,
   "id": "accepting-huntington",
   "metadata": {},
   "outputs": [],
   "source": [
    "src_emo_t5 = src_tw_df.cleaned_src_tw.astype(str).apply(get_emotion_t5)\n",
    "src_tw_df['src_emo_t5'] = src_emo_t5"
   ]
  },
  {
   "cell_type": "code",
   "execution_count": 9,
   "id": "differential-brooks",
   "metadata": {},
   "outputs": [],
   "source": [
    "src_tw_df['src_emo_t5']  = src_tw_df.src_emo_t5.apply(lambda x : re.sub('<pad> ',\"\",x))"
   ]
  },
  {
   "cell_type": "markdown",
   "id": "downtown-massage",
   "metadata": {},
   "source": [
    "### roBERTa-base model\n",
    "<https://huggingface.co/cardiffnlp/twitter-roberta-base-emotion>"
   ]
  },
  {
   "cell_type": "code",
   "execution_count": 10,
   "id": "trained-wrong",
   "metadata": {},
   "outputs": [],
   "source": [
    "import numpy as np\n",
    "from scipy.special import softmax\n",
    "\n",
    "task='emotion'\n",
    "MODEL = f\"cardiffnlp/twitter-roberta-base-{task}\"\n",
    "ro_tokenizer = AutoTokenizer.from_pretrained(MODEL)\n",
    "ro_model = AutoModelForSequenceClassification.from_pretrained(MODEL)\n"
   ]
  },
  {
   "cell_type": "code",
   "execution_count": 11,
   "id": "behind-sampling",
   "metadata": {},
   "outputs": [],
   "source": [
    "def get_emotion_roBERT(text):\n",
    "    \n",
    "    def preprocess(txt):\n",
    "        new_text = []\n",
    "        for t in txt.split(\" \"):\n",
    "            t = '@user' if t.startswith('@') and len(t) > 1 else t\n",
    "            t = 'http' if t.startswith('http') else t\n",
    "            new_text.append(t)\n",
    "        return \" \".join(new_text)\n",
    "    \n",
    "    labels = ['anger','joy','optimism','sadness']\n",
    "    text = preprocess(text)\n",
    "    encoded_input = ro_tokenizer(text, return_tensors='pt')\n",
    "    output = ro_model(**encoded_input)\n",
    "\n",
    "    scores = output[0][0].detach().numpy()\n",
    "    scores = softmax(scores)\n",
    "    ranking = np.argsort(scores)\n",
    "    ranking = ranking[::-1]\n",
    "    emo = labels[ranking[0]]\n",
    "    return emo"
   ]
  },
  {
   "cell_type": "code",
   "execution_count": 12,
   "id": "incorrect-deficit",
   "metadata": {},
   "outputs": [],
   "source": [
    "emotion_ro = df.cleaned_reply_tw.apply(get_emotion_roBERT)"
   ]
  },
  {
   "cell_type": "code",
   "execution_count": 13,
   "id": "everyday-landing",
   "metadata": {},
   "outputs": [],
   "source": [
    "df['reply_emo_ro'] = emotion_ro"
   ]
  },
  {
   "cell_type": "code",
   "execution_count": 14,
   "id": "similar-patch",
   "metadata": {},
   "outputs": [],
   "source": [
    "df.to_csv(r'D:\\論文\\PHEME9\\Data\\CSV\\ottawashooting-df-2.csv',index=False)"
   ]
  },
  {
   "cell_type": "code",
   "execution_count": 15,
   "id": "filled-seeker",
   "metadata": {},
   "outputs": [],
   "source": [
    "src_emo_ro = src_tw_df.cleaned_src_tw.astype(str).apply(get_emotion_roBERT)\n",
    "src_tw_df['src_emo_ro'] = src_emo_ro"
   ]
  },
  {
   "cell_type": "code",
   "execution_count": 16,
   "id": "checked-preservation",
   "metadata": {},
   "outputs": [],
   "source": [
    "src_tw_df.to_csv(r'D:\\論文\\PHEME9\\Data\\CSV\\ottawashooting-src-2.csv',index=False)"
   ]
  },
  {
   "cell_type": "markdown",
   "id": "hired-cheat",
   "metadata": {},
   "source": [
    " - robert : 'anger','joy','optimism','sadness'\n",
    " - t5: 'sadness', 'joy', 'love', 'anger', 'fear', 'surprise' \n",
    " - text2emotion: 'angry, 'fear', 'happy, 'sad', 'surprise'"
   ]
  },
  {
   "cell_type": "code",
   "execution_count": null,
   "id": "material-radical",
   "metadata": {},
   "outputs": [],
   "source": [
    "print('roBERT based: ',get_emotion_roBERT(df.reply_tweet[10]))\n",
    "print('t5 based: ',get_emotion_t5(df.reply_tweet[10]))\n",
    "print('lexicon based: ', df.reply_emotion[10]) #text2emotion"
   ]
  },
  {
   "cell_type": "code",
   "execution_count": null,
   "id": "sufficient-civilization",
   "metadata": {},
   "outputs": [],
   "source": [
    "print('roBERT based: ',get_emotion_roBERT(df.cleaned_reply_tw[10]))\n",
    "print('t5 based: ',get_emotion_t5(df.cleaned_reply_tw[10]))\n",
    "print('lexicon based: ', df.reply_emotion[10])"
   ]
  },
  {
   "cell_type": "code",
   "execution_count": null,
   "id": "cloudy-puzzle",
   "metadata": {},
   "outputs": [],
   "source": [
    "print(\"reply tweet: \", df.reply_tweet[10])\n",
    "print(\"cleaned reply tweet: \", df.cleaned_reply_tw[10])"
   ]
  },
  {
   "cell_type": "code",
   "execution_count": null,
   "id": "guilty-madonna",
   "metadata": {},
   "outputs": [],
   "source": []
  }
 ],
 "metadata": {
  "kernelspec": {
   "display_name": "Python 3",
   "language": "python",
   "name": "python3"
  },
  "language_info": {
   "codemirror_mode": {
    "name": "ipython",
    "version": 3
   },
   "file_extension": ".py",
   "mimetype": "text/x-python",
   "name": "python",
   "nbconvert_exporter": "python",
   "pygments_lexer": "ipython3",
   "version": "3.9.1"
  },
  "toc-autonumbering": true,
  "toc-showmarkdowntxt": false
 },
 "nbformat": 4,
 "nbformat_minor": 5
}
