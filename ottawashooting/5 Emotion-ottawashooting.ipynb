{
 "cells": [
  {
   "cell_type": "markdown",
   "id": "spare-transport",
   "metadata": {},
   "source": [
    "# Dataset: *ottawashooting*"
   ]
  },
  {
   "cell_type": "markdown",
   "id": "potential-accident",
   "metadata": {},
   "source": [
    "- df.to_csv(r'D:\\論文\\PHEME9\\Data\\CSV\\ottawashooting-df.csv',index=False)\n",
    "- src_tw_df.to_csv(r'D:\\論文\\PHEME9\\Data\\CSV\\ottawashooting-src.csv',index=False)"
   ]
  },
  {
   "cell_type": "code",
   "execution_count": 1,
   "id": "unlikely-suicide",
   "metadata": {},
   "outputs": [],
   "source": [
    "import numpy as np\n",
    "import pandas as pd\n",
    "import datetime \n",
    "import matplotlib.pyplot as plt\n",
    "import seaborn as sns"
   ]
  },
  {
   "cell_type": "code",
   "execution_count": 4,
   "id": "colonial-charter",
   "metadata": {},
   "outputs": [
    {
     "name": "stdout",
     "output_type": "stream",
     "text": [
      "INFO:tensorflow:Enabling eager execution\n",
      "INFO:tensorflow:Enabling v2 tensorshape\n",
      "INFO:tensorflow:Enabling resource variables\n",
      "INFO:tensorflow:Enabling tensor equality\n",
      "INFO:tensorflow:Enabling control flow v2\n"
     ]
    }
   ],
   "source": [
    "from transformers import AutoTokenizer, AutoModelWithLMHead, AutoModelForSequenceClassification"
   ]
  },
  {
   "cell_type": "code",
   "execution_count": 2,
   "id": "swiss-revolution",
   "metadata": {},
   "outputs": [],
   "source": [
    "df = pd.read_csv(r'D:\\論文\\PHEME9\\Data\\CSV\\ottawashooting-df.csv', encoding = 'utf-8', header = 0)\n",
    "src_tw_df = pd.read_csv(r'D:\\論文\\PHEME9\\Data\\CSV\\ottawashooting-src.csv', encoding = 'utf-8', header =0)\n",
    "print(df.shape)\n",
    "print(src_tw_df.shape)"
   ]
  },
  {
   "cell_type": "code",
   "execution_count": null,
   "id": "honest-wagner",
   "metadata": {},
   "outputs": [],
   "source": [
    "df.isnull().sum()"
   ]
  },
  {
   "cell_type": "code",
   "execution_count": null,
   "id": "addressed-attention",
   "metadata": {},
   "outputs": [],
   "source": [
    "df.dropna(inplace = True)\n",
    "df.reset_index(drop=True,inplace=True)"
   ]
  },
  {
   "cell_type": "code",
   "execution_count": null,
   "id": "northern-orleans",
   "metadata": {},
   "outputs": [],
   "source": [
    "src_tw_df.isnull().sum()"
   ]
  },
  {
   "cell_type": "code",
   "execution_count": 12,
   "id": "moderate-humanity",
   "metadata": {},
   "outputs": [
    {
     "data": {
      "text/plain": [
       "62     RT @ctvmercedes: Ottawa: don't tweet your loca...\n",
       "64     RT @bts_bighit: [Episode] #BTS 'War of Hormone...\n",
       "182    RT @scottbix: Incredible shot: A woman gives m...\n",
       "386    RT @cfedio: Being told at CBC Ottawa that \"sit...\n",
       "428    RT @WatchCTVNews: LIVE NOW: Cops swarm Parliam...\n",
       "515    RT @CBCOttawa: CONFIRMED | 1 shooter shot dead...\n",
       "747    RT @ArmedResearch:#ISIS Media account posts pi...\n",
       "Name: src_tweet, dtype: object"
      ]
     },
     "execution_count": 12,
     "metadata": {},
     "output_type": "execute_result"
    }
   ],
   "source": [
    "src_tw_df[src_tw_df.cleaned_src_tw.isnull()].src_tweet"
   ]
  },
  {
   "cell_type": "code",
   "execution_count": 13,
   "id": "offensive-significance",
   "metadata": {},
   "outputs": [
    {
     "data": {
      "text/html": [
       "<div>\n",
       "<style scoped>\n",
       "    .dataframe tbody tr th:only-of-type {\n",
       "        vertical-align: middle;\n",
       "    }\n",
       "\n",
       "    .dataframe tbody tr th {\n",
       "        vertical-align: top;\n",
       "    }\n",
       "\n",
       "    .dataframe thead th {\n",
       "        text-align: right;\n",
       "    }\n",
       "</style>\n",
       "<table border=\"1\" class=\"dataframe\">\n",
       "  <thead>\n",
       "    <tr style=\"text-align: right;\">\n",
       "      <th></th>\n",
       "      <th>reply_tweet</th>\n",
       "      <th>cleaned_reply_tw</th>\n",
       "    </tr>\n",
       "  </thead>\n",
       "  <tbody>\n",
       "    <tr>\n",
       "      <th>779</th>\n",
       "      <td>@CTVNews @CTVMercedes lol</td>\n",
       "      <td>lol</td>\n",
       "    </tr>\n",
       "    <tr>\n",
       "      <th>780</th>\n",
       "      <td>@CTVNews @CTVMercedes and make sure shooters a...</td>\n",
       "      <td>make sure shooters not take alive</td>\n",
       "    </tr>\n",
       "    <tr>\n",
       "      <th>781</th>\n",
       "      <td>@CTVNews @davidcollict @CTVMercedes fast to be...</td>\n",
       "      <td>fast responsible statement news station wish w...</td>\n",
       "    </tr>\n",
       "    <tr>\n",
       "      <th>782</th>\n",
       "      <td>@CTVNews @Peady @CTVMercedes I guess it's not ...</td>\n",
       "      <td>guess not safe patio</td>\n",
       "    </tr>\n",
       "    <tr>\n",
       "      <th>783</th>\n",
       "      <td>@oldbakerman @CTVNews @CTVMercedes Stay inside...</td>\n",
       "      <td>stay inside stay inside</td>\n",
       "    </tr>\n",
       "    <tr>\n",
       "      <th>...</th>\n",
       "      <td>...</td>\n",
       "      <td>...</td>\n",
       "    </tr>\n",
       "    <tr>\n",
       "      <th>8717</th>\n",
       "      <td>@GeatanD @R_Mallough @ArmedResearch what a pie...</td>\n",
       "      <td>piece shit bad take someone</td>\n",
       "    </tr>\n",
       "    <tr>\n",
       "      <th>8718</th>\n",
       "      <td>@GeatanD @charlesadler @ArmedResearch do not u...</td>\n",
       "      <td>not use name post pic doesnt deserve</td>\n",
       "    </tr>\n",
       "    <tr>\n",
       "      <th>8719</th>\n",
       "      <td>@GeatanD @charlesadler well Mr. Trudeau should...</td>\n",
       "      <td>well mr trudeau still go offer bottle maple sy...</td>\n",
       "    </tr>\n",
       "    <tr>\n",
       "      <th>8720</th>\n",
       "      <td>@GeatanD @charlesadler  good riddance</td>\n",
       "      <td>good riddance</td>\n",
       "    </tr>\n",
       "    <tr>\n",
       "      <th>8721</th>\n",
       "      <td>@GeatanD @Crackmacs @ArmedResearch may his nam...</td>\n",
       "      <td>may name image quickly forget think heros day</td>\n",
       "    </tr>\n",
       "  </tbody>\n",
       "</table>\n",
       "<p>65 rows × 2 columns</p>\n",
       "</div>"
      ],
      "text/plain": [
       "                                            reply_tweet  \\\n",
       "779                           @CTVNews @CTVMercedes lol   \n",
       "780   @CTVNews @CTVMercedes and make sure shooters a...   \n",
       "781   @CTVNews @davidcollict @CTVMercedes fast to be...   \n",
       "782   @CTVNews @Peady @CTVMercedes I guess it's not ...   \n",
       "783   @oldbakerman @CTVNews @CTVMercedes Stay inside...   \n",
       "...                                                 ...   \n",
       "8717  @GeatanD @R_Mallough @ArmedResearch what a pie...   \n",
       "8718  @GeatanD @charlesadler @ArmedResearch do not u...   \n",
       "8719  @GeatanD @charlesadler well Mr. Trudeau should...   \n",
       "8720              @GeatanD @charlesadler  good riddance   \n",
       "8721  @GeatanD @Crackmacs @ArmedResearch may his nam...   \n",
       "\n",
       "                                       cleaned_reply_tw  \n",
       "779                                                 lol  \n",
       "780                   make sure shooters not take alive  \n",
       "781   fast responsible statement news station wish w...  \n",
       "782                                guess not safe patio  \n",
       "783                             stay inside stay inside  \n",
       "...                                                 ...  \n",
       "8717                        piece shit bad take someone  \n",
       "8718               not use name post pic doesnt deserve  \n",
       "8719  well mr trudeau still go offer bottle maple sy...  \n",
       "8720                                      good riddance  \n",
       "8721      may name image quickly forget think heros day  \n",
       "\n",
       "[65 rows x 2 columns]"
      ]
     },
     "execution_count": 13,
     "metadata": {},
     "output_type": "execute_result"
    }
   ],
   "source": [
    "a = src_tw_df[src_tw_df.cleaned_src_tw.isnull()].src_tweet_id.values\n",
    "df.loc[df.src_tweet_id.isin(a),['reply_tweet','cleaned_reply_tw']]"
   ]
  },
  {
   "cell_type": "markdown",
   "id": "familiar-outside",
   "metadata": {},
   "source": [
    "## Emotion Analysis"
   ]
  },
  {
   "cell_type": "markdown",
   "id": "blank-accent",
   "metadata": {},
   "source": [
    "### T5 Based\n",
    "<https://huggingface.co/mrm8488/t5-base-finetuned-emotion?text=I+wish+you+were+here+but+it+is+impossible>"
   ]
  },
  {
   "cell_type": "code",
   "execution_count": null,
   "id": "infrared-final",
   "metadata": {},
   "outputs": [],
   "source": [
    "t5_tokenizer = AutoTokenizer.from_pretrained(\"mrm8488/t5-base-finetuned-emotion\",use_fast=False)\n",
    "t5_model = AutoModelWithLMHead.from_pretrained(\"mrm8488/t5-base-finetuned-emotion\")\n",
    "\n",
    "\n",
    "\n",
    "def get_emotion_t5(text):\n",
    "    input_ids = t5_tokenizer.encode(text , return_tensors='pt')\n",
    "    output = t5_model.generate(input_ids=input_ids,max_length=2)\n",
    "  \n",
    "    dec = [t5_tokenizer.decode(ids) for ids in output]\n",
    "    label = dec[0]\n",
    "    return label"
   ]
  },
  {
   "cell_type": "code",
   "execution_count": null,
   "id": "crude-alarm",
   "metadata": {},
   "outputs": [],
   "source": [
    "emotion_t5 = df.cleaned_reply_tw.apply(get_emotion_t5)"
   ]
  },
  {
   "cell_type": "code",
   "execution_count": null,
   "id": "timely-dover",
   "metadata": {},
   "outputs": [],
   "source": [
    "df['reply_emo_t5'] = emotion_t5"
   ]
  },
  {
   "cell_type": "code",
   "execution_count": null,
   "id": "hawaiian-drive",
   "metadata": {},
   "outputs": [],
   "source": [
    "import re\n",
    "df['reply_emo_t5'] = df['reply_emo_t5'].apply(lambda x : re.sub('<pad> ',\"\",x))"
   ]
  },
  {
   "cell_type": "code",
   "execution_count": null,
   "id": "cubic-negative",
   "metadata": {},
   "outputs": [],
   "source": [
    "src_emo_t5 = src_tw_df.cleaned_src_tw.astype(str).apply(get_emotion_t5)\n",
    "src_tw_df['src_emo_t5'] = src_emo_t5"
   ]
  },
  {
   "cell_type": "code",
   "execution_count": null,
   "id": "union-recruitment",
   "metadata": {},
   "outputs": [],
   "source": [
    "src_tw_df['src_emo_t5']  = src_tw_df.src_emo_t5.apply(lambda x : re.sub('<pad> ',\"\",x))"
   ]
  },
  {
   "cell_type": "markdown",
   "id": "immediate-substance",
   "metadata": {},
   "source": [
    "### roBERTa-base model\n",
    "<https://huggingface.co/cardiffnlp/twitter-roberta-base-emotion>"
   ]
  },
  {
   "cell_type": "code",
   "execution_count": 5,
   "id": "falling-yahoo",
   "metadata": {},
   "outputs": [],
   "source": [
    "import numpy as np\n",
    "from scipy.special import softmax\n",
    "\n",
    "task='emotion'\n",
    "MODEL = f\"cardiffnlp/twitter-roberta-base-{task}\"\n",
    "ro_tokenizer = AutoTokenizer.from_pretrained(MODEL)\n",
    "ro_model = AutoModelForSequenceClassification.from_pretrained(MODEL)\n"
   ]
  },
  {
   "cell_type": "code",
   "execution_count": 6,
   "id": "grave-coast",
   "metadata": {},
   "outputs": [],
   "source": [
    "def get_emotion_roBERT(text):\n",
    "    \n",
    "    def preprocess(txt):\n",
    "        new_text = []\n",
    "        for t in txt.split(\" \"):\n",
    "            t = '@user' if t.startswith('@') and len(t) > 1 else t\n",
    "            t = 'http' if t.startswith('http') else t\n",
    "            new_text.append(t)\n",
    "        return \" \".join(new_text)\n",
    "    \n",
    "    labels = ['anger','joy','optimism','sadness']\n",
    "    text = preprocess(text)\n",
    "    encoded_input = ro_tokenizer(text, return_tensors='pt')\n",
    "    output = ro_model(**encoded_input)\n",
    "\n",
    "    scores = output[0][0].detach().numpy()\n",
    "    scores = softmax(scores)\n",
    "    ranking = np.argsort(scores)\n",
    "    ranking = ranking[::-1]\n",
    "    emo = labels[ranking[0]]\n",
    "    return emo"
   ]
  },
  {
   "cell_type": "code",
   "execution_count": 7,
   "id": "engaged-fluid",
   "metadata": {},
   "outputs": [],
   "source": [
    "emotion_ro = df.cleaned_reply_tw.apply(get_emotion_roBERT)"
   ]
  },
  {
   "cell_type": "code",
   "execution_count": 8,
   "id": "unlimited-opinion",
   "metadata": {},
   "outputs": [],
   "source": [
    "df['reply_emo_ro'] = emotion_ro"
   ]
  },
  {
   "cell_type": "code",
   "execution_count": 10,
   "id": "dutch-shepherd",
   "metadata": {},
   "outputs": [],
   "source": [
    "df.to_csv(r'D:\\論文\\PHEME9\\Data\\CSV\\ottawashooting-df-2.csv',index=False)"
   ]
  },
  {
   "cell_type": "code",
   "execution_count": 9,
   "id": "respiratory-threat",
   "metadata": {},
   "outputs": [],
   "source": [
    "src_emo_ro = src_tw_df.cleaned_src_tw.astype(str).apply(get_emotion_roBERT)\n",
    "src_tw_df['src_emo_ro'] = src_emo_ro"
   ]
  },
  {
   "cell_type": "code",
   "execution_count": 11,
   "id": "operating-bonus",
   "metadata": {},
   "outputs": [],
   "source": [
    "src_tw_df.to_csv(r'D:\\論文\\PHEME9\\Data\\CSV\\ottawashooting-src-2.csv',index=False)"
   ]
  },
  {
   "cell_type": "markdown",
   "id": "generous-freedom",
   "metadata": {},
   "source": [
    " - robert : 'anger','joy','optimism','sadness'\n",
    " - t5: 'sadness', 'joy', 'love', 'anger', 'fear', 'surprise' \n",
    " - text2emotion: 'angry, 'fear', 'happy, 'sad', 'surprise'"
   ]
  },
  {
   "cell_type": "code",
   "execution_count": null,
   "id": "subjective-extreme",
   "metadata": {},
   "outputs": [],
   "source": [
    "print(\"original reply tw: \", df.reply_tweet[8])\n",
    "print(\"cleaned reply tw: \", df.cleaned_reply_tw[8])\n",
    "\n",
    "print('roBERT based: ',df.reply_emo_ro[8])\n",
    "print('t5 based: ',df.reply_emo_t5[8])\n",
    "print('text2emotion: ', df.reply_emo_te[8])"
   ]
  },
  {
   "cell_type": "code",
   "execution_count": null,
   "id": "stretch-parliament",
   "metadata": {},
   "outputs": [],
   "source": []
  }
 ],
 "metadata": {
  "kernelspec": {
   "display_name": "Python 3",
   "language": "python",
   "name": "python3"
  },
  "language_info": {
   "codemirror_mode": {
    "name": "ipython",
    "version": 3
   },
   "file_extension": ".py",
   "mimetype": "text/x-python",
   "name": "python",
   "nbconvert_exporter": "python",
   "pygments_lexer": "ipython3",
   "version": "3.9.1"
  },
  "toc-autonumbering": true,
  "toc-showmarkdowntxt": false
 },
 "nbformat": 4,
 "nbformat_minor": 5
}
