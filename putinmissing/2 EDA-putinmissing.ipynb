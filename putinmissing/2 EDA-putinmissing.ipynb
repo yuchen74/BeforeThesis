{
 "cells": [
  {
   "cell_type": "code",
   "execution_count": 1,
   "metadata": {},
   "outputs": [],
   "source": [
    "import numpy as np\n",
    "import pandas as pd\n",
    "import datetime \n",
    "import matplotlib.pyplot as plt\n",
    "import seaborn as sns"
   ]
  },
  {
   "cell_type": "code",
   "execution_count": 2,
   "metadata": {},
   "outputs": [
    {
     "name": "stderr",
     "output_type": "stream",
     "text": [
      "<ipython-input-2-3b5970faf0be>:2: FutureWarning: Passing a negative integer is deprecated in version 1.0 and will not be supported in future version. Instead, use None to not limit the column width.\n",
      "  pd.set_option('display.max_colwidth', -1)\n"
     ]
    }
   ],
   "source": [
    "# to display full text\n",
    "pd.set_option('display.max_colwidth', -1)"
   ]
  },
  {
   "cell_type": "code",
   "execution_count": 3,
   "metadata": {},
   "outputs": [],
   "source": [
    "df = pd.read_csv(r'D:\\論文\\PHEME9\\Data\\CSV\\putinmissing.csv', encoding = 'utf-8', header = None)"
   ]
  },
  {
   "cell_type": "code",
   "execution_count": 4,
   "metadata": {},
   "outputs": [],
   "source": [
    "df.columns = ['src_tweet_id', 'src_user_id', 'src_tweet','src_date','reply_tweet_id','reply_user_id','reply_tweet','reply_date', 'label']"
   ]
  },
  {
   "cell_type": "code",
   "execution_count": 5,
   "metadata": {},
   "outputs": [
    {
     "data": {
      "text/html": [
       "<div>\n",
       "<style scoped>\n",
       "    .dataframe tbody tr th:only-of-type {\n",
       "        vertical-align: middle;\n",
       "    }\n",
       "\n",
       "    .dataframe tbody tr th {\n",
       "        vertical-align: top;\n",
       "    }\n",
       "\n",
       "    .dataframe thead th {\n",
       "        text-align: right;\n",
       "    }\n",
       "</style>\n",
       "<table border=\"1\" class=\"dataframe\">\n",
       "  <thead>\n",
       "    <tr style=\"text-align: right;\">\n",
       "      <th></th>\n",
       "      <th>src_tweet_id</th>\n",
       "      <th>src_user_id</th>\n",
       "      <th>src_tweet</th>\n",
       "      <th>src_date</th>\n",
       "      <th>reply_tweet_id</th>\n",
       "      <th>reply_user_id</th>\n",
       "      <th>reply_tweet</th>\n",
       "      <th>reply_date</th>\n",
       "      <th>label</th>\n",
       "    </tr>\n",
       "  </thead>\n",
       "  <tbody>\n",
       "    <tr>\n",
       "      <th>0</th>\n",
       "      <td>576171827086520320</td>\n",
       "      <td>1093610112</td>\n",
       "      <td>#PUTIN FULL OF LEAD\\n #ПутинУмер #putindead http://t.co/DjFt2BgV6x</td>\n",
       "      <td>Fri Mar 13 00:04:02 +0000 2015</td>\n",
       "      <td>5.763882e+17</td>\n",
       "      <td>1.317093e+09</td>\n",
       "      <td>@CWynnykWilson \"Gas up!\"</td>\n",
       "      <td>Fri Mar 13 14:23:53 +0000 2015</td>\n",
       "      <td>0</td>\n",
       "    </tr>\n",
       "    <tr>\n",
       "      <th>1</th>\n",
       "      <td>576185920094908416</td>\n",
       "      <td>458173</td>\n",
       "      <td>Surprised it took me so long to stumble across this image today...\\n\\n#putindead #WeekendAtVlads http://t.co/OLzO5n1gwF</td>\n",
       "      <td>Fri Mar 13 01:00:03 +0000 2015</td>\n",
       "      <td>NaN</td>\n",
       "      <td>NaN</td>\n",
       "      <td>NaN</td>\n",
       "      <td>NaN</td>\n",
       "      <td>0</td>\n",
       "    </tr>\n",
       "    <tr>\n",
       "      <th>2</th>\n",
       "      <td>576249853979807745</td>\n",
       "      <td>44691136</td>\n",
       "      <td>#PutinDead - Amazing how quickly the satirical songs and videos are produced. #путинумер #ПутинСдох http://t.co/Oeg3emWcEC</td>\n",
       "      <td>Fri Mar 13 05:14:06 +0000 2015</td>\n",
       "      <td>NaN</td>\n",
       "      <td>NaN</td>\n",
       "      <td>NaN</td>\n",
       "      <td>NaN</td>\n",
       "      <td>0</td>\n",
       "    </tr>\n",
       "    <tr>\n",
       "      <th>3</th>\n",
       "      <td>576316647880839168</td>\n",
       "      <td>285312699</td>\n",
       "      <td>#putindead I heard it from a good source that Vladimir Putin was riding a weasel on the back of a woodpecker and he fell off and died.</td>\n",
       "      <td>Fri Mar 13 09:39:30 +0000 2015</td>\n",
       "      <td>5.763988e+17</td>\n",
       "      <td>3.077746e+09</td>\n",
       "      <td>@nikkimcwatters http://t.co/xSFvkAnTje</td>\n",
       "      <td>Fri Mar 13 15:05:48 +0000 2015</td>\n",
       "      <td>0</td>\n",
       "    </tr>\n",
       "    <tr>\n",
       "      <th>4</th>\n",
       "      <td>576316647880839168</td>\n",
       "      <td>285312699</td>\n",
       "      <td>#putindead I heard it from a good source that Vladimir Putin was riding a weasel on the back of a woodpecker and he fell off and died.</td>\n",
       "      <td>Fri Mar 13 09:39:30 +0000 2015</td>\n",
       "      <td>5.794791e+17</td>\n",
       "      <td>8.445691e+07</td>\n",
       "      <td>@nikkimcwatters \\nI wish I understood why Putin is so despised. He's got to be better than Blaster Boris, and the Russians seem to like him.</td>\n",
       "      <td>Sun Mar 22 03:06:09 +0000 2015</td>\n",
       "      <td>0</td>\n",
       "    </tr>\n",
       "  </tbody>\n",
       "</table>\n",
       "</div>"
      ],
      "text/plain": [
       "         src_tweet_id  src_user_id  \\\n",
       "0  576171827086520320  1093610112    \n",
       "1  576185920094908416  458173        \n",
       "2  576249853979807745  44691136      \n",
       "3  576316647880839168  285312699     \n",
       "4  576316647880839168  285312699     \n",
       "\n",
       "                                                                                                                                src_tweet  \\\n",
       "0  #PUTIN FULL OF LEAD\\n #ПутинУмер #putindead http://t.co/DjFt2BgV6x                                                                       \n",
       "1  Surprised it took me so long to stumble across this image today...\\n\\n#putindead #WeekendAtVlads http://t.co/OLzO5n1gwF                  \n",
       "2  #PutinDead - Amazing how quickly the satirical songs and videos are produced. #путинумер #ПутинСдох http://t.co/Oeg3emWcEC               \n",
       "3  #putindead I heard it from a good source that Vladimir Putin was riding a weasel on the back of a woodpecker and he fell off and died.   \n",
       "4  #putindead I heard it from a good source that Vladimir Putin was riding a weasel on the back of a woodpecker and he fell off and died.   \n",
       "\n",
       "                         src_date  reply_tweet_id  reply_user_id  \\\n",
       "0  Fri Mar 13 00:04:02 +0000 2015  5.763882e+17    1.317093e+09    \n",
       "1  Fri Mar 13 01:00:03 +0000 2015 NaN             NaN              \n",
       "2  Fri Mar 13 05:14:06 +0000 2015 NaN             NaN              \n",
       "3  Fri Mar 13 09:39:30 +0000 2015  5.763988e+17    3.077746e+09    \n",
       "4  Fri Mar 13 09:39:30 +0000 2015  5.794791e+17    8.445691e+07    \n",
       "\n",
       "                                                                                                                                    reply_tweet  \\\n",
       "0  @CWynnykWilson \"Gas up!\"                                                                                                                       \n",
       "1  NaN                                                                                                                                            \n",
       "2  NaN                                                                                                                                            \n",
       "3  @nikkimcwatters http://t.co/xSFvkAnTje                                                                                                         \n",
       "4  @nikkimcwatters \\nI wish I understood why Putin is so despised. He's got to be better than Blaster Boris, and the Russians seem to like him.   \n",
       "\n",
       "                       reply_date  label  \n",
       "0  Fri Mar 13 14:23:53 +0000 2015  0      \n",
       "1  NaN                             0      \n",
       "2  NaN                             0      \n",
       "3  Fri Mar 13 15:05:48 +0000 2015  0      \n",
       "4  Sun Mar 22 03:06:09 +0000 2015  0      "
      ]
     },
     "execution_count": 5,
     "metadata": {},
     "output_type": "execute_result"
    }
   ],
   "source": [
    "df.head()"
   ]
  },
  {
   "cell_type": "code",
   "execution_count": 6,
   "metadata": {},
   "outputs": [
    {
     "data": {
      "text/plain": [
       "(697, 9)"
      ]
     },
     "execution_count": 6,
     "metadata": {},
     "output_type": "execute_result"
    }
   ],
   "source": [
    "df.shape"
   ]
  },
  {
   "cell_type": "markdown",
   "metadata": {},
   "source": [
    "+ change data type"
   ]
  },
  {
   "cell_type": "code",
   "execution_count": 7,
   "metadata": {},
   "outputs": [],
   "source": [
    "df.src_tweet_id = df.src_tweet_id.astype(str)\n",
    "df.src_user_id = df.src_user_id.astype(str)\n",
    "\n",
    "df.reply_tweet_id = df.reply_tweet_id.astype(str)\n",
    "df.reply_tweet_id = df.reply_tweet_id.replace('nan',np.nan)\n",
    "\n",
    "df.reply_user_id = df.reply_user_id.astype(str)\n",
    "df.reply_user_id = df.reply_user_id.replace('nan',np.nan)\n",
    "\n",
    "df.src_date = df.src_date.apply(pd.to_datetime)\n",
    "df.reply_date = df.reply_date.apply(pd.to_datetime)\n",
    "\n",
    "df.reply_tweet = df.reply_tweet.replace(np.nan,\"\")"
   ]
  },
  {
   "cell_type": "markdown",
   "metadata": {},
   "source": [
    "+ Source Tweet Data: **src_tw_df**"
   ]
  },
  {
   "cell_type": "code",
   "execution_count": 8,
   "metadata": {},
   "outputs": [],
   "source": [
    "#Source tweet data\n",
    "src_tw_df = df.iloc[:,[0,1,2,3,8]].copy()\n",
    "src_tw_df = src_tw_df.drop_duplicates().reset_index()"
   ]
  },
  {
   "cell_type": "code",
   "execution_count": 9,
   "metadata": {},
   "outputs": [
    {
     "data": {
      "text/html": [
       "<div>\n",
       "<style scoped>\n",
       "    .dataframe tbody tr th:only-of-type {\n",
       "        vertical-align: middle;\n",
       "    }\n",
       "\n",
       "    .dataframe tbody tr th {\n",
       "        vertical-align: top;\n",
       "    }\n",
       "\n",
       "    .dataframe thead th {\n",
       "        text-align: right;\n",
       "    }\n",
       "</style>\n",
       "<table border=\"1\" class=\"dataframe\">\n",
       "  <thead>\n",
       "    <tr style=\"text-align: right;\">\n",
       "      <th></th>\n",
       "      <th>index</th>\n",
       "      <th>src_tweet_id</th>\n",
       "      <th>src_user_id</th>\n",
       "      <th>src_tweet</th>\n",
       "      <th>src_date</th>\n",
       "      <th>label</th>\n",
       "    </tr>\n",
       "  </thead>\n",
       "  <tbody>\n",
       "    <tr>\n",
       "      <th>0</th>\n",
       "      <td>0</td>\n",
       "      <td>576171827086520320</td>\n",
       "      <td>1093610112</td>\n",
       "      <td>#PUTIN FULL OF LEAD\\n #ПутинУмер #putindead http://t.co/DjFt2BgV6x</td>\n",
       "      <td>2015-03-13 00:04:02+00:00</td>\n",
       "      <td>0</td>\n",
       "    </tr>\n",
       "    <tr>\n",
       "      <th>1</th>\n",
       "      <td>1</td>\n",
       "      <td>576185920094908416</td>\n",
       "      <td>458173</td>\n",
       "      <td>Surprised it took me so long to stumble across this image today...\\n\\n#putindead #WeekendAtVlads http://t.co/OLzO5n1gwF</td>\n",
       "      <td>2015-03-13 01:00:03+00:00</td>\n",
       "      <td>0</td>\n",
       "    </tr>\n",
       "    <tr>\n",
       "      <th>2</th>\n",
       "      <td>2</td>\n",
       "      <td>576249853979807745</td>\n",
       "      <td>44691136</td>\n",
       "      <td>#PutinDead - Amazing how quickly the satirical songs and videos are produced. #путинумер #ПутинСдох http://t.co/Oeg3emWcEC</td>\n",
       "      <td>2015-03-13 05:14:06+00:00</td>\n",
       "      <td>0</td>\n",
       "    </tr>\n",
       "    <tr>\n",
       "      <th>3</th>\n",
       "      <td>3</td>\n",
       "      <td>576316647880839168</td>\n",
       "      <td>285312699</td>\n",
       "      <td>#putindead I heard it from a good source that Vladimir Putin was riding a weasel on the back of a woodpecker and he fell off and died.</td>\n",
       "      <td>2015-03-13 09:39:30+00:00</td>\n",
       "      <td>0</td>\n",
       "    </tr>\n",
       "    <tr>\n",
       "      <th>4</th>\n",
       "      <td>5</td>\n",
       "      <td>576321776424189954</td>\n",
       "      <td>8628872</td>\n",
       "      <td>Enter 'Putin' into Twitter search. Look at all the clowns suggesting he's dead/a palace coup. Now, never take any of them seriously again</td>\n",
       "      <td>2015-03-13 09:59:53+00:00</td>\n",
       "      <td>0</td>\n",
       "    </tr>\n",
       "  </tbody>\n",
       "</table>\n",
       "</div>"
      ],
      "text/plain": [
       "   index        src_tweet_id src_user_id  \\\n",
       "0  0      576171827086520320  1093610112   \n",
       "1  1      576185920094908416  458173       \n",
       "2  2      576249853979807745  44691136     \n",
       "3  3      576316647880839168  285312699    \n",
       "4  5      576321776424189954  8628872      \n",
       "\n",
       "                                                                                                                                   src_tweet  \\\n",
       "0  #PUTIN FULL OF LEAD\\n #ПутинУмер #putindead http://t.co/DjFt2BgV6x                                                                          \n",
       "1  Surprised it took me so long to stumble across this image today...\\n\\n#putindead #WeekendAtVlads http://t.co/OLzO5n1gwF                     \n",
       "2  #PutinDead - Amazing how quickly the satirical songs and videos are produced. #путинумер #ПутинСдох http://t.co/Oeg3emWcEC                  \n",
       "3  #putindead I heard it from a good source that Vladimir Putin was riding a weasel on the back of a woodpecker and he fell off and died.      \n",
       "4  Enter 'Putin' into Twitter search. Look at all the clowns suggesting he's dead/a palace coup. Now, never take any of them seriously again   \n",
       "\n",
       "                   src_date  label  \n",
       "0 2015-03-13 00:04:02+00:00  0      \n",
       "1 2015-03-13 01:00:03+00:00  0      \n",
       "2 2015-03-13 05:14:06+00:00  0      \n",
       "3 2015-03-13 09:39:30+00:00  0      \n",
       "4 2015-03-13 09:59:53+00:00  0      "
      ]
     },
     "execution_count": 9,
     "metadata": {},
     "output_type": "execute_result"
    }
   ],
   "source": [
    "src_tw_df.head()"
   ]
  },
  {
   "cell_type": "markdown",
   "metadata": {},
   "source": [
    "# EDA"
   ]
  },
  {
   "cell_type": "markdown",
   "metadata": {},
   "source": [
    "## Missing Value"
   ]
  },
  {
   "cell_type": "code",
   "execution_count": 10,
   "metadata": {},
   "outputs": [
    {
     "data": {
      "text/plain": [
       "src_tweet_id      0  \n",
       "src_user_id       0  \n",
       "src_tweet         0  \n",
       "src_date          0  \n",
       "reply_tweet_id    100\n",
       "reply_user_id     100\n",
       "reply_tweet       0  \n",
       "reply_date        100\n",
       "label             0  \n",
       "dtype: int64"
      ]
     },
     "execution_count": 10,
     "metadata": {},
     "output_type": "execute_result"
    }
   ],
   "source": [
    "df.isnull().sum()"
   ]
  },
  {
   "cell_type": "markdown",
   "metadata": {},
   "source": [
    "+ drop rows where there is missing value."
   ]
  },
  {
   "cell_type": "code",
   "execution_count": 11,
   "metadata": {},
   "outputs": [],
   "source": [
    "df.dropna(inplace=True)"
   ]
  },
  {
   "cell_type": "markdown",
   "metadata": {},
   "source": [
    "## Statistics"
   ]
  },
  {
   "cell_type": "code",
   "execution_count": 12,
   "metadata": {},
   "outputs": [
    {
     "name": "stdout",
     "output_type": "stream",
     "text": [
      "# of source tweets: 238\n",
      "# of source users: 194\n",
      "# of reply users: 430\n",
      "# of reply tweets: 597\n"
     ]
    }
   ],
   "source": [
    "print(\"# of source tweets:\",src_tw_df.src_tweet_id.nunique())\n",
    "print(\"# of source users:\",src_tw_df.src_user_id.nunique())\n",
    "print(\"# of reply users:\",df.reply_user_id.nunique())\n",
    "print(\"# of reply tweets:\",df.reply_tweet_id.nunique())"
   ]
  },
  {
   "cell_type": "markdown",
   "metadata": {},
   "source": [
    "## Visualiztion "
   ]
  },
  {
   "cell_type": "code",
   "execution_count": 13,
   "metadata": {},
   "outputs": [
    {
     "data": {
      "image/png": "[encoded data removed]",
      "text/plain": [
       "<Figure size 432x288 with 1 Axes>"
      ]
     },
     "metadata": {
      "needs_background": "light"
     },
     "output_type": "display_data"
    }
   ],
   "source": [
    "reply_user = df.reply_user_id.value_counts().sort_values(ascending=False).to_frame()\n",
    "reply_user.rename(columns={'reply_user_id' :'count'},inplace=True)\n",
    "sns.boxplot(data=reply_user ,x='count')\n",
    "plt.title(\"A few users replied multiple times\")\n",
    "plt.savefig('graph/putinmissing/reply_user-1.pdf',dpi=300)"
   ]
  },
  {
   "cell_type": "code",
   "execution_count": 14,
   "metadata": {},
   "outputs": [
    {
     "data": {
      "text/plain": [
       "84"
      ]
     },
     "execution_count": 14,
     "metadata": {},
     "output_type": "execute_result"
    }
   ],
   "source": [
    "more_freq_reply_user = reply_user.loc[reply_user['count'] > 1].index\n",
    "len(more_freq_reply_user)"
   ]
  },
  {
   "cell_type": "code",
   "execution_count": 15,
   "metadata": {},
   "outputs": [
    {
     "data": {
      "image/png": "[encoded data removed]",
      "text/plain": [
       "<Figure size 432x288 with 1 Axes>"
      ]
     },
     "metadata": {
      "needs_background": "light"
     },
     "output_type": "display_data"
    }
   ],
   "source": [
    "more_freq = df[df['reply_user_id'].isin(more_freq_reply_user)]\n",
    "# more_freq.label.value_counts().\n",
    "sns.countplot(data=more_freq ,x='label')\n",
    "plt.title('Frequent users replied more to rumours')\n",
    "plt.savefig('graph/putinmissing/reply_user-2.pdf',dpi=300)"
   ]
  },
  {
   "cell_type": "code",
   "execution_count": 16,
   "metadata": {},
   "outputs": [
    {
     "name": "stdout",
     "output_type": "stream",
     "text": [
      "            count\n",
      "52003080    11   \n",
      "448590097   5    \n",
      "166530562   4    \n",
      "15438913    3    \n",
      "2789194858  3    \n",
      "...        ..    \n",
      "1925331925  1    \n",
      "766462243   1    \n",
      "54345317    1    \n",
      "516525338   1    \n",
      "403899803   1    \n",
      "\n",
      "[194 rows x 1 columns]\n"
     ]
    },
    {
     "data": {
      "image/png": "[encoded data removed]",
      "text/plain": [
       "<Figure size 432x288 with 1 Axes>"
      ]
     },
     "metadata": {
      "needs_background": "light"
     },
     "output_type": "display_data"
    },
    {
     "data": {
      "text/plain": [
       "<Figure size 432x288 with 0 Axes>"
      ]
     },
     "metadata": {},
     "output_type": "display_data"
    }
   ],
   "source": [
    "source_user = src_tw_df.src_user_id.value_counts().sort_values(ascending=False).to_frame()\n",
    "source_user.rename(columns={'src_user_id' :'count'},inplace=True)\n",
    "print(source_user)\n",
    "sns.boxplot(data=source_user ,x='count')\n",
    "plt.title('a few user tweeted more than once',fontsize = 12)\n",
    "plt.show()\n",
    "plt.savefig('graph/putinmissing/source_user-1.pdf',dpi=300)"
   ]
  },
  {
   "cell_type": "code",
   "execution_count": 17,
   "metadata": {},
   "outputs": [
    {
     "data": {
      "image/png": "[encoded data removed]",
      "text/plain": [
       "<Figure size 432x288 with 1 Axes>"
      ]
     },
     "metadata": {
      "needs_background": "light"
     },
     "output_type": "display_data"
    }
   ],
   "source": [
    "more_freq_src_user = source_user.loc[source_user['count'] > 1].index\n",
    "more_freq_src_user\n",
    "more_freq = src_tw_df[src_tw_df['src_user_id'].isin(more_freq_src_user)]\n",
    "# more_freq.label.value_counts().\n",
    "sns.countplot(data=more_freq ,x='label')\n",
    "plt.title('Most of source tweets posted by frequent users were rumours.')\n",
    "plt.savefig('graph/putinmissing/src_user-2.pdf',dpi=300)"
   ]
  },
  {
   "cell_type": "code",
   "execution_count": null,
   "metadata": {},
   "outputs": [],
   "source": [
    "df.groupby('src_tweet_id')['label'].value_counts().sort_values('label')#.plot(kind = 'bar')\n",
    "# plt.title('Rumour tweet are more than non-rumor tweet',fontsize = 14)\n",
    "# plt.xlabel('Rumor / Non-Rumour', fontsize=12)\n",
    "# plt.ylabel('Count', fontsize=12)\n",
    "# plt.show()"
   ]
  }
 ],
 "metadata": {
  "kernelspec": {
   "display_name": "Python 3",
   "language": "python",
   "name": "python3"
  },
  "language_info": {
   "codemirror_mode": {
    "name": "ipython",
    "version": 3
   },
   "file_extension": ".py",
   "mimetype": "text/x-python",
   "name": "python",
   "nbconvert_exporter": "python",
   "pygments_lexer": "ipython3",
   "version": "3.9.1"
  },
  "toc-autonumbering": false,
  "toc-showmarkdowntxt": true
 },
 "nbformat": 4,
 "nbformat_minor": 4
}
