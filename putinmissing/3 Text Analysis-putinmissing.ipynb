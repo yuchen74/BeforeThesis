{
 "cells": [
  {
   "cell_type": "markdown",
   "id": "radical-metadata",
   "metadata": {},
   "source": [
    "# Text Analysis on putinmissing data"
   ]
  },
  {
   "cell_type": "code",
   "execution_count": 1,
   "id": "noted-seminar",
   "metadata": {},
   "outputs": [],
   "source": [
    "import numpy as np\n",
    "import pandas as pd\n",
    "import datetime \n",
    "import matplotlib.pyplot as plt\n",
    "import seaborn as sns"
   ]
  },
  {
   "cell_type": "code",
   "execution_count": 2,
   "id": "subjective-witness",
   "metadata": {},
   "outputs": [],
   "source": [
    "df = pd.read_csv(r'D:\\論文\\PHEME9\\Data\\CSV\\putinmissing.csv', encoding = 'utf-8', header = None)\n",
    "df.columns = ['src_tweet_id', 'src_user_id', 'src_tweet','src_date','reply_tweet_id','reply_user_id','reply_tweet','reply_date', 'label']\n",
    "df.reply_tweet = df.reply_tweet.replace(np.nan,\"\")"
   ]
  },
  {
   "cell_type": "code",
   "execution_count": 3,
   "id": "differential-vector",
   "metadata": {},
   "outputs": [
    {
     "data": {
      "text/html": [
       "<div>\n",
       "<style scoped>\n",
       "    .dataframe tbody tr th:only-of-type {\n",
       "        vertical-align: middle;\n",
       "    }\n",
       "\n",
       "    .dataframe tbody tr th {\n",
       "        vertical-align: top;\n",
       "    }\n",
       "\n",
       "    .dataframe thead th {\n",
       "        text-align: right;\n",
       "    }\n",
       "</style>\n",
       "<table border=\"1\" class=\"dataframe\">\n",
       "  <thead>\n",
       "    <tr style=\"text-align: right;\">\n",
       "      <th></th>\n",
       "      <th>src_tweet_id</th>\n",
       "      <th>src_user_id</th>\n",
       "      <th>src_tweet</th>\n",
       "      <th>src_date</th>\n",
       "      <th>label</th>\n",
       "    </tr>\n",
       "  </thead>\n",
       "  <tbody>\n",
       "    <tr>\n",
       "      <th>0</th>\n",
       "      <td>576171827086520320</td>\n",
       "      <td>1093610112</td>\n",
       "      <td>#PUTIN FULL OF LEAD\\n #ПутинУмер #putindead ht...</td>\n",
       "      <td>Fri Mar 13 00:04:02 +0000 2015</td>\n",
       "      <td>0</td>\n",
       "    </tr>\n",
       "    <tr>\n",
       "      <th>1</th>\n",
       "      <td>576185920094908416</td>\n",
       "      <td>458173</td>\n",
       "      <td>Surprised it took me so long to stumble across...</td>\n",
       "      <td>Fri Mar 13 01:00:03 +0000 2015</td>\n",
       "      <td>0</td>\n",
       "    </tr>\n",
       "    <tr>\n",
       "      <th>2</th>\n",
       "      <td>576249853979807745</td>\n",
       "      <td>44691136</td>\n",
       "      <td>#PutinDead - Amazing how quickly the satirical...</td>\n",
       "      <td>Fri Mar 13 05:14:06 +0000 2015</td>\n",
       "      <td>0</td>\n",
       "    </tr>\n",
       "    <tr>\n",
       "      <th>3</th>\n",
       "      <td>576316647880839168</td>\n",
       "      <td>285312699</td>\n",
       "      <td>#putindead I heard it from a good source that ...</td>\n",
       "      <td>Fri Mar 13 09:39:30 +0000 2015</td>\n",
       "      <td>0</td>\n",
       "    </tr>\n",
       "    <tr>\n",
       "      <th>5</th>\n",
       "      <td>576321776424189954</td>\n",
       "      <td>8628872</td>\n",
       "      <td>Enter 'Putin' into Twitter search. Look at all...</td>\n",
       "      <td>Fri Mar 13 09:59:53 +0000 2015</td>\n",
       "      <td>0</td>\n",
       "    </tr>\n",
       "    <tr>\n",
       "      <th>...</th>\n",
       "      <td>...</td>\n",
       "      <td>...</td>\n",
       "      <td>...</td>\n",
       "      <td>...</td>\n",
       "      <td>...</td>\n",
       "    </tr>\n",
       "    <tr>\n",
       "      <th>683</th>\n",
       "      <td>577294310573502465</td>\n",
       "      <td>15300388</td>\n",
       "      <td>Israel’s Ex-Ambassador To Russia: \"There Are S...</td>\n",
       "      <td>Mon Mar 16 02:24:23 +0000 2015</td>\n",
       "      <td>1</td>\n",
       "    </tr>\n",
       "    <tr>\n",
       "      <th>691</th>\n",
       "      <td>577297951325876224</td>\n",
       "      <td>82113500</td>\n",
       "      <td>Why Putin’s “Coup” Might be a Staged Event to ...</td>\n",
       "      <td>Mon Mar 16 02:38:51 +0000 2015</td>\n",
       "      <td>1</td>\n",
       "    </tr>\n",
       "    <tr>\n",
       "      <th>692</th>\n",
       "      <td>577301342617673729</td>\n",
       "      <td>15300388</td>\n",
       "      <td>Israel’s Ex-Ambassador To Russia: “There Are S...</td>\n",
       "      <td>Mon Mar 16 02:52:20 +0000 2015</td>\n",
       "      <td>1</td>\n",
       "    </tr>\n",
       "    <tr>\n",
       "      <th>693</th>\n",
       "      <td>577303162765250560</td>\n",
       "      <td>260076391</td>\n",
       "      <td>Israel’s Ex-Ambassador To Russia: “There Are S...</td>\n",
       "      <td>Mon Mar 16 02:59:34 +0000 2015</td>\n",
       "      <td>1</td>\n",
       "    </tr>\n",
       "    <tr>\n",
       "      <th>696</th>\n",
       "      <td>577342598592901120</td>\n",
       "      <td>999453985</td>\n",
       "      <td>Why Putin’s “Coup” Might be a Staged Event to ...</td>\n",
       "      <td>Mon Mar 16 05:36:16 +0000 2015</td>\n",
       "      <td>1</td>\n",
       "    </tr>\n",
       "  </tbody>\n",
       "</table>\n",
       "<p>238 rows × 5 columns</p>\n",
       "</div>"
      ],
      "text/plain": [
       "           src_tweet_id  src_user_id  \\\n",
       "0    576171827086520320   1093610112   \n",
       "1    576185920094908416       458173   \n",
       "2    576249853979807745     44691136   \n",
       "3    576316647880839168    285312699   \n",
       "5    576321776424189954      8628872   \n",
       "..                  ...          ...   \n",
       "683  577294310573502465     15300388   \n",
       "691  577297951325876224     82113500   \n",
       "692  577301342617673729     15300388   \n",
       "693  577303162765250560    260076391   \n",
       "696  577342598592901120    999453985   \n",
       "\n",
       "                                             src_tweet  \\\n",
       "0    #PUTIN FULL OF LEAD\\n #ПутинУмер #putindead ht...   \n",
       "1    Surprised it took me so long to stumble across...   \n",
       "2    #PutinDead - Amazing how quickly the satirical...   \n",
       "3    #putindead I heard it from a good source that ...   \n",
       "5    Enter 'Putin' into Twitter search. Look at all...   \n",
       "..                                                 ...   \n",
       "683  Israel’s Ex-Ambassador To Russia: \"There Are S...   \n",
       "691  Why Putin’s “Coup” Might be a Staged Event to ...   \n",
       "692  Israel’s Ex-Ambassador To Russia: “There Are S...   \n",
       "693  Israel’s Ex-Ambassador To Russia: “There Are S...   \n",
       "696  Why Putin’s “Coup” Might be a Staged Event to ...   \n",
       "\n",
       "                           src_date  label  \n",
       "0    Fri Mar 13 00:04:02 +0000 2015      0  \n",
       "1    Fri Mar 13 01:00:03 +0000 2015      0  \n",
       "2    Fri Mar 13 05:14:06 +0000 2015      0  \n",
       "3    Fri Mar 13 09:39:30 +0000 2015      0  \n",
       "5    Fri Mar 13 09:59:53 +0000 2015      0  \n",
       "..                              ...    ...  \n",
       "683  Mon Mar 16 02:24:23 +0000 2015      1  \n",
       "691  Mon Mar 16 02:38:51 +0000 2015      1  \n",
       "692  Mon Mar 16 02:52:20 +0000 2015      1  \n",
       "693  Mon Mar 16 02:59:34 +0000 2015      1  \n",
       "696  Mon Mar 16 05:36:16 +0000 2015      1  \n",
       "\n",
       "[238 rows x 5 columns]"
      ]
     },
     "execution_count": 3,
     "metadata": {},
     "output_type": "execute_result"
    }
   ],
   "source": [
    "src_tw_df = df.iloc[:,[0,1,2,3,8]].copy()\n",
    "src_tw_df = src_tw_df.drop_duplicates()\n",
    "src_tw_df"
   ]
  },
  {
   "cell_type": "markdown",
   "id": "isolated-general",
   "metadata": {},
   "source": [
    "## Prepocessing\n",
    "- Define function to process text at one time"
   ]
  },
  {
   "cell_type": "code",
   "execution_count": 4,
   "id": "consecutive-flexibility",
   "metadata": {},
   "outputs": [],
   "source": [
    "def textprocessing(text):\n",
    "    text = text.lower()\n",
    "\n",
    "    text = \" \".join([word for word in text.split() if 'http' not in word\n",
    "                                and not word.startswith('@')])\n",
    "                                #and word != 'RT'])\n",
    "    import re\n",
    "    def remove_punct(tweet):\n",
    "        new_words = []\n",
    "        for word in tweet:\n",
    "            w = re.sub(r'[^\\w\\s]','',word) #remove everything except words and space\n",
    "            w = re.sub(r'_','',w) #how to remove underscore as well\n",
    "            new_words.append(w)\n",
    "\n",
    "        return new_words\n",
    "    text = \"\".join(remove_punct(text))\n",
    "        \n",
    "    from nltk.stem.porter import PorterStemmer\n",
    "    stem = PorterStemmer()\n",
    "    \n",
    "    from nltk.tokenize import TweetTokenizer\n",
    "    tknzr = TweetTokenizer(strip_handles=True)\n",
    "    text = tknzr.tokenize(text)\n",
    "    \n",
    "    from nltk.corpus import stopwords\n",
    "    stop_words=set(stopwords.words(\"english\"))\n",
    "    def filterstopwords(tw):\n",
    "        filter_stopwords = []\n",
    "        for w in tw:\n",
    "            if w not in stop_words:\n",
    "                filter_stopwords.append(w)\n",
    "        return filter_stopwords\n",
    "    text = filterstopwords(text)\n",
    "    text = \" \".join(text)\n",
    "    \n",
    "    return text"
   ]
  },
  {
   "cell_type": "code",
   "execution_count": 5,
   "id": "confirmed-beijing",
   "metadata": {},
   "outputs": [
    {
     "name": "stdout",
     "output_type": "stream",
     "text": [
      "original text:  \n",
      "cleaned text:  \n"
     ]
    }
   ],
   "source": [
    "print(\"original text: \", df.reply_tweet.iloc[20])\n",
    "print(\"cleaned text: \", textprocessing(df.reply_tweet.iloc[20]))"
   ]
  },
  {
   "cell_type": "markdown",
   "id": "ideal-kazakhstan",
   "metadata": {},
   "source": [
    "### applied on original data (**df**)"
   ]
  },
  {
   "cell_type": "code",
   "execution_count": 6,
   "id": "increasing-victim",
   "metadata": {},
   "outputs": [],
   "source": [
    "df['cleaned_src_tw'] = df.src_tweet.apply(textprocessing)\n",
    "df['cleaned_reply_tw'] = df.reply_tweet.apply(textprocessing)"
   ]
  },
  {
   "cell_type": "code",
   "execution_count": 7,
   "id": "alleged-rhythm",
   "metadata": {},
   "outputs": [
    {
     "data": {
      "text/html": [
       "<div>\n",
       "<style scoped>\n",
       "    .dataframe tbody tr th:only-of-type {\n",
       "        vertical-align: middle;\n",
       "    }\n",
       "\n",
       "    .dataframe tbody tr th {\n",
       "        vertical-align: top;\n",
       "    }\n",
       "\n",
       "    .dataframe thead th {\n",
       "        text-align: right;\n",
       "    }\n",
       "</style>\n",
       "<table border=\"1\" class=\"dataframe\">\n",
       "  <thead>\n",
       "    <tr style=\"text-align: right;\">\n",
       "      <th></th>\n",
       "      <th>src_tweet_id</th>\n",
       "      <th>src_user_id</th>\n",
       "      <th>src_tweet</th>\n",
       "      <th>src_date</th>\n",
       "      <th>reply_tweet_id</th>\n",
       "      <th>reply_user_id</th>\n",
       "      <th>reply_tweet</th>\n",
       "      <th>reply_date</th>\n",
       "      <th>label</th>\n",
       "      <th>cleaned_src_tw</th>\n",
       "      <th>cleaned_reply_tw</th>\n",
       "    </tr>\n",
       "  </thead>\n",
       "  <tbody>\n",
       "    <tr>\n",
       "      <th>0</th>\n",
       "      <td>576171827086520320</td>\n",
       "      <td>1093610112</td>\n",
       "      <td>#PUTIN FULL OF LEAD\\n #ПутинУмер #putindead ht...</td>\n",
       "      <td>Fri Mar 13 00:04:02 +0000 2015</td>\n",
       "      <td>5.763882e+17</td>\n",
       "      <td>1.317093e+09</td>\n",
       "      <td>@CWynnykWilson \"Gas up!\"</td>\n",
       "      <td>Fri Mar 13 14:23:53 +0000 2015</td>\n",
       "      <td>0</td>\n",
       "      <td>putin full lead путинумер putindead</td>\n",
       "      <td>gas</td>\n",
       "    </tr>\n",
       "    <tr>\n",
       "      <th>1</th>\n",
       "      <td>576185920094908416</td>\n",
       "      <td>458173</td>\n",
       "      <td>Surprised it took me so long to stumble across...</td>\n",
       "      <td>Fri Mar 13 01:00:03 +0000 2015</td>\n",
       "      <td>NaN</td>\n",
       "      <td>NaN</td>\n",
       "      <td></td>\n",
       "      <td>NaN</td>\n",
       "      <td>0</td>\n",
       "      <td>surprised took long stumble across image today...</td>\n",
       "      <td></td>\n",
       "    </tr>\n",
       "    <tr>\n",
       "      <th>2</th>\n",
       "      <td>576249853979807745</td>\n",
       "      <td>44691136</td>\n",
       "      <td>#PutinDead - Amazing how quickly the satirical...</td>\n",
       "      <td>Fri Mar 13 05:14:06 +0000 2015</td>\n",
       "      <td>NaN</td>\n",
       "      <td>NaN</td>\n",
       "      <td></td>\n",
       "      <td>NaN</td>\n",
       "      <td>0</td>\n",
       "      <td>putindead amazing quickly satirical songs vide...</td>\n",
       "      <td></td>\n",
       "    </tr>\n",
       "    <tr>\n",
       "      <th>3</th>\n",
       "      <td>576316647880839168</td>\n",
       "      <td>285312699</td>\n",
       "      <td>#putindead I heard it from a good source that ...</td>\n",
       "      <td>Fri Mar 13 09:39:30 +0000 2015</td>\n",
       "      <td>5.763988e+17</td>\n",
       "      <td>3.077746e+09</td>\n",
       "      <td>@nikkimcwatters http://t.co/xSFvkAnTje</td>\n",
       "      <td>Fri Mar 13 15:05:48 +0000 2015</td>\n",
       "      <td>0</td>\n",
       "      <td>putindead heard good source vladimir putin rid...</td>\n",
       "      <td></td>\n",
       "    </tr>\n",
       "    <tr>\n",
       "      <th>4</th>\n",
       "      <td>576316647880839168</td>\n",
       "      <td>285312699</td>\n",
       "      <td>#putindead I heard it from a good source that ...</td>\n",
       "      <td>Fri Mar 13 09:39:30 +0000 2015</td>\n",
       "      <td>5.794791e+17</td>\n",
       "      <td>8.445691e+07</td>\n",
       "      <td>@nikkimcwatters \\nI wish I understood why Puti...</td>\n",
       "      <td>Sun Mar 22 03:06:09 +0000 2015</td>\n",
       "      <td>0</td>\n",
       "      <td>putindead heard good source vladimir putin rid...</td>\n",
       "      <td>wish understood putin despised hes got better ...</td>\n",
       "    </tr>\n",
       "  </tbody>\n",
       "</table>\n",
       "</div>"
      ],
      "text/plain": [
       "         src_tweet_id  src_user_id  \\\n",
       "0  576171827086520320   1093610112   \n",
       "1  576185920094908416       458173   \n",
       "2  576249853979807745     44691136   \n",
       "3  576316647880839168    285312699   \n",
       "4  576316647880839168    285312699   \n",
       "\n",
       "                                           src_tweet  \\\n",
       "0  #PUTIN FULL OF LEAD\\n #ПутинУмер #putindead ht...   \n",
       "1  Surprised it took me so long to stumble across...   \n",
       "2  #PutinDead - Amazing how quickly the satirical...   \n",
       "3  #putindead I heard it from a good source that ...   \n",
       "4  #putindead I heard it from a good source that ...   \n",
       "\n",
       "                         src_date  reply_tweet_id  reply_user_id  \\\n",
       "0  Fri Mar 13 00:04:02 +0000 2015    5.763882e+17   1.317093e+09   \n",
       "1  Fri Mar 13 01:00:03 +0000 2015             NaN            NaN   \n",
       "2  Fri Mar 13 05:14:06 +0000 2015             NaN            NaN   \n",
       "3  Fri Mar 13 09:39:30 +0000 2015    5.763988e+17   3.077746e+09   \n",
       "4  Fri Mar 13 09:39:30 +0000 2015    5.794791e+17   8.445691e+07   \n",
       "\n",
       "                                         reply_tweet  \\\n",
       "0                           @CWynnykWilson \"Gas up!\"   \n",
       "1                                                      \n",
       "2                                                      \n",
       "3             @nikkimcwatters http://t.co/xSFvkAnTje   \n",
       "4  @nikkimcwatters \\nI wish I understood why Puti...   \n",
       "\n",
       "                       reply_date  label  \\\n",
       "0  Fri Mar 13 14:23:53 +0000 2015      0   \n",
       "1                             NaN      0   \n",
       "2                             NaN      0   \n",
       "3  Fri Mar 13 15:05:48 +0000 2015      0   \n",
       "4  Sun Mar 22 03:06:09 +0000 2015      0   \n",
       "\n",
       "                                      cleaned_src_tw  \\\n",
       "0                putin full lead путинумер putindead   \n",
       "1  surprised took long stumble across image today...   \n",
       "2  putindead amazing quickly satirical songs vide...   \n",
       "3  putindead heard good source vladimir putin rid...   \n",
       "4  putindead heard good source vladimir putin rid...   \n",
       "\n",
       "                                    cleaned_reply_tw  \n",
       "0                                                gas  \n",
       "1                                                     \n",
       "2                                                     \n",
       "3                                                     \n",
       "4  wish understood putin despised hes got better ...  "
      ]
     },
     "execution_count": 7,
     "metadata": {},
     "output_type": "execute_result"
    }
   ],
   "source": [
    "df.head()"
   ]
  },
  {
   "cell_type": "markdown",
   "id": "piano-quilt",
   "metadata": {},
   "source": [
    "### applied on source tweet data (**src_tw_df**) "
   ]
  },
  {
   "cell_type": "code",
   "execution_count": 8,
   "id": "floral-prairie",
   "metadata": {},
   "outputs": [],
   "source": [
    "src_tw_df['cleaned_src_tw'] = src_tw_df.src_tweet.apply(textprocessing)"
   ]
  },
  {
   "cell_type": "markdown",
   "id": "different-theme",
   "metadata": {},
   "source": [
    "## Sentiment Analysis"
   ]
  },
  {
   "cell_type": "code",
   "execution_count": 9,
   "id": "regulation-chick",
   "metadata": {},
   "outputs": [],
   "source": [
    "from vaderSentiment.vaderSentiment import SentimentIntensityAnalyzer"
   ]
  },
  {
   "cell_type": "code",
   "execution_count": 10,
   "id": "ethical-plant",
   "metadata": {},
   "outputs": [],
   "source": [
    "def get_sentiment(tweet):\n",
    "    analyzer = SentimentIntensityAnalyzer()\n",
    "    vs = analyzer.polarity_scores(tweet)\n",
    "    if vs['compound'] >=0.05:\n",
    "        sentiment_label = 'Positive'\n",
    "    elif (vs['compound'] > -0.05) & (vs['compound'] < 0.05):\n",
    "        sentiment_label = 'Neutral'\n",
    "    elif vs['compound']<= -0.05:\n",
    "        sentiment_label = 'Negative' \n",
    "    result = sentiment_label\n",
    "    return result"
   ]
  },
  {
   "cell_type": "markdown",
   "id": "civic-frontier",
   "metadata": {},
   "source": [
    "### applied on original df"
   ]
  },
  {
   "cell_type": "code",
   "execution_count": 11,
   "id": "sustainable-implementation",
   "metadata": {},
   "outputs": [],
   "source": [
    "df['src_sentiment']= df.cleaned_src_tw.apply(get_sentiment)\n",
    "df['reply_sentiment']= df.cleaned_reply_tw.apply(get_sentiment)"
   ]
  },
  {
   "cell_type": "code",
   "execution_count": 12,
   "id": "medieval-workplace",
   "metadata": {},
   "outputs": [
    {
     "data": {
      "text/html": [
       "<div>\n",
       "<style scoped>\n",
       "    .dataframe tbody tr th:only-of-type {\n",
       "        vertical-align: middle;\n",
       "    }\n",
       "\n",
       "    .dataframe tbody tr th {\n",
       "        vertical-align: top;\n",
       "    }\n",
       "\n",
       "    .dataframe thead th {\n",
       "        text-align: right;\n",
       "    }\n",
       "</style>\n",
       "<table border=\"1\" class=\"dataframe\">\n",
       "  <thead>\n",
       "    <tr style=\"text-align: right;\">\n",
       "      <th></th>\n",
       "      <th>src_tweet_id</th>\n",
       "      <th>src_user_id</th>\n",
       "      <th>src_tweet</th>\n",
       "      <th>src_date</th>\n",
       "      <th>reply_tweet_id</th>\n",
       "      <th>reply_user_id</th>\n",
       "      <th>reply_tweet</th>\n",
       "      <th>reply_date</th>\n",
       "      <th>label</th>\n",
       "      <th>cleaned_src_tw</th>\n",
       "      <th>cleaned_reply_tw</th>\n",
       "      <th>src_sentiment</th>\n",
       "      <th>reply_sentiment</th>\n",
       "    </tr>\n",
       "  </thead>\n",
       "  <tbody>\n",
       "    <tr>\n",
       "      <th>0</th>\n",
       "      <td>576171827086520320</td>\n",
       "      <td>1093610112</td>\n",
       "      <td>#PUTIN FULL OF LEAD\\n #ПутинУмер #putindead ht...</td>\n",
       "      <td>Fri Mar 13 00:04:02 +0000 2015</td>\n",
       "      <td>5.763882e+17</td>\n",
       "      <td>1.317093e+09</td>\n",
       "      <td>@CWynnykWilson \"Gas up!\"</td>\n",
       "      <td>Fri Mar 13 14:23:53 +0000 2015</td>\n",
       "      <td>0</td>\n",
       "      <td>putin full lead путинумер putindead</td>\n",
       "      <td>gas</td>\n",
       "      <td>Neutral</td>\n",
       "      <td>Neutral</td>\n",
       "    </tr>\n",
       "  </tbody>\n",
       "</table>\n",
       "</div>"
      ],
      "text/plain": [
       "         src_tweet_id  src_user_id  \\\n",
       "0  576171827086520320   1093610112   \n",
       "\n",
       "                                           src_tweet  \\\n",
       "0  #PUTIN FULL OF LEAD\\n #ПутинУмер #putindead ht...   \n",
       "\n",
       "                         src_date  reply_tweet_id  reply_user_id  \\\n",
       "0  Fri Mar 13 00:04:02 +0000 2015    5.763882e+17   1.317093e+09   \n",
       "\n",
       "                reply_tweet                      reply_date  label  \\\n",
       "0  @CWynnykWilson \"Gas up!\"  Fri Mar 13 14:23:53 +0000 2015      0   \n",
       "\n",
       "                        cleaned_src_tw cleaned_reply_tw src_sentiment  \\\n",
       "0  putin full lead путинумер putindead              gas       Neutral   \n",
       "\n",
       "  reply_sentiment  \n",
       "0         Neutral  "
      ]
     },
     "execution_count": 12,
     "metadata": {},
     "output_type": "execute_result"
    }
   ],
   "source": [
    "df.head(1)"
   ]
  },
  {
   "cell_type": "markdown",
   "id": "worth-december",
   "metadata": {},
   "source": [
    "### applied on source tweet data only "
   ]
  },
  {
   "cell_type": "code",
   "execution_count": 13,
   "id": "historical-contributor",
   "metadata": {},
   "outputs": [],
   "source": [
    "### source tweet data only \n",
    "src_tw_df['src_sentiment']=  src_tw_df['cleaned_src_tw'].apply(get_sentiment)"
   ]
  },
  {
   "cell_type": "markdown",
   "id": "entitled-poetry",
   "metadata": {},
   "source": [
    "### Visualization"
   ]
  },
  {
   "cell_type": "code",
   "execution_count": null,
   "id": "negative-photography",
   "metadata": {},
   "outputs": [],
   "source": [
    "print(df[df.label ==1]['reply_sentiment'].value_counts())\n",
    "plt.figure(figsize=(8,6))\n",
    "sns.countplot(x='reply_sentiment',data= df[df['label'] == 1])\n",
    "\n",
    "plt.suptitle('Sentiment analysis on Reply tweets under Catergory Rumour',fontsize=16)\n",
    "plt.title('Reply tweets show more positive attitude towards rumour tweet',fontsize=12,color='grey')\n",
    "plt.savefig('graph/putinmissing/senti_reply_rumour.pdf',dpi=300)"
   ]
  },
  {
   "cell_type": "code",
   "execution_count": null,
   "id": "provincial-fantasy",
   "metadata": {},
   "outputs": [],
   "source": [
    "print(df[df.label ==0]['reply_sentiment'].value_counts())\n",
    "plt.figure(figsize=(8,6))\n",
    "sns.countplot(x='reply_sentiment',data= df[df['label'] == 0])\n",
    "\n",
    "plt.suptitle('Sentiment analysis on Reply tweets under Catergory Non-Rumour',fontsize=16)\n",
    "plt.title('Reply tweets show more neutrual attitude towards non-rumour tweet',fontsize=12,color='grey')\n",
    "plt.savefig('graph/putinmissing/senti_reply_nonrumour.pdf',dpi=300)"
   ]
  },
  {
   "cell_type": "code",
   "execution_count": null,
   "id": "middle-sodium",
   "metadata": {},
   "outputs": [],
   "source": [
    "print(src_tw_df['src_sentiment'].value_counts())\n",
    "sns.countplot(x='src_sentiment',data =src_tw_df,hue='label')\n",
    "\n",
    "plt.suptitle('Sentiment analysis on Source Tweets',fontsize=16)\n",
    "plt.title('Rumour source tweets show more neutral attitude.',fontsize=12,color='grey')\n",
    "plt.savefig('graph/putinmissing/senti_source.pdf',dpi=300)"
   ]
  },
  {
   "cell_type": "markdown",
   "id": "interesting-possible",
   "metadata": {},
   "source": [
    "### save data to csv "
   ]
  },
  {
   "cell_type": "code",
   "execution_count": null,
   "id": "ambient-devon",
   "metadata": {},
   "outputs": [],
   "source": [
    "df.to_csv(r'D:\\論文\\PHEME9\\Data\\CSV\\putinmissing-df.csv',index=False)\n",
    "src_tw_df.to_csv(r'D:\\論文\\PHEME9\\Data\\CSV\\putinmissing-src.csv',index=False)"
   ]
  },
  {
   "cell_type": "markdown",
   "id": "casual-income",
   "metadata": {},
   "source": [
    "## Keywords Extraction\n",
    "### WordCloud"
   ]
  },
  {
   "cell_type": "code",
   "execution_count": null,
   "id": "usual-sense",
   "metadata": {},
   "outputs": [],
   "source": [
    "from wordcloud import WordCloud"
   ]
  },
  {
   "cell_type": "code",
   "execution_count": null,
   "id": "logical-detroit",
   "metadata": {},
   "outputs": [],
   "source": [
    "plt.figure(figsize=(20,10))\n",
    "mywordcloud = WordCloud().generate(docx)\n",
    "plt.imshow(mywordcloud,interpolation='bilinear')\n",
    "plt.axis('off')\n",
    "plt.show()"
   ]
  },
  {
   "cell_type": "markdown",
   "id": "antique-leader",
   "metadata": {},
   "source": [
    "#### Reply Tweets"
   ]
  },
  {
   "cell_type": "code",
   "execution_count": null,
   "id": "magnetic-architect",
   "metadata": {},
   "outputs": [],
   "source": [
    "#nltk.download('punkt')\n",
    "from nltk.tokenize import word_tokenize"
   ]
  },
  {
   "cell_type": "code",
   "execution_count": null,
   "id": "featured-mitchell",
   "metadata": {},
   "outputs": [],
   "source": [
    "reply_sen = df.cleaned_reply_tw.apply(word_tokenize)\n",
    "reply_tw_list = []\n",
    "for sen in reply_sen:\n",
    "    for token in sen:\n",
    "        reply_tw_list.append(token)\n",
    "reply_tw_doc = \" \".join(reply_tw_list)"
   ]
  },
  {
   "cell_type": "code",
   "execution_count": null,
   "id": "completed-equivalent",
   "metadata": {},
   "outputs": [],
   "source": [
    "plt.figure(figsize=(20,10))\n",
    "mywordcloud = WordCloud().generate(reply_tw_doc)\n",
    "plt.imshow(mywordcloud,interpolation='bilinear')\n",
    "plt.axis('off')\n",
    "plt.show()\n",
    "mywordcloud.to_file('graph/putinmissing/wordcloud_reply.pdf')"
   ]
  },
  {
   "cell_type": "code",
   "execution_count": null,
   "id": "creative-acceptance",
   "metadata": {},
   "outputs": [],
   "source": [
    "# positive \n",
    "posi_reply_sen = df[df.reply_sentiment=='Positive'].cleaned_reply_tw.apply(word_tokenize)\n",
    "posi_reply_tw_list = []\n",
    "for sen in posi_reply_sen:\n",
    "    for token in sen:\n",
    "        posi_reply_tw_list.append(token)\n",
    "posi_reply_tw_doc = \" \".join(posi_reply_tw_list)\n"
   ]
  },
  {
   "cell_type": "code",
   "execution_count": null,
   "id": "above-working",
   "metadata": {},
   "outputs": [],
   "source": [
    "plt.figure(figsize=(20,10))\n",
    "mywordcloud = WordCloud().generate(posi_reply_tw_doc)\n",
    "plt.imshow(mywordcloud,interpolation='bilinear')\n",
    "plt.axis('off')\n",
    "plt.show()\n",
    "mywordcloud.to_file('graph/putinmissing/wordcloud_reply_posi.pdf')"
   ]
  },
  {
   "cell_type": "markdown",
   "id": "baking-latest",
   "metadata": {},
   "source": [
    "#### Source Tweet"
   ]
  },
  {
   "cell_type": "code",
   "execution_count": null,
   "id": "raised-belarus",
   "metadata": {},
   "outputs": [],
   "source": [
    "src_sen = src_tw_df.cleaned_src_tw.apply(word_tokenize)\n",
    "src_tw_list = []\n",
    "for sen in src_sen:\n",
    "    for token in sen:\n",
    "        src_tw_list.append(token)\n",
    "\n",
    "src_tw_doc = \" \".join(src_tw_list)"
   ]
  },
  {
   "cell_type": "code",
   "execution_count": null,
   "id": "remarkable-washer",
   "metadata": {},
   "outputs": [],
   "source": [
    "plt.figure(figsize=(20,10))\n",
    "mywordcloud = WordCloud().generate(src_tw_doc)\n",
    "plt.imshow(mywordcloud,interpolation='bilinear')\n",
    "plt.axis('off')\n",
    "plt.show()\n",
    "mywordcloud.to_file('graph/putinmissing/wordcloud_src.pdf')"
   ]
  },
  {
   "cell_type": "markdown",
   "id": "diverse-house",
   "metadata": {},
   "source": [
    "### Common"
   ]
  },
  {
   "cell_type": "code",
   "execution_count": null,
   "id": "south-theta",
   "metadata": {},
   "outputs": [],
   "source": [
    "from collections import Counter"
   ]
  },
  {
   "cell_type": "code",
   "execution_count": null,
   "id": "fatal-prison",
   "metadata": {},
   "outputs": [],
   "source": [
    "def get_tokens(docx,num=30):\n",
    "    word_tokens = Counter(docx)\n",
    "    most_common = word_tokens.most_common(num)\n",
    "    result = dict(most_common)\n",
    "    return result"
   ]
  },
  {
   "cell_type": "code",
   "execution_count": null,
   "id": "crucial-workplace",
   "metadata": {},
   "outputs": [],
   "source": [
    "pd.DataFrame(get_tokens(reply_tw_list).items(),columns=['word','freq']).plot(kind='bar',x='word',y='freq')\n",
    "plt.title(\"Most frequent words among reply tweets are 'Prince','show','tonight'.\")"
   ]
  },
  {
   "cell_type": "code",
   "execution_count": null,
   "id": "intelligent-glance",
   "metadata": {},
   "outputs": [],
   "source": [
    "pd.DataFrame(get_tokens(src_tw_list).items(),columns=['word','freq']).plot(kind='bar',x='word',y='freq')\n",
    "plt.title(\"Most frequent words among source tweets are 'Price', 'show', 'tonight'\")\n"
   ]
  },
  {
   "cell_type": "markdown",
   "id": "young-drill",
   "metadata": {},
   "source": [
    "## Emotion Detection"
   ]
  },
  {
   "cell_type": "markdown",
   "id": "musical-offer",
   "metadata": {},
   "source": [
    "### text2emotion package\n",
    "https://snyk.io/advisor/python/text2emotion "
   ]
  },
  {
   "cell_type": "code",
   "execution_count": 14,
   "id": "horizontal-entrance",
   "metadata": {},
   "outputs": [
    {
     "name": "stderr",
     "output_type": "stream",
     "text": [
      "[nltk_data] Downloading package stopwords to\n",
      "[nltk_data]     C:\\Users\\user\\AppData\\Roaming\\nltk_data...\n",
      "[nltk_data]   Package stopwords is already up-to-date!\n",
      "[nltk_data] Downloading package punkt to\n",
      "[nltk_data]     C:\\Users\\user\\AppData\\Roaming\\nltk_data...\n",
      "[nltk_data]   Package punkt is already up-to-date!\n",
      "[nltk_data] Downloading package wordnet to\n",
      "[nltk_data]     C:\\Users\\user\\AppData\\Roaming\\nltk_data...\n",
      "[nltk_data]   Package wordnet is already up-to-date!\n"
     ]
    }
   ],
   "source": [
    "import text2emotion as te"
   ]
  },
  {
   "cell_type": "code",
   "execution_count": 15,
   "id": "respective-ultimate",
   "metadata": {},
   "outputs": [],
   "source": [
    "emotion = df.cleaned_reply_tw.apply(te.get_emotion)"
   ]
  },
  {
   "cell_type": "code",
   "execution_count": 16,
   "id": "spatial-frame",
   "metadata": {},
   "outputs": [],
   "source": [
    "emo = emotion.apply(lambda x: max(x,key=x.get))\n",
    "df['emotion']=emo"
   ]
  },
  {
   "cell_type": "code",
   "execution_count": 17,
   "id": "split-battlefield",
   "metadata": {},
   "outputs": [],
   "source": [
    "df.to_csv(r'D:\\論文\\PHEME9\\Data\\CSV\\putinmissing-df.csv',index=False)"
   ]
  },
  {
   "cell_type": "code",
   "execution_count": 18,
   "id": "pursuant-silly",
   "metadata": {},
   "outputs": [],
   "source": [
    "emotion1 = src_tw_df.cleaned_src_tw.apply(te.get_emotion)\n",
    "emo1 = emotion.apply(lambda x: max(x,key=x.get))\n",
    "src_tw_df['emotion']=emo1"
   ]
  },
  {
   "cell_type": "code",
   "execution_count": 19,
   "id": "noted-college",
   "metadata": {},
   "outputs": [],
   "source": [
    "src_tw_df.to_csv(r'D:\\論文\\PHEME9\\Data\\CSV\\putinmissing-src.csv',index=False)"
   ]
  },
  {
   "cell_type": "code",
   "execution_count": null,
   "id": "junior-asthma",
   "metadata": {},
   "outputs": [],
   "source": []
  }
 ],
 "metadata": {
  "kernelspec": {
   "display_name": "Python 3",
   "language": "python",
   "name": "python3"
  },
  "language_info": {
   "codemirror_mode": {
    "name": "ipython",
    "version": 3
   },
   "file_extension": ".py",
   "mimetype": "text/x-python",
   "name": "python",
   "nbconvert_exporter": "python",
   "pygments_lexer": "ipython3",
   "version": "3.9.1"
  },
  "toc-autonumbering": true,
  "toc-showmarkdowntxt": false
 },
 "nbformat": 4,
 "nbformat_minor": 5
}
