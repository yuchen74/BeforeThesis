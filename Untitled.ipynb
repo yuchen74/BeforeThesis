{
 "cells": [
  {
   "cell_type": "code",
   "execution_count": 1,
   "id": "liable-cancellation",
   "metadata": {},
   "outputs": [],
   "source": [
    "import os\n",
    "import numpy as np\n",
    "import pandas as pd\n",
    "import json\n",
    "import csv"
   ]
  },
  {
   "cell_type": "code",
   "execution_count": 12,
   "id": "covered-assist",
   "metadata": {},
   "outputs": [],
   "source": [
    "ids = \"D:\\\\論文\\\\PHEME9\\\\Data\\\\charliehebdo\\\\non-rumours\\\\552787144373460992\\\\structure.json\""
   ]
  },
  {
   "cell_type": "code",
   "execution_count": 44,
   "id": "patient-employment",
   "metadata": {},
   "outputs": [],
   "source": [
    "ids = r\"D:\\論文\\PHEME9\\Data\\charliehebdo\\non-rumours\\552787144373460992\\reactions\\552794486527766528.json\"\n",
    "with open(ids,'r') as f:\n",
    "    src_json = json.loads(f.read())"
   ]
  },
  {
   "cell_type": "code",
   "execution_count": 45,
   "id": "determined-small",
   "metadata": {},
   "outputs": [
    {
     "data": {
      "text/plain": [
       "{'contributors': None,\n",
       " 'truncated': False,\n",
       " 'text': \"@dcrandy_pickles @Observers @WilliamMolinie they aren't. I believe at least 2 are deceased.\",\n",
       " 'in_reply_to_status_id': 552793905952215040,\n",
       " 'id': 552794486527766528,\n",
       " 'favorite_count': 0,\n",
       " 'source': '<a href=\"http://twitter.com/download/android\" rel=\"nofollow\">Twitter for Android</a>',\n",
       " 'retweeted': False,\n",
       " 'coordinates': None,\n",
       " 'entities': {'symbols': [],\n",
       "  'user_mentions': [{'id': 1240867502,\n",
       "    'indices': [0, 16],\n",
       "    'id_str': '1240867502',\n",
       "    'screen_name': 'dcrandy_pickles',\n",
       "    'name': 'dc randy pickles'},\n",
       "   {'id': 16525194,\n",
       "    'indices': [17, 27],\n",
       "    'id_str': '16525194',\n",
       "    'screen_name': 'Observers',\n",
       "    'name': 'The Observers'},\n",
       "   {'id': 24987381,\n",
       "    'indices': [28, 43],\n",
       "    'id_str': '24987381',\n",
       "    'screen_name': 'WilliamMolinie',\n",
       "    'name': 'William Molinié'}],\n",
       "  'hashtags': [],\n",
       "  'urls': []},\n",
       " 'in_reply_to_screen_name': 'dcrandy_pickles',\n",
       " 'id_str': '552794486527766528',\n",
       " 'retweet_count': 0,\n",
       " 'in_reply_to_user_id': 1240867502,\n",
       " 'favorited': False,\n",
       " 'user': {'follow_request_sent': False,\n",
       "  'profile_use_background_image': True,\n",
       "  'profile_text_color': '333333',\n",
       "  'default_profile_image': False,\n",
       "  'id': 2729115517,\n",
       "  'profile_background_image_url_https': 'https://abs.twimg.com/images/themes/theme1/bg.png',\n",
       "  'verified': False,\n",
       "  'profile_location': None,\n",
       "  'profile_image_url_https': 'https://pbs.twimg.com/profile_images/578596100694765568/qg-g9NYM_normal.jpeg',\n",
       "  'profile_sidebar_fill_color': 'DDEEF6',\n",
       "  'entities': {'description': {'urls': []}},\n",
       "  'followers_count': 464,\n",
       "  'profile_sidebar_border_color': 'C0DEED',\n",
       "  'id_str': '2729115517',\n",
       "  'profile_background_color': 'C0DEED',\n",
       "  'listed_count': 4,\n",
       "  'is_translation_enabled': False,\n",
       "  'utc_offset': None,\n",
       "  'statuses_count': 2657,\n",
       "  'description': 'UK Response PC, Home Office Force, over 9 years service. Town of 150,000. Previously NHPT, DV, Intel & A/PS. PSD regular. Rural & Urban Cop. All views my own',\n",
       "  'friends_count': 268,\n",
       "  'location': 'Sandford, United Kingdom',\n",
       "  'profile_link_color': '0084B4',\n",
       "  'profile_image_url': 'http://pbs.twimg.com/profile_images/578596100694765568/qg-g9NYM_normal.jpeg',\n",
       "  'following': False,\n",
       "  'geo_enabled': False,\n",
       "  'profile_banner_url': 'https://pbs.twimg.com/profile_banners/2729115517/1421240115',\n",
       "  'profile_background_image_url': 'http://abs.twimg.com/images/themes/theme1/bg.png',\n",
       "  'name': 'UKResponseCop',\n",
       "  'lang': 'en-gb',\n",
       "  'profile_background_tile': False,\n",
       "  'favourites_count': 1472,\n",
       "  'screen_name': 'UKResponseCop',\n",
       "  'notifications': False,\n",
       "  'url': None,\n",
       "  'created_at': 'Wed Aug 13 10:18:32 +0000 2014',\n",
       "  'contributors_enabled': False,\n",
       "  'time_zone': None,\n",
       "  'protected': False,\n",
       "  'default_profile': True,\n",
       "  'is_translator': False},\n",
       " 'geo': None,\n",
       " 'in_reply_to_user_id_str': '1240867502',\n",
       " 'lang': 'en',\n",
       " 'created_at': 'Wed Jan 07 11:50:50 +0000 2015',\n",
       " 'in_reply_to_status_id_str': '552793905952215040',\n",
       " 'place': None}"
      ]
     },
     "execution_count": 45,
     "metadata": {},
     "output_type": "execute_result"
    }
   ],
   "source": [
    "src_json"
   ]
  },
  {
   "cell_type": "code",
   "execution_count": 33,
   "id": "composed-ultimate",
   "metadata": {},
   "outputs": [],
   "source": [
    "data =  pd.json_normalize(src_json,meta =['id','text','created_at'], max_level=1)\n",
    "data['user.id']"
   ]
  },
  {
   "cell_type": "code",
   "execution_count": 41,
   "id": "romantic-humidity",
   "metadata": {},
   "outputs": [],
   "source": [
    "a= [pos for pos in os.listdir(r'D:\\論文\\PHEME9\\Data\\gurlitt\\non-rumours\\535804563832315904\\reactions')]"
   ]
  },
  {
   "cell_type": "code",
   "execution_count": 42,
   "id": "round-hampshire",
   "metadata": {},
   "outputs": [
    {
     "data": {
      "text/plain": [
       "[]"
      ]
     },
     "execution_count": 42,
     "metadata": {},
     "output_type": "execute_result"
    }
   ],
   "source": [
    "a"
   ]
  },
  {
   "cell_type": "code",
   "execution_count": 43,
   "id": "recreational-proposal",
   "metadata": {},
   "outputs": [
    {
     "data": {
      "text/plain": [
       "0"
      ]
     },
     "execution_count": 43,
     "metadata": {},
     "output_type": "execute_result"
    }
   ],
   "source": [
    "len(a)"
   ]
  },
  {
   "cell_type": "code",
   "execution_count": null,
   "id": "coordinate-shannon",
   "metadata": {},
   "outputs": [],
   "source": []
  }
 ],
 "metadata": {
  "kernelspec": {
   "display_name": "Python 3",
   "language": "python",
   "name": "python3"
  },
  "language_info": {
   "codemirror_mode": {
    "name": "ipython",
    "version": 3
   },
   "file_extension": ".py",
   "mimetype": "text/x-python",
   "name": "python",
   "nbconvert_exporter": "python",
   "pygments_lexer": "ipython3",
   "version": "3.9.1"
  }
 },
 "nbformat": 4,
 "nbformat_minor": 5
}
