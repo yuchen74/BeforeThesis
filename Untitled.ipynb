{
 "cells": [
  {
   "cell_type": "code",
   "execution_count": null,
   "id": "square-hands",
   "metadata": {},
   "outputs": [],
   "source": [
    "ids = r\"D:\\論文\\PHEME9\\Data\\charliehebdo\\non-rumours\\552787144373460992\""
   ]
  },
  {
   "cell_type": "code",
   "execution_count": null,
   "id": "textile-prize",
   "metadata": {},
   "outputs": [],
   "source": [
    "with open(ids,'r') as f:\n",
    "                                        src_json = json.load(f)"
   ]
  }
 ],
 "metadata": {
  "kernelspec": {
   "display_name": "",
   "name": ""
  },
  "language_info": {
   "name": ""
  }
 },
 "nbformat": 4,
 "nbformat_minor": 5
}
