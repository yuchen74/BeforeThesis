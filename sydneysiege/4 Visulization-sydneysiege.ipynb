{
 "cells": [
  {
   "cell_type": "markdown",
   "id": "ruled-appendix",
   "metadata": {},
   "source": [
    "# Dataset: *sydneysiege*"
   ]
  },
  {
   "cell_type": "markdown",
   "id": "proved-portsmouth",
   "metadata": {},
   "source": [
    "- df.to_csv(r'D:\\論文\\PHEME9\\Data\\CSV\\sydneysiege-df.csv',index=False)\n",
    "- src_tw_df.to_csv(r'D:\\論文\\PHEME9\\Data\\CSV\\sydneysiege-src.csv',index=False)"
   ]
  },
  {
   "cell_type": "code",
   "execution_count": 5,
   "id": "acting-future",
   "metadata": {},
   "outputs": [],
   "source": [
    "import numpy as np\n",
    "import pandas as pd\n",
    "import datetime \n",
    "import matplotlib.pyplot as plt\n",
    "import seaborn as sns\n",
    "from wordcloud import WordCloud,ImageColorGenerator\n",
    "import nltk\n",
    "from nltk import FreqDist, word_tokenize"
   ]
  },
  {
   "cell_type": "code",
   "execution_count": 6,
   "id": "latest-starter",
   "metadata": {},
   "outputs": [
    {
     "name": "stdout",
     "output_type": "stream",
     "text": [
      "Index(['src_tweet_id', 'src_user_id', 'src_tweet', 'src_date',\n",
      "       'reply_tweet_id', 'reply_user_id', 'reply_tweet', 'reply_date', 'label',\n",
      "       'cleaned_reply_tw', 'reply_sentiment', 'reply_emo_ro'],\n",
      "      dtype='object')\n",
      "(21357, 12)\n"
     ]
    },
    {
     "data": {
      "text/html": [
       "<div>\n",
       "<style scoped>\n",
       "    .dataframe tbody tr th:only-of-type {\n",
       "        vertical-align: middle;\n",
       "    }\n",
       "\n",
       "    .dataframe tbody tr th {\n",
       "        vertical-align: top;\n",
       "    }\n",
       "\n",
       "    .dataframe thead th {\n",
       "        text-align: right;\n",
       "    }\n",
       "</style>\n",
       "<table border=\"1\" class=\"dataframe\">\n",
       "  <thead>\n",
       "    <tr style=\"text-align: right;\">\n",
       "      <th></th>\n",
       "      <th>src_tweet_id</th>\n",
       "      <th>src_user_id</th>\n",
       "      <th>src_tweet</th>\n",
       "      <th>src_date</th>\n",
       "      <th>reply_tweet_id</th>\n",
       "      <th>reply_user_id</th>\n",
       "      <th>reply_tweet</th>\n",
       "      <th>reply_date</th>\n",
       "      <th>label</th>\n",
       "      <th>cleaned_reply_tw</th>\n",
       "      <th>reply_sentiment</th>\n",
       "      <th>reply_emo_ro</th>\n",
       "    </tr>\n",
       "  </thead>\n",
       "  <tbody>\n",
       "    <tr>\n",
       "      <th>0</th>\n",
       "      <td>544266241511133186</td>\n",
       "      <td>23041630</td>\n",
       "      <td>A police operation is underway in Martin Place...</td>\n",
       "      <td>Sun Dec 14 23:02:38 +0000 2014</td>\n",
       "      <td>544275366588588032</td>\n",
       "      <td>14121167</td>\n",
       "      <td>“@nswpolice: A police operation is underway in...</td>\n",
       "      <td>Sun Dec 14 23:38:54 +0000 2014</td>\n",
       "      <td>0</td>\n",
       "      <td>sicken</td>\n",
       "      <td>Negative</td>\n",
       "      <td>anger</td>\n",
       "    </tr>\n",
       "  </tbody>\n",
       "</table>\n",
       "</div>"
      ],
      "text/plain": [
       "         src_tweet_id  src_user_id  \\\n",
       "0  544266241511133186     23041630   \n",
       "\n",
       "                                           src_tweet  \\\n",
       "0  A police operation is underway in Martin Place...   \n",
       "\n",
       "                         src_date      reply_tweet_id  reply_user_id  \\\n",
       "0  Sun Dec 14 23:02:38 +0000 2014  544275366588588032       14121167   \n",
       "\n",
       "                                         reply_tweet  \\\n",
       "0  “@nswpolice: A police operation is underway in...   \n",
       "\n",
       "                       reply_date  label cleaned_reply_tw reply_sentiment  \\\n",
       "0  Sun Dec 14 23:38:54 +0000 2014      0           sicken        Negative   \n",
       "\n",
       "  reply_emo_ro  \n",
       "0        anger  "
      ]
     },
     "execution_count": 6,
     "metadata": {},
     "output_type": "execute_result"
    }
   ],
   "source": [
    "df = pd.read_csv(r'D:\\論文\\PHEME9\\Data\\CSV\\sydneysiege-df-2.csv', encoding = 'utf-8', header = 0)\n",
    "print(df.columns)\n",
    "print(df.shape)\n",
    "df.head(1)"
   ]
  },
  {
   "cell_type": "code",
   "execution_count": 7,
   "id": "white-cleaners",
   "metadata": {},
   "outputs": [
    {
     "name": "stdout",
     "output_type": "stream",
     "text": [
      "Index(['src_tweet_id', 'src_user_id', 'src_tweet', 'src_date', 'label',\n",
      "       'cleaned_src_tw', 'src_sentiment', 'src_emo_ro'],\n",
      "      dtype='object')\n",
      "(1173, 8)\n"
     ]
    },
    {
     "data": {
      "text/html": [
       "<div>\n",
       "<style scoped>\n",
       "    .dataframe tbody tr th:only-of-type {\n",
       "        vertical-align: middle;\n",
       "    }\n",
       "\n",
       "    .dataframe tbody tr th {\n",
       "        vertical-align: top;\n",
       "    }\n",
       "\n",
       "    .dataframe thead th {\n",
       "        text-align: right;\n",
       "    }\n",
       "</style>\n",
       "<table border=\"1\" class=\"dataframe\">\n",
       "  <thead>\n",
       "    <tr style=\"text-align: right;\">\n",
       "      <th></th>\n",
       "      <th>src_tweet_id</th>\n",
       "      <th>src_user_id</th>\n",
       "      <th>src_tweet</th>\n",
       "      <th>src_date</th>\n",
       "      <th>label</th>\n",
       "      <th>cleaned_src_tw</th>\n",
       "      <th>src_sentiment</th>\n",
       "      <th>src_emo_ro</th>\n",
       "    </tr>\n",
       "  </thead>\n",
       "  <tbody>\n",
       "    <tr>\n",
       "      <th>0</th>\n",
       "      <td>544266241511133186</td>\n",
       "      <td>23041630</td>\n",
       "      <td>A police operation is underway in Martin Place...</td>\n",
       "      <td>Sun Dec 14 23:02:38 +0000 2014</td>\n",
       "      <td>0</td>\n",
       "      <td>police operation underway martin place sydneys...</td>\n",
       "      <td>Negative</td>\n",
       "      <td>sadness</td>\n",
       "    </tr>\n",
       "  </tbody>\n",
       "</table>\n",
       "</div>"
      ],
      "text/plain": [
       "         src_tweet_id  src_user_id  \\\n",
       "0  544266241511133186     23041630   \n",
       "\n",
       "                                           src_tweet  \\\n",
       "0  A police operation is underway in Martin Place...   \n",
       "\n",
       "                         src_date  label  \\\n",
       "0  Sun Dec 14 23:02:38 +0000 2014      0   \n",
       "\n",
       "                                      cleaned_src_tw src_sentiment src_emo_ro  \n",
       "0  police operation underway martin place sydneys...      Negative    sadness  "
      ]
     },
     "execution_count": 7,
     "metadata": {},
     "output_type": "execute_result"
    }
   ],
   "source": [
    "src_tw_df = pd.read_csv(r'D:\\論文\\PHEME9\\Data\\CSV\\sydneysiege-src-2.csv', encoding = 'utf-8', header =0)\n",
    "print(src_tw_df.columns)\n",
    "print(src_tw_df.shape)\n",
    "src_tw_df.head(1)"
   ]
  },
  {
   "cell_type": "code",
   "execution_count": null,
   "id": "starting-gender",
   "metadata": {},
   "outputs": [],
   "source": [
    "src_tw_df.loc[src_tw_df.cleaned_src_tw.isnull(),['src_tweet_id','src_tweet','cleaned_src_tw','src_sentiment']]"
   ]
  },
  {
   "cell_type": "code",
   "execution_count": 8,
   "id": "dimensional-funds",
   "metadata": {},
   "outputs": [
    {
     "data": {
      "text/html": [
       "<div>\n",
       "<style scoped>\n",
       "    .dataframe tbody tr th:only-of-type {\n",
       "        vertical-align: middle;\n",
       "    }\n",
       "\n",
       "    .dataframe tbody tr th {\n",
       "        vertical-align: top;\n",
       "    }\n",
       "\n",
       "    .dataframe thead th {\n",
       "        text-align: right;\n",
       "    }\n",
       "</style>\n",
       "<table border=\"1\" class=\"dataframe\">\n",
       "  <thead>\n",
       "    <tr style=\"text-align: right;\">\n",
       "      <th></th>\n",
       "      <th>src_tweet_id</th>\n",
       "      <th>src_user_id</th>\n",
       "      <th>src_tweet</th>\n",
       "      <th>src_date</th>\n",
       "      <th>reply_tweet_id</th>\n",
       "      <th>reply_user_id</th>\n",
       "      <th>reply_tweet</th>\n",
       "      <th>reply_date</th>\n",
       "      <th>label</th>\n",
       "      <th>cleaned_reply_tw</th>\n",
       "      <th>reply_sentiment</th>\n",
       "      <th>reply_emo_ro</th>\n",
       "      <th>cleaned_src_tw</th>\n",
       "      <th>src_sentiment</th>\n",
       "      <th>src_emo_ro</th>\n",
       "    </tr>\n",
       "  </thead>\n",
       "  <tbody>\n",
       "    <tr>\n",
       "      <th>0</th>\n",
       "      <td>544266241511133186</td>\n",
       "      <td>23041630</td>\n",
       "      <td>A police operation is underway in Martin Place...</td>\n",
       "      <td>Sun Dec 14 23:02:38 +0000 2014</td>\n",
       "      <td>544275366588588032</td>\n",
       "      <td>14121167</td>\n",
       "      <td>“@nswpolice: A police operation is underway in...</td>\n",
       "      <td>Sun Dec 14 23:38:54 +0000 2014</td>\n",
       "      <td>0</td>\n",
       "      <td>sicken</td>\n",
       "      <td>Negative</td>\n",
       "      <td>anger</td>\n",
       "      <td>police operation underway martin place sydneys...</td>\n",
       "      <td>Negative</td>\n",
       "      <td>sadness</td>\n",
       "    </tr>\n",
       "  </tbody>\n",
       "</table>\n",
       "</div>"
      ],
      "text/plain": [
       "         src_tweet_id  src_user_id  \\\n",
       "0  544266241511133186     23041630   \n",
       "\n",
       "                                           src_tweet  \\\n",
       "0  A police operation is underway in Martin Place...   \n",
       "\n",
       "                         src_date      reply_tweet_id  reply_user_id  \\\n",
       "0  Sun Dec 14 23:02:38 +0000 2014  544275366588588032       14121167   \n",
       "\n",
       "                                         reply_tweet  \\\n",
       "0  “@nswpolice: A police operation is underway in...   \n",
       "\n",
       "                       reply_date  label cleaned_reply_tw reply_sentiment  \\\n",
       "0  Sun Dec 14 23:38:54 +0000 2014      0           sicken        Negative   \n",
       "\n",
       "  reply_emo_ro                                     cleaned_src_tw  \\\n",
       "0        anger  police operation underway martin place sydneys...   \n",
       "\n",
       "  src_sentiment src_emo_ro  \n",
       "0      Negative    sadness  "
      ]
     },
     "execution_count": 8,
     "metadata": {},
     "output_type": "execute_result"
    }
   ],
   "source": [
    "df1 = pd.merge(df, src_tw_df[['src_tweet_id','cleaned_src_tw','src_sentiment','src_emo_ro']],\\\n",
    "               on='src_tweet_id')\n",
    "df1.head(1)"
   ]
  },
  {
   "cell_type": "code",
   "execution_count": 9,
   "id": "induced-commissioner",
   "metadata": {},
   "outputs": [
    {
     "name": "stdout",
     "output_type": "stream",
     "text": [
      "df's shape:  (21357, 12)\n",
      "df1's shape:  (21357, 15)\n",
      "src_tw_df's shapes:  (1173, 8)\n"
     ]
    }
   ],
   "source": [
    "print(\"df's shape: \",df.shape)\n",
    "print(\"df1's shape: \",df1.shape)\n",
    "print(\"src_tw_df's shapes: \", src_tw_df.shape)"
   ]
  },
  {
   "cell_type": "code",
   "execution_count": null,
   "id": "defined-attack",
   "metadata": {},
   "outputs": [],
   "source": [
    "src_null = df1.loc[df1.cleaned_src_tw.isnull()].index"
   ]
  },
  {
   "cell_type": "code",
   "execution_count": null,
   "id": "juvenile-extraction",
   "metadata": {},
   "outputs": [],
   "source": [
    "#df1.drop(src_null,0).shape"
   ]
  },
  {
   "cell_type": "markdown",
   "id": "creative-crossing",
   "metadata": {},
   "source": [
    "## Sentiment Analysis"
   ]
  },
  {
   "cell_type": "code",
   "execution_count": 11,
   "id": "military-remainder",
   "metadata": {},
   "outputs": [
    {
     "data": {
      "text/plain": [
       "0    0.573743\n",
       "1    0.426257\n",
       "Name: label, dtype: float64"
      ]
     },
     "execution_count": 11,
     "metadata": {},
     "output_type": "execute_result"
    }
   ],
   "source": [
    "src_tw_df.label.value_counts(normalize=True)"
   ]
  },
  {
   "cell_type": "markdown",
   "id": "extra-section",
   "metadata": {},
   "source": [
    "### Source Tweets "
   ]
  },
  {
   "cell_type": "code",
   "execution_count": 12,
   "id": "figured-stress",
   "metadata": {},
   "outputs": [
    {
     "data": {
      "image/png": "[encoded data removed]",
      "text/plain": [
       "<Figure size 432x288 with 1 Axes>"
      ]
     },
     "metadata": {
      "needs_background": "light"
     },
     "output_type": "display_data"
    }
   ],
   "source": [
    "g = src_tw_df.groupby(['label'])['src_sentiment'].value_counts(normalize=True).mul(100).rename('count').reset_index()\\\n",
    ".pipe((sns.barplot,'data'), x ='label',y='count',hue='src_sentiment',palette=\"vlag\")\n",
    "\n",
    "g.axes.set_ylim(0,100)\n",
    "g.axes.set_xticklabels(['Non-rumor','Rumor'])\n",
    "g.axes.set_ylabel('Count (%)')\n",
    "g.axes.set_title('Sentiment Analysis of Source Tweet (for each label)')\n",
    "\n",
    "for p in g.axes.patches:\n",
    "    txt = str(p.get_height().round(1)) + '%'\n",
    "    txt_x = p.get_x() \n",
    "    txt_y = p.get_height()\n",
    "    g.axes.text(txt_x,txt_y,txt)\n",
    "\n",
    "plt.savefig('D:/論文/PHEME9/Code/graph/sydneysiege/src-sentiment.pdf',dpi=300)"
   ]
  },
  {
   "cell_type": "code",
   "execution_count": 13,
   "id": "moral-alfred",
   "metadata": {},
   "outputs": [
    {
     "data": {
      "text/plain": [
       "Text(0.5, 1.0, '# of rumor/non-rumor Source tweet (for each sentiment class).')"
      ]
     },
     "execution_count": 13,
     "metadata": {},
     "output_type": "execute_result"
    },
    {
     "data": {
      "image/png": "[encoded data removed]",
      "text/plain": [
       "<Figure size 432x288 with 1 Axes>"
      ]
     },
     "metadata": {
      "needs_background": "light"
     },
     "output_type": "display_data"
    }
   ],
   "source": [
    "g = src_tw_df.groupby(['src_sentiment'])['label'].value_counts(normalize=True).mul(100).rename('count').reset_index()\\\n",
    ".pipe((sns.barplot,'data'), x ='src_sentiment',y='count',hue='label',palette=\"vlag\")\n",
    "\n",
    "g.axes.set_ylim(0,100)\n",
    "g.axes.set_ylabel('Count (%)')\n",
    "\n",
    "for p in g.axes.patches:\n",
    "    txt = str(p.get_height().round(1)) + '%'\n",
    "    txt_x = p.get_x() \n",
    "    txt_y = p.get_height()\n",
    "    g.axes.text(txt_x,txt_y,txt)\n",
    "plt.title('# of rumor/non-rumor Source tweet (for each sentiment class).',fontsize=12)"
   ]
  },
  {
   "cell_type": "markdown",
   "id": "entitled-blake",
   "metadata": {},
   "source": [
    "### Reply Tweets"
   ]
  },
  {
   "cell_type": "code",
   "execution_count": null,
   "id": "primary-stranger",
   "metadata": {},
   "outputs": [],
   "source": [
    "df.reply_sentiment.value_counts(normalize=True)"
   ]
  },
  {
   "cell_type": "code",
   "execution_count": 14,
   "id": "challenging-exposure",
   "metadata": {},
   "outputs": [
    {
     "data": {
      "image/png": "[encoded data removed]",
      "text/plain": [
       "<Figure size 432x288 with 1 Axes>"
      ]
     },
     "metadata": {
      "needs_background": "light"
     },
     "output_type": "display_data"
    }
   ],
   "source": [
    "g = df.groupby(['label'])['reply_sentiment'].value_counts(normalize=True).mul(100).rename('count').reset_index()\\\n",
    ".pipe((sns.barplot,'data'), x ='label',y='count',hue='reply_sentiment',palette=\"Set3\")\n",
    "\n",
    "g.axes.set_ylim(0,100)\n",
    "g.axes.set_title('Sentiment Analysis of Reply Tweet (for each label)')\n",
    "g.axes.set_xticklabels(['Non-rumor','Rumor'])\n",
    "g.axes.set_ylabel('Count (%)')\n",
    "\n",
    "for p in g.axes.patches:\n",
    "    txt = str(p.get_height().round(1)) + '%'\n",
    "    txt_x = p.get_x() \n",
    "    txt_y = p.get_height()\n",
    "    g.axes.text(txt_x,txt_y,txt)\n",
    "plt.savefig('D:/論文/PHEME9/Code/graph/sydneysiege/reply-sentiment.pdf',dpi=300)"
   ]
  },
  {
   "cell_type": "code",
   "execution_count": 15,
   "id": "super-modern",
   "metadata": {},
   "outputs": [
    {
     "data": {
      "text/plain": [
       "Text(0.5, 1.0, '# of rumor/non-rumor Reply tweet (for each sentiment class).')"
      ]
     },
     "execution_count": 15,
     "metadata": {},
     "output_type": "execute_result"
    },
    {
     "data": {
      "image/png": "[encoded data removed]",
      "text/plain": [
       "<Figure size 432x288 with 1 Axes>"
      ]
     },
     "metadata": {
      "needs_background": "light"
     },
     "output_type": "display_data"
    }
   ],
   "source": [
    "g = df.groupby(['reply_sentiment'])['label'].value_counts(normalize=True).mul(100).rename('count').reset_index()\\\n",
    ".pipe((sns.barplot,'data'), x ='reply_sentiment',y='count',hue='label',palette=\"Set3\")\n",
    "\n",
    "g.axes.set_ylim(0,100)\n",
    "g.axes.set_ylabel('Count (%)')\n",
    "\n",
    "for p in g.axes.patches:\n",
    "    txt = str(p.get_height().round(1)) + '%'\n",
    "    txt_x = p.get_x() \n",
    "    txt_y = p.get_height()\n",
    "    g.axes.text(txt_x,txt_y,txt)\n",
    "plt.title('# of rumor/non-rumor Reply tweet (for each sentiment class).',fontsize=12)"
   ]
  },
  {
   "cell_type": "markdown",
   "id": "balanced-makeup",
   "metadata": {},
   "source": [
    "## Emotion Analysis"
   ]
  },
  {
   "cell_type": "markdown",
   "id": "dutch-billion",
   "metadata": {},
   "source": [
    "### Source Tweets"
   ]
  },
  {
   "cell_type": "code",
   "execution_count": null,
   "id": "handled-trainer",
   "metadata": {},
   "outputs": [],
   "source": [
    "src_tw_df['src_emo_ro'].value_counts(normalize=True)"
   ]
  },
  {
   "cell_type": "code",
   "execution_count": 16,
   "id": "another-legislation",
   "metadata": {},
   "outputs": [
    {
     "data": {
      "image/png": "[encoded data removed]",
      "text/plain": [
       "<Figure size 432x288 with 1 Axes>"
      ]
     },
     "metadata": {
      "needs_background": "light"
     },
     "output_type": "display_data"
    }
   ],
   "source": [
    "g = src_tw_df.groupby(['label'])['src_emo_ro'].value_counts(normalize=True).mul(100).rename('count').reset_index()\\\n",
    ".pipe((sns.barplot,'data'), x ='label',y='count',hue='src_emo_ro',palette=\"vlag\")\n",
    "\n",
    "g.axes.set_ylim(0,100)\n",
    "g.axes.set_xticklabels(['Non-rumor','Rumor'])\n",
    "g.axes.set_ylabel('Count (%)')\n",
    "\n",
    "for p in g.axes.patches:\n",
    "    txt = str(p.get_height().round(1)) + '%'\n",
    "    txt_x = p.get_x() \n",
    "    txt_y = p.get_height()\n",
    "    g.axes.text(txt_x,txt_y,txt)\n",
    "plt.title('Emotion Analysis of Source tweet (for each label).',fontsize=12)\n",
    "plt.savefig('D:/論文/PHEME9/Code/graph/sydneysiege/src-emotion.pdf',dpi=300)"
   ]
  },
  {
   "cell_type": "markdown",
   "id": "administrative-operation",
   "metadata": {},
   "source": [
    "### Reply Tweets"
   ]
  },
  {
   "cell_type": "code",
   "execution_count": 17,
   "id": "related-shelf",
   "metadata": {},
   "outputs": [
    {
     "data": {
      "image/png": "[encoded data removed]",
      "text/plain": [
       "<Figure size 432x288 with 1 Axes>"
      ]
     },
     "metadata": {
      "needs_background": "light"
     },
     "output_type": "display_data"
    }
   ],
   "source": [
    "g =df.groupby(['label'])['reply_emo_ro'].value_counts(normalize=True).mul(100).rename('count').reset_index()\\\n",
    ".pipe((sns.barplot,'data'), x ='label',y='count',hue='reply_emo_ro',palette=\"Set3\")\n",
    "\n",
    "g.axes.set_ylim(0,100)\n",
    "g.axes.set_xticklabels(['Non-rumor','Rumor'])\n",
    "g.axes.set_ylabel('Count (%)')\n",
    "\n",
    "for p in g.axes.patches:\n",
    "    txt = str(p.get_height().round(1)) + '%'\n",
    "    txt_x = p.get_x() \n",
    "    txt_y = p.get_height()\n",
    "    g.axes.text(txt_x,txt_y,txt)\n",
    "plt.title('Emotion Analysis of Reply tweet (for each label).',fontsize=12)\n",
    "plt.savefig('D:/論文/PHEME9/Code/graph/sydneysiege/reply-emotion.pdf',dpi=300)"
   ]
  },
  {
   "cell_type": "code",
   "execution_count": null,
   "id": "committed-simpson",
   "metadata": {},
   "outputs": [],
   "source": []
  }
 ],
 "metadata": {
  "kernelspec": {
   "display_name": "Python 3",
   "language": "python",
   "name": "python3"
  },
  "language_info": {
   "codemirror_mode": {
    "name": "ipython",
    "version": 3
   },
   "file_extension": ".py",
   "mimetype": "text/x-python",
   "name": "python",
   "nbconvert_exporter": "python",
   "pygments_lexer": "ipython3",
   "version": "3.9.1"
  },
  "toc-autonumbering": true,
  "toc-showmarkdowntxt": false
 },
 "nbformat": 4,
 "nbformat_minor": 5
}
