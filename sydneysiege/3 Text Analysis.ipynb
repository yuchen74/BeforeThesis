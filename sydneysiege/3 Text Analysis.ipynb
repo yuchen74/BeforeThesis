{
 "cells": [
  {
   "cell_type": "markdown",
   "id": "hawaiian-parker",
   "metadata": {},
   "source": [
    "# Text Analysis on sydneysiege data"
   ]
  },
  {
   "cell_type": "code",
   "execution_count": 1,
   "id": "flying-costs",
   "metadata": {},
   "outputs": [],
   "source": [
    "import numpy as np\n",
    "import pandas as pd\n",
    "import datetime \n",
    "import matplotlib.pyplot as plt\n",
    "import seaborn as sns"
   ]
  },
  {
   "cell_type": "code",
   "execution_count": 2,
   "id": "corresponding-beach",
   "metadata": {},
   "outputs": [],
   "source": [
    "df = pd.read_csv(r'D:\\論文\\PHEME9\\Data\\CSV\\sydneysiege.csv', encoding = 'utf-8', header = None)\n",
    "df.columns = ['src_tweet_id', 'src_user_id', 'src_tweet','src_date','reply_tweet_id','reply_user_id','reply_tweet','reply_date', 'label']\n",
    "df.reply_tweet = df.reply_tweet.replace(np.nan,\"\")"
   ]
  },
  {
   "cell_type": "code",
   "execution_count": 3,
   "id": "brief-viking",
   "metadata": {},
   "outputs": [
    {
     "data": {
      "text/plain": [
       "Index(['src_tweet_id', 'src_user_id', 'src_tweet', 'src_date',\n",
       "       'reply_tweet_id', 'reply_user_id', 'reply_tweet', 'reply_date',\n",
       "       'label'],\n",
       "      dtype='object')"
      ]
     },
     "execution_count": 3,
     "metadata": {},
     "output_type": "execute_result"
    }
   ],
   "source": [
    "df.columns"
   ]
  },
  {
   "cell_type": "code",
   "execution_count": 4,
   "id": "connected-forge",
   "metadata": {},
   "outputs": [
    {
     "data": {
      "text/html": [
       "<div>\n",
       "<style scoped>\n",
       "    .dataframe tbody tr th:only-of-type {\n",
       "        vertical-align: middle;\n",
       "    }\n",
       "\n",
       "    .dataframe tbody tr th {\n",
       "        vertical-align: top;\n",
       "    }\n",
       "\n",
       "    .dataframe thead th {\n",
       "        text-align: right;\n",
       "    }\n",
       "</style>\n",
       "<table border=\"1\" class=\"dataframe\">\n",
       "  <thead>\n",
       "    <tr style=\"text-align: right;\">\n",
       "      <th></th>\n",
       "      <th>src_tweet_id</th>\n",
       "      <th>src_user_id</th>\n",
       "      <th>src_tweet</th>\n",
       "      <th>src_date</th>\n",
       "      <th>reply_tweet_id</th>\n",
       "      <th>reply_user_id</th>\n",
       "      <th>reply_tweet</th>\n",
       "      <th>reply_date</th>\n",
       "      <th>label</th>\n",
       "    </tr>\n",
       "  </thead>\n",
       "  <tbody>\n",
       "    <tr>\n",
       "      <th>0</th>\n",
       "      <td>544266241511133186</td>\n",
       "      <td>23041630</td>\n",
       "      <td>A police operation is underway in Martin Place...</td>\n",
       "      <td>Sun Dec 14 23:02:38 +0000 2014</td>\n",
       "      <td>544270066661851136</td>\n",
       "      <td>27735195</td>\n",
       "      <td>“@nswpolice: A police operation is underway in...</td>\n",
       "      <td>Sun Dec 14 23:17:50 +0000 2014</td>\n",
       "      <td>0</td>\n",
       "    </tr>\n",
       "    <tr>\n",
       "      <th>1</th>\n",
       "      <td>544266241511133186</td>\n",
       "      <td>23041630</td>\n",
       "      <td>A police operation is underway in Martin Place...</td>\n",
       "      <td>Sun Dec 14 23:02:38 +0000 2014</td>\n",
       "      <td>544273361334194176</td>\n",
       "      <td>14875436</td>\n",
       "      <td>RT @nswpolice: A police operation is underway ...</td>\n",
       "      <td>Sun Dec 14 23:30:56 +0000 2014</td>\n",
       "      <td>0</td>\n",
       "    </tr>\n",
       "    <tr>\n",
       "      <th>2</th>\n",
       "      <td>544266241511133186</td>\n",
       "      <td>23041630</td>\n",
       "      <td>A police operation is underway in Martin Place...</td>\n",
       "      <td>Sun Dec 14 23:02:38 +0000 2014</td>\n",
       "      <td>544275366588588032</td>\n",
       "      <td>14121167</td>\n",
       "      <td>“@nswpolice: A police operation is underway in...</td>\n",
       "      <td>Sun Dec 14 23:38:54 +0000 2014</td>\n",
       "      <td>0</td>\n",
       "    </tr>\n",
       "    <tr>\n",
       "      <th>3</th>\n",
       "      <td>544266241511133186</td>\n",
       "      <td>23041630</td>\n",
       "      <td>A police operation is underway in Martin Place...</td>\n",
       "      <td>Sun Dec 14 23:02:38 +0000 2014</td>\n",
       "      <td>544276615316770816</td>\n",
       "      <td>187877777</td>\n",
       "      <td>RT @nswpolice: A police operation is underway ...</td>\n",
       "      <td>Sun Dec 14 23:43:51 +0000 2014</td>\n",
       "      <td>0</td>\n",
       "    </tr>\n",
       "    <tr>\n",
       "      <th>4</th>\n",
       "      <td>544266241511133186</td>\n",
       "      <td>23041630</td>\n",
       "      <td>A police operation is underway in Martin Place...</td>\n",
       "      <td>Sun Dec 14 23:02:38 +0000 2014</td>\n",
       "      <td>544278115589976065</td>\n",
       "      <td>372216479</td>\n",
       "      <td>RT “@nswpolice: A police operation is underway...</td>\n",
       "      <td>Sun Dec 14 23:49:49 +0000 2014</td>\n",
       "      <td>0</td>\n",
       "    </tr>\n",
       "    <tr>\n",
       "      <th>...</th>\n",
       "      <td>...</td>\n",
       "      <td>...</td>\n",
       "      <td>...</td>\n",
       "      <td>...</td>\n",
       "      <td>...</td>\n",
       "      <td>...</td>\n",
       "      <td>...</td>\n",
       "      <td>...</td>\n",
       "      <td>...</td>\n",
       "    </tr>\n",
       "    <tr>\n",
       "      <th>22770</th>\n",
       "      <td>544521166543548416</td>\n",
       "      <td>87261221</td>\n",
       "      <td>Sadly, at this stage, there are two confirmed ...</td>\n",
       "      <td>Mon Dec 15 15:55:37 +0000 2014</td>\n",
       "      <td>544522905082540032</td>\n",
       "      <td>2159158525</td>\n",
       "      <td>“@PoliceAU: Sadly, at this stage, there are tw...</td>\n",
       "      <td>Mon Dec 15 16:02:31 +0000 2014</td>\n",
       "      <td>1</td>\n",
       "    </tr>\n",
       "    <tr>\n",
       "      <th>22771</th>\n",
       "      <td>544521166543548416</td>\n",
       "      <td>87261221</td>\n",
       "      <td>Sadly, at this stage, there are two confirmed ...</td>\n",
       "      <td>Mon Dec 15 15:55:37 +0000 2014</td>\n",
       "      <td>544522916042252289</td>\n",
       "      <td>2159158525</td>\n",
       "      <td>“@PoliceAU: Sadly, at this stage, there are tw...</td>\n",
       "      <td>Mon Dec 15 16:02:34 +0000 2014</td>\n",
       "      <td>1</td>\n",
       "    </tr>\n",
       "    <tr>\n",
       "      <th>22772</th>\n",
       "      <td>544521166543548416</td>\n",
       "      <td>87261221</td>\n",
       "      <td>Sadly, at this stage, there are two confirmed ...</td>\n",
       "      <td>Mon Dec 15 15:55:37 +0000 2014</td>\n",
       "      <td>544522948850094081</td>\n",
       "      <td>450436433</td>\n",
       "      <td>@PoliceAU no :'(</td>\n",
       "      <td>Mon Dec 15 16:02:42 +0000 2014</td>\n",
       "      <td>1</td>\n",
       "    </tr>\n",
       "    <tr>\n",
       "      <th>22773</th>\n",
       "      <td>544521166543548416</td>\n",
       "      <td>87261221</td>\n",
       "      <td>Sadly, at this stage, there are two confirmed ...</td>\n",
       "      <td>Mon Dec 15 15:55:37 +0000 2014</td>\n",
       "      <td>544522997466267648</td>\n",
       "      <td>450436433</td>\n",
       "      <td>@PoliceAU nonono</td>\n",
       "      <td>Mon Dec 15 16:02:54 +0000 2014</td>\n",
       "      <td>1</td>\n",
       "    </tr>\n",
       "    <tr>\n",
       "      <th>22774</th>\n",
       "      <td>544521166543548416</td>\n",
       "      <td>87261221</td>\n",
       "      <td>Sadly, at this stage, there are two confirmed ...</td>\n",
       "      <td>Mon Dec 15 15:55:37 +0000 2014</td>\n",
       "      <td>544523060246609920</td>\n",
       "      <td>1322192436</td>\n",
       "      <td>@purityzouis @PoliceAU oh Yeh :/ everyone is s...</td>\n",
       "      <td>Mon Dec 15 16:03:08 +0000 2014</td>\n",
       "      <td>1</td>\n",
       "    </tr>\n",
       "  </tbody>\n",
       "</table>\n",
       "<p>22775 rows × 9 columns</p>\n",
       "</div>"
      ],
      "text/plain": [
       "             src_tweet_id  src_user_id  \\\n",
       "0      544266241511133186     23041630   \n",
       "1      544266241511133186     23041630   \n",
       "2      544266241511133186     23041630   \n",
       "3      544266241511133186     23041630   \n",
       "4      544266241511133186     23041630   \n",
       "...                   ...          ...   \n",
       "22770  544521166543548416     87261221   \n",
       "22771  544521166543548416     87261221   \n",
       "22772  544521166543548416     87261221   \n",
       "22773  544521166543548416     87261221   \n",
       "22774  544521166543548416     87261221   \n",
       "\n",
       "                                               src_tweet  \\\n",
       "0      A police operation is underway in Martin Place...   \n",
       "1      A police operation is underway in Martin Place...   \n",
       "2      A police operation is underway in Martin Place...   \n",
       "3      A police operation is underway in Martin Place...   \n",
       "4      A police operation is underway in Martin Place...   \n",
       "...                                                  ...   \n",
       "22770  Sadly, at this stage, there are two confirmed ...   \n",
       "22771  Sadly, at this stage, there are two confirmed ...   \n",
       "22772  Sadly, at this stage, there are two confirmed ...   \n",
       "22773  Sadly, at this stage, there are two confirmed ...   \n",
       "22774  Sadly, at this stage, there are two confirmed ...   \n",
       "\n",
       "                             src_date      reply_tweet_id  reply_user_id  \\\n",
       "0      Sun Dec 14 23:02:38 +0000 2014  544270066661851136       27735195   \n",
       "1      Sun Dec 14 23:02:38 +0000 2014  544273361334194176       14875436   \n",
       "2      Sun Dec 14 23:02:38 +0000 2014  544275366588588032       14121167   \n",
       "3      Sun Dec 14 23:02:38 +0000 2014  544276615316770816      187877777   \n",
       "4      Sun Dec 14 23:02:38 +0000 2014  544278115589976065      372216479   \n",
       "...                               ...                 ...            ...   \n",
       "22770  Mon Dec 15 15:55:37 +0000 2014  544522905082540032     2159158525   \n",
       "22771  Mon Dec 15 15:55:37 +0000 2014  544522916042252289     2159158525   \n",
       "22772  Mon Dec 15 15:55:37 +0000 2014  544522948850094081      450436433   \n",
       "22773  Mon Dec 15 15:55:37 +0000 2014  544522997466267648      450436433   \n",
       "22774  Mon Dec 15 15:55:37 +0000 2014  544523060246609920     1322192436   \n",
       "\n",
       "                                             reply_tweet  \\\n",
       "0      “@nswpolice: A police operation is underway in...   \n",
       "1      RT @nswpolice: A police operation is underway ...   \n",
       "2      “@nswpolice: A police operation is underway in...   \n",
       "3      RT @nswpolice: A police operation is underway ...   \n",
       "4      RT “@nswpolice: A police operation is underway...   \n",
       "...                                                  ...   \n",
       "22770  “@PoliceAU: Sadly, at this stage, there are tw...   \n",
       "22771  “@PoliceAU: Sadly, at this stage, there are tw...   \n",
       "22772                                   @PoliceAU no :'(   \n",
       "22773                                   @PoliceAU nonono   \n",
       "22774  @purityzouis @PoliceAU oh Yeh :/ everyone is s...   \n",
       "\n",
       "                           reply_date  label  \n",
       "0      Sun Dec 14 23:17:50 +0000 2014      0  \n",
       "1      Sun Dec 14 23:30:56 +0000 2014      0  \n",
       "2      Sun Dec 14 23:38:54 +0000 2014      0  \n",
       "3      Sun Dec 14 23:43:51 +0000 2014      0  \n",
       "4      Sun Dec 14 23:49:49 +0000 2014      0  \n",
       "...                               ...    ...  \n",
       "22770  Mon Dec 15 16:02:31 +0000 2014      1  \n",
       "22771  Mon Dec 15 16:02:34 +0000 2014      1  \n",
       "22772  Mon Dec 15 16:02:42 +0000 2014      1  \n",
       "22773  Mon Dec 15 16:02:54 +0000 2014      1  \n",
       "22774  Mon Dec 15 16:03:08 +0000 2014      1  \n",
       "\n",
       "[22775 rows x 9 columns]"
      ]
     },
     "execution_count": 4,
     "metadata": {},
     "output_type": "execute_result"
    }
   ],
   "source": [
    "df"
   ]
  },
  {
   "cell_type": "markdown",
   "id": "dressed-palestine",
   "metadata": {},
   "source": [
    "## Prepocessing\n",
    "- Define function to process text at one time"
   ]
  },
  {
   "cell_type": "code",
   "execution_count": 5,
   "id": "minus-barrier",
   "metadata": {},
   "outputs": [],
   "source": [
    "import pickle"
   ]
  },
  {
   "cell_type": "code",
   "execution_count": 6,
   "id": "chemical-boulder",
   "metadata": {},
   "outputs": [],
   "source": [
    "'''Convert Emojis to Words'''\n",
    "\n",
    "with open(r'D:\\論文\\PHEME9\\Emoji_Dict.p', 'rb') as fp:\n",
    "    Emoji_Dict = pickle.load(fp)\n",
    "Emoji_Dict = {v: k for k, v in Emoji_Dict.items()}\n",
    "\n",
    "def convert_emojis_to_word(text):\n",
    "    import re\n",
    "    for emot in Emoji_Dict:\n",
    "        text = re.sub(r'('+emot+')', \"_\".join(Emoji_Dict[emot].replace(\",\",\"\").replace(\":\",\"\").split()), text)\n",
    "    return text"
   ]
  },
  {
   "cell_type": "code",
   "execution_count": 7,
   "id": "pursuant-lexington",
   "metadata": {},
   "outputs": [],
   "source": [
    "def textprocessing(text):\n",
    "    \n",
    "    text = convert_emojis_to_word(text)   #convert emoji to word\n",
    "    \n",
    "    text = text.lower()            #lower case\n",
    "     \n",
    "    quo = text.find('“')           #cut quoting part\n",
    "    quo_end = text.find('”')\n",
    "    if quo != -1:\n",
    "        if quo_end != -1:\n",
    "            text = text[0: quo:] + text[quo_end+1: :]\n",
    "        else:\n",
    "            quo_end2 = text.find('“',quo+1)\n",
    "            text = text[0: quo:] + text[quo_end2+1: :]\n",
    "\n",
    "    text = \" \".join([word for word in text.split() if 'http' not in word    #remove url\n",
    "                                and not word.startswith('@')                \n",
    "                                and word != 'rt'])   \n",
    "                 \n",
    "    import re\n",
    "    def remove_punct(tweet):\n",
    "        new_words = []\n",
    "        for word in tweet:\n",
    "            w = re.sub(r'[^\\w\\s]','',word) #remove everything except words and space\n",
    "            w = re.sub(r'_','',w) #remove underscore as well\n",
    "            new_words.append(w)\n",
    "\n",
    "        return new_words\n",
    "    text = \"\".join(remove_punct(text))\n",
    "\n",
    "    from nltk.tokenize import word_tokenize\n",
    "    text = word_tokenize(text)\n",
    "   \n",
    "    \n",
    "    from nltk.corpus import stopwords\n",
    "    stop_words=set(stopwords.words(\"english\"))\n",
    "    stop_words=set([a for a in list(stop_words) if re.search(\"n't|no|not\",a) ==None])\n",
    "    stop_words.add('now')\n",
    "    def filterstopwords(tw):\n",
    "        filter_stopwords = []\n",
    "        for w in tw:\n",
    "            if w not in stop_words:\n",
    "                filter_stopwords.append(w)\n",
    "        return filter_stopwords\n",
    "    text = filterstopwords(text)\n",
    "    \n",
    "    from nltk.stem.porter import PorterStemmer\n",
    "    stem = PorterStemmer()\n",
    "    text = [stem.stem(i) for i in text]\n",
    "    \n",
    "    text = \" \".join(text)\n",
    "    \n",
    "    return text"
   ]
  },
  {
   "cell_type": "code",
   "execution_count": 8,
   "id": "optical-connection",
   "metadata": {},
   "outputs": [
    {
     "name": "stdout",
     "output_type": "stream",
     "text": [
      "original text:  “@nswpolice: A police operation is underway in Martin Place, Sydney's CBD. People are advised to avoid the area.”\n",
      "cleaned text:  \n"
     ]
    }
   ],
   "source": [
    "print(\"original text: \", df.reply_tweet.iloc[0])\n",
    "print(\"cleaned text: \", textprocessing(df.reply_tweet.iloc[0]))"
   ]
  },
  {
   "cell_type": "code",
   "execution_count": 10,
   "id": "confident-musician",
   "metadata": {},
   "outputs": [
    {
     "data": {
      "text/plain": [
       "0        “@nswpolice: A police operation is underway in...\n",
       "2        “@nswpolice: A police operation is underway in...\n",
       "4        RT “@nswpolice: A police operation is underway...\n",
       "9        Scary stuff “@abcnewsSydney #BREAKING A police...\n",
       "17       “@SkyNews: Australian Police Operation Under W...\n",
       "                               ...                        \n",
       "22765    “@PoliceAU: Sadly, at this stage, there are tw...\n",
       "22766    “@PoliceAU: Sadly, at this stage, there are tw...\n",
       "22768    “@PoliceAU: Sadly, at this stage, there are tw...\n",
       "22770    “@PoliceAU: Sadly, at this stage, there are tw...\n",
       "22771    “@PoliceAU: Sadly, at this stage, there are tw...\n",
       "Name: reply_tweet, Length: 1431, dtype: object"
      ]
     },
     "execution_count": 10,
     "metadata": {},
     "output_type": "execute_result"
    }
   ],
   "source": [
    "df[df.reply_tweet.str.find(\"“\") != -1].reply_tweet\n",
    "# df[df.reply_tweet.str.find('“'or'”') != -1].reply_tweet"
   ]
  },
  {
   "cell_type": "markdown",
   "id": "strategic-glucose",
   "metadata": {},
   "source": [
    "### applied on original data (**df**)"
   ]
  },
  {
   "cell_type": "code",
   "execution_count": 11,
   "id": "played-porter",
   "metadata": {},
   "outputs": [],
   "source": [
    "df['cleaned_src_tw'] = df.src_tweet.apply(textprocessing)\n",
    "df['cleaned_reply_tw'] = df.reply_tweet.apply(textprocessing)"
   ]
  },
  {
   "cell_type": "code",
   "execution_count": 12,
   "id": "necessary-concert",
   "metadata": {},
   "outputs": [
    {
     "data": {
      "text/html": [
       "<div>\n",
       "<style scoped>\n",
       "    .dataframe tbody tr th:only-of-type {\n",
       "        vertical-align: middle;\n",
       "    }\n",
       "\n",
       "    .dataframe tbody tr th {\n",
       "        vertical-align: top;\n",
       "    }\n",
       "\n",
       "    .dataframe thead th {\n",
       "        text-align: right;\n",
       "    }\n",
       "</style>\n",
       "<table border=\"1\" class=\"dataframe\">\n",
       "  <thead>\n",
       "    <tr style=\"text-align: right;\">\n",
       "      <th></th>\n",
       "      <th>src_tweet_id</th>\n",
       "      <th>src_user_id</th>\n",
       "      <th>src_tweet</th>\n",
       "      <th>src_date</th>\n",
       "      <th>reply_tweet_id</th>\n",
       "      <th>reply_user_id</th>\n",
       "      <th>reply_tweet</th>\n",
       "      <th>reply_date</th>\n",
       "      <th>label</th>\n",
       "      <th>cleaned_src_tw</th>\n",
       "      <th>cleaned_reply_tw</th>\n",
       "    </tr>\n",
       "  </thead>\n",
       "  <tbody>\n",
       "    <tr>\n",
       "      <th>0</th>\n",
       "      <td>544266241511133186</td>\n",
       "      <td>23041630</td>\n",
       "      <td>A police operation is underway in Martin Place...</td>\n",
       "      <td>Sun Dec 14 23:02:38 +0000 2014</td>\n",
       "      <td>544270066661851136</td>\n",
       "      <td>27735195</td>\n",
       "      <td>“@nswpolice: A police operation is underway in...</td>\n",
       "      <td>Sun Dec 14 23:17:50 +0000 2014</td>\n",
       "      <td>0</td>\n",
       "      <td>polic oper underway martin place sydney cbd pe...</td>\n",
       "      <td></td>\n",
       "    </tr>\n",
       "    <tr>\n",
       "      <th>1</th>\n",
       "      <td>544266241511133186</td>\n",
       "      <td>23041630</td>\n",
       "      <td>A police operation is underway in Martin Place...</td>\n",
       "      <td>Sun Dec 14 23:02:38 +0000 2014</td>\n",
       "      <td>544273361334194176</td>\n",
       "      <td>14875436</td>\n",
       "      <td>RT @nswpolice: A police operation is underway ...</td>\n",
       "      <td>Sun Dec 14 23:30:56 +0000 2014</td>\n",
       "      <td>0</td>\n",
       "      <td>polic oper underway martin place sydney cbd pe...</td>\n",
       "      <td>polic oper underway martin place sydney cbd pe...</td>\n",
       "    </tr>\n",
       "    <tr>\n",
       "      <th>2</th>\n",
       "      <td>544266241511133186</td>\n",
       "      <td>23041630</td>\n",
       "      <td>A police operation is underway in Martin Place...</td>\n",
       "      <td>Sun Dec 14 23:02:38 +0000 2014</td>\n",
       "      <td>544275366588588032</td>\n",
       "      <td>14121167</td>\n",
       "      <td>“@nswpolice: A police operation is underway in...</td>\n",
       "      <td>Sun Dec 14 23:38:54 +0000 2014</td>\n",
       "      <td>0</td>\n",
       "      <td>polic oper underway martin place sydney cbd pe...</td>\n",
       "      <td>sicken</td>\n",
       "    </tr>\n",
       "    <tr>\n",
       "      <th>3</th>\n",
       "      <td>544266241511133186</td>\n",
       "      <td>23041630</td>\n",
       "      <td>A police operation is underway in Martin Place...</td>\n",
       "      <td>Sun Dec 14 23:02:38 +0000 2014</td>\n",
       "      <td>544276615316770816</td>\n",
       "      <td>187877777</td>\n",
       "      <td>RT @nswpolice: A police operation is underway ...</td>\n",
       "      <td>Sun Dec 14 23:43:51 +0000 2014</td>\n",
       "      <td>0</td>\n",
       "      <td>polic oper underway martin place sydney cbd pe...</td>\n",
       "      <td>polic oper underway martin place sydney cbd pe...</td>\n",
       "    </tr>\n",
       "    <tr>\n",
       "      <th>4</th>\n",
       "      <td>544266241511133186</td>\n",
       "      <td>23041630</td>\n",
       "      <td>A police operation is underway in Martin Place...</td>\n",
       "      <td>Sun Dec 14 23:02:38 +0000 2014</td>\n",
       "      <td>544278115589976065</td>\n",
       "      <td>372216479</td>\n",
       "      <td>RT “@nswpolice: A police operation is underway...</td>\n",
       "      <td>Sun Dec 14 23:49:49 +0000 2014</td>\n",
       "      <td>0</td>\n",
       "      <td>polic oper underway martin place sydney cbd pe...</td>\n",
       "      <td></td>\n",
       "    </tr>\n",
       "  </tbody>\n",
       "</table>\n",
       "</div>"
      ],
      "text/plain": [
       "         src_tweet_id  src_user_id  \\\n",
       "0  544266241511133186     23041630   \n",
       "1  544266241511133186     23041630   \n",
       "2  544266241511133186     23041630   \n",
       "3  544266241511133186     23041630   \n",
       "4  544266241511133186     23041630   \n",
       "\n",
       "                                           src_tweet  \\\n",
       "0  A police operation is underway in Martin Place...   \n",
       "1  A police operation is underway in Martin Place...   \n",
       "2  A police operation is underway in Martin Place...   \n",
       "3  A police operation is underway in Martin Place...   \n",
       "4  A police operation is underway in Martin Place...   \n",
       "\n",
       "                         src_date      reply_tweet_id  reply_user_id  \\\n",
       "0  Sun Dec 14 23:02:38 +0000 2014  544270066661851136       27735195   \n",
       "1  Sun Dec 14 23:02:38 +0000 2014  544273361334194176       14875436   \n",
       "2  Sun Dec 14 23:02:38 +0000 2014  544275366588588032       14121167   \n",
       "3  Sun Dec 14 23:02:38 +0000 2014  544276615316770816      187877777   \n",
       "4  Sun Dec 14 23:02:38 +0000 2014  544278115589976065      372216479   \n",
       "\n",
       "                                         reply_tweet  \\\n",
       "0  “@nswpolice: A police operation is underway in...   \n",
       "1  RT @nswpolice: A police operation is underway ...   \n",
       "2  “@nswpolice: A police operation is underway in...   \n",
       "3  RT @nswpolice: A police operation is underway ...   \n",
       "4  RT “@nswpolice: A police operation is underway...   \n",
       "\n",
       "                       reply_date  label  \\\n",
       "0  Sun Dec 14 23:17:50 +0000 2014      0   \n",
       "1  Sun Dec 14 23:30:56 +0000 2014      0   \n",
       "2  Sun Dec 14 23:38:54 +0000 2014      0   \n",
       "3  Sun Dec 14 23:43:51 +0000 2014      0   \n",
       "4  Sun Dec 14 23:49:49 +0000 2014      0   \n",
       "\n",
       "                                      cleaned_src_tw  \\\n",
       "0  polic oper underway martin place sydney cbd pe...   \n",
       "1  polic oper underway martin place sydney cbd pe...   \n",
       "2  polic oper underway martin place sydney cbd pe...   \n",
       "3  polic oper underway martin place sydney cbd pe...   \n",
       "4  polic oper underway martin place sydney cbd pe...   \n",
       "\n",
       "                                    cleaned_reply_tw  \n",
       "0                                                     \n",
       "1  polic oper underway martin place sydney cbd pe...  \n",
       "2                                             sicken  \n",
       "3  polic oper underway martin place sydney cbd pe...  \n",
       "4                                                     "
      ]
     },
     "execution_count": 12,
     "metadata": {},
     "output_type": "execute_result"
    }
   ],
   "source": [
    "df.head()"
   ]
  },
  {
   "cell_type": "markdown",
   "id": "competent-royal",
   "metadata": {},
   "source": [
    "## Sentiment Analysis"
   ]
  },
  {
   "cell_type": "code",
   "execution_count": 13,
   "id": "seeing-swimming",
   "metadata": {},
   "outputs": [],
   "source": [
    "from vaderSentiment.vaderSentiment import SentimentIntensityAnalyzer"
   ]
  },
  {
   "cell_type": "code",
   "execution_count": 14,
   "id": "operating-neighbor",
   "metadata": {},
   "outputs": [],
   "source": [
    "def get_sentiment(tweet):\n",
    "    analyzer = SentimentIntensityAnalyzer()\n",
    "    vs = analyzer.polarity_scores(tweet)\n",
    "    if vs['compound'] >=0.05:\n",
    "        sentiment_label = 'Positive'\n",
    "    elif (vs['compound'] > -0.05) & (vs['compound'] < 0.05):\n",
    "        sentiment_label = 'Neutral'\n",
    "    elif vs['compound']<= -0.05:\n",
    "        sentiment_label = 'Negative' \n",
    "    result = sentiment_label\n",
    "    return result"
   ]
  },
  {
   "cell_type": "markdown",
   "id": "atomic-citizenship",
   "metadata": {},
   "source": [
    "### applied on original df"
   ]
  },
  {
   "cell_type": "code",
   "execution_count": 15,
   "id": "informative-receiver",
   "metadata": {},
   "outputs": [],
   "source": [
    "df['src_sentiment']= df.cleaned_src_tw.apply(get_sentiment)\n",
    "df['reply_sentiment']= df.cleaned_reply_tw.apply(get_sentiment)"
   ]
  },
  {
   "cell_type": "code",
   "execution_count": 16,
   "id": "rural-shelf",
   "metadata": {},
   "outputs": [
    {
     "data": {
      "text/html": [
       "<div>\n",
       "<style scoped>\n",
       "    .dataframe tbody tr th:only-of-type {\n",
       "        vertical-align: middle;\n",
       "    }\n",
       "\n",
       "    .dataframe tbody tr th {\n",
       "        vertical-align: top;\n",
       "    }\n",
       "\n",
       "    .dataframe thead th {\n",
       "        text-align: right;\n",
       "    }\n",
       "</style>\n",
       "<table border=\"1\" class=\"dataframe\">\n",
       "  <thead>\n",
       "    <tr style=\"text-align: right;\">\n",
       "      <th></th>\n",
       "      <th>src_tweet_id</th>\n",
       "      <th>src_user_id</th>\n",
       "      <th>src_tweet</th>\n",
       "      <th>src_date</th>\n",
       "      <th>reply_tweet_id</th>\n",
       "      <th>reply_user_id</th>\n",
       "      <th>reply_tweet</th>\n",
       "      <th>reply_date</th>\n",
       "      <th>label</th>\n",
       "      <th>cleaned_src_tw</th>\n",
       "      <th>cleaned_reply_tw</th>\n",
       "      <th>src_sentiment</th>\n",
       "      <th>reply_sentiment</th>\n",
       "    </tr>\n",
       "  </thead>\n",
       "  <tbody>\n",
       "    <tr>\n",
       "      <th>0</th>\n",
       "      <td>544266241511133186</td>\n",
       "      <td>23041630</td>\n",
       "      <td>A police operation is underway in Martin Place...</td>\n",
       "      <td>Sun Dec 14 23:02:38 +0000 2014</td>\n",
       "      <td>544270066661851136</td>\n",
       "      <td>27735195</td>\n",
       "      <td>“@nswpolice: A police operation is underway in...</td>\n",
       "      <td>Sun Dec 14 23:17:50 +0000 2014</td>\n",
       "      <td>0</td>\n",
       "      <td>polic oper underway martin place sydney cbd pe...</td>\n",
       "      <td></td>\n",
       "      <td>Negative</td>\n",
       "      <td>Neutral</td>\n",
       "    </tr>\n",
       "  </tbody>\n",
       "</table>\n",
       "</div>"
      ],
      "text/plain": [
       "         src_tweet_id  src_user_id  \\\n",
       "0  544266241511133186     23041630   \n",
       "\n",
       "                                           src_tweet  \\\n",
       "0  A police operation is underway in Martin Place...   \n",
       "\n",
       "                         src_date      reply_tweet_id  reply_user_id  \\\n",
       "0  Sun Dec 14 23:02:38 +0000 2014  544270066661851136       27735195   \n",
       "\n",
       "                                         reply_tweet  \\\n",
       "0  “@nswpolice: A police operation is underway in...   \n",
       "\n",
       "                       reply_date  label  \\\n",
       "0  Sun Dec 14 23:17:50 +0000 2014      0   \n",
       "\n",
       "                                      cleaned_src_tw cleaned_reply_tw  \\\n",
       "0  polic oper underway martin place sydney cbd pe...                    \n",
       "\n",
       "  src_sentiment reply_sentiment  \n",
       "0      Negative         Neutral  "
      ]
     },
     "execution_count": 16,
     "metadata": {},
     "output_type": "execute_result"
    }
   ],
   "source": [
    "df.head(1)"
   ]
  },
  {
   "cell_type": "markdown",
   "id": "fancy-mixer",
   "metadata": {},
   "source": [
    "### Source tweet data"
   ]
  },
  {
   "cell_type": "code",
   "execution_count": 17,
   "id": "cultural-queue",
   "metadata": {},
   "outputs": [
    {
     "data": {
      "text/html": [
       "<div>\n",
       "<style scoped>\n",
       "    .dataframe tbody tr th:only-of-type {\n",
       "        vertical-align: middle;\n",
       "    }\n",
       "\n",
       "    .dataframe tbody tr th {\n",
       "        vertical-align: top;\n",
       "    }\n",
       "\n",
       "    .dataframe thead th {\n",
       "        text-align: right;\n",
       "    }\n",
       "</style>\n",
       "<table border=\"1\" class=\"dataframe\">\n",
       "  <thead>\n",
       "    <tr style=\"text-align: right;\">\n",
       "      <th></th>\n",
       "      <th>src_tweet_id</th>\n",
       "      <th>src_user_id</th>\n",
       "      <th>src_tweet</th>\n",
       "      <th>src_date</th>\n",
       "      <th>label</th>\n",
       "      <th>cleaned_src_tw</th>\n",
       "      <th>src_sentiment</th>\n",
       "    </tr>\n",
       "  </thead>\n",
       "  <tbody>\n",
       "    <tr>\n",
       "      <th>0</th>\n",
       "      <td>544266241511133186</td>\n",
       "      <td>23041630</td>\n",
       "      <td>A police operation is underway in Martin Place...</td>\n",
       "      <td>Sun Dec 14 23:02:38 +0000 2014</td>\n",
       "      <td>0</td>\n",
       "      <td>polic oper underway martin place sydney cbd pe...</td>\n",
       "      <td>Negative</td>\n",
       "    </tr>\n",
       "    <tr>\n",
       "      <th>1</th>\n",
       "      <td>544268900351766528</td>\n",
       "      <td>16215478</td>\n",
       "      <td>#BREAKING A police operation is underway in th...</td>\n",
       "      <td>Sun Dec 14 23:13:12 +0000 2014</td>\n",
       "      <td>0</td>\n",
       "      <td>break polic oper underway heart sydney cbd one...</td>\n",
       "      <td>Negative</td>\n",
       "    </tr>\n",
       "    <tr>\n",
       "      <th>2</th>\n",
       "      <td>544274797640044544</td>\n",
       "      <td>7587032</td>\n",
       "      <td>Australian Police Operation Under Way In Sydne...</td>\n",
       "      <td>Sun Dec 14 23:36:38 +0000 2014</td>\n",
       "      <td>0</td>\n",
       "      <td>australian polic oper way sydney</td>\n",
       "      <td>Neutral</td>\n",
       "    </tr>\n",
       "    <tr>\n",
       "      <th>3</th>\n",
       "      <td>544275574642835456</td>\n",
       "      <td>27964284</td>\n",
       "      <td>Prayers needed for the situation happening in ...</td>\n",
       "      <td>Sun Dec 14 23:39:43 +0000 2014</td>\n",
       "      <td>0</td>\n",
       "      <td>prayer need situat happen sydney right</td>\n",
       "      <td>Neutral</td>\n",
       "    </tr>\n",
       "    <tr>\n",
       "      <th>4</th>\n",
       "      <td>544275733607366656</td>\n",
       "      <td>374712154</td>\n",
       "      <td>This is not going to end well in Sydney . Wake...</td>\n",
       "      <td>Sun Dec 14 23:40:21 +0000 2014</td>\n",
       "      <td>0</td>\n",
       "      <td>not go end well sydney wake britain come</td>\n",
       "      <td>Negative</td>\n",
       "    </tr>\n",
       "    <tr>\n",
       "      <th>...</th>\n",
       "      <td>...</td>\n",
       "      <td>...</td>\n",
       "      <td>...</td>\n",
       "      <td>...</td>\n",
       "      <td>...</td>\n",
       "      <td>...</td>\n",
       "      <td>...</td>\n",
       "    </tr>\n",
       "    <tr>\n",
       "      <th>1168</th>\n",
       "      <td>544520042810200064</td>\n",
       "      <td>442653867</td>\n",
       "      <td>#sydneysiege is over. 2 confirmed dead, #PrayF...</td>\n",
       "      <td>Mon Dec 15 15:51:09 +0000 2014</td>\n",
       "      <td>1</td>\n",
       "      <td>sydneysieg 2 confirm dead prayforsydney prayfo...</td>\n",
       "      <td>Negative</td>\n",
       "    </tr>\n",
       "    <tr>\n",
       "      <th>1169</th>\n",
       "      <td>544520273718812672</td>\n",
       "      <td>100629223</td>\n",
       "      <td>Police confirm that #sydneysiege is finally ov...</td>\n",
       "      <td>Mon Dec 15 15:52:04 +0000 2014</td>\n",
       "      <td>1</td>\n",
       "      <td>polic confirm sydneysieg final two peopl repor...</td>\n",
       "      <td>Negative</td>\n",
       "    </tr>\n",
       "    <tr>\n",
       "      <th>1170</th>\n",
       "      <td>544520932405284864</td>\n",
       "      <td>7587032</td>\n",
       "      <td>Seven people reportedly taken away on stretche...</td>\n",
       "      <td>Mon Dec 15 15:54:41 +0000 2014</td>\n",
       "      <td>1</td>\n",
       "      <td>seven peopl reportedli taken away stretcher pa...</td>\n",
       "      <td>Positive</td>\n",
       "    </tr>\n",
       "    <tr>\n",
       "      <th>1171</th>\n",
       "      <td>544521141335764992</td>\n",
       "      <td>342894187</td>\n",
       "      <td>BREAKING: CNN: Sydney police storm cafe. 2 con...</td>\n",
       "      <td>Mon Dec 15 15:55:31 +0000 2014</td>\n",
       "      <td>1</td>\n",
       "      <td>break cnn sydney polic storm cafe 2 confirm de...</td>\n",
       "      <td>Negative</td>\n",
       "    </tr>\n",
       "    <tr>\n",
       "      <th>1172</th>\n",
       "      <td>544521166543548416</td>\n",
       "      <td>87261221</td>\n",
       "      <td>Sadly, at this stage, there are two confirmed ...</td>\n",
       "      <td>Mon Dec 15 15:55:37 +0000 2014</td>\n",
       "      <td>1</td>\n",
       "      <td>sadli stage two confirm death describ cardiac ...</td>\n",
       "      <td>Negative</td>\n",
       "    </tr>\n",
       "  </tbody>\n",
       "</table>\n",
       "<p>1173 rows × 7 columns</p>\n",
       "</div>"
      ],
      "text/plain": [
       "            src_tweet_id  src_user_id  \\\n",
       "0     544266241511133186     23041630   \n",
       "1     544268900351766528     16215478   \n",
       "2     544274797640044544      7587032   \n",
       "3     544275574642835456     27964284   \n",
       "4     544275733607366656    374712154   \n",
       "...                  ...          ...   \n",
       "1168  544520042810200064    442653867   \n",
       "1169  544520273718812672    100629223   \n",
       "1170  544520932405284864      7587032   \n",
       "1171  544521141335764992    342894187   \n",
       "1172  544521166543548416     87261221   \n",
       "\n",
       "                                              src_tweet  \\\n",
       "0     A police operation is underway in Martin Place...   \n",
       "1     #BREAKING A police operation is underway in th...   \n",
       "2     Australian Police Operation Under Way In Sydne...   \n",
       "3     Prayers needed for the situation happening in ...   \n",
       "4     This is not going to end well in Sydney . Wake...   \n",
       "...                                                 ...   \n",
       "1168  #sydneysiege is over. 2 confirmed dead, #PrayF...   \n",
       "1169  Police confirm that #sydneysiege is finally ov...   \n",
       "1170  Seven people reportedly taken away on stretche...   \n",
       "1171  BREAKING: CNN: Sydney police storm cafe. 2 con...   \n",
       "1172  Sadly, at this stage, there are two confirmed ...   \n",
       "\n",
       "                            src_date  label  \\\n",
       "0     Sun Dec 14 23:02:38 +0000 2014      0   \n",
       "1     Sun Dec 14 23:13:12 +0000 2014      0   \n",
       "2     Sun Dec 14 23:36:38 +0000 2014      0   \n",
       "3     Sun Dec 14 23:39:43 +0000 2014      0   \n",
       "4     Sun Dec 14 23:40:21 +0000 2014      0   \n",
       "...                              ...    ...   \n",
       "1168  Mon Dec 15 15:51:09 +0000 2014      1   \n",
       "1169  Mon Dec 15 15:52:04 +0000 2014      1   \n",
       "1170  Mon Dec 15 15:54:41 +0000 2014      1   \n",
       "1171  Mon Dec 15 15:55:31 +0000 2014      1   \n",
       "1172  Mon Dec 15 15:55:37 +0000 2014      1   \n",
       "\n",
       "                                         cleaned_src_tw src_sentiment  \n",
       "0     polic oper underway martin place sydney cbd pe...      Negative  \n",
       "1     break polic oper underway heart sydney cbd one...      Negative  \n",
       "2                      australian polic oper way sydney       Neutral  \n",
       "3                prayer need situat happen sydney right       Neutral  \n",
       "4              not go end well sydney wake britain come      Negative  \n",
       "...                                                 ...           ...  \n",
       "1168  sydneysieg 2 confirm dead prayforsydney prayfo...      Negative  \n",
       "1169  polic confirm sydneysieg final two peopl repor...      Negative  \n",
       "1170  seven peopl reportedli taken away stretcher pa...      Positive  \n",
       "1171  break cnn sydney polic storm cafe 2 confirm de...      Negative  \n",
       "1172  sadli stage two confirm death describ cardiac ...      Negative  \n",
       "\n",
       "[1173 rows x 7 columns]"
      ]
     },
     "execution_count": 17,
     "metadata": {},
     "output_type": "execute_result"
    }
   ],
   "source": [
    "src_tw_df = df.iloc[:,[0,1,2,3,8,9,11]].copy()\n",
    "src_tw_df = src_tw_df.drop_duplicates()\n",
    "src_tw_df.reset_index(drop=True,inplace=True)\n",
    "src_tw_df"
   ]
  },
  {
   "cell_type": "markdown",
   "id": "governing-despite",
   "metadata": {},
   "source": [
    "### save data to csv "
   ]
  },
  {
   "cell_type": "code",
   "execution_count": null,
   "id": "played-snake",
   "metadata": {},
   "outputs": [],
   "source": [
    "df.to_csv(r'D:\\論文\\PHEME9\\Data\\CSV\\sydneysiege-df.csv',index=False)\n",
    "src_tw_df.to_csv(r'D:\\論文\\PHEME9\\Data\\CSV\\sydneysiege-src.csv',index=False)"
   ]
  },
  {
   "cell_type": "markdown",
   "id": "flush-decline",
   "metadata": {
    "toc-hr-collapsed": true
   },
   "source": [
    "## Keywords Extraction\n",
    "### WordCloud"
   ]
  },
  {
   "cell_type": "code",
   "execution_count": null,
   "id": "spectacular-amateur",
   "metadata": {},
   "outputs": [],
   "source": [
    "from wordcloud import WordCloud"
   ]
  },
  {
   "cell_type": "code",
   "execution_count": null,
   "id": "minor-samuel",
   "metadata": {},
   "outputs": [],
   "source": [
    "plt.figure(figsize=(20,10))\n",
    "mywordcloud = WordCloud().generate(docx)\n",
    "plt.imshow(mywordcloud,interpolation='bilinear')\n",
    "plt.axis('off')\n",
    "plt.show()"
   ]
  },
  {
   "cell_type": "markdown",
   "id": "directed-correlation",
   "metadata": {},
   "source": [
    "#### Reply Tweets"
   ]
  },
  {
   "cell_type": "code",
   "execution_count": null,
   "id": "resistant-reducing",
   "metadata": {},
   "outputs": [],
   "source": [
    "#nltk.download('punkt')\n",
    "from nltk.tokenize import word_tokenize"
   ]
  },
  {
   "cell_type": "code",
   "execution_count": null,
   "id": "extra-banana",
   "metadata": {},
   "outputs": [],
   "source": [
    "reply_sen = df.cleaned_reply_tw.apply(word_tokenize)\n",
    "reply_tw_list = []\n",
    "for sen in reply_sen:\n",
    "    for token in sen:\n",
    "        reply_tw_list.append(token)\n",
    "reply_tw_doc = \" \".join(reply_tw_list)"
   ]
  },
  {
   "cell_type": "code",
   "execution_count": null,
   "id": "lightweight-azerbaijan",
   "metadata": {},
   "outputs": [],
   "source": [
    "plt.figure(figsize=(20,10))\n",
    "mywordcloud = WordCloud().generate(reply_tw_doc)\n",
    "plt.imshow(mywordcloud,interpolation='bilinear')\n",
    "plt.axis('off')\n",
    "plt.show()\n",
    "mywordcloud.to_file('graph/sydneysiege/wordcloud_reply.pdf')"
   ]
  },
  {
   "cell_type": "code",
   "execution_count": null,
   "id": "younger-tuner",
   "metadata": {},
   "outputs": [],
   "source": [
    "# positive \n",
    "posi_reply_sen = df[df.reply_sentiment=='Positive'].cleaned_reply_tw.apply(word_tokenize)\n",
    "posi_reply_tw_list = []\n",
    "for sen in posi_reply_sen:\n",
    "    for token in sen:\n",
    "        posi_reply_tw_list.append(token)\n",
    "posi_reply_tw_doc = \" \".join(posi_reply_tw_list)\n"
   ]
  },
  {
   "cell_type": "code",
   "execution_count": null,
   "id": "capable-jacob",
   "metadata": {},
   "outputs": [],
   "source": [
    "plt.figure(figsize=(20,10))\n",
    "mywordcloud = WordCloud().generate(posi_reply_tw_doc)\n",
    "plt.imshow(mywordcloud,interpolation='bilinear')\n",
    "plt.axis('off')\n",
    "plt.show()\n",
    "mywordcloud.to_file('graph/sydneysiege/wordcloud_reply_posi.pdf')"
   ]
  },
  {
   "cell_type": "markdown",
   "id": "unlikely-berlin",
   "metadata": {},
   "source": [
    "#### Source Tweet"
   ]
  },
  {
   "cell_type": "code",
   "execution_count": null,
   "id": "peripheral-survey",
   "metadata": {},
   "outputs": [],
   "source": [
    "src_sen = src_tw_df.cleaned_src_tw.apply(word_tokenize)\n",
    "src_tw_list = []\n",
    "for sen in src_sen:\n",
    "    for token in sen:\n",
    "        src_tw_list.append(token)\n",
    "\n",
    "src_tw_doc = \" \".join(src_tw_list)"
   ]
  },
  {
   "cell_type": "code",
   "execution_count": null,
   "id": "atlantic-sheep",
   "metadata": {},
   "outputs": [],
   "source": [
    "plt.figure(figsize=(20,10))\n",
    "mywordcloud = WordCloud().generate(src_tw_doc)\n",
    "plt.imshow(mywordcloud,interpolation='bilinear')\n",
    "plt.axis('off')\n",
    "plt.show()\n",
    "mywordcloud.to_file('graph/sydneysiege/wordcloud_src.pdf')"
   ]
  },
  {
   "cell_type": "markdown",
   "id": "headed-ballet",
   "metadata": {},
   "source": [
    "### Common"
   ]
  },
  {
   "cell_type": "code",
   "execution_count": null,
   "id": "developed-disclaimer",
   "metadata": {},
   "outputs": [],
   "source": [
    "from collections import Counter\n",
    "freq = FreqDist(processed_text)\n",
    "freq.plot(20)"
   ]
  },
  {
   "cell_type": "code",
   "execution_count": null,
   "id": "organized-migration",
   "metadata": {},
   "outputs": [],
   "source": [
    "def get_tokens(docx,num=30):\n",
    "    word_tokens = Counter(docx)\n",
    "    most_common = word_tokens.most_common(num)\n",
    "    result = dict(most_common)\n",
    "    return result"
   ]
  },
  {
   "cell_type": "code",
   "execution_count": null,
   "id": "compact-drain",
   "metadata": {},
   "outputs": [],
   "source": [
    "pd.DataFrame(get_tokens(reply_tw_list).items(),columns=['word','freq']).plot(kind='bar',x='word',y='freq')\n",
    "plt.title(\"Most frequent words among reply tweets are 'Prince','show','tonight'.\")"
   ]
  },
  {
   "cell_type": "code",
   "execution_count": null,
   "id": "informed-assets",
   "metadata": {},
   "outputs": [],
   "source": [
    "pd.DataFrame(get_tokens(src_tw_list).items(),columns=['word','freq']).plot(kind='bar',x='word',y='freq')\n",
    "plt.title(\"Most frequent words among source tweets are 'Price', 'show', 'tonight'\")\n"
   ]
  },
  {
   "cell_type": "markdown",
   "id": "marine-plasma",
   "metadata": {},
   "source": [
    "## Emotion Detection"
   ]
  },
  {
   "cell_type": "markdown",
   "id": "demanding-austin",
   "metadata": {},
   "source": [
    "### text2emotion package\n",
    "https://snyk.io/advisor/python/text2emotion "
   ]
  },
  {
   "cell_type": "code",
   "execution_count": 18,
   "id": "stainless-equity",
   "metadata": {},
   "outputs": [
    {
     "name": "stderr",
     "output_type": "stream",
     "text": [
      "[nltk_data] Downloading package stopwords to\n",
      "[nltk_data]     C:\\Users\\user\\AppData\\Roaming\\nltk_data...\n",
      "[nltk_data]   Package stopwords is already up-to-date!\n",
      "[nltk_data] Downloading package punkt to\n",
      "[nltk_data]     C:\\Users\\user\\AppData\\Roaming\\nltk_data...\n",
      "[nltk_data]   Package punkt is already up-to-date!\n",
      "[nltk_data] Downloading package wordnet to\n",
      "[nltk_data]     C:\\Users\\user\\AppData\\Roaming\\nltk_data...\n",
      "[nltk_data]   Package wordnet is already up-to-date!\n"
     ]
    }
   ],
   "source": [
    "import text2emotion as te"
   ]
  },
  {
   "cell_type": "code",
   "execution_count": 19,
   "id": "existing-responsibility",
   "metadata": {},
   "outputs": [],
   "source": [
    "emotion = df.cleaned_reply_tw.apply(te.get_emotion)"
   ]
  },
  {
   "cell_type": "code",
   "execution_count": 20,
   "id": "bibliographic-bathroom",
   "metadata": {},
   "outputs": [],
   "source": [
    "emo = emotion.apply(lambda x: max(x,key=x.get))\n",
    "df['reply_emo_te'] = emo"
   ]
  },
  {
   "cell_type": "code",
   "execution_count": 21,
   "id": "general-relief",
   "metadata": {},
   "outputs": [],
   "source": [
    "df.to_csv(r'D:\\論文\\PHEME9\\Data\\CSV\\sydneysiege-df.csv',index=False)"
   ]
  },
  {
   "cell_type": "code",
   "execution_count": 22,
   "id": "bulgarian-health",
   "metadata": {},
   "outputs": [],
   "source": [
    "emotion1 = src_tw_df.cleaned_src_tw.apply(te.get_emotion)\n",
    "emo1 = emotion.apply(lambda x: max(x,key=x.get))\n",
    "src_tw_df['src_emo_te']=emo1"
   ]
  },
  {
   "cell_type": "code",
   "execution_count": 23,
   "id": "falling-guyana",
   "metadata": {},
   "outputs": [],
   "source": [
    "src_tw_df.to_csv(r'D:\\論文\\PHEME9\\Data\\CSV\\sydneysiege-src.csv',index=False)"
   ]
  },
  {
   "cell_type": "code",
   "execution_count": null,
   "id": "lightweight-episode",
   "metadata": {},
   "outputs": [],
   "source": []
  }
 ],
 "metadata": {
  "kernelspec": {
   "display_name": "Python 3",
   "language": "python",
   "name": "python3"
  },
  "language_info": {
   "codemirror_mode": {
    "name": "ipython",
    "version": 3
   },
   "file_extension": ".py",
   "mimetype": "text/x-python",
   "name": "python",
   "nbconvert_exporter": "python",
   "pygments_lexer": "ipython3",
   "version": "3.9.1"
  },
  "toc-autonumbering": true,
  "toc-showmarkdowntxt": false
 },
 "nbformat": 4,
 "nbformat_minor": 5
}
