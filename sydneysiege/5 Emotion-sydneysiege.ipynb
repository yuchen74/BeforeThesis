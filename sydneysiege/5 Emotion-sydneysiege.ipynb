{
 "cells": [
  {
   "cell_type": "markdown",
   "id": "chubby-cutting",
   "metadata": {},
   "source": [
    "# Dataset: *sydneysiege*"
   ]
  },
  {
   "cell_type": "markdown",
   "id": "gorgeous-camcorder",
   "metadata": {},
   "source": [
    "- df.to_csv(r'D:\\論文\\PHEME9\\Data\\CSV\\sydneysiege-df.csv',index=False)\n",
    "- src_tw_df.to_csv(r'D:\\論文\\PHEME9\\Data\\CSV\\sydneysiege-src.csv',index=False)"
   ]
  },
  {
   "cell_type": "code",
   "execution_count": 1,
   "id": "honey-treaty",
   "metadata": {},
   "outputs": [],
   "source": [
    "import numpy as np\n",
    "import pandas as pd\n",
    "import datetime \n",
    "import matplotlib.pyplot as plt\n",
    "import seaborn as sns"
   ]
  },
  {
   "cell_type": "code",
   "execution_count": 2,
   "id": "illegal-nightlife",
   "metadata": {},
   "outputs": [
    {
     "name": "stdout",
     "output_type": "stream",
     "text": [
      "INFO:tensorflow:Enabling eager execution\n",
      "INFO:tensorflow:Enabling v2 tensorshape\n",
      "INFO:tensorflow:Enabling resource variables\n",
      "INFO:tensorflow:Enabling tensor equality\n",
      "INFO:tensorflow:Enabling control flow v2\n"
     ]
    }
   ],
   "source": [
    "from transformers import AutoTokenizer, AutoModelWithLMHead, AutoModelForSequenceClassification"
   ]
  },
  {
   "cell_type": "code",
   "execution_count": 3,
   "id": "ongoing-madison",
   "metadata": {},
   "outputs": [
    {
     "name": "stdout",
     "output_type": "stream",
     "text": [
      "(22775, 11)\n",
      "(1173, 7)\n"
     ]
    }
   ],
   "source": [
    "df = pd.read_csv(r'D:\\論文\\PHEME9\\Data\\CSV\\sydneysiege-df.csv', encoding = 'utf-8', header = 0)\n",
    "src_tw_df = pd.read_csv(r'D:\\論文\\PHEME9\\Data\\CSV\\sydneysiege-src.csv', encoding = 'utf-8', header =0)\n",
    "print(df.shape)\n",
    "print(src_tw_df.shape)"
   ]
  },
  {
   "cell_type": "code",
   "execution_count": 4,
   "id": "virtual-devil",
   "metadata": {},
   "outputs": [
    {
     "data": {
      "text/plain": [
       "src_tweet_id           0\n",
       "src_user_id            0\n",
       "src_tweet              0\n",
       "src_date               0\n",
       "reply_tweet_id         0\n",
       "reply_user_id          0\n",
       "reply_tweet            0\n",
       "reply_date             0\n",
       "label                  0\n",
       "cleaned_reply_tw    1418\n",
       "reply_sentiment        0\n",
       "dtype: int64"
      ]
     },
     "execution_count": 4,
     "metadata": {},
     "output_type": "execute_result"
    }
   ],
   "source": [
    "df.isnull().sum()"
   ]
  },
  {
   "cell_type": "code",
   "execution_count": 7,
   "id": "specialized-bhutan",
   "metadata": {},
   "outputs": [
    {
     "data": {
      "text/plain": [
       "(21357, 11)"
      ]
     },
     "execution_count": 7,
     "metadata": {},
     "output_type": "execute_result"
    }
   ],
   "source": [
    "df.dropna(inplace = True)\n",
    "df.reset_index(drop=True,inplace=True)\n",
    "df.shape"
   ]
  },
  {
   "cell_type": "code",
   "execution_count": 5,
   "id": "liked-geneva",
   "metadata": {},
   "outputs": [
    {
     "data": {
      "text/plain": [
       "src_tweet_id      0\n",
       "src_user_id       0\n",
       "src_tweet         0\n",
       "src_date          0\n",
       "label             0\n",
       "cleaned_src_tw    4\n",
       "src_sentiment     0\n",
       "dtype: int64"
      ]
     },
     "execution_count": 5,
     "metadata": {},
     "output_type": "execute_result"
    }
   ],
   "source": [
    "src_tw_df.isnull().sum()"
   ]
  },
  {
   "cell_type": "code",
   "execution_count": 14,
   "id": "facial-ceiling",
   "metadata": {},
   "outputs": [
    {
     "data": {
      "text/plain": [
       "158    RT @martydownunder: If the black flag seems fa...\n",
       "287    RT RT RT @ZeeGingaNinja: because it seems that...\n",
       "347    RT @newscomauHQ: Every Australian should be ve...\n",
       "680    RT @tomsteinfort: Terrifying photo of hostages...\n",
       "Name: src_tweet, dtype: object"
      ]
     },
     "execution_count": 14,
     "metadata": {},
     "output_type": "execute_result"
    }
   ],
   "source": [
    "src_tw_df[src_tw_df.cleaned_src_tw.isnull()].src_tweet"
   ]
  },
  {
   "cell_type": "code",
   "execution_count": 32,
   "id": "perfect-wallpaper",
   "metadata": {},
   "outputs": [
    {
     "data": {
      "text/html": [
       "<div>\n",
       "<style scoped>\n",
       "    .dataframe tbody tr th:only-of-type {\n",
       "        vertical-align: middle;\n",
       "    }\n",
       "\n",
       "    .dataframe tbody tr th {\n",
       "        vertical-align: top;\n",
       "    }\n",
       "\n",
       "    .dataframe thead th {\n",
       "        text-align: right;\n",
       "    }\n",
       "</style>\n",
       "<table border=\"1\" class=\"dataframe\">\n",
       "  <thead>\n",
       "    <tr style=\"text-align: right;\">\n",
       "      <th></th>\n",
       "      <th>reply_tweet</th>\n",
       "      <th>cleaned_reply_tw</th>\n",
       "    </tr>\n",
       "  </thead>\n",
       "  <tbody>\n",
       "    <tr>\n",
       "      <th>3966</th>\n",
       "      <td>If the black flag seems familiar, it's because...</td>\n",
       "      <td>black flag seem familiar also fly gaza protest...</td>\n",
       "    </tr>\n",
       "    <tr>\n",
       "      <th>3967</th>\n",
       "      <td>@OrenKessler @FridaGhitis @martydownunder Back...</td>\n",
       "      <td>back flag also use al nusra idf help capture b...</td>\n",
       "    </tr>\n",
       "    <tr>\n",
       "      <th>3968</th>\n",
       "      <td>@OrenKessler @martydownunder This flag is popu...</td>\n",
       "      <td>flag popular throughout extreme muslim world s...</td>\n",
       "    </tr>\n",
       "    <tr>\n",
       "      <th>3969</th>\n",
       "      <td>@OrenKessler @martydownunder They should have ...</td>\n",
       "      <td>least wash flag</td>\n",
       "    </tr>\n",
       "    <tr>\n",
       "      <th>3970</th>\n",
       "      <td>@OrenKessler @paddo_ron @martydownunder So cou...</td>\n",
       "      <td>could anything domestic dispute gaza know</td>\n",
       "    </tr>\n",
       "    <tr>\n",
       "      <th>...</th>\n",
       "      <td>...</td>\n",
       "      <td>...</td>\n",
       "    </tr>\n",
       "    <tr>\n",
       "      <th>14767</th>\n",
       "      <td>@BlogsofWar @tomsteinfort Hands up Don't shoot?</td>\n",
       "      <td>hand dont shoot</td>\n",
       "    </tr>\n",
       "    <tr>\n",
       "      <th>14768</th>\n",
       "      <td>@BlogsofWar @Rekka_K @tomsteinfort correction ...</td>\n",
       "      <td>correction not isis flag still use isis sell n...</td>\n",
       "    </tr>\n",
       "    <tr>\n",
       "      <th>14769</th>\n",
       "      <td>@BlogsofWar @tomsteinfort not an ISIS flag. Fo...</td>\n",
       "      <td>not isis flag jhabat al nusra flag sydneycafes...</td>\n",
       "    </tr>\n",
       "    <tr>\n",
       "      <th>14770</th>\n",
       "      <td>Neoconservatives right again. The Islamist thr...</td>\n",
       "      <td>neoconservatives right islamist threat real</td>\n",
       "    </tr>\n",
       "    <tr>\n",
       "      <th>14771</th>\n",
       "      <td>@BlogsofWar @Katsalgi @tomsteinfort Gee, I wis...</td>\n",
       "      <td>gee wish folks allow govt firearms cd defend</td>\n",
       "    </tr>\n",
       "  </tbody>\n",
       "</table>\n",
       "<p>81 rows × 2 columns</p>\n",
       "</div>"
      ],
      "text/plain": [
       "                                             reply_tweet  \\\n",
       "3966   If the black flag seems familiar, it's because...   \n",
       "3967   @OrenKessler @FridaGhitis @martydownunder Back...   \n",
       "3968   @OrenKessler @martydownunder This flag is popu...   \n",
       "3969   @OrenKessler @martydownunder They should have ...   \n",
       "3970   @OrenKessler @paddo_ron @martydownunder So cou...   \n",
       "...                                                  ...   \n",
       "14767    @BlogsofWar @tomsteinfort Hands up Don't shoot?   \n",
       "14768  @BlogsofWar @Rekka_K @tomsteinfort correction ...   \n",
       "14769  @BlogsofWar @tomsteinfort not an ISIS flag. Fo...   \n",
       "14770  Neoconservatives right again. The Islamist thr...   \n",
       "14771  @BlogsofWar @Katsalgi @tomsteinfort Gee, I wis...   \n",
       "\n",
       "                                        cleaned_reply_tw  \n",
       "3966   black flag seem familiar also fly gaza protest...  \n",
       "3967   back flag also use al nusra idf help capture b...  \n",
       "3968   flag popular throughout extreme muslim world s...  \n",
       "3969                                     least wash flag  \n",
       "3970           could anything domestic dispute gaza know  \n",
       "...                                                  ...  \n",
       "14767                                    hand dont shoot  \n",
       "14768  correction not isis flag still use isis sell n...  \n",
       "14769  not isis flag jhabat al nusra flag sydneycafes...  \n",
       "14770        neoconservatives right islamist threat real  \n",
       "14771       gee wish folks allow govt firearms cd defend  \n",
       "\n",
       "[81 rows x 2 columns]"
      ]
     },
     "execution_count": 32,
     "metadata": {},
     "output_type": "execute_result"
    }
   ],
   "source": [
    "a = src_tw_df[src_tw_df.cleaned_src_tw.isnull()].src_tweet_id.values\n",
    "df.loc[df.src_tweet_id.isin(a),['reply_tweet','cleaned_reply_tw']]"
   ]
  },
  {
   "cell_type": "markdown",
   "id": "immediate-deputy",
   "metadata": {},
   "source": [
    "## Emotion Analysis"
   ]
  },
  {
   "cell_type": "markdown",
   "id": "stuck-brain",
   "metadata": {},
   "source": [
    "### roBERTa-base model\n",
    "<https://huggingface.co/cardiffnlp/twitter-roberta-base-emotion>"
   ]
  },
  {
   "cell_type": "code",
   "execution_count": 5,
   "id": "criminal-classic",
   "metadata": {},
   "outputs": [],
   "source": [
    "import numpy as np\n",
    "from scipy.special import softmax\n",
    "\n",
    "task='emotion'\n",
    "MODEL = f\"cardiffnlp/twitter-roberta-base-{task}\"\n",
    "ro_tokenizer = AutoTokenizer.from_pretrained(MODEL)\n",
    "ro_model = AutoModelForSequenceClassification.from_pretrained(MODEL)\n"
   ]
  },
  {
   "cell_type": "code",
   "execution_count": 6,
   "id": "continental-gathering",
   "metadata": {},
   "outputs": [],
   "source": [
    "def get_emotion_roBERT(text):\n",
    "    \n",
    "    def preprocess(txt):\n",
    "        new_text = []\n",
    "        for t in txt.split(\" \"):\n",
    "            t = '@user' if t.startswith('@') and len(t) > 1 else t\n",
    "            t = 'http' if t.startswith('http') else t\n",
    "            new_text.append(t)\n",
    "        return \" \".join(new_text)\n",
    "    \n",
    "    labels = ['anger','joy','optimism','sadness']\n",
    "    text = preprocess(text)\n",
    "    encoded_input = ro_tokenizer(text, return_tensors='pt')\n",
    "    output = ro_model(**encoded_input)\n",
    "\n",
    "    scores = output[0][0].detach().numpy()\n",
    "    scores = softmax(scores)\n",
    "    ranking = np.argsort(scores)\n",
    "    ranking = ranking[::-1]\n",
    "    emo = labels[ranking[0]]\n",
    "    return emo"
   ]
  },
  {
   "cell_type": "code",
   "execution_count": 7,
   "id": "harmful-geology",
   "metadata": {},
   "outputs": [],
   "source": [
    "emotion_ro = df.cleaned_reply_tw.apply(get_emotion_roBERT)"
   ]
  },
  {
   "cell_type": "code",
   "execution_count": 8,
   "id": "naked-geneva",
   "metadata": {},
   "outputs": [],
   "source": [
    "df['reply_emo_ro'] = emotion_ro\n",
    "df.to_csv(r'D:\\論文\\PHEME9\\Data\\CSV\\sydneysiege-df-2.csv',index=False)"
   ]
  },
  {
   "cell_type": "code",
   "execution_count": 9,
   "id": "filled-signal",
   "metadata": {},
   "outputs": [],
   "source": [
    "src_emo_ro = src_tw_df.cleaned_src_tw.astype(str).apply(get_emotion_roBERT)\n",
    "src_tw_df['src_emo_ro'] = src_emo_ro"
   ]
  },
  {
   "cell_type": "code",
   "execution_count": 10,
   "id": "posted-breast",
   "metadata": {},
   "outputs": [],
   "source": [
    "src_tw_df.to_csv(r'D:\\論文\\PHEME9\\Data\\CSV\\sydneysiege-src-2.csv',index=False)"
   ]
  },
  {
   "cell_type": "markdown",
   "id": "refined-christmas",
   "metadata": {},
   "source": [
    " - robert : 'anger','joy','optimism','sadness'\n",
    " - t5: 'sadness', 'joy', 'love', 'anger', 'fear', 'surprise' \n",
    " - text2emotion: 'angry, 'fear', 'happy, 'sad', 'surprise'"
   ]
  },
  {
   "cell_type": "code",
   "execution_count": null,
   "id": "jewish-steal",
   "metadata": {},
   "outputs": [],
   "source": [
    "print(\"original reply tw: \", df.reply_tweet[8])\n",
    "print(\"cleaned reply tw: \", df.cleaned_reply_tw[8])\n",
    "\n",
    "print('roBERT based: ',df.reply_emo_ro[8])\n",
    "print('t5 based: ',df.reply_emo_t5[8])\n",
    "print('text2emotion: ', df.reply_emo_te[8])"
   ]
  },
  {
   "cell_type": "code",
   "execution_count": null,
   "id": "powered-circle",
   "metadata": {},
   "outputs": [],
   "source": []
  }
 ],
 "metadata": {
  "kernelspec": {
   "display_name": "Python 3",
   "language": "python",
   "name": "python3"
  },
  "language_info": {
   "codemirror_mode": {
    "name": "ipython",
    "version": 3
   },
   "file_extension": ".py",
   "mimetype": "text/x-python",
   "name": "python",
   "nbconvert_exporter": "python",
   "pygments_lexer": "ipython3",
   "version": "3.9.1"
  },
  "toc-autonumbering": true,
  "toc-showmarkdowntxt": false
 },
 "nbformat": 4,
 "nbformat_minor": 5
}
