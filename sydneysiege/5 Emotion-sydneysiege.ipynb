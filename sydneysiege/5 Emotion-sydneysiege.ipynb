{
 "cells": [
  {
   "cell_type": "markdown",
   "id": "theoretical-budapest",
   "metadata": {},
   "source": [
    "# Dataset: *sydneysiege*"
   ]
  },
  {
   "cell_type": "markdown",
   "id": "applicable-state",
   "metadata": {},
   "source": [
    "- df.to_csv(r'D:\\論文\\PHEME9\\Data\\CSV\\sydneysiege-df.csv',index=False)\n",
    "- src_tw_df.to_csv(r'D:\\論文\\PHEME9\\Data\\CSV\\sydneysiege-src.csv',index=False)"
   ]
  },
  {
   "cell_type": "code",
   "execution_count": 1,
   "id": "controlling-dubai",
   "metadata": {},
   "outputs": [],
   "source": [
    "import numpy as np\n",
    "import pandas as pd\n",
    "import datetime \n",
    "import matplotlib.pyplot as plt\n",
    "import seaborn as sns"
   ]
  },
  {
   "cell_type": "code",
   "execution_count": 2,
   "id": "figured-kelly",
   "metadata": {},
   "outputs": [],
   "source": [
    "df = pd.read_csv(r'D:\\論文\\PHEME9\\Data\\CSV\\sydneysiege-df.csv', encoding = 'utf-8', header = 0)\n",
    "df.dropna(inplace = True)\n",
    "df.reset_index(drop=True,inplace=True)\n",
    "src_tw_df = pd.read_csv(r'D:\\論文\\PHEME9\\Data\\CSV\\sydneysiege-src.csv', encoding = 'utf-8', header =0)"
   ]
  },
  {
   "cell_type": "code",
   "execution_count": 20,
   "id": "capable-hundred",
   "metadata": {},
   "outputs": [
    {
     "data": {
      "text/plain": [
       "158    NaN\n",
       "287    NaN\n",
       "347    NaN\n",
       "680    NaN\n",
       "Name: cleaned_src_tw, dtype: object"
      ]
     },
     "execution_count": 20,
     "metadata": {},
     "output_type": "execute_result"
    }
   ],
   "source": [
    "src_tw_df[src_tw_df.cleaned_src_tw.isnull()].cleaned_src_tw"
   ]
  },
  {
   "cell_type": "markdown",
   "id": "molecular-bibliography",
   "metadata": {},
   "source": [
    "## Emotion Analysis"
   ]
  },
  {
   "cell_type": "markdown",
   "id": "ancient-decision",
   "metadata": {},
   "source": [
    "### T5 Based\n",
    "<https://huggingface.co/mrm8488/t5-base-finetuned-emotion?text=I+wish+you+were+here+but+it+is+impossible>"
   ]
  },
  {
   "cell_type": "code",
   "execution_count": 3,
   "id": "crucial-institution",
   "metadata": {},
   "outputs": [
    {
     "name": "stdout",
     "output_type": "stream",
     "text": [
      "INFO:tensorflow:Enabling eager execution\n",
      "INFO:tensorflow:Enabling v2 tensorshape\n",
      "INFO:tensorflow:Enabling resource variables\n",
      "INFO:tensorflow:Enabling tensor equality\n",
      "INFO:tensorflow:Enabling control flow v2\n"
     ]
    }
   ],
   "source": [
    "from transformers import AutoTokenizer, AutoModelWithLMHead, AutoModelForSequenceClassification"
   ]
  },
  {
   "cell_type": "code",
   "execution_count": 4,
   "id": "consolidated-particular",
   "metadata": {},
   "outputs": [
    {
     "name": "stderr",
     "output_type": "stream",
     "text": [
      "c:\\users\\user\\appdata\\local\\programs\\python\\python39\\lib\\site-packages\\transformers\\models\\auto\\modeling_auto.py:694: FutureWarning: The class `AutoModelWithLMHead` is deprecated and will be removed in a future version. Please use `AutoModelForCausalLM` for causal language models, `AutoModelForMaskedLM` for masked language models and `AutoModelForSeq2SeqLM` for encoder-decoder models.\n",
      "  warnings.warn(\n"
     ]
    }
   ],
   "source": [
    "t5_tokenizer = AutoTokenizer.from_pretrained(\"mrm8488/t5-base-finetuned-emotion\",use_fast=False)\n",
    "t5_model = AutoModelWithLMHead.from_pretrained(\"mrm8488/t5-base-finetuned-emotion\")\n",
    "\n",
    "\n",
    "\n",
    "def get_emotion_t5(text):\n",
    "    input_ids = t5_tokenizer.encode(text , return_tensors='pt')\n",
    "    output = t5_model.generate(input_ids=input_ids,max_length=2)\n",
    "  \n",
    "    dec = [t5_tokenizer.decode(ids) for ids in output]\n",
    "    label = dec[0]\n",
    "    return label"
   ]
  },
  {
   "cell_type": "code",
   "execution_count": 8,
   "id": "conservative-asthma",
   "metadata": {},
   "outputs": [],
   "source": [
    "emotion_t5 = df.cleaned_reply_tw.apply(get_emotion_t5)"
   ]
  },
  {
   "cell_type": "code",
   "execution_count": 9,
   "id": "reasonable-musician",
   "metadata": {},
   "outputs": [],
   "source": [
    "df['reply_emo_t5'] = emotion_t5\n"
   ]
  },
  {
   "cell_type": "code",
   "execution_count": 35,
   "id": "surface-inside",
   "metadata": {},
   "outputs": [
    {
     "data": {
      "text/plain": [
       "0         fear\n",
       "1          joy\n",
       "2        anger\n",
       "3        anger\n",
       "4        anger\n",
       "         ...  \n",
       "21377     fear\n",
       "21378    anger\n",
       "21379    anger\n",
       "21380      joy\n",
       "21381      joy\n",
       "Name: reply_emo_t5, Length: 21382, dtype: object"
      ]
     },
     "execution_count": 35,
     "metadata": {},
     "output_type": "execute_result"
    }
   ],
   "source": [
    "df['reply_emo_t5'] = df['reply_emo_t5'].apply(lambda x : re.sub('<pad> ',\"\",x))\n",
    "df.reply_emo_t5"
   ]
  },
  {
   "cell_type": "code",
   "execution_count": 27,
   "id": "accepting-blackjack",
   "metadata": {},
   "outputs": [],
   "source": [
    "src_emo_t5 = src_tw_df.cleaned_src_tw.astype(str).apply(get_emotion_t5)\n",
    "src_tw_df['src_emo_t5'] = src_emo_t5"
   ]
  },
  {
   "cell_type": "code",
   "execution_count": 34,
   "id": "substantial-local",
   "metadata": {},
   "outputs": [],
   "source": [
    "import re\n",
    "src_tw_df['src_emo_t5']  = src_tw_df.src_emo_t5.apply(lambda x : re.sub('<pad> ',\"\",x))"
   ]
  },
  {
   "cell_type": "code",
   "execution_count": null,
   "id": "atomic-adventure",
   "metadata": {},
   "outputs": [],
   "source": [
    "ax = df.reply_emotion.value_counts().plot.bar()\n",
    "\n",
    "for i in ax.patches:\n",
    "    height = i.get_height()\n",
    "    ax.text(\n",
    "        i.get_x() + i.get_width() / 2,height, str(height), ha=\"center\", va=\"bottom\"\n",
    "    )\n",
    "plt.xticks(rotation=0)\n",
    "plt.show()\n",
    "#plt.savefig('D:/論文/PHEME9/Code/graph/sydneysiege/rep-emotion.pdf',dpi=300)"
   ]
  },
  {
   "cell_type": "markdown",
   "id": "cooked-province",
   "metadata": {},
   "source": [
    "### roBERTa-base model\n",
    "<https://huggingface.co/cardiffnlp/twitter-roberta-base-emotion>"
   ]
  },
  {
   "cell_type": "code",
   "execution_count": 21,
   "id": "addressed-cookbook",
   "metadata": {},
   "outputs": [],
   "source": [
    "import numpy as np\n",
    "from scipy.special import softmax\n",
    "\n",
    "task='emotion'\n",
    "MODEL = f\"cardiffnlp/twitter-roberta-base-{task}\"\n",
    "ro_tokenizer = AutoTokenizer.from_pretrained(MODEL)\n",
    "ro_model = AutoModelForSequenceClassification.from_pretrained(MODEL)\n"
   ]
  },
  {
   "cell_type": "code",
   "execution_count": 26,
   "id": "forty-rotation",
   "metadata": {},
   "outputs": [],
   "source": [
    "def get_emotion_roBERT(text):\n",
    "    \n",
    "    def preprocess(txt):\n",
    "        new_text = []\n",
    "        for t in txt.split(\" \"):\n",
    "            t = '@user' if t.startswith('@') and len(t) > 1 else t\n",
    "            t = 'http' if t.startswith('http') else t\n",
    "            new_text.append(t)\n",
    "        return \" \".join(new_text)\n",
    "    \n",
    "    labels = ['anger','joy','optimism','sadness']\n",
    "    text = preprocess(text)\n",
    "    encoded_input = ro_tokenizer(text, return_tensors='pt')\n",
    "    output = ro_model(**encoded_input)\n",
    "\n",
    "    scores = output[0][0].detach().numpy()\n",
    "    scores = softmax(scores)\n",
    "    ranking = np.argsort(scores)\n",
    "    ranking = ranking[::-1]\n",
    "    emo = labels[ranking[0]]\n",
    "    return emo"
   ]
  },
  {
   "cell_type": "code",
   "execution_count": 28,
   "id": "grateful-making",
   "metadata": {},
   "outputs": [],
   "source": [
    "emotion_ro = df.cleaned_reply_tw.apply(get_emotion_roBERT)"
   ]
  },
  {
   "cell_type": "code",
   "execution_count": 37,
   "id": "comparative-helmet",
   "metadata": {},
   "outputs": [],
   "source": [
    "df['reply_emo_ro'] = emotion_ro\n",
    "df.to_csv(r'D:\\論文\\PHEME9\\Data\\CSV\\sydneysiege-df-2.csv',index=False)"
   ]
  },
  {
   "cell_type": "code",
   "execution_count": 31,
   "id": "defensive-poker",
   "metadata": {},
   "outputs": [],
   "source": [
    "src_emo_ro = src_tw_df.cleaned_src_tw.astype(str).apply(get_emotion_roBERT)\n",
    "src_tw_df['src_emo_ro'] = src_emo_ro"
   ]
  },
  {
   "cell_type": "code",
   "execution_count": 36,
   "id": "oriental-operator",
   "metadata": {},
   "outputs": [],
   "source": [
    "src_tw_df.to_csv(r'D:\\論文\\PHEME9\\Data\\CSV\\sydneysiege-src-2.csv',index=False)"
   ]
  },
  {
   "cell_type": "markdown",
   "id": "improved-constraint",
   "metadata": {},
   "source": [
    " - robert : 'anger','joy','optimism','sadness'\n",
    " - t5: 'sadness', 'joy', 'love', 'anger', 'fear', 'surprise' \n",
    " - text2emotion: 'angry, 'fear', 'happy, 'sad', 'surprise'"
   ]
  },
  {
   "cell_type": "code",
   "execution_count": 46,
   "id": "interracial-decrease",
   "metadata": {},
   "outputs": [
    {
     "name": "stdout",
     "output_type": "stream",
     "text": [
      "original reply tw:  @abcnewsSydney our rules of laws &amp; democracy were exploited by the islamic extremists\n",
      "cleaned reply tw:  rule law amp democracy exploited islamic extremist\n",
      "roBERT based:  anger\n",
      "t5 based:  fear\n",
      "text2emotion:  Surprise\n"
     ]
    }
   ],
   "source": [
    "print(\"original reply tw: \", df.reply_tweet[8])\n",
    "print(\"cleaned reply tw: \", df.cleaned_reply_tw[8])\n",
    "\n",
    "print('roBERT based: ',df.reply_emo_ro[8])\n",
    "print('t5 based: ',df.reply_emo_t5[8])\n",
    "print('text2emotion: ', df.reply_emo_te[8])"
   ]
  },
  {
   "cell_type": "code",
   "execution_count": null,
   "id": "stuck-millennium",
   "metadata": {},
   "outputs": [],
   "source": []
  }
 ],
 "metadata": {
  "kernelspec": {
   "display_name": "Python 3",
   "language": "python",
   "name": "python3"
  },
  "language_info": {
   "codemirror_mode": {
    "name": "ipython",
    "version": 3
   },
   "file_extension": ".py",
   "mimetype": "text/x-python",
   "name": "python",
   "nbconvert_exporter": "python",
   "pygments_lexer": "ipython3",
   "version": "3.9.1"
  },
  "toc-autonumbering": true,
  "toc-showmarkdowntxt": false
 },
 "nbformat": 4,
 "nbformat_minor": 5
}
