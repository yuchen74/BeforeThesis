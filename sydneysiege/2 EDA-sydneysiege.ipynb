{
 "cells": [
  {
   "cell_type": "code",
   "execution_count": 18,
   "metadata": {},
   "outputs": [],
   "source": [
    "import numpy as np\n",
    "import pandas as pd\n",
    "import datetime \n",
    "import matplotlib.pyplot as plt\n",
    "import seaborn as sns"
   ]
  },
  {
   "cell_type": "code",
   "execution_count": 2,
   "metadata": {},
   "outputs": [
    {
     "name": "stderr",
     "output_type": "stream",
     "text": [
      "<ipython-input-2-3b5970faf0be>:2: FutureWarning: Passing a negative integer is deprecated in version 1.0 and will not be supported in future version. Instead, use None to not limit the column width.\n",
      "  pd.set_option('display.max_colwidth', -1)\n"
     ]
    }
   ],
   "source": [
    "# to display full text\n",
    "pd.set_option('display.max_colwidth', -1)"
   ]
  },
  {
   "cell_type": "code",
   "execution_count": 3,
   "metadata": {},
   "outputs": [],
   "source": [
    "df = pd.read_csv(r'D:\\論文\\PHEME9\\Data\\CSV\\sydneysiege.csv', encoding = 'utf-8', header = None)"
   ]
  },
  {
   "cell_type": "code",
   "execution_count": 4,
   "metadata": {},
   "outputs": [],
   "source": [
    "df.columns = ['src_tweet_id', 'src_user_id', 'src_tweet','src_date','reply_tweet_id','reply_user_id','reply_tweet','reply_date', 'label']"
   ]
  },
  {
   "cell_type": "code",
   "execution_count": 5,
   "metadata": {},
   "outputs": [
    {
     "data": {
      "text/html": [
       "<div>\n",
       "<style scoped>\n",
       "    .dataframe tbody tr th:only-of-type {\n",
       "        vertical-align: middle;\n",
       "    }\n",
       "\n",
       "    .dataframe tbody tr th {\n",
       "        vertical-align: top;\n",
       "    }\n",
       "\n",
       "    .dataframe thead th {\n",
       "        text-align: right;\n",
       "    }\n",
       "</style>\n",
       "<table border=\"1\" class=\"dataframe\">\n",
       "  <thead>\n",
       "    <tr style=\"text-align: right;\">\n",
       "      <th></th>\n",
       "      <th>src_tweet_id</th>\n",
       "      <th>src_user_id</th>\n",
       "      <th>src_tweet</th>\n",
       "      <th>src_date</th>\n",
       "      <th>reply_tweet_id</th>\n",
       "      <th>reply_user_id</th>\n",
       "      <th>reply_tweet</th>\n",
       "      <th>reply_date</th>\n",
       "      <th>label</th>\n",
       "    </tr>\n",
       "  </thead>\n",
       "  <tbody>\n",
       "    <tr>\n",
       "      <th>0</th>\n",
       "      <td>544266241511133186</td>\n",
       "      <td>23041630</td>\n",
       "      <td>A police operation is underway in Martin Place, Sydney's CBD. People are advised to avoid the area.</td>\n",
       "      <td>Sun Dec 14 23:02:38 +0000 2014</td>\n",
       "      <td>544270066661851136</td>\n",
       "      <td>27735195</td>\n",
       "      <td>“@nswpolice: A police operation is underway in Martin Place, Sydney's CBD. People are advised to avoid the area.”</td>\n",
       "      <td>Sun Dec 14 23:17:50 +0000 2014</td>\n",
       "      <td>0</td>\n",
       "    </tr>\n",
       "    <tr>\n",
       "      <th>1</th>\n",
       "      <td>544266241511133186</td>\n",
       "      <td>23041630</td>\n",
       "      <td>A police operation is underway in Martin Place, Sydney's CBD. People are advised to avoid the area.</td>\n",
       "      <td>Sun Dec 14 23:02:38 +0000 2014</td>\n",
       "      <td>544273361334194176</td>\n",
       "      <td>14875436</td>\n",
       "      <td>RT @nswpolice: A police operation is underway in Martin Place, Sydney’s CBD. People are advised to avoid the area.</td>\n",
       "      <td>Sun Dec 14 23:30:56 +0000 2014</td>\n",
       "      <td>0</td>\n",
       "    </tr>\n",
       "    <tr>\n",
       "      <th>2</th>\n",
       "      <td>544266241511133186</td>\n",
       "      <td>23041630</td>\n",
       "      <td>A police operation is underway in Martin Place, Sydney's CBD. People are advised to avoid the area.</td>\n",
       "      <td>Sun Dec 14 23:02:38 +0000 2014</td>\n",
       "      <td>544275366588588032</td>\n",
       "      <td>14121167</td>\n",
       "      <td>“@nswpolice: A police operation is underway in Martin Place, Sydney's CBD. People are advised to avoid the area.” Sickening</td>\n",
       "      <td>Sun Dec 14 23:38:54 +0000 2014</td>\n",
       "      <td>0</td>\n",
       "    </tr>\n",
       "    <tr>\n",
       "      <th>3</th>\n",
       "      <td>544266241511133186</td>\n",
       "      <td>23041630</td>\n",
       "      <td>A police operation is underway in Martin Place, Sydney's CBD. People are advised to avoid the area.</td>\n",
       "      <td>Sun Dec 14 23:02:38 +0000 2014</td>\n",
       "      <td>544276615316770816</td>\n",
       "      <td>187877777</td>\n",
       "      <td>RT @nswpolice: A police operation is underway in Martin Place, Sydney's CBD. People are advised to avoid the area.</td>\n",
       "      <td>Sun Dec 14 23:43:51 +0000 2014</td>\n",
       "      <td>0</td>\n",
       "    </tr>\n",
       "    <tr>\n",
       "      <th>4</th>\n",
       "      <td>544266241511133186</td>\n",
       "      <td>23041630</td>\n",
       "      <td>A police operation is underway in Martin Place, Sydney's CBD. People are advised to avoid the area.</td>\n",
       "      <td>Sun Dec 14 23:02:38 +0000 2014</td>\n",
       "      <td>544278115589976065</td>\n",
       "      <td>372216479</td>\n",
       "      <td>RT “@nswpolice: A police operation is underway in Martin Place, Sydney's CBD. People are advised to avoid the area.”</td>\n",
       "      <td>Sun Dec 14 23:49:49 +0000 2014</td>\n",
       "      <td>0</td>\n",
       "    </tr>\n",
       "  </tbody>\n",
       "</table>\n",
       "</div>"
      ],
      "text/plain": [
       "         src_tweet_id  src_user_id  \\\n",
       "0  544266241511133186  23041630      \n",
       "1  544266241511133186  23041630      \n",
       "2  544266241511133186  23041630      \n",
       "3  544266241511133186  23041630      \n",
       "4  544266241511133186  23041630      \n",
       "\n",
       "                                                                                             src_tweet  \\\n",
       "0  A police operation is underway in Martin Place, Sydney's CBD. People are advised to avoid the area.   \n",
       "1  A police operation is underway in Martin Place, Sydney's CBD. People are advised to avoid the area.   \n",
       "2  A police operation is underway in Martin Place, Sydney's CBD. People are advised to avoid the area.   \n",
       "3  A police operation is underway in Martin Place, Sydney's CBD. People are advised to avoid the area.   \n",
       "4  A police operation is underway in Martin Place, Sydney's CBD. People are advised to avoid the area.   \n",
       "\n",
       "                         src_date      reply_tweet_id  reply_user_id  \\\n",
       "0  Sun Dec 14 23:02:38 +0000 2014  544270066661851136  27735195        \n",
       "1  Sun Dec 14 23:02:38 +0000 2014  544273361334194176  14875436        \n",
       "2  Sun Dec 14 23:02:38 +0000 2014  544275366588588032  14121167        \n",
       "3  Sun Dec 14 23:02:38 +0000 2014  544276615316770816  187877777       \n",
       "4  Sun Dec 14 23:02:38 +0000 2014  544278115589976065  372216479       \n",
       "\n",
       "                                                                                                                   reply_tweet  \\\n",
       "0  “@nswpolice: A police operation is underway in Martin Place, Sydney's CBD. People are advised to avoid the area.”             \n",
       "1  RT @nswpolice: A police operation is underway in Martin Place, Sydney’s CBD. People are advised to avoid the area.            \n",
       "2  “@nswpolice: A police operation is underway in Martin Place, Sydney's CBD. People are advised to avoid the area.” Sickening   \n",
       "3  RT @nswpolice: A police operation is underway in Martin Place, Sydney's CBD. People are advised to avoid the area.            \n",
       "4  RT “@nswpolice: A police operation is underway in Martin Place, Sydney's CBD. People are advised to avoid the area.”          \n",
       "\n",
       "                       reply_date  label  \n",
       "0  Sun Dec 14 23:17:50 +0000 2014  0      \n",
       "1  Sun Dec 14 23:30:56 +0000 2014  0      \n",
       "2  Sun Dec 14 23:38:54 +0000 2014  0      \n",
       "3  Sun Dec 14 23:43:51 +0000 2014  0      \n",
       "4  Sun Dec 14 23:49:49 +0000 2014  0      "
      ]
     },
     "execution_count": 5,
     "metadata": {},
     "output_type": "execute_result"
    }
   ],
   "source": [
    "df.head()"
   ]
  },
  {
   "cell_type": "code",
   "execution_count": 6,
   "metadata": {},
   "outputs": [
    {
     "data": {
      "text/plain": [
       "(22775, 9)"
      ]
     },
     "execution_count": 6,
     "metadata": {},
     "output_type": "execute_result"
    }
   ],
   "source": [
    "df.shape"
   ]
  },
  {
   "cell_type": "markdown",
   "metadata": {},
   "source": [
    "+ change data type"
   ]
  },
  {
   "cell_type": "code",
   "execution_count": 7,
   "metadata": {},
   "outputs": [],
   "source": [
    "df.src_tweet_id = df.src_tweet_id.astype(str)\n",
    "df.src_user_id = df.src_user_id.astype(str)\n",
    "\n",
    "df.reply_tweet_id = df.reply_tweet_id.astype(str)\n",
    "df.reply_tweet_id = df.reply_tweet_id.replace('nan',np.nan)\n",
    "\n",
    "df.reply_user_id = df.reply_user_id.astype(str)\n",
    "df.reply_user_id = df.reply_user_id.replace('nan',np.nan)\n",
    "\n",
    "df.src_date = df.src_date.apply(pd.to_datetime)\n",
    "df.reply_date = df.reply_date.apply(pd.to_datetime)\n",
    "\n",
    "df.reply_tweet = df.reply_tweet.replace(np.nan,\"\")"
   ]
  },
  {
   "cell_type": "markdown",
   "metadata": {},
   "source": [
    "+ Source Tweet Data: **src_tw_df**"
   ]
  },
  {
   "cell_type": "code",
   "execution_count": 8,
   "metadata": {},
   "outputs": [],
   "source": [
    "#Source tweet data\n",
    "src_tw_df = df.iloc[:,[0,1,2,3,8]].copy()\n",
    "src_tw_df = src_tw_df.drop_duplicates().reset_index()"
   ]
  },
  {
   "cell_type": "code",
   "execution_count": 9,
   "metadata": {},
   "outputs": [
    {
     "data": {
      "text/html": [
       "<div>\n",
       "<style scoped>\n",
       "    .dataframe tbody tr th:only-of-type {\n",
       "        vertical-align: middle;\n",
       "    }\n",
       "\n",
       "    .dataframe tbody tr th {\n",
       "        vertical-align: top;\n",
       "    }\n",
       "\n",
       "    .dataframe thead th {\n",
       "        text-align: right;\n",
       "    }\n",
       "</style>\n",
       "<table border=\"1\" class=\"dataframe\">\n",
       "  <thead>\n",
       "    <tr style=\"text-align: right;\">\n",
       "      <th></th>\n",
       "      <th>index</th>\n",
       "      <th>src_tweet_id</th>\n",
       "      <th>src_user_id</th>\n",
       "      <th>src_tweet</th>\n",
       "      <th>src_date</th>\n",
       "      <th>label</th>\n",
       "    </tr>\n",
       "  </thead>\n",
       "  <tbody>\n",
       "    <tr>\n",
       "      <th>0</th>\n",
       "      <td>0</td>\n",
       "      <td>544266241511133186</td>\n",
       "      <td>23041630</td>\n",
       "      <td>A police operation is underway in Martin Place, Sydney's CBD. People are advised to avoid the area.</td>\n",
       "      <td>2014-12-14 23:02:38+00:00</td>\n",
       "      <td>0</td>\n",
       "    </tr>\n",
       "    <tr>\n",
       "      <th>1</th>\n",
       "      <td>7</td>\n",
       "      <td>544268900351766528</td>\n",
       "      <td>16215478</td>\n",
       "      <td>#BREAKING A police operation is underway in the heart of Sydney's CBD with one block of Martin Place blocked off.</td>\n",
       "      <td>2014-12-14 23:13:12+00:00</td>\n",
       "      <td>0</td>\n",
       "    </tr>\n",
       "    <tr>\n",
       "      <th>2</th>\n",
       "      <td>15</td>\n",
       "      <td>544274797640044544</td>\n",
       "      <td>7587032</td>\n",
       "      <td>Australian Police Operation Under Way In Sydney http://t.co/FHC09vZ3yP</td>\n",
       "      <td>2014-12-14 23:36:38+00:00</td>\n",
       "      <td>0</td>\n",
       "    </tr>\n",
       "    <tr>\n",
       "      <th>3</th>\n",
       "      <td>25</td>\n",
       "      <td>544275574642835456</td>\n",
       "      <td>27964284</td>\n",
       "      <td>Prayers needed for the situation happening in Sydney right now.</td>\n",
       "      <td>2014-12-14 23:39:43+00:00</td>\n",
       "      <td>0</td>\n",
       "    </tr>\n",
       "    <tr>\n",
       "      <th>4</th>\n",
       "      <td>47</td>\n",
       "      <td>544275733607366656</td>\n",
       "      <td>374712154</td>\n",
       "      <td>This is not going to end well in Sydney . Wake up Britain it's coming here.</td>\n",
       "      <td>2014-12-14 23:40:21+00:00</td>\n",
       "      <td>0</td>\n",
       "    </tr>\n",
       "  </tbody>\n",
       "</table>\n",
       "</div>"
      ],
      "text/plain": [
       "   index        src_tweet_id src_user_id  \\\n",
       "0  0      544266241511133186  23041630     \n",
       "1  7      544268900351766528  16215478     \n",
       "2  15     544274797640044544  7587032      \n",
       "3  25     544275574642835456  27964284     \n",
       "4  47     544275733607366656  374712154    \n",
       "\n",
       "                                                                                                           src_tweet  \\\n",
       "0  A police operation is underway in Martin Place, Sydney's CBD. People are advised to avoid the area.                 \n",
       "1  #BREAKING A police operation is underway in the heart of Sydney's CBD with one block of Martin Place blocked off.   \n",
       "2  Australian Police Operation Under Way In Sydney http://t.co/FHC09vZ3yP                                              \n",
       "3  Prayers needed for the situation happening in Sydney right now.                                                     \n",
       "4  This is not going to end well in Sydney . Wake up Britain it's coming here.                                         \n",
       "\n",
       "                   src_date  label  \n",
       "0 2014-12-14 23:02:38+00:00  0      \n",
       "1 2014-12-14 23:13:12+00:00  0      \n",
       "2 2014-12-14 23:36:38+00:00  0      \n",
       "3 2014-12-14 23:39:43+00:00  0      \n",
       "4 2014-12-14 23:40:21+00:00  0      "
      ]
     },
     "execution_count": 9,
     "metadata": {},
     "output_type": "execute_result"
    }
   ],
   "source": [
    "src_tw_df.head()"
   ]
  },
  {
   "cell_type": "markdown",
   "metadata": {},
   "source": [
    "# EDA"
   ]
  },
  {
   "cell_type": "markdown",
   "metadata": {},
   "source": [
    "## Missing Value"
   ]
  },
  {
   "cell_type": "code",
   "execution_count": 10,
   "metadata": {},
   "outputs": [
    {
     "data": {
      "text/plain": [
       "src_tweet_id      0\n",
       "src_user_id       0\n",
       "src_tweet         0\n",
       "src_date          0\n",
       "reply_tweet_id    0\n",
       "reply_user_id     0\n",
       "reply_tweet       0\n",
       "reply_date        0\n",
       "label             0\n",
       "dtype: int64"
      ]
     },
     "execution_count": 10,
     "metadata": {},
     "output_type": "execute_result"
    }
   ],
   "source": [
    "df.isnull().sum()"
   ]
  },
  {
   "cell_type": "markdown",
   "metadata": {},
   "source": [
    "+ drop rows where there is missing value."
   ]
  },
  {
   "cell_type": "code",
   "execution_count": 11,
   "metadata": {},
   "outputs": [],
   "source": [
    "df.dropna(inplace=True)"
   ]
  },
  {
   "cell_type": "markdown",
   "metadata": {},
   "source": [
    "## Statistics"
   ]
  },
  {
   "cell_type": "code",
   "execution_count": 12,
   "metadata": {},
   "outputs": [
    {
     "name": "stdout",
     "output_type": "stream",
     "text": [
      "# of source tweets: 1173\n",
      "# of source users: 553\n",
      "# of reply users: 11822\n",
      "# of reply tweets: 22775\n"
     ]
    }
   ],
   "source": [
    "print(\"# of source tweets:\",src_tw_df.src_tweet_id.nunique())\n",
    "print(\"# of source users:\",src_tw_df.src_user_id.nunique())\n",
    "print(\"# of reply users:\",df.reply_user_id.nunique())\n",
    "print(\"# of reply tweets:\",df.reply_tweet_id.nunique())"
   ]
  },
  {
   "cell_type": "markdown",
   "metadata": {},
   "source": [
    "## Visualiztion "
   ]
  },
  {
   "cell_type": "code",
   "execution_count": 13,
   "metadata": {},
   "outputs": [
    {
     "data": {
      "image/png": "[encoded data removed]",
      "text/plain": [
       "<Figure size 432x288 with 1 Axes>"
      ]
     },
     "metadata": {
      "needs_background": "light"
     },
     "output_type": "display_data"
    }
   ],
   "source": [
    "reply_user = df.reply_user_id.value_counts().sort_values(ascending=False).to_frame()\n",
    "reply_user.rename(columns={'reply_user_id' :'count'},inplace=True)\n",
    "sns.boxplot(data=reply_user ,x='count')\n",
    "plt.title(\"A few users replied multiple times\")\n",
    "plt.savefig('graph/sydneysiege/reply_user-1.pdf',dpi=300)"
   ]
  },
  {
   "cell_type": "code",
   "execution_count": 14,
   "metadata": {},
   "outputs": [
    {
     "data": {
      "text/plain": [
       "3465"
      ]
     },
     "execution_count": 14,
     "metadata": {},
     "output_type": "execute_result"
    }
   ],
   "source": [
    "more_freq_reply_user = reply_user.loc[reply_user['count'] > 1].index\n",
    "len(more_freq_reply_user)"
   ]
  },
  {
   "cell_type": "code",
   "execution_count": 15,
   "metadata": {},
   "outputs": [
    {
     "data": {
      "image/png": "[encoded data removed]",
      "text/plain": [
       "<Figure size 432x288 with 1 Axes>"
      ]
     },
     "metadata": {
      "needs_background": "light"
     },
     "output_type": "display_data"
    }
   ],
   "source": [
    "more_freq = df[df['reply_user_id'].isin(more_freq_reply_user)]\n",
    "# more_freq.label.value_counts().\n",
    "sns.countplot(data=more_freq ,x='label')\n",
    "plt.title('Frequent users replied more to rumours')\n",
    "plt.savefig('graph/sydneysiege/reply_user-2.pdf',dpi=300)"
   ]
  },
  {
   "cell_type": "code",
   "execution_count": 16,
   "metadata": {},
   "outputs": [
    {
     "name": "stdout",
     "output_type": "stream",
     "text": [
      "            count\n",
      "292777349   31   \n",
      "64643056    27   \n",
      "7587032     26   \n",
      "28785486    26   \n",
      "5402612     24   \n",
      "...         ..   \n",
      "113164127   1    \n",
      "349803020   1    \n",
      "139687841   1    \n",
      "1717464030  1    \n",
      "284620348   1    \n",
      "\n",
      "[553 rows x 1 columns]\n"
     ]
    },
    {
     "data": {
      "image/png": "[encoded data removed]",
      "text/plain": [
       "<Figure size 432x288 with 1 Axes>"
      ]
     },
     "metadata": {
      "needs_background": "light"
     },
     "output_type": "display_data"
    },
    {
     "data": {
      "text/plain": [
       "<Figure size 432x288 with 0 Axes>"
      ]
     },
     "metadata": {},
     "output_type": "display_data"
    }
   ],
   "source": [
    "source_user = src_tw_df.src_user_id.value_counts().sort_values(ascending=False).to_frame()\n",
    "source_user.rename(columns={'src_user_id' :'count'},inplace=True)\n",
    "print(source_user)\n",
    "sns.boxplot(data=source_user ,x='count')\n",
    "plt.title('a few user tweeted more than once',fontsize = 12)\n",
    "plt.show()\n",
    "plt.savefig('graph/sydneysiege/source_user-1.pdf',dpi=300)"
   ]
  },
  {
   "cell_type": "code",
   "execution_count": 17,
   "metadata": {},
   "outputs": [
    {
     "data": {
      "image/png": "[encoded data removed]",
      "text/plain": [
       "<Figure size 432x288 with 1 Axes>"
      ]
     },
     "metadata": {
      "needs_background": "light"
     },
     "output_type": "display_data"
    }
   ],
   "source": [
    "more_freq_src_user = source_user.loc[source_user['count'] > 1].index\n",
    "more_freq_src_user\n",
    "more_freq = src_tw_df[src_tw_df['src_user_id'].isin(more_freq_src_user)]\n",
    "# more_freq.label.value_counts().\n",
    "sns.countplot(data=more_freq ,x='label')\n",
    "plt.title('Most of source tweets posted by frequent users were rumours.')\n",
    "plt.savefig('graph/sydneysiege/src_user-2.pdf',dpi=300)"
   ]
  },
  {
   "cell_type": "code",
   "execution_count": null,
   "metadata": {},
   "outputs": [],
   "source": [
    "df.groupby('src_tweet_id')['label'].value_counts().sort_values('label')#.plot(kind = 'bar')\n",
    "# plt.title('Rumour tweet are more than non-rumor tweet',fontsize = 14)\n",
    "# plt.xlabel('Rumor / Non-Rumour', fontsize=12)\n",
    "# plt.ylabel('Count', fontsize=12)\n",
    "# plt.show()"
   ]
  }
 ],
 "metadata": {
  "kernelspec": {
   "display_name": "Python 3",
   "language": "python",
   "name": "python3"
  },
  "language_info": {
   "codemirror_mode": {
    "name": "ipython",
    "version": 3
   },
   "file_extension": ".py",
   "mimetype": "text/x-python",
   "name": "python",
   "nbconvert_exporter": "python",
   "pygments_lexer": "ipython3",
   "version": "3.9.1"
  },
  "toc-autonumbering": false,
  "toc-showmarkdowntxt": true
 },
 "nbformat": 4,
 "nbformat_minor": 4
}
