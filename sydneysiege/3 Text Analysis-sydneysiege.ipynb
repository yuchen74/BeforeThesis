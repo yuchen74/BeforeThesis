{
 "cells": [
  {
   "cell_type": "markdown",
   "id": "descending-avatar",
   "metadata": {},
   "source": [
    "# Text Analysis on sydneysiege data"
   ]
  },
  {
   "cell_type": "code",
   "execution_count": 21,
   "id": "incomplete-associate",
   "metadata": {},
   "outputs": [],
   "source": [
    "import numpy as np\n",
    "import pandas as pd\n",
    "import datetime \n",
    "import matplotlib.pyplot as plt\n",
    "import seaborn as sns"
   ]
  },
  {
   "cell_type": "code",
   "execution_count": 22,
   "id": "proved-confidentiality",
   "metadata": {},
   "outputs": [],
   "source": [
    "df = pd.read_csv(r'D:\\論文\\PHEME9\\Data\\CSV\\sydneysiege.csv', encoding = 'utf-8', header = None)\n",
    "df.columns = ['src_tweet_id', 'src_user_id', 'src_tweet','src_date','reply_tweet_id','reply_user_id','reply_tweet','reply_date', 'label']\n",
    "df.reply_tweet = df.reply_tweet.replace(np.nan,\"\")"
   ]
  },
  {
   "cell_type": "code",
   "execution_count": 23,
   "id": "light-greeting",
   "metadata": {},
   "outputs": [
    {
     "data": {
      "text/html": [
       "<div>\n",
       "<style scoped>\n",
       "    .dataframe tbody tr th:only-of-type {\n",
       "        vertical-align: middle;\n",
       "    }\n",
       "\n",
       "    .dataframe tbody tr th {\n",
       "        vertical-align: top;\n",
       "    }\n",
       "\n",
       "    .dataframe thead th {\n",
       "        text-align: right;\n",
       "    }\n",
       "</style>\n",
       "<table border=\"1\" class=\"dataframe\">\n",
       "  <thead>\n",
       "    <tr style=\"text-align: right;\">\n",
       "      <th></th>\n",
       "      <th>src_tweet_id</th>\n",
       "      <th>src_user_id</th>\n",
       "      <th>src_tweet</th>\n",
       "      <th>src_date</th>\n",
       "      <th>label</th>\n",
       "    </tr>\n",
       "  </thead>\n",
       "  <tbody>\n",
       "    <tr>\n",
       "      <th>0</th>\n",
       "      <td>544266241511133186</td>\n",
       "      <td>23041630</td>\n",
       "      <td>A police operation is underway in Martin Place...</td>\n",
       "      <td>Sun Dec 14 23:02:38 +0000 2014</td>\n",
       "      <td>0</td>\n",
       "    </tr>\n",
       "    <tr>\n",
       "      <th>7</th>\n",
       "      <td>544268900351766528</td>\n",
       "      <td>16215478</td>\n",
       "      <td>#BREAKING A police operation is underway in th...</td>\n",
       "      <td>Sun Dec 14 23:13:12 +0000 2014</td>\n",
       "      <td>0</td>\n",
       "    </tr>\n",
       "    <tr>\n",
       "      <th>15</th>\n",
       "      <td>544274797640044544</td>\n",
       "      <td>7587032</td>\n",
       "      <td>Australian Police Operation Under Way In Sydne...</td>\n",
       "      <td>Sun Dec 14 23:36:38 +0000 2014</td>\n",
       "      <td>0</td>\n",
       "    </tr>\n",
       "    <tr>\n",
       "      <th>25</th>\n",
       "      <td>544275574642835456</td>\n",
       "      <td>27964284</td>\n",
       "      <td>Prayers needed for the situation happening in ...</td>\n",
       "      <td>Sun Dec 14 23:39:43 +0000 2014</td>\n",
       "      <td>0</td>\n",
       "    </tr>\n",
       "    <tr>\n",
       "      <th>47</th>\n",
       "      <td>544275733607366656</td>\n",
       "      <td>374712154</td>\n",
       "      <td>This is not going to end well in Sydney . Wake...</td>\n",
       "      <td>Sun Dec 14 23:40:21 +0000 2014</td>\n",
       "      <td>0</td>\n",
       "    </tr>\n",
       "    <tr>\n",
       "      <th>...</th>\n",
       "      <td>...</td>\n",
       "      <td>...</td>\n",
       "      <td>...</td>\n",
       "      <td>...</td>\n",
       "      <td>...</td>\n",
       "    </tr>\n",
       "    <tr>\n",
       "      <th>22682</th>\n",
       "      <td>544520042810200064</td>\n",
       "      <td>442653867</td>\n",
       "      <td>#sydneysiege is over. 2 confirmed dead, #PrayF...</td>\n",
       "      <td>Mon Dec 15 15:51:09 +0000 2014</td>\n",
       "      <td>1</td>\n",
       "    </tr>\n",
       "    <tr>\n",
       "      <th>22684</th>\n",
       "      <td>544520273718812672</td>\n",
       "      <td>100629223</td>\n",
       "      <td>Police confirm that #sydneysiege is finally ov...</td>\n",
       "      <td>Mon Dec 15 15:52:04 +0000 2014</td>\n",
       "      <td>1</td>\n",
       "    </tr>\n",
       "    <tr>\n",
       "      <th>22702</th>\n",
       "      <td>544520932405284864</td>\n",
       "      <td>7587032</td>\n",
       "      <td>Seven people reportedly taken away on stretche...</td>\n",
       "      <td>Mon Dec 15 15:54:41 +0000 2014</td>\n",
       "      <td>1</td>\n",
       "    </tr>\n",
       "    <tr>\n",
       "      <th>22736</th>\n",
       "      <td>544521141335764992</td>\n",
       "      <td>342894187</td>\n",
       "      <td>BREAKING: CNN: Sydney police storm cafe. 2 con...</td>\n",
       "      <td>Mon Dec 15 15:55:31 +0000 2014</td>\n",
       "      <td>1</td>\n",
       "    </tr>\n",
       "    <tr>\n",
       "      <th>22756</th>\n",
       "      <td>544521166543548416</td>\n",
       "      <td>87261221</td>\n",
       "      <td>Sadly, at this stage, there are two confirmed ...</td>\n",
       "      <td>Mon Dec 15 15:55:37 +0000 2014</td>\n",
       "      <td>1</td>\n",
       "    </tr>\n",
       "  </tbody>\n",
       "</table>\n",
       "<p>1173 rows × 5 columns</p>\n",
       "</div>"
      ],
      "text/plain": [
       "             src_tweet_id  src_user_id  \\\n",
       "0      544266241511133186     23041630   \n",
       "7      544268900351766528     16215478   \n",
       "15     544274797640044544      7587032   \n",
       "25     544275574642835456     27964284   \n",
       "47     544275733607366656    374712154   \n",
       "...                   ...          ...   \n",
       "22682  544520042810200064    442653867   \n",
       "22684  544520273718812672    100629223   \n",
       "22702  544520932405284864      7587032   \n",
       "22736  544521141335764992    342894187   \n",
       "22756  544521166543548416     87261221   \n",
       "\n",
       "                                               src_tweet  \\\n",
       "0      A police operation is underway in Martin Place...   \n",
       "7      #BREAKING A police operation is underway in th...   \n",
       "15     Australian Police Operation Under Way In Sydne...   \n",
       "25     Prayers needed for the situation happening in ...   \n",
       "47     This is not going to end well in Sydney . Wake...   \n",
       "...                                                  ...   \n",
       "22682  #sydneysiege is over. 2 confirmed dead, #PrayF...   \n",
       "22684  Police confirm that #sydneysiege is finally ov...   \n",
       "22702  Seven people reportedly taken away on stretche...   \n",
       "22736  BREAKING: CNN: Sydney police storm cafe. 2 con...   \n",
       "22756  Sadly, at this stage, there are two confirmed ...   \n",
       "\n",
       "                             src_date  label  \n",
       "0      Sun Dec 14 23:02:38 +0000 2014      0  \n",
       "7      Sun Dec 14 23:13:12 +0000 2014      0  \n",
       "15     Sun Dec 14 23:36:38 +0000 2014      0  \n",
       "25     Sun Dec 14 23:39:43 +0000 2014      0  \n",
       "47     Sun Dec 14 23:40:21 +0000 2014      0  \n",
       "...                               ...    ...  \n",
       "22682  Mon Dec 15 15:51:09 +0000 2014      1  \n",
       "22684  Mon Dec 15 15:52:04 +0000 2014      1  \n",
       "22702  Mon Dec 15 15:54:41 +0000 2014      1  \n",
       "22736  Mon Dec 15 15:55:31 +0000 2014      1  \n",
       "22756  Mon Dec 15 15:55:37 +0000 2014      1  \n",
       "\n",
       "[1173 rows x 5 columns]"
      ]
     },
     "execution_count": 23,
     "metadata": {},
     "output_type": "execute_result"
    }
   ],
   "source": [
    "src_tw_df = df.iloc[:,[0,1,2,3,8]].copy()\n",
    "src_tw_df = src_tw_df.drop_duplicates()\n",
    "src_tw_df"
   ]
  },
  {
   "cell_type": "markdown",
   "id": "racial-means",
   "metadata": {},
   "source": [
    "## Prepocessing\n",
    "- Define function to process text at one time"
   ]
  },
  {
   "cell_type": "code",
   "execution_count": 36,
   "id": "perfect-compilation",
   "metadata": {},
   "outputs": [],
   "source": [
    "def textprocessing(text):\n",
    "    text = text.lower()\n",
    "\n",
    "    text = \" \".join([word for word in text.split() if 'http' not in word\n",
    "                                and not word.startswith('@')])\n",
    "                                #and word != 'RT'])\n",
    "    import re\n",
    "    def remove_punct(tweet):\n",
    "        new_words = []\n",
    "        for word in tweet:\n",
    "            w = re.sub(r'[^\\w\\s]','',word) #remove everything except words and space\n",
    "            w = re.sub(r'_','',w) #how to remove underscore as well\n",
    "            new_words.append(w)\n",
    "\n",
    "        return new_words\n",
    "    text = \"\".join(remove_punct(text))\n",
    "          \n",
    "    from nltk.tokenize import TweetTokenizer\n",
    "    tknzr = TweetTokenizer(strip_handles=True)\n",
    "    text = tknzr.tokenize(text)\n",
    "    \n",
    "    from nltk.stem.porter import PorterStemmer\n",
    "    stem = PorterStemmer()\n",
    "    text = [stem.stem(i) for i in text]\n",
    "    \n",
    "    from nltk.corpus import stopwords\n",
    "    stop_words=set(stopwords.words(\"english\"))\n",
    "    def filterstopwords(tw):\n",
    "        filter_stopwords = []\n",
    "        for w in tw:\n",
    "            if w not in stop_words:\n",
    "                filter_stopwords.append(w)\n",
    "        return filter_stopwords\n",
    "    text = filterstopwords(text)\n",
    "    text = \" \".join(text)\n",
    "    \n",
    "    return text"
   ]
  },
  {
   "cell_type": "code",
   "execution_count": 37,
   "id": "suited-logic",
   "metadata": {},
   "outputs": [
    {
     "name": "stdout",
     "output_type": "stream",
     "text": [
      "original text:  @SkyNews Al-nusra front https://t.co/ElpNQ129ER …\n",
      "cleaned text:  alnusra front\n"
     ]
    }
   ],
   "source": [
    "print(\"original text: \", df.reply_tweet.iloc[20])\n",
    "print(\"cleaned text: \", textprocessing(df.reply_tweet.iloc[20]))"
   ]
  },
  {
   "cell_type": "markdown",
   "id": "australian-hours",
   "metadata": {},
   "source": [
    "### applied on original data (**df**)"
   ]
  },
  {
   "cell_type": "code",
   "execution_count": 38,
   "id": "incomplete-teaching",
   "metadata": {},
   "outputs": [],
   "source": [
    "df['cleaned_src_tw'] = df.src_tweet.apply(textprocessing)\n",
    "df['cleaned_reply_tw'] = df.reply_tweet.apply(textprocessing)"
   ]
  },
  {
   "cell_type": "code",
   "execution_count": 39,
   "id": "handy-miracle",
   "metadata": {},
   "outputs": [
    {
     "data": {
      "text/html": [
       "<div>\n",
       "<style scoped>\n",
       "    .dataframe tbody tr th:only-of-type {\n",
       "        vertical-align: middle;\n",
       "    }\n",
       "\n",
       "    .dataframe tbody tr th {\n",
       "        vertical-align: top;\n",
       "    }\n",
       "\n",
       "    .dataframe thead th {\n",
       "        text-align: right;\n",
       "    }\n",
       "</style>\n",
       "<table border=\"1\" class=\"dataframe\">\n",
       "  <thead>\n",
       "    <tr style=\"text-align: right;\">\n",
       "      <th></th>\n",
       "      <th>src_tweet_id</th>\n",
       "      <th>src_user_id</th>\n",
       "      <th>src_tweet</th>\n",
       "      <th>src_date</th>\n",
       "      <th>reply_tweet_id</th>\n",
       "      <th>reply_user_id</th>\n",
       "      <th>reply_tweet</th>\n",
       "      <th>reply_date</th>\n",
       "      <th>label</th>\n",
       "      <th>cleaned_src_tw</th>\n",
       "      <th>cleaned_reply_tw</th>\n",
       "    </tr>\n",
       "  </thead>\n",
       "  <tbody>\n",
       "    <tr>\n",
       "      <th>0</th>\n",
       "      <td>544266241511133186</td>\n",
       "      <td>23041630</td>\n",
       "      <td>A police operation is underway in Martin Place...</td>\n",
       "      <td>Sun Dec 14 23:02:38 +0000 2014</td>\n",
       "      <td>544270066661851136</td>\n",
       "      <td>27735195</td>\n",
       "      <td>“@nswpolice: A police operation is underway in...</td>\n",
       "      <td>Sun Dec 14 23:17:50 +0000 2014</td>\n",
       "      <td>0</td>\n",
       "      <td>polic oper underway martin place sydney cbd pe...</td>\n",
       "      <td>nswpolic polic oper underway martin place sydn...</td>\n",
       "    </tr>\n",
       "    <tr>\n",
       "      <th>1</th>\n",
       "      <td>544266241511133186</td>\n",
       "      <td>23041630</td>\n",
       "      <td>A police operation is underway in Martin Place...</td>\n",
       "      <td>Sun Dec 14 23:02:38 +0000 2014</td>\n",
       "      <td>544273361334194176</td>\n",
       "      <td>14875436</td>\n",
       "      <td>RT @nswpolice: A police operation is underway ...</td>\n",
       "      <td>Sun Dec 14 23:30:56 +0000 2014</td>\n",
       "      <td>0</td>\n",
       "      <td>polic oper underway martin place sydney cbd pe...</td>\n",
       "      <td>rt polic oper underway martin place sydney cbd...</td>\n",
       "    </tr>\n",
       "    <tr>\n",
       "      <th>2</th>\n",
       "      <td>544266241511133186</td>\n",
       "      <td>23041630</td>\n",
       "      <td>A police operation is underway in Martin Place...</td>\n",
       "      <td>Sun Dec 14 23:02:38 +0000 2014</td>\n",
       "      <td>544275366588588032</td>\n",
       "      <td>14121167</td>\n",
       "      <td>“@nswpolice: A police operation is underway in...</td>\n",
       "      <td>Sun Dec 14 23:38:54 +0000 2014</td>\n",
       "      <td>0</td>\n",
       "      <td>polic oper underway martin place sydney cbd pe...</td>\n",
       "      <td>nswpolic polic oper underway martin place sydn...</td>\n",
       "    </tr>\n",
       "    <tr>\n",
       "      <th>3</th>\n",
       "      <td>544266241511133186</td>\n",
       "      <td>23041630</td>\n",
       "      <td>A police operation is underway in Martin Place...</td>\n",
       "      <td>Sun Dec 14 23:02:38 +0000 2014</td>\n",
       "      <td>544276615316770816</td>\n",
       "      <td>187877777</td>\n",
       "      <td>RT @nswpolice: A police operation is underway ...</td>\n",
       "      <td>Sun Dec 14 23:43:51 +0000 2014</td>\n",
       "      <td>0</td>\n",
       "      <td>polic oper underway martin place sydney cbd pe...</td>\n",
       "      <td>rt polic oper underway martin place sydney cbd...</td>\n",
       "    </tr>\n",
       "    <tr>\n",
       "      <th>4</th>\n",
       "      <td>544266241511133186</td>\n",
       "      <td>23041630</td>\n",
       "      <td>A police operation is underway in Martin Place...</td>\n",
       "      <td>Sun Dec 14 23:02:38 +0000 2014</td>\n",
       "      <td>544278115589976065</td>\n",
       "      <td>372216479</td>\n",
       "      <td>RT “@nswpolice: A police operation is underway...</td>\n",
       "      <td>Sun Dec 14 23:49:49 +0000 2014</td>\n",
       "      <td>0</td>\n",
       "      <td>polic oper underway martin place sydney cbd pe...</td>\n",
       "      <td>rt nswpolic polic oper underway martin place s...</td>\n",
       "    </tr>\n",
       "  </tbody>\n",
       "</table>\n",
       "</div>"
      ],
      "text/plain": [
       "         src_tweet_id  src_user_id  \\\n",
       "0  544266241511133186     23041630   \n",
       "1  544266241511133186     23041630   \n",
       "2  544266241511133186     23041630   \n",
       "3  544266241511133186     23041630   \n",
       "4  544266241511133186     23041630   \n",
       "\n",
       "                                           src_tweet  \\\n",
       "0  A police operation is underway in Martin Place...   \n",
       "1  A police operation is underway in Martin Place...   \n",
       "2  A police operation is underway in Martin Place...   \n",
       "3  A police operation is underway in Martin Place...   \n",
       "4  A police operation is underway in Martin Place...   \n",
       "\n",
       "                         src_date      reply_tweet_id  reply_user_id  \\\n",
       "0  Sun Dec 14 23:02:38 +0000 2014  544270066661851136       27735195   \n",
       "1  Sun Dec 14 23:02:38 +0000 2014  544273361334194176       14875436   \n",
       "2  Sun Dec 14 23:02:38 +0000 2014  544275366588588032       14121167   \n",
       "3  Sun Dec 14 23:02:38 +0000 2014  544276615316770816      187877777   \n",
       "4  Sun Dec 14 23:02:38 +0000 2014  544278115589976065      372216479   \n",
       "\n",
       "                                         reply_tweet  \\\n",
       "0  “@nswpolice: A police operation is underway in...   \n",
       "1  RT @nswpolice: A police operation is underway ...   \n",
       "2  “@nswpolice: A police operation is underway in...   \n",
       "3  RT @nswpolice: A police operation is underway ...   \n",
       "4  RT “@nswpolice: A police operation is underway...   \n",
       "\n",
       "                       reply_date  label  \\\n",
       "0  Sun Dec 14 23:17:50 +0000 2014      0   \n",
       "1  Sun Dec 14 23:30:56 +0000 2014      0   \n",
       "2  Sun Dec 14 23:38:54 +0000 2014      0   \n",
       "3  Sun Dec 14 23:43:51 +0000 2014      0   \n",
       "4  Sun Dec 14 23:49:49 +0000 2014      0   \n",
       "\n",
       "                                      cleaned_src_tw  \\\n",
       "0  polic oper underway martin place sydney cbd pe...   \n",
       "1  polic oper underway martin place sydney cbd pe...   \n",
       "2  polic oper underway martin place sydney cbd pe...   \n",
       "3  polic oper underway martin place sydney cbd pe...   \n",
       "4  polic oper underway martin place sydney cbd pe...   \n",
       "\n",
       "                                    cleaned_reply_tw  \n",
       "0  nswpolic polic oper underway martin place sydn...  \n",
       "1  rt polic oper underway martin place sydney cbd...  \n",
       "2  nswpolic polic oper underway martin place sydn...  \n",
       "3  rt polic oper underway martin place sydney cbd...  \n",
       "4  rt nswpolic polic oper underway martin place s...  "
      ]
     },
     "execution_count": 39,
     "metadata": {},
     "output_type": "execute_result"
    }
   ],
   "source": [
    "df.head()"
   ]
  },
  {
   "cell_type": "markdown",
   "id": "optical-moldova",
   "metadata": {},
   "source": [
    "### applied on source tweet data (**src_tw_df**) "
   ]
  },
  {
   "cell_type": "code",
   "execution_count": 40,
   "id": "miniature-compound",
   "metadata": {},
   "outputs": [],
   "source": [
    "src_tw_df['cleaned_src_tw'] = src_tw_df.src_tweet.apply(textprocessing)"
   ]
  },
  {
   "cell_type": "markdown",
   "id": "modern-patrol",
   "metadata": {},
   "source": [
    "## Sentiment Analysis"
   ]
  },
  {
   "cell_type": "code",
   "execution_count": 41,
   "id": "thousand-bangladesh",
   "metadata": {},
   "outputs": [],
   "source": [
    "from vaderSentiment.vaderSentiment import SentimentIntensityAnalyzer"
   ]
  },
  {
   "cell_type": "code",
   "execution_count": 42,
   "id": "upper-thickness",
   "metadata": {},
   "outputs": [],
   "source": [
    "def get_sentiment(tweet):\n",
    "    analyzer = SentimentIntensityAnalyzer()\n",
    "    vs = analyzer.polarity_scores(tweet)\n",
    "    if vs['compound'] >=0.05:\n",
    "        sentiment_label = 'Positive'\n",
    "    elif (vs['compound'] > -0.05) & (vs['compound'] < 0.05):\n",
    "        sentiment_label = 'Neutral'\n",
    "    elif vs['compound']<= -0.05:\n",
    "        sentiment_label = 'Negative' \n",
    "    result = sentiment_label\n",
    "    return result"
   ]
  },
  {
   "cell_type": "markdown",
   "id": "miniature-millennium",
   "metadata": {},
   "source": [
    "### applied on original df"
   ]
  },
  {
   "cell_type": "code",
   "execution_count": 43,
   "id": "defined-confusion",
   "metadata": {},
   "outputs": [],
   "source": [
    "df['src_sentiment']= df.cleaned_src_tw.apply(get_sentiment)\n",
    "df['reply_sentiment']= df.cleaned_reply_tw.apply(get_sentiment)"
   ]
  },
  {
   "cell_type": "code",
   "execution_count": 44,
   "id": "medical-deposit",
   "metadata": {},
   "outputs": [
    {
     "data": {
      "text/html": [
       "<div>\n",
       "<style scoped>\n",
       "    .dataframe tbody tr th:only-of-type {\n",
       "        vertical-align: middle;\n",
       "    }\n",
       "\n",
       "    .dataframe tbody tr th {\n",
       "        vertical-align: top;\n",
       "    }\n",
       "\n",
       "    .dataframe thead th {\n",
       "        text-align: right;\n",
       "    }\n",
       "</style>\n",
       "<table border=\"1\" class=\"dataframe\">\n",
       "  <thead>\n",
       "    <tr style=\"text-align: right;\">\n",
       "      <th></th>\n",
       "      <th>src_tweet_id</th>\n",
       "      <th>src_user_id</th>\n",
       "      <th>src_tweet</th>\n",
       "      <th>src_date</th>\n",
       "      <th>reply_tweet_id</th>\n",
       "      <th>reply_user_id</th>\n",
       "      <th>reply_tweet</th>\n",
       "      <th>reply_date</th>\n",
       "      <th>label</th>\n",
       "      <th>cleaned_src_tw</th>\n",
       "      <th>cleaned_reply_tw</th>\n",
       "      <th>src_sentiment</th>\n",
       "      <th>reply_sentiment</th>\n",
       "    </tr>\n",
       "  </thead>\n",
       "  <tbody>\n",
       "    <tr>\n",
       "      <th>0</th>\n",
       "      <td>544266241511133186</td>\n",
       "      <td>23041630</td>\n",
       "      <td>A police operation is underway in Martin Place...</td>\n",
       "      <td>Sun Dec 14 23:02:38 +0000 2014</td>\n",
       "      <td>544270066661851136</td>\n",
       "      <td>27735195</td>\n",
       "      <td>“@nswpolice: A police operation is underway in...</td>\n",
       "      <td>Sun Dec 14 23:17:50 +0000 2014</td>\n",
       "      <td>0</td>\n",
       "      <td>polic oper underway martin place sydney cbd pe...</td>\n",
       "      <td>nswpolic polic oper underway martin place sydn...</td>\n",
       "      <td>Negative</td>\n",
       "      <td>Negative</td>\n",
       "    </tr>\n",
       "  </tbody>\n",
       "</table>\n",
       "</div>"
      ],
      "text/plain": [
       "         src_tweet_id  src_user_id  \\\n",
       "0  544266241511133186     23041630   \n",
       "\n",
       "                                           src_tweet  \\\n",
       "0  A police operation is underway in Martin Place...   \n",
       "\n",
       "                         src_date      reply_tweet_id  reply_user_id  \\\n",
       "0  Sun Dec 14 23:02:38 +0000 2014  544270066661851136       27735195   \n",
       "\n",
       "                                         reply_tweet  \\\n",
       "0  “@nswpolice: A police operation is underway in...   \n",
       "\n",
       "                       reply_date  label  \\\n",
       "0  Sun Dec 14 23:17:50 +0000 2014      0   \n",
       "\n",
       "                                      cleaned_src_tw  \\\n",
       "0  polic oper underway martin place sydney cbd pe...   \n",
       "\n",
       "                                    cleaned_reply_tw src_sentiment  \\\n",
       "0  nswpolic polic oper underway martin place sydn...      Negative   \n",
       "\n",
       "  reply_sentiment  \n",
       "0        Negative  "
      ]
     },
     "execution_count": 44,
     "metadata": {},
     "output_type": "execute_result"
    }
   ],
   "source": [
    "df.head(1)"
   ]
  },
  {
   "cell_type": "markdown",
   "id": "corresponding-chinese",
   "metadata": {},
   "source": [
    "### applied on source tweet data only "
   ]
  },
  {
   "cell_type": "code",
   "execution_count": 45,
   "id": "immune-switch",
   "metadata": {},
   "outputs": [],
   "source": [
    "### source tweet data only \n",
    "src_tw_df['src_sentiment']=  src_tw_df['cleaned_src_tw'].apply(get_sentiment)"
   ]
  },
  {
   "cell_type": "markdown",
   "id": "sealed-miller",
   "metadata": {},
   "source": [
    "### Visualization"
   ]
  },
  {
   "cell_type": "code",
   "execution_count": null,
   "id": "equipped-therapist",
   "metadata": {},
   "outputs": [],
   "source": [
    "print(df[df.label ==1]['reply_sentiment'].value_counts())\n",
    "plt.figure(figsize=(8,6))\n",
    "sns.countplot(x='reply_sentiment',data= df[df['label'] == 1])\n",
    "\n",
    "plt.suptitle('Sentiment analysis on Reply tweets under Catergory Rumour',fontsize=16)\n",
    "plt.title('Reply tweets show more positive attitude towards rumour tweet',fontsize=12,color='grey')\n",
    "plt.savefig('graph/sydneysiege/senti_reply_rumour.pdf',dpi=300)"
   ]
  },
  {
   "cell_type": "code",
   "execution_count": null,
   "id": "round-international",
   "metadata": {},
   "outputs": [],
   "source": [
    "print(df[df.label ==0]['reply_sentiment'].value_counts())\n",
    "plt.figure(figsize=(8,6))\n",
    "sns.countplot(x='reply_sentiment',data= df[df['label'] == 0])\n",
    "\n",
    "plt.suptitle('Sentiment analysis on Reply tweets under Catergory Non-Rumour',fontsize=16)\n",
    "plt.title('Reply tweets show more neutrual attitude towards non-rumour tweet',fontsize=12,color='grey')\n",
    "plt.savefig('graph/sydneysiege/senti_reply_nonrumour.pdf',dpi=300)"
   ]
  },
  {
   "cell_type": "code",
   "execution_count": null,
   "id": "biological-profession",
   "metadata": {},
   "outputs": [],
   "source": [
    "print(src_tw_df['src_sentiment'].value_counts())\n",
    "sns.countplot(x='src_sentiment',data =src_tw_df,hue='label')\n",
    "\n",
    "plt.suptitle('Sentiment analysis on Source Tweets',fontsize=16)\n",
    "plt.title('Rumour source tweets show more neutral attitude.',fontsize=12,color='grey')\n",
    "plt.savefig('graph/sydneysiege/senti_source.pdf',dpi=300)"
   ]
  },
  {
   "cell_type": "markdown",
   "id": "changed-samuel",
   "metadata": {},
   "source": [
    "### save data to csv "
   ]
  },
  {
   "cell_type": "code",
   "execution_count": 13,
   "id": "polar-gasoline",
   "metadata": {},
   "outputs": [],
   "source": [
    "df.to_csv(r'D:\\論文\\PHEME9\\Data\\CSV\\sydneysiege-df.csv',index=False)"
   ]
  },
  {
   "cell_type": "code",
   "execution_count": null,
   "id": "emotional-british",
   "metadata": {},
   "outputs": [],
   "source": [
    "src_tw_df.to_csv(r'D:\\論文\\PHEME9\\Data\\CSV\\sydneysiege-src.csv',index=False)"
   ]
  },
  {
   "cell_type": "markdown",
   "id": "jewish-billy",
   "metadata": {},
   "source": [
    "## Keywords Extraction\n",
    "### WordCloud"
   ]
  },
  {
   "cell_type": "code",
   "execution_count": null,
   "id": "meaningful-aggregate",
   "metadata": {},
   "outputs": [],
   "source": [
    "from wordcloud import WordCloud"
   ]
  },
  {
   "cell_type": "code",
   "execution_count": null,
   "id": "exempt-school",
   "metadata": {},
   "outputs": [],
   "source": [
    "plt.figure(figsize=(20,10))\n",
    "mywordcloud = WordCloud().generate(docx)\n",
    "plt.imshow(mywordcloud,interpolation='bilinear')\n",
    "plt.axis('off')\n",
    "plt.show()"
   ]
  },
  {
   "cell_type": "markdown",
   "id": "international-popularity",
   "metadata": {},
   "source": [
    "#### Reply Tweets"
   ]
  },
  {
   "cell_type": "code",
   "execution_count": null,
   "id": "average-depth",
   "metadata": {},
   "outputs": [],
   "source": [
    "#nltk.download('punkt')\n",
    "from nltk.tokenize import word_tokenize"
   ]
  },
  {
   "cell_type": "code",
   "execution_count": null,
   "id": "better-webster",
   "metadata": {},
   "outputs": [],
   "source": [
    "reply_sen = df.cleaned_reply_tw.apply(word_tokenize)\n",
    "reply_tw_list = []\n",
    "for sen in reply_sen:\n",
    "    for token in sen:\n",
    "        reply_tw_list.append(token)\n",
    "reply_tw_doc = \" \".join(reply_tw_list)"
   ]
  },
  {
   "cell_type": "code",
   "execution_count": null,
   "id": "eastern-harvey",
   "metadata": {},
   "outputs": [],
   "source": [
    "plt.figure(figsize=(20,10))\n",
    "mywordcloud = WordCloud().generate(reply_tw_doc)\n",
    "plt.imshow(mywordcloud,interpolation='bilinear')\n",
    "plt.axis('off')\n",
    "plt.show()\n",
    "mywordcloud.to_file('graph/sydneysiege/wordcloud_reply.pdf')"
   ]
  },
  {
   "cell_type": "code",
   "execution_count": null,
   "id": "saving-college",
   "metadata": {},
   "outputs": [],
   "source": [
    "# positive \n",
    "posi_reply_sen = df[df.reply_sentiment=='Positive'].cleaned_reply_tw.apply(word_tokenize)\n",
    "posi_reply_tw_list = []\n",
    "for sen in posi_reply_sen:\n",
    "    for token in sen:\n",
    "        posi_reply_tw_list.append(token)\n",
    "posi_reply_tw_doc = \" \".join(posi_reply_tw_list)\n"
   ]
  },
  {
   "cell_type": "code",
   "execution_count": null,
   "id": "utility-prototype",
   "metadata": {},
   "outputs": [],
   "source": [
    "plt.figure(figsize=(20,10))\n",
    "mywordcloud = WordCloud().generate(posi_reply_tw_doc)\n",
    "plt.imshow(mywordcloud,interpolation='bilinear')\n",
    "plt.axis('off')\n",
    "plt.show()\n",
    "mywordcloud.to_file('graph/sydneysiege/wordcloud_reply_posi.pdf')"
   ]
  },
  {
   "cell_type": "markdown",
   "id": "attractive-tractor",
   "metadata": {},
   "source": [
    "#### Source Tweet"
   ]
  },
  {
   "cell_type": "code",
   "execution_count": null,
   "id": "functional-factor",
   "metadata": {},
   "outputs": [],
   "source": [
    "src_sen = src_tw_df.cleaned_src_tw.apply(word_tokenize)\n",
    "src_tw_list = []\n",
    "for sen in src_sen:\n",
    "    for token in sen:\n",
    "        src_tw_list.append(token)\n",
    "\n",
    "src_tw_doc = \" \".join(src_tw_list)"
   ]
  },
  {
   "cell_type": "code",
   "execution_count": null,
   "id": "nearby-rebate",
   "metadata": {},
   "outputs": [],
   "source": [
    "plt.figure(figsize=(20,10))\n",
    "mywordcloud = WordCloud().generate(src_tw_doc)\n",
    "plt.imshow(mywordcloud,interpolation='bilinear')\n",
    "plt.axis('off')\n",
    "plt.show()\n",
    "mywordcloud.to_file('graph/sydneysiege/wordcloud_src.pdf')"
   ]
  },
  {
   "cell_type": "markdown",
   "id": "institutional-signal",
   "metadata": {},
   "source": [
    "### Common"
   ]
  },
  {
   "cell_type": "code",
   "execution_count": null,
   "id": "recovered-creature",
   "metadata": {},
   "outputs": [],
   "source": [
    "from collections import Counter"
   ]
  },
  {
   "cell_type": "code",
   "execution_count": null,
   "id": "opposed-visiting",
   "metadata": {},
   "outputs": [],
   "source": [
    "def get_tokens(docx,num=30):\n",
    "    word_tokens = Counter(docx)\n",
    "    most_common = word_tokens.most_common(num)\n",
    "    result = dict(most_common)\n",
    "    return result"
   ]
  },
  {
   "cell_type": "code",
   "execution_count": null,
   "id": "charitable-south",
   "metadata": {},
   "outputs": [],
   "source": [
    "pd.DataFrame(get_tokens(reply_tw_list).items(),columns=['word','freq']).plot(kind='bar',x='word',y='freq')\n",
    "plt.title(\"Most frequent words among reply tweets are 'Prince','show','tonight'.\")"
   ]
  },
  {
   "cell_type": "code",
   "execution_count": null,
   "id": "alleged-trouble",
   "metadata": {},
   "outputs": [],
   "source": [
    "pd.DataFrame(get_tokens(src_tw_list).items(),columns=['word','freq']).plot(kind='bar',x='word',y='freq')\n",
    "plt.title(\"Most frequent words among source tweets are 'Price', 'show', 'tonight'\")\n"
   ]
  },
  {
   "cell_type": "markdown",
   "id": "different-feedback",
   "metadata": {},
   "source": [
    "## Emotion Detection"
   ]
  },
  {
   "cell_type": "markdown",
   "id": "natural-collect",
   "metadata": {},
   "source": [
    "### text2emotion package\n",
    "https://snyk.io/advisor/python/text2emotion "
   ]
  },
  {
   "cell_type": "code",
   "execution_count": 46,
   "id": "cordless-robinson",
   "metadata": {},
   "outputs": [],
   "source": [
    "import text2emotion as te"
   ]
  },
  {
   "cell_type": "code",
   "execution_count": 47,
   "id": "mechanical-bible",
   "metadata": {},
   "outputs": [],
   "source": [
    "emotion = df.cleaned_reply_tw.apply(te.get_emotion)"
   ]
  },
  {
   "cell_type": "code",
   "execution_count": 52,
   "id": "standard-piece",
   "metadata": {},
   "outputs": [],
   "source": [
    "emo = emotion.apply(lambda x: max(x,key=x.get))\n",
    "df['reply_emotion']=emo"
   ]
  },
  {
   "cell_type": "code",
   "execution_count": 53,
   "id": "capital-triangle",
   "metadata": {},
   "outputs": [],
   "source": [
    "df.to_csv(r'D:\\論文\\PHEME9\\Data\\CSV\\sydneysiege-df.csv',index=False)"
   ]
  },
  {
   "cell_type": "code",
   "execution_count": 54,
   "id": "mysterious-structure",
   "metadata": {},
   "outputs": [],
   "source": [
    "emotion1 = src_tw_df.cleaned_src_tw.apply(te.get_emotion)\n",
    "emo1 = emotion.apply(lambda x: max(x,key=x.get))\n",
    "src_tw_df['src_emotion']=emo1"
   ]
  },
  {
   "cell_type": "code",
   "execution_count": 55,
   "id": "opening-gibson",
   "metadata": {},
   "outputs": [],
   "source": [
    "src_tw_df.to_csv(r'D:\\論文\\PHEME9\\Data\\CSV\\sydneysiege-src.csv',index=False)"
   ]
  },
  {
   "cell_type": "code",
   "execution_count": null,
   "id": "approved-branch",
   "metadata": {},
   "outputs": [],
   "source": []
  }
 ],
 "metadata": {
  "kernelspec": {
   "display_name": "Python 3",
   "language": "python",
   "name": "python3"
  },
  "language_info": {
   "codemirror_mode": {
    "name": "ipython",
    "version": 3
   },
   "file_extension": ".py",
   "mimetype": "text/x-python",
   "name": "python",
   "nbconvert_exporter": "python",
   "pygments_lexer": "ipython3",
   "version": "3.9.1"
  },
  "toc-autonumbering": true,
  "toc-showmarkdowntxt": false
 },
 "nbformat": 4,
 "nbformat_minor": 5
}
