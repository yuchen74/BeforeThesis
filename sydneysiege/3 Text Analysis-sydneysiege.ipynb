{
 "cells": [
  {
   "cell_type": "markdown",
   "id": "illegal-movie",
   "metadata": {},
   "source": [
    "# Text Analysis on Charliehebdo data"
   ]
  },
  {
   "cell_type": "code",
   "execution_count": 1,
   "id": "alpine-relations",
   "metadata": {},
   "outputs": [],
   "source": [
    "import numpy as np\n",
    "import pandas as pd\n",
    "import datetime \n",
    "import matplotlib.pyplot as plt\n",
    "import seaborn as sns"
   ]
  },
  {
   "cell_type": "code",
   "execution_count": 2,
   "id": "amazing-november",
   "metadata": {},
   "outputs": [],
   "source": [
    "df = pd.read_csv(r'D:\\論文\\PHEME9\\Data\\CSV\\charliehebdo.csv', encoding = 'utf-8', header = None)\n",
    "df.columns = ['src_tweet_id', 'src_user_id', 'src_tweet','src_date','reply_tweet_id','reply_user_id','reply_tweet','reply_date', 'label']\n",
    "df.reply_tweet = df.reply_tweet.replace(np.nan,\"\")"
   ]
  },
  {
   "cell_type": "code",
   "execution_count": 3,
   "id": "supreme-festival",
   "metadata": {},
   "outputs": [
    {
     "data": {
      "text/plain": [
       "Index(['src_tweet_id', 'src_user_id', 'src_tweet', 'src_date',\n",
       "       'reply_tweet_id', 'reply_user_id', 'reply_tweet', 'reply_date',\n",
       "       'label'],\n",
       "      dtype='object')"
      ]
     },
     "execution_count": 3,
     "metadata": {},
     "output_type": "execute_result"
    }
   ],
   "source": [
    "df.columns"
   ]
  },
  {
   "cell_type": "code",
   "execution_count": 4,
   "id": "cross-documentary",
   "metadata": {},
   "outputs": [
    {
     "data": {
      "text/html": [
       "<div>\n",
       "<style scoped>\n",
       "    .dataframe tbody tr th:only-of-type {\n",
       "        vertical-align: middle;\n",
       "    }\n",
       "\n",
       "    .dataframe tbody tr th {\n",
       "        vertical-align: top;\n",
       "    }\n",
       "\n",
       "    .dataframe thead th {\n",
       "        text-align: right;\n",
       "    }\n",
       "</style>\n",
       "<table border=\"1\" class=\"dataframe\">\n",
       "  <thead>\n",
       "    <tr style=\"text-align: right;\">\n",
       "      <th></th>\n",
       "      <th>src_tweet_id</th>\n",
       "      <th>src_user_id</th>\n",
       "      <th>src_tweet</th>\n",
       "      <th>src_date</th>\n",
       "      <th>reply_tweet_id</th>\n",
       "      <th>reply_user_id</th>\n",
       "      <th>reply_tweet</th>\n",
       "      <th>reply_date</th>\n",
       "      <th>label</th>\n",
       "    </tr>\n",
       "  </thead>\n",
       "  <tbody>\n",
       "    <tr>\n",
       "      <th>0</th>\n",
       "      <td>552784600502915072</td>\n",
       "      <td>331658004</td>\n",
       "      <td>Charlie Hebdo became well known for publishing...</td>\n",
       "      <td>Wed Jan 07 11:11:33 +0000 2015</td>\n",
       "      <td>552785249420447745</td>\n",
       "      <td>18370911</td>\n",
       "      <td>Now 10 dead in a shooting there today RT \"@BBC...</td>\n",
       "      <td>Wed Jan 07 11:14:08 +0000 2015</td>\n",
       "      <td>0</td>\n",
       "    </tr>\n",
       "    <tr>\n",
       "      <th>1</th>\n",
       "      <td>552784600502915072</td>\n",
       "      <td>331658004</td>\n",
       "      <td>Charlie Hebdo became well known for publishing...</td>\n",
       "      <td>Wed Jan 07 11:11:33 +0000 2015</td>\n",
       "      <td>552786761534144512</td>\n",
       "      <td>2806109387</td>\n",
       "      <td>@BBCDanielS @BBCWorld I'm guessing this is bei...</td>\n",
       "      <td>Wed Jan 07 11:20:08 +0000 2015</td>\n",
       "      <td>0</td>\n",
       "    </tr>\n",
       "    <tr>\n",
       "      <th>2</th>\n",
       "      <td>552784600502915072</td>\n",
       "      <td>331658004</td>\n",
       "      <td>Charlie Hebdo became well known for publishing...</td>\n",
       "      <td>Wed Jan 07 11:11:33 +0000 2015</td>\n",
       "      <td>552786803884060672</td>\n",
       "      <td>146142164</td>\n",
       "      <td>@BBCDanielS @BBCWorld why would you mention th...</td>\n",
       "      <td>Wed Jan 07 11:20:18 +0000 2015</td>\n",
       "      <td>0</td>\n",
       "    </tr>\n",
       "    <tr>\n",
       "      <th>3</th>\n",
       "      <td>552784600502915072</td>\n",
       "      <td>331658004</td>\n",
       "      <td>Charlie Hebdo became well known for publishing...</td>\n",
       "      <td>Wed Jan 07 11:11:33 +0000 2015</td>\n",
       "      <td>552786954656710656</td>\n",
       "      <td>940853760</td>\n",
       "      <td>@BBCDanielS @BBCWorld perps identified?</td>\n",
       "      <td>Wed Jan 07 11:20:54 +0000 2015</td>\n",
       "      <td>0</td>\n",
       "    </tr>\n",
       "    <tr>\n",
       "      <th>4</th>\n",
       "      <td>552784600502915072</td>\n",
       "      <td>331658004</td>\n",
       "      <td>Charlie Hebdo became well known for publishing...</td>\n",
       "      <td>Wed Jan 07 11:11:33 +0000 2015</td>\n",
       "      <td>552787979224092672</td>\n",
       "      <td>2888783532</td>\n",
       "      <td>@BBCDanielS @BBCWorld who is charlie hebdo?</td>\n",
       "      <td>Wed Jan 07 11:24:59 +0000 2015</td>\n",
       "      <td>0</td>\n",
       "    </tr>\n",
       "    <tr>\n",
       "      <th>...</th>\n",
       "      <td>...</td>\n",
       "      <td>...</td>\n",
       "      <td>...</td>\n",
       "      <td>...</td>\n",
       "      <td>...</td>\n",
       "      <td>...</td>\n",
       "      <td>...</td>\n",
       "      <td>...</td>\n",
       "      <td>...</td>\n",
       "    </tr>\n",
       "    <tr>\n",
       "      <th>36184</th>\n",
       "      <td>553591259672379392</td>\n",
       "      <td>87416722</td>\n",
       "      <td>Update - PA: gunman holding hostages in #Paris...</td>\n",
       "      <td>Fri Jan 09 16:36:56 +0000 2015</td>\n",
       "      <td>553595135297335296</td>\n",
       "      <td>113398005</td>\n",
       "      <td>@SkyNewsBreak good shoot them all #Paris will ...</td>\n",
       "      <td>Fri Jan 09 16:52:20 +0000 2015</td>\n",
       "      <td>1</td>\n",
       "    </tr>\n",
       "    <tr>\n",
       "      <th>36185</th>\n",
       "      <td>553591259672379392</td>\n",
       "      <td>87416722</td>\n",
       "      <td>Update - PA: gunman holding hostages in #Paris...</td>\n",
       "      <td>Fri Jan 09 16:36:56 +0000 2015</td>\n",
       "      <td>553595342944759809</td>\n",
       "      <td>43598441</td>\n",
       "      <td>@SkyNewsBreak @SteeryBlade GET IN! Fucking lun...</td>\n",
       "      <td>Fri Jan 09 16:53:09 +0000 2015</td>\n",
       "      <td>1</td>\n",
       "    </tr>\n",
       "    <tr>\n",
       "      <th>36186</th>\n",
       "      <td>553591259672379392</td>\n",
       "      <td>87416722</td>\n",
       "      <td>Update - PA: gunman holding hostages in #Paris...</td>\n",
       "      <td>Fri Jan 09 16:36:56 +0000 2015</td>\n",
       "      <td>553595649951006720</td>\n",
       "      <td>188507421</td>\n",
       "      <td>“@SkyNewsBreak: Update - PA: gunman holding ho...</td>\n",
       "      <td>Fri Jan 09 16:54:22 +0000 2015</td>\n",
       "      <td>1</td>\n",
       "    </tr>\n",
       "    <tr>\n",
       "      <th>36187</th>\n",
       "      <td>553591259672379392</td>\n",
       "      <td>87416722</td>\n",
       "      <td>Update - PA: gunman holding hostages in #Paris...</td>\n",
       "      <td>Fri Jan 09 16:36:56 +0000 2015</td>\n",
       "      <td>553598299639676928</td>\n",
       "      <td>548766000</td>\n",
       "      <td>@SkyNewsBreak ...... I hope it was VERY painfu...</td>\n",
       "      <td>Fri Jan 09 17:04:54 +0000 2015</td>\n",
       "      <td>1</td>\n",
       "    </tr>\n",
       "    <tr>\n",
       "      <th>36188</th>\n",
       "      <td>553591259672379392</td>\n",
       "      <td>87416722</td>\n",
       "      <td>Update - PA: gunman holding hostages in #Paris...</td>\n",
       "      <td>Fri Jan 09 16:36:56 +0000 2015</td>\n",
       "      <td>553603492666146817</td>\n",
       "      <td>252287181</td>\n",
       "      <td>@maisy59 @SkyNewsBreak \"them all\" there was tw...</td>\n",
       "      <td>Fri Jan 09 17:25:32 +0000 2015</td>\n",
       "      <td>1</td>\n",
       "    </tr>\n",
       "  </tbody>\n",
       "</table>\n",
       "<p>36189 rows × 9 columns</p>\n",
       "</div>"
      ],
      "text/plain": [
       "             src_tweet_id  src_user_id  \\\n",
       "0      552784600502915072    331658004   \n",
       "1      552784600502915072    331658004   \n",
       "2      552784600502915072    331658004   \n",
       "3      552784600502915072    331658004   \n",
       "4      552784600502915072    331658004   \n",
       "...                   ...          ...   \n",
       "36184  553591259672379392     87416722   \n",
       "36185  553591259672379392     87416722   \n",
       "36186  553591259672379392     87416722   \n",
       "36187  553591259672379392     87416722   \n",
       "36188  553591259672379392     87416722   \n",
       "\n",
       "                                               src_tweet  \\\n",
       "0      Charlie Hebdo became well known for publishing...   \n",
       "1      Charlie Hebdo became well known for publishing...   \n",
       "2      Charlie Hebdo became well known for publishing...   \n",
       "3      Charlie Hebdo became well known for publishing...   \n",
       "4      Charlie Hebdo became well known for publishing...   \n",
       "...                                                  ...   \n",
       "36184  Update - PA: gunman holding hostages in #Paris...   \n",
       "36185  Update - PA: gunman holding hostages in #Paris...   \n",
       "36186  Update - PA: gunman holding hostages in #Paris...   \n",
       "36187  Update - PA: gunman holding hostages in #Paris...   \n",
       "36188  Update - PA: gunman holding hostages in #Paris...   \n",
       "\n",
       "                             src_date      reply_tweet_id  reply_user_id  \\\n",
       "0      Wed Jan 07 11:11:33 +0000 2015  552785249420447745       18370911   \n",
       "1      Wed Jan 07 11:11:33 +0000 2015  552786761534144512     2806109387   \n",
       "2      Wed Jan 07 11:11:33 +0000 2015  552786803884060672      146142164   \n",
       "3      Wed Jan 07 11:11:33 +0000 2015  552786954656710656      940853760   \n",
       "4      Wed Jan 07 11:11:33 +0000 2015  552787979224092672     2888783532   \n",
       "...                               ...                 ...            ...   \n",
       "36184  Fri Jan 09 16:36:56 +0000 2015  553595135297335296      113398005   \n",
       "36185  Fri Jan 09 16:36:56 +0000 2015  553595342944759809       43598441   \n",
       "36186  Fri Jan 09 16:36:56 +0000 2015  553595649951006720      188507421   \n",
       "36187  Fri Jan 09 16:36:56 +0000 2015  553598299639676928      548766000   \n",
       "36188  Fri Jan 09 16:36:56 +0000 2015  553603492666146817      252287181   \n",
       "\n",
       "                                             reply_tweet  \\\n",
       "0      Now 10 dead in a shooting there today RT \"@BBC...   \n",
       "1      @BBCDanielS @BBCWorld I'm guessing this is bei...   \n",
       "2      @BBCDanielS @BBCWorld why would you mention th...   \n",
       "3                @BBCDanielS @BBCWorld perps identified?   \n",
       "4            @BBCDanielS @BBCWorld who is charlie hebdo?   \n",
       "...                                                  ...   \n",
       "36184  @SkyNewsBreak good shoot them all #Paris will ...   \n",
       "36185  @SkyNewsBreak @SteeryBlade GET IN! Fucking lun...   \n",
       "36186  “@SkyNewsBreak: Update - PA: gunman holding ho...   \n",
       "36187  @SkyNewsBreak ...... I hope it was VERY painfu...   \n",
       "36188  @maisy59 @SkyNewsBreak \"them all\" there was tw...   \n",
       "\n",
       "                           reply_date  label  \n",
       "0      Wed Jan 07 11:14:08 +0000 2015      0  \n",
       "1      Wed Jan 07 11:20:08 +0000 2015      0  \n",
       "2      Wed Jan 07 11:20:18 +0000 2015      0  \n",
       "3      Wed Jan 07 11:20:54 +0000 2015      0  \n",
       "4      Wed Jan 07 11:24:59 +0000 2015      0  \n",
       "...                               ...    ...  \n",
       "36184  Fri Jan 09 16:52:20 +0000 2015      1  \n",
       "36185  Fri Jan 09 16:53:09 +0000 2015      1  \n",
       "36186  Fri Jan 09 16:54:22 +0000 2015      1  \n",
       "36187  Fri Jan 09 17:04:54 +0000 2015      1  \n",
       "36188  Fri Jan 09 17:25:32 +0000 2015      1  \n",
       "\n",
       "[36189 rows x 9 columns]"
      ]
     },
     "execution_count": 4,
     "metadata": {},
     "output_type": "execute_result"
    }
   ],
   "source": [
    "df"
   ]
  },
  {
   "cell_type": "code",
   "execution_count": 5,
   "id": "cordless-milton",
   "metadata": {},
   "outputs": [
    {
     "data": {
      "text/html": [
       "<div>\n",
       "<style scoped>\n",
       "    .dataframe tbody tr th:only-of-type {\n",
       "        vertical-align: middle;\n",
       "    }\n",
       "\n",
       "    .dataframe tbody tr th {\n",
       "        vertical-align: top;\n",
       "    }\n",
       "\n",
       "    .dataframe thead th {\n",
       "        text-align: right;\n",
       "    }\n",
       "</style>\n",
       "<table border=\"1\" class=\"dataframe\">\n",
       "  <thead>\n",
       "    <tr style=\"text-align: right;\">\n",
       "      <th></th>\n",
       "      <th>src_tweet_id</th>\n",
       "      <th>src_user_id</th>\n",
       "      <th>src_tweet</th>\n",
       "      <th>src_date</th>\n",
       "      <th>label</th>\n",
       "    </tr>\n",
       "  </thead>\n",
       "  <tbody>\n",
       "    <tr>\n",
       "      <th>0</th>\n",
       "      <td>552784600502915072</td>\n",
       "      <td>331658004</td>\n",
       "      <td>Charlie Hebdo became well known for publishing...</td>\n",
       "      <td>Wed Jan 07 11:11:33 +0000 2015</td>\n",
       "      <td>0</td>\n",
       "    </tr>\n",
       "    <tr>\n",
       "      <th>1</th>\n",
       "      <td>552784898743099392</td>\n",
       "      <td>465973</td>\n",
       "      <td>Charlie Hebdo’s Last Tweet Before Shootings ht...</td>\n",
       "      <td>Wed Jan 07 11:12:44 +0000 2015</td>\n",
       "      <td>0</td>\n",
       "    </tr>\n",
       "    <tr>\n",
       "      <th>2</th>\n",
       "      <td>552785391653494784</td>\n",
       "      <td>15798091</td>\n",
       "      <td>Prediction: the #CharlieHebdo massacre will no...</td>\n",
       "      <td>Wed Jan 07 11:14:42 +0000 2015</td>\n",
       "      <td>0</td>\n",
       "    </tr>\n",
       "    <tr>\n",
       "      <th>3</th>\n",
       "      <td>552786116404072448</td>\n",
       "      <td>465973</td>\n",
       "      <td>10:28am Charlie Hebdo account mocks ISIS leade...</td>\n",
       "      <td>Wed Jan 07 11:17:35 +0000 2015</td>\n",
       "      <td>0</td>\n",
       "    </tr>\n",
       "    <tr>\n",
       "      <th>4</th>\n",
       "      <td>552786299875520512</td>\n",
       "      <td>144301368</td>\n",
       "      <td>If your faith isn't strong enough to cope with...</td>\n",
       "      <td>Wed Jan 07 11:18:18 +0000 2015</td>\n",
       "      <td>0</td>\n",
       "    </tr>\n",
       "    <tr>\n",
       "      <th>...</th>\n",
       "      <td>...</td>\n",
       "      <td>...</td>\n",
       "      <td>...</td>\n",
       "      <td>...</td>\n",
       "      <td>...</td>\n",
       "    </tr>\n",
       "    <tr>\n",
       "      <th>1997</th>\n",
       "      <td>553590653784195072</td>\n",
       "      <td>380648579</td>\n",
       "      <td>#BREAKING Paris supermarket hostage-taker 'neu...</td>\n",
       "      <td>Fri Jan 09 16:34:31 +0000 2015</td>\n",
       "      <td>1</td>\n",
       "    </tr>\n",
       "    <tr>\n",
       "      <th>1998</th>\n",
       "      <td>553590721207615488</td>\n",
       "      <td>5402612</td>\n",
       "      <td>Hostages held at kosher supermarket in eastern...</td>\n",
       "      <td>Fri Jan 09 16:34:47 +0000 2015</td>\n",
       "      <td>1</td>\n",
       "    </tr>\n",
       "    <tr>\n",
       "      <th>1999</th>\n",
       "      <td>553590835850514433</td>\n",
       "      <td>7587032</td>\n",
       "      <td>Hostage-taker in supermarket siege killed, rep...</td>\n",
       "      <td>Fri Jan 09 16:35:15 +0000 2015</td>\n",
       "      <td>1</td>\n",
       "    </tr>\n",
       "    <tr>\n",
       "      <th>2000</th>\n",
       "      <td>553590891852886019</td>\n",
       "      <td>18424289</td>\n",
       "      <td>French media reports two suspects of #CharlieH...</td>\n",
       "      <td>Fri Jan 09 16:35:28 +0000 2015</td>\n",
       "      <td>1</td>\n",
       "    </tr>\n",
       "    <tr>\n",
       "      <th>2001</th>\n",
       "      <td>553591259672379392</td>\n",
       "      <td>87416722</td>\n",
       "      <td>Update - PA: gunman holding hostages in #Paris...</td>\n",
       "      <td>Fri Jan 09 16:36:56 +0000 2015</td>\n",
       "      <td>1</td>\n",
       "    </tr>\n",
       "  </tbody>\n",
       "</table>\n",
       "<p>2002 rows × 5 columns</p>\n",
       "</div>"
      ],
      "text/plain": [
       "            src_tweet_id  src_user_id  \\\n",
       "0     552784600502915072    331658004   \n",
       "1     552784898743099392       465973   \n",
       "2     552785391653494784     15798091   \n",
       "3     552786116404072448       465973   \n",
       "4     552786299875520512    144301368   \n",
       "...                  ...          ...   \n",
       "1997  553590653784195072    380648579   \n",
       "1998  553590721207615488      5402612   \n",
       "1999  553590835850514433      7587032   \n",
       "2000  553590891852886019     18424289   \n",
       "2001  553591259672379392     87416722   \n",
       "\n",
       "                                              src_tweet  \\\n",
       "0     Charlie Hebdo became well known for publishing...   \n",
       "1     Charlie Hebdo’s Last Tweet Before Shootings ht...   \n",
       "2     Prediction: the #CharlieHebdo massacre will no...   \n",
       "3     10:28am Charlie Hebdo account mocks ISIS leade...   \n",
       "4     If your faith isn't strong enough to cope with...   \n",
       "...                                                 ...   \n",
       "1997  #BREAKING Paris supermarket hostage-taker 'neu...   \n",
       "1998  Hostages held at kosher supermarket in eastern...   \n",
       "1999  Hostage-taker in supermarket siege killed, rep...   \n",
       "2000  French media reports two suspects of #CharlieH...   \n",
       "2001  Update - PA: gunman holding hostages in #Paris...   \n",
       "\n",
       "                            src_date  label  \n",
       "0     Wed Jan 07 11:11:33 +0000 2015      0  \n",
       "1     Wed Jan 07 11:12:44 +0000 2015      0  \n",
       "2     Wed Jan 07 11:14:42 +0000 2015      0  \n",
       "3     Wed Jan 07 11:17:35 +0000 2015      0  \n",
       "4     Wed Jan 07 11:18:18 +0000 2015      0  \n",
       "...                              ...    ...  \n",
       "1997  Fri Jan 09 16:34:31 +0000 2015      1  \n",
       "1998  Fri Jan 09 16:34:47 +0000 2015      1  \n",
       "1999  Fri Jan 09 16:35:15 +0000 2015      1  \n",
       "2000  Fri Jan 09 16:35:28 +0000 2015      1  \n",
       "2001  Fri Jan 09 16:36:56 +0000 2015      1  \n",
       "\n",
       "[2002 rows x 5 columns]"
      ]
     },
     "execution_count": 5,
     "metadata": {},
     "output_type": "execute_result"
    }
   ],
   "source": [
    "src_tw_df = df.iloc[:,[0,1,2,3,8]].copy()\n",
    "src_tw_df = src_tw_df.drop_duplicates()\n",
    "src_tw_df.reset_index(drop=True,inplace=True)\n",
    "src_tw_df"
   ]
  },
  {
   "cell_type": "markdown",
   "id": "norwegian-discrimination",
   "metadata": {},
   "source": [
    "## Prepocessing\n",
    "- Define function to process text at one time"
   ]
  },
  {
   "cell_type": "code",
   "execution_count": 6,
   "id": "furnished-pendant",
   "metadata": {},
   "outputs": [],
   "source": [
    "import pickle"
   ]
  },
  {
   "cell_type": "code",
   "execution_count": 7,
   "id": "continued-basket",
   "metadata": {},
   "outputs": [],
   "source": [
    "'''Convert Emojis to Words'''\n",
    "\n",
    "with open(r'D:\\論文\\PHEME9\\Emoji_Dict.p', 'rb') as fp:\n",
    "    Emoji_Dict = pickle.load(fp)\n",
    "Emoji_Dict = {v: k for k, v in Emoji_Dict.items()}\n",
    "\n",
    "def convert_emojis_to_word(text):\n",
    "    import re\n",
    "    for emot in Emoji_Dict:\n",
    "        text = re.sub(r'('+emot+')', \"_\".join(Emoji_Dict[emot].replace(\",\",\"\").replace(\":\",\"\").split()), text)\n",
    "    return text"
   ]
  },
  {
   "cell_type": "code",
   "execution_count": 17,
   "id": "killing-stack",
   "metadata": {},
   "outputs": [],
   "source": [
    "def textprocessing(text):\n",
    " \n",
    "    if 'RT' in text.split():      #cut retweet\n",
    "        rt = text.find('RT')\n",
    "        text = text[0:rt]  \n",
    "        \n",
    "    quo = text.find('“')           #cut quoting part\n",
    "    quo_end = text.find('”')\n",
    "    at = text.find('@')\n",
    "    if quo != -1:                  #if find “\n",
    "        if quo_end != -1:             # and if there is also ”\n",
    "            text = text[0: quo:] + text[quo_end+1: :]\n",
    "        else:\n",
    "            text = text[0: quo:]\n",
    "    elif quo_end != -1:\n",
    "        text = text[0:at:] + text[quo_end+1: : ]\n",
    "            \n",
    "   \n",
    "    text = convert_emojis_to_word(text)   #convert emoji to word\n",
    "    text = text.lower()           #lower case    \n",
    "     \n",
    "    \n",
    "    text = \" \".join([word for word in text.split() if 'http' not in word    #remove url\n",
    "                                and not word.startswith(('\\'@','@'))\n",
    "                                and word != 'rt'])   \n",
    "                 \n",
    "    import re\n",
    "    def remove_punct(tweet):\n",
    "        new_words = []\n",
    "        for word in tweet:\n",
    "            w = re.sub(r'[^\\w\\s]','',word) #remove everything except words and space\n",
    "            w = re.sub(r'_','',w) #remove underscore as well\n",
    "            new_words.append(w)\n",
    "\n",
    "        return new_words\n",
    "    text = \"\".join(remove_punct(text))\n",
    "\n",
    "    from nltk.tokenize import word_tokenize   \n",
    "    text = word_tokenize(text)\n",
    "    \n",
    "    from nltk.corpus import stopwords\n",
    "    stop_words=set(stopwords.words(\"english\"))\n",
    "    stop_words=set([a for a in list(stop_words) if re.search(\"n't|no|not\",a) ==None])\n",
    "    stop_words.add('now')\n",
    "    def filterstopwords(tw):\n",
    "        filter_stopwords = []\n",
    "        for w in tw:\n",
    "            if w not in stop_words:\n",
    "                filter_stopwords.append(w)\n",
    "        return filter_stopwords\n",
    "    text = filterstopwords(text)\n",
    "    \n",
    "    \n",
    "    from nltk.stem import WordNetLemmatizer\n",
    "    lemmatizer = WordNetLemmatizer()\n",
    "    text = [lemmatizer.lemmatize(i) for i in text]\n",
    "    \n",
    "#     from nltk.stem.porter import PorterStemmer\n",
    "#     stem = PorterStemmer()\n",
    "#     text = [stem.stem(i) for i in text]\n",
    "    \n",
    "    text = \" \".join(text)\n",
    "    \n",
    "    return text"
   ]
  },
  {
   "cell_type": "code",
   "execution_count": 19,
   "id": "female-remark",
   "metadata": {},
   "outputs": [
    {
     "name": "stdout",
     "output_type": "stream",
     "text": [
      "original text:  RT @MaxWindCowie: If your faith isn’t strong enough to cope with satirical poke, it oughtn’t be strong enough to induce you to kill.Barbaric\n",
      "cleaned text:  \n"
     ]
    }
   ],
   "source": [
    "print(\"original text: \", df.reply_tweet.iloc[88])\n",
    "print(\"cleaned text: \", textprocessing(df.reply_tweet.iloc[88]))"
   ]
  },
  {
   "cell_type": "code",
   "execution_count": 22,
   "id": "relevant-cardiff",
   "metadata": {},
   "outputs": [
    {
     "data": {
      "text/plain": [
       "set()"
      ]
     },
     "execution_count": 22,
     "metadata": {},
     "output_type": "execute_result"
    }
   ],
   "source": [
    "quotweet = df[df.reply_tweet.str.find('“') != -1].index\n",
    "quo_tweet = df[df.reply_tweet.str.find('”') != -1].index\n",
    "rtt = df[df.reply_tweet.str.find('RT') != -1].index\n",
    "at =  df[df.reply_tweet.str.find('@') != -1].index\n",
    "\n",
    "set(quo_tweet).difference(set(rtt)).difference(set(quotweet)).difference(set(at))\n"
   ]
  },
  {
   "cell_type": "markdown",
   "id": "driven-karma",
   "metadata": {},
   "source": [
    "### applied on original data (**df**)"
   ]
  },
  {
   "cell_type": "code",
   "execution_count": null,
   "id": "numerous-baltimore",
   "metadata": {},
   "outputs": [],
   "source": [
    "src_tw_df['cleaned_src_tw'] = src_tw_df.src_tweet.apply(textprocessing)\n",
    "df['cleaned_reply_tw'] = df.reply_tweet.apply(textprocessing)"
   ]
  },
  {
   "cell_type": "code",
   "execution_count": null,
   "id": "silent-cattle",
   "metadata": {},
   "outputs": [],
   "source": [
    "df.head()"
   ]
  },
  {
   "cell_type": "code",
   "execution_count": null,
   "id": "sorted-commissioner",
   "metadata": {},
   "outputs": [],
   "source": [
    "src_tw_df.head()"
   ]
  },
  {
   "cell_type": "markdown",
   "id": "stone-wireless",
   "metadata": {},
   "source": [
    "## Sentiment Analysis"
   ]
  },
  {
   "cell_type": "code",
   "execution_count": null,
   "id": "applicable-split",
   "metadata": {},
   "outputs": [],
   "source": [
    "from vaderSentiment.vaderSentiment import SentimentIntensityAnalyzer"
   ]
  },
  {
   "cell_type": "code",
   "execution_count": null,
   "id": "controversial-producer",
   "metadata": {},
   "outputs": [],
   "source": [
    "def get_sentiment(tweet):\n",
    "    analyzer = SentimentIntensityAnalyzer()\n",
    "    vs = analyzer.polarity_scores(tweet)\n",
    "    if vs['compound'] >=0.05:\n",
    "        sentiment_label = 'Positive'\n",
    "    elif (vs['compound'] > -0.05) & (vs['compound'] < 0.05):\n",
    "        sentiment_label = 'Neutral'\n",
    "    elif vs['compound']<= -0.05:\n",
    "        sentiment_label = 'Negative' \n",
    "    result = sentiment_label\n",
    "    return result"
   ]
  },
  {
   "cell_type": "markdown",
   "id": "judicial-washington",
   "metadata": {},
   "source": [
    "### applied on src tweet & reply tweet"
   ]
  },
  {
   "cell_type": "code",
   "execution_count": null,
   "id": "beginning-cotton",
   "metadata": {},
   "outputs": [],
   "source": [
    "src_tw_df['src_sentiment']= src_tw_df.cleaned_src_tw.apply(get_sentiment)\n",
    "df['reply_sentiment']= df.cleaned_reply_tw.apply(get_sentiment)"
   ]
  },
  {
   "cell_type": "code",
   "execution_count": null,
   "id": "lucky-finger",
   "metadata": {},
   "outputs": [],
   "source": [
    "df.head(1)"
   ]
  },
  {
   "cell_type": "code",
   "execution_count": null,
   "id": "terminal-geography",
   "metadata": {},
   "outputs": [],
   "source": [
    "src_tw_df.head(1)"
   ]
  },
  {
   "cell_type": "markdown",
   "id": "defensive-strategy",
   "metadata": {},
   "source": [
    "## Emotion Detection"
   ]
  },
  {
   "cell_type": "markdown",
   "id": "fuzzy-atmosphere",
   "metadata": {},
   "source": [
    "### text2emotion package\n",
    "https://snyk.io/advisor/python/text2emotion "
   ]
  },
  {
   "cell_type": "code",
   "execution_count": null,
   "id": "treated-alignment",
   "metadata": {},
   "outputs": [],
   "source": [
    "import text2emotion as te"
   ]
  },
  {
   "cell_type": "code",
   "execution_count": null,
   "id": "statutory-fossil",
   "metadata": {},
   "outputs": [],
   "source": [
    "emotion = df.cleaned_reply_tw.apply(te.get_emotion)"
   ]
  },
  {
   "cell_type": "code",
   "execution_count": null,
   "id": "arctic-indie",
   "metadata": {},
   "outputs": [],
   "source": [
    "emo = emotion.apply(lambda x: max(x,key=x.get))\n",
    "df['reply_emo_te'] = emo"
   ]
  },
  {
   "cell_type": "code",
   "execution_count": null,
   "id": "czech-ranch",
   "metadata": {},
   "outputs": [],
   "source": [
    "df.to_csv(r'D:\\論文\\PHEME9\\Data\\CSV\\charliehebdo-df.csv',index=False)"
   ]
  },
  {
   "cell_type": "code",
   "execution_count": null,
   "id": "proud-anchor",
   "metadata": {},
   "outputs": [],
   "source": [
    "emotion1 = src_tw_df.cleaned_src_tw.apply(te.get_emotion)\n",
    "emo1 = emotion.apply(lambda x: max(x,key=x.get))\n",
    "src_tw_df['src_emo_te']=emo1"
   ]
  },
  {
   "cell_type": "code",
   "execution_count": null,
   "id": "exact-confusion",
   "metadata": {},
   "outputs": [],
   "source": [
    "src_tw_df.to_csv(r'D:\\論文\\PHEME9\\Data\\CSV\\charliehebdo-src.csv',index=False)"
   ]
  },
  {
   "cell_type": "code",
   "execution_count": null,
   "id": "revolutionary-mistake",
   "metadata": {},
   "outputs": [],
   "source": []
  }
 ],
 "metadata": {
  "kernelspec": {
   "display_name": "Python 3",
   "language": "python",
   "name": "python3"
  },
  "language_info": {
   "codemirror_mode": {
    "name": "ipython",
    "version": 3
   },
   "file_extension": ".py",
   "mimetype": "text/x-python",
   "name": "python",
   "nbconvert_exporter": "python",
   "pygments_lexer": "ipython3",
   "version": "3.9.1"
  },
  "toc-autonumbering": true,
  "toc-showmarkdowntxt": false
 },
 "nbformat": 4,
 "nbformat_minor": 5
}
