{
 "cells": [
  {
   "cell_type": "markdown",
   "id": "cheap-indication",
   "metadata": {},
   "source": [
    "# Dataset: *germanwings*"
   ]
  },
  {
   "cell_type": "markdown",
   "id": "annoying-beauty",
   "metadata": {},
   "source": [
    "- df.to_csv(r'D:\\論文\\PHEME9\\Data\\CSV\\germanwings-df.csv',index=False)\n",
    "- src_tw_df.to_csv(r'D:\\論文\\PHEME9\\Data\\CSV\\germanwings-src.csv',index=False)"
   ]
  },
  {
   "cell_type": "code",
   "execution_count": 1,
   "id": "stuffed-illustration",
   "metadata": {},
   "outputs": [],
   "source": [
    "import numpy as np\n",
    "import pandas as pd\n",
    "import datetime \n",
    "import matplotlib.pyplot as plt\n",
    "import seaborn as sns"
   ]
  },
  {
   "cell_type": "code",
   "execution_count": 2,
   "id": "artistic-mauritius",
   "metadata": {},
   "outputs": [
    {
     "name": "stdout",
     "output_type": "stream",
     "text": [
      "INFO:tensorflow:Enabling eager execution\n",
      "INFO:tensorflow:Enabling v2 tensorshape\n",
      "INFO:tensorflow:Enabling resource variables\n",
      "INFO:tensorflow:Enabling tensor equality\n",
      "INFO:tensorflow:Enabling control flow v2\n"
     ]
    }
   ],
   "source": [
    "from transformers import AutoTokenizer, AutoModelWithLMHead, AutoModelForSequenceClassification"
   ]
  },
  {
   "cell_type": "code",
   "execution_count": 10,
   "id": "average-adventure",
   "metadata": {},
   "outputs": [
    {
     "name": "stdout",
     "output_type": "stream",
     "text": [
      "(4020, 11)\n",
      "(405, 7)\n"
     ]
    }
   ],
   "source": [
    "df = pd.read_csv(r'D:\\論文\\PHEME9\\Data\\CSV\\germanwings-df.csv', encoding = 'utf-8', header = 0)\n",
    "src_tw_df = pd.read_csv(r'D:\\論文\\PHEME9\\Data\\CSV\\germanwings-src.csv', encoding = 'utf-8', header =0)\n",
    "print(df.shape)\n",
    "print(src_tw_df.shape)"
   ]
  },
  {
   "cell_type": "code",
   "execution_count": 11,
   "id": "chronic-sheet",
   "metadata": {},
   "outputs": [
    {
     "data": {
      "text/plain": [
       "src_tweet_id          0\n",
       "src_user_id           0\n",
       "src_tweet             0\n",
       "src_date              0\n",
       "reply_tweet_id        0\n",
       "reply_user_id         0\n",
       "reply_tweet           0\n",
       "reply_date            0\n",
       "label                 0\n",
       "cleaned_reply_tw    416\n",
       "reply_sentiment       0\n",
       "dtype: int64"
      ]
     },
     "execution_count": 11,
     "metadata": {},
     "output_type": "execute_result"
    }
   ],
   "source": [
    "df.isnull().sum()"
   ]
  },
  {
   "cell_type": "code",
   "execution_count": 12,
   "id": "lesbian-exhibition",
   "metadata": {},
   "outputs": [],
   "source": [
    "df.dropna(inplace = True)\n",
    "df.reset_index(drop=True,inplace=True)"
   ]
  },
  {
   "cell_type": "code",
   "execution_count": 5,
   "id": "weighted-petite",
   "metadata": {},
   "outputs": [
    {
     "data": {
      "text/plain": [
       "src_tweet_id      0\n",
       "src_user_id       0\n",
       "src_tweet         0\n",
       "src_date          0\n",
       "label             0\n",
       "cleaned_src_tw    1\n",
       "src_sentiment     0\n",
       "dtype: int64"
      ]
     },
     "execution_count": 5,
     "metadata": {},
     "output_type": "execute_result"
    }
   ],
   "source": [
    "src_tw_df.isnull().sum()"
   ]
  },
  {
   "cell_type": "code",
   "execution_count": 6,
   "id": "pacific-smell",
   "metadata": {},
   "outputs": [
    {
     "data": {
      "text/plain": [
       "390    RT @khjelmgaard: German media reporting #Andre...\n",
       "Name: src_tweet, dtype: object"
      ]
     },
     "execution_count": 6,
     "metadata": {},
     "output_type": "execute_result"
    }
   ],
   "source": [
    "src_tw_df[src_tw_df.cleaned_src_tw.isnull()].src_tweet"
   ]
  },
  {
   "cell_type": "code",
   "execution_count": 9,
   "id": "weekly-window",
   "metadata": {},
   "outputs": [
    {
     "data": {
      "text/html": [
       "<div>\n",
       "<style scoped>\n",
       "    .dataframe tbody tr th:only-of-type {\n",
       "        vertical-align: middle;\n",
       "    }\n",
       "\n",
       "    .dataframe tbody tr th {\n",
       "        vertical-align: top;\n",
       "    }\n",
       "\n",
       "    .dataframe thead th {\n",
       "        text-align: right;\n",
       "    }\n",
       "</style>\n",
       "<table border=\"1\" class=\"dataframe\">\n",
       "  <thead>\n",
       "    <tr style=\"text-align: right;\">\n",
       "      <th></th>\n",
       "      <th>reply_tweet</th>\n",
       "      <th>cleaned_reply_tw</th>\n",
       "    </tr>\n",
       "  </thead>\n",
       "  <tbody>\n",
       "    <tr>\n",
       "      <th>3766</th>\n",
       "      <td>@usatoday @khjelmgaard davvero?! Effettivament...</td>\n",
       "      <td>davvero effettivamente viviamo un mondo fantas...</td>\n",
       "    </tr>\n",
       "    <tr>\n",
       "      <th>3767</th>\n",
       "      <td>@USATODAY Col @OliverNorthFNC, military like y...</td>\n",
       "      <td>col military like gens j keane say obama bomb ...</td>\n",
       "    </tr>\n",
       "    <tr>\n",
       "      <th>3768</th>\n",
       "      <td>@USATODAY @khjelmgaard Him and millions of oth...</td>\n",
       "      <td>millions others no doubt tip six years later c...</td>\n",
       "    </tr>\n",
       "    <tr>\n",
       "      <th>3769</th>\n",
       "      <td>@USATODAY best follow I ever did</td>\n",
       "      <td>best follow ever</td>\n",
       "    </tr>\n",
       "    <tr>\n",
       "      <th>3770</th>\n",
       "      <td>@USATODAY @khjelmgaard #AndreasLubitz #GermanW...</td>\n",
       "      <td>andreaslubitz germanwings dred splitup girlfri...</td>\n",
       "    </tr>\n",
       "    <tr>\n",
       "      <th>3771</th>\n",
       "      <td>@USATODAY @khjelmgaard \\n #A320 #PilotsNoFlyNo...</td>\n",
       "      <td>pilotsnoflynosedoors offcourse barcelonadussel...</td>\n",
       "    </tr>\n",
       "    <tr>\n",
       "      <th>3772</th>\n",
       "      <td>@EdWardMDBlog @USATODAY @khjelmgaard all rumor...</td>\n",
       "      <td>rumorsnot confirm</td>\n",
       "    </tr>\n",
       "    <tr>\n",
       "      <th>3773</th>\n",
       "      <td>@tinkalee_12 @USATODAY @khjelmgaard My 2nd sou...</td>\n",
       "      <td>nd source confirm french media report fer unve...</td>\n",
       "    </tr>\n",
       "    <tr>\n",
       "      <th>3774</th>\n",
       "      <td>@tinkalee_12 @USATODAY @khjelmgaard #F4Phantom...</td>\n",
       "      <td>fphantom crash mph hit concretewall dred</td>\n",
       "    </tr>\n",
       "    <tr>\n",
       "      <th>3775</th>\n",
       "      <td>@USATODAY @khjelmgaard ers a link to prove @An...</td>\n",
       "      <td>ers link prove intentionally set kill</td>\n",
       "    </tr>\n",
       "    <tr>\n",
       "      <th>3776</th>\n",
       "      <td>@USATODAY @khjelmgaard Sure #GermanWings CoPil...</td>\n",
       "      <td>sure germanwings copilot andreaslubitz newmoti...</td>\n",
       "    </tr>\n",
       "  </tbody>\n",
       "</table>\n",
       "</div>"
      ],
      "text/plain": [
       "                                            reply_tweet  \\\n",
       "3766  @usatoday @khjelmgaard davvero?! Effettivament...   \n",
       "3767  @USATODAY Col @OliverNorthFNC, military like y...   \n",
       "3768  @USATODAY @khjelmgaard Him and millions of oth...   \n",
       "3769                   @USATODAY best follow I ever did   \n",
       "3770  @USATODAY @khjelmgaard #AndreasLubitz #GermanW...   \n",
       "3771  @USATODAY @khjelmgaard \\n #A320 #PilotsNoFlyNo...   \n",
       "3772  @EdWardMDBlog @USATODAY @khjelmgaard all rumor...   \n",
       "3773  @tinkalee_12 @USATODAY @khjelmgaard My 2nd sou...   \n",
       "3774  @tinkalee_12 @USATODAY @khjelmgaard #F4Phantom...   \n",
       "3775  @USATODAY @khjelmgaard ers a link to prove @An...   \n",
       "3776  @USATODAY @khjelmgaard Sure #GermanWings CoPil...   \n",
       "\n",
       "                                       cleaned_reply_tw  \n",
       "3766  davvero effettivamente viviamo un mondo fantas...  \n",
       "3767  col military like gens j keane say obama bomb ...  \n",
       "3768  millions others no doubt tip six years later c...  \n",
       "3769                                   best follow ever  \n",
       "3770  andreaslubitz germanwings dred splitup girlfri...  \n",
       "3771  pilotsnoflynosedoors offcourse barcelonadussel...  \n",
       "3772                                  rumorsnot confirm  \n",
       "3773  nd source confirm french media report fer unve...  \n",
       "3774           fphantom crash mph hit concretewall dred  \n",
       "3775              ers link prove intentionally set kill  \n",
       "3776  sure germanwings copilot andreaslubitz newmoti...  "
      ]
     },
     "execution_count": 9,
     "metadata": {},
     "output_type": "execute_result"
    }
   ],
   "source": [
    "a = src_tw_df[src_tw_df.cleaned_src_tw.isnull()].src_tweet_id.values\n",
    "df.loc[df.src_tweet_id.isin(a),['reply_tweet','cleaned_reply_tw']]"
   ]
  },
  {
   "cell_type": "markdown",
   "id": "primary-shakespeare",
   "metadata": {},
   "source": [
    "## Emotion Analysis"
   ]
  },
  {
   "cell_type": "markdown",
   "id": "breeding-machine",
   "metadata": {},
   "source": [
    "### roBERTa-base model\n",
    "<https://huggingface.co/cardiffnlp/twitter-roberta-base-emotion>"
   ]
  },
  {
   "cell_type": "code",
   "execution_count": 13,
   "id": "vocal-aquarium",
   "metadata": {},
   "outputs": [],
   "source": [
    "import numpy as np\n",
    "from scipy.special import softmax\n",
    "\n",
    "task='emotion'\n",
    "MODEL = f\"cardiffnlp/twitter-roberta-base-{task}\"\n",
    "ro_tokenizer = AutoTokenizer.from_pretrained(MODEL)\n",
    "ro_model = AutoModelForSequenceClassification.from_pretrained(MODEL)\n"
   ]
  },
  {
   "cell_type": "code",
   "execution_count": 14,
   "id": "thirty-courtesy",
   "metadata": {},
   "outputs": [],
   "source": [
    "def get_emotion_roBERT(text):\n",
    "    \n",
    "    def preprocess(txt):\n",
    "        new_text = []\n",
    "        for t in txt.split(\" \"):\n",
    "            t = '@user' if t.startswith('@') and len(t) > 1 else t\n",
    "            t = 'http' if t.startswith('http') else t\n",
    "            new_text.append(t)\n",
    "        return \" \".join(new_text)\n",
    "    \n",
    "    labels = ['anger','joy','optimism','sadness']\n",
    "    text = preprocess(text)\n",
    "    encoded_input = ro_tokenizer(text, return_tensors='pt')\n",
    "    output = ro_model(**encoded_input)\n",
    "\n",
    "    scores = output[0][0].detach().numpy()\n",
    "    scores = softmax(scores)\n",
    "    ranking = np.argsort(scores)\n",
    "    ranking = ranking[::-1]\n",
    "    emo = labels[ranking[0]]\n",
    "    return emo"
   ]
  },
  {
   "cell_type": "code",
   "execution_count": 15,
   "id": "polar-reliance",
   "metadata": {},
   "outputs": [],
   "source": [
    "emotion_ro = df.cleaned_reply_tw.apply(get_emotion_roBERT)"
   ]
  },
  {
   "cell_type": "code",
   "execution_count": 16,
   "id": "valid-musical",
   "metadata": {},
   "outputs": [],
   "source": [
    "df['reply_emo_ro'] = emotion_ro"
   ]
  },
  {
   "cell_type": "code",
   "execution_count": 17,
   "id": "technical-family",
   "metadata": {},
   "outputs": [],
   "source": [
    "df.to_csv(r'D:\\論文\\PHEME9\\Data\\CSV\\germanwings-df-2.csv',index=False)"
   ]
  },
  {
   "cell_type": "code",
   "execution_count": 18,
   "id": "talented-article",
   "metadata": {},
   "outputs": [],
   "source": [
    "src_emo_ro = src_tw_df.cleaned_src_tw.astype(str).apply(get_emotion_roBERT)\n",
    "src_tw_df['src_emo_ro'] = src_emo_ro"
   ]
  },
  {
   "cell_type": "code",
   "execution_count": 19,
   "id": "clear-wheel",
   "metadata": {},
   "outputs": [],
   "source": [
    "src_tw_df.to_csv(r'D:\\論文\\PHEME9\\Data\\CSV\\germanwings-src-2.csv',index=False)"
   ]
  },
  {
   "cell_type": "markdown",
   "id": "smaller-garlic",
   "metadata": {},
   "source": [
    " - robert : 'anger','joy','optimism','sadness'\n",
    " - t5: 'sadness', 'joy', 'love', 'anger', 'fear', 'surprise' \n",
    " - text2emotion: 'angry, 'fear', 'happy, 'sad', 'surprise'"
   ]
  },
  {
   "cell_type": "code",
   "execution_count": 20,
   "id": "sought-figure",
   "metadata": {},
   "outputs": [
    {
     "name": "stdout",
     "output_type": "stream",
     "text": [
      "source tweet: Crash of the Germanwings flight is extremely unfortunate. We share the sorrow &amp; pain of the families of those on board. \n",
      "\n",
      "original reply tw:  @narendramodi  really its bad news\n",
      "cleaned reply tw:  really bad news\n",
      "roBERT based:  sadness\n"
     ]
    }
   ],
   "source": [
    "print(\"source tweet:\", df.src_tweet[1118],'\\n')\n",
    "print(\"original reply tw: \", df.reply_tweet[1118])\n",
    "print(\"cleaned reply tw: \", df.cleaned_reply_tw[1118])\n",
    "\n",
    "print('roBERT based: ',df.reply_emo_ro[1118])\n"
   ]
  },
  {
   "cell_type": "code",
   "execution_count": null,
   "id": "funky-ambassador",
   "metadata": {},
   "outputs": [],
   "source": []
  }
 ],
 "metadata": {
  "kernelspec": {
   "display_name": "Python 3",
   "language": "python",
   "name": "python3"
  },
  "language_info": {
   "codemirror_mode": {
    "name": "ipython",
    "version": 3
   },
   "file_extension": ".py",
   "mimetype": "text/x-python",
   "name": "python",
   "nbconvert_exporter": "python",
   "pygments_lexer": "ipython3",
   "version": "3.9.1"
  },
  "toc-autonumbering": true,
  "toc-showmarkdowntxt": false
 },
 "nbformat": 4,
 "nbformat_minor": 5
}
