{
 "cells": [
  {
   "cell_type": "markdown",
   "id": "received-purchase",
   "metadata": {},
   "source": [
    "# Text Analysis on germanwings data"
   ]
  },
  {
   "cell_type": "code",
   "execution_count": 19,
   "id": "rubber-butler",
   "metadata": {},
   "outputs": [],
   "source": [
    "import numpy as np\n",
    "import pandas as pd\n",
    "import datetime \n",
    "import matplotlib.pyplot as plt\n",
    "import seaborn as sns"
   ]
  },
  {
   "cell_type": "code",
   "execution_count": 20,
   "id": "individual-anthropology",
   "metadata": {},
   "outputs": [],
   "source": [
    "df = pd.read_csv(r'D:\\論文\\PHEME9\\Data\\CSV\\germanwings.csv', encoding = 'utf-8', header = None)\n",
    "df.columns = ['src_tweet_id', 'src_user_id', 'src_tweet','src_date','reply_tweet_id','reply_user_id','reply_tweet','reply_date', 'label']\n",
    "df.reply_tweet = df.reply_tweet.replace(np.nan,\"\")"
   ]
  },
  {
   "cell_type": "code",
   "execution_count": 21,
   "id": "composed-hours",
   "metadata": {},
   "outputs": [
    {
     "data": {
      "text/html": [
       "<div>\n",
       "<style scoped>\n",
       "    .dataframe tbody tr th:only-of-type {\n",
       "        vertical-align: middle;\n",
       "    }\n",
       "\n",
       "    .dataframe tbody tr th {\n",
       "        vertical-align: top;\n",
       "    }\n",
       "\n",
       "    .dataframe thead th {\n",
       "        text-align: right;\n",
       "    }\n",
       "</style>\n",
       "<table border=\"1\" class=\"dataframe\">\n",
       "  <thead>\n",
       "    <tr style=\"text-align: right;\">\n",
       "      <th></th>\n",
       "      <th>src_tweet_id</th>\n",
       "      <th>src_user_id</th>\n",
       "      <th>src_tweet</th>\n",
       "      <th>src_date</th>\n",
       "      <th>label</th>\n",
       "    </tr>\n",
       "  </thead>\n",
       "  <tbody>\n",
       "    <tr>\n",
       "      <th>0</th>\n",
       "      <td>580319983676313601</td>\n",
       "      <td>8330472</td>\n",
       "      <td>#Últimahora Es tracta d'un aparell de Germanwi...</td>\n",
       "      <td>Tue Mar 24 10:47:20 +0000 2015</td>\n",
       "      <td>0</td>\n",
       "    </tr>\n",
       "    <tr>\n",
       "      <th>3</th>\n",
       "      <td>580321203757387776</td>\n",
       "      <td>92771309</td>\n",
       "      <td>Route map now being shared by http://t.co/LZkO...</td>\n",
       "      <td>Tue Mar 24 10:52:11 +0000 2015</td>\n",
       "      <td>0</td>\n",
       "    </tr>\n",
       "    <tr>\n",
       "      <th>4</th>\n",
       "      <td>580322026029654018</td>\n",
       "      <td>366089337</td>\n",
       "      <td>Pray for #4U9525 http://t.co/II7Rl24ffH</td>\n",
       "      <td>Tue Mar 24 10:55:27 +0000 2015</td>\n",
       "      <td>0</td>\n",
       "    </tr>\n",
       "    <tr>\n",
       "      <th>5</th>\n",
       "      <td>580322102307373056</td>\n",
       "      <td>16211566</td>\n",
       "      <td>Airbus A320 #4U9525 crash: \\nFlight tracking d...</td>\n",
       "      <td>Tue Mar 24 10:55:45 +0000 2015</td>\n",
       "      <td>0</td>\n",
       "    </tr>\n",
       "    <tr>\n",
       "      <th>8</th>\n",
       "      <td>580322332348190720</td>\n",
       "      <td>92771309</td>\n",
       "      <td>Flightradar24 has this as the plane's last pos...</td>\n",
       "      <td>Tue Mar 24 10:56:40 +0000 2015</td>\n",
       "      <td>0</td>\n",
       "    </tr>\n",
       "    <tr>\n",
       "      <th>...</th>\n",
       "      <td>...</td>\n",
       "      <td>...</td>\n",
       "      <td>...</td>\n",
       "      <td>...</td>\n",
       "      <td>...</td>\n",
       "    </tr>\n",
       "    <tr>\n",
       "      <th>3916</th>\n",
       "      <td>581460720900050945</td>\n",
       "      <td>76453835</td>\n",
       "      <td>#Germanwings #CoPilot was a recent Muslim conv...</td>\n",
       "      <td>Fri Mar 27 14:20:13 +0000 2015</td>\n",
       "      <td>1</td>\n",
       "    </tr>\n",
       "    <tr>\n",
       "      <th>3938</th>\n",
       "      <td>581473088249958400</td>\n",
       "      <td>177584156</td>\n",
       "      <td>GERMAN NEWS REPORT: Co-Pilot of Germanwings Ai...</td>\n",
       "      <td>Fri Mar 27 15:09:22 +0000 2015</td>\n",
       "      <td>1</td>\n",
       "    </tr>\n",
       "    <tr>\n",
       "      <th>3945</th>\n",
       "      <td>581479017770979329</td>\n",
       "      <td>36116351</td>\n",
       "      <td>If the #Germanwings copilot #Lubitz was Muslim...</td>\n",
       "      <td>Fri Mar 27 15:32:55 +0000 2015</td>\n",
       "      <td>1</td>\n",
       "    </tr>\n",
       "    <tr>\n",
       "      <th>3965</th>\n",
       "      <td>581546828954411008</td>\n",
       "      <td>112874216</td>\n",
       "      <td>BREAKING: German Media Site Says Germanwings C...</td>\n",
       "      <td>Fri Mar 27 20:02:23 +0000 2015</td>\n",
       "      <td>1</td>\n",
       "    </tr>\n",
       "    <tr>\n",
       "      <th>3991</th>\n",
       "      <td>581550667753504768</td>\n",
       "      <td>24293233</td>\n",
       "      <td>#WakeUpAmerica \\nCo-pilot was a Muslim Convert...</td>\n",
       "      <td>Fri Mar 27 20:17:38 +0000 2015</td>\n",
       "      <td>1</td>\n",
       "    </tr>\n",
       "  </tbody>\n",
       "</table>\n",
       "<p>405 rows × 5 columns</p>\n",
       "</div>"
      ],
      "text/plain": [
       "            src_tweet_id  src_user_id  \\\n",
       "0     580319983676313601      8330472   \n",
       "3     580321203757387776     92771309   \n",
       "4     580322026029654018    366089337   \n",
       "5     580322102307373056     16211566   \n",
       "8     580322332348190720     92771309   \n",
       "...                  ...          ...   \n",
       "3916  581460720900050945     76453835   \n",
       "3938  581473088249958400    177584156   \n",
       "3945  581479017770979329     36116351   \n",
       "3965  581546828954411008    112874216   \n",
       "3991  581550667753504768     24293233   \n",
       "\n",
       "                                              src_tweet  \\\n",
       "0     #Últimahora Es tracta d'un aparell de Germanwi...   \n",
       "3     Route map now being shared by http://t.co/LZkO...   \n",
       "4               Pray for #4U9525 http://t.co/II7Rl24ffH   \n",
       "5     Airbus A320 #4U9525 crash: \\nFlight tracking d...   \n",
       "8     Flightradar24 has this as the plane's last pos...   \n",
       "...                                                 ...   \n",
       "3916  #Germanwings #CoPilot was a recent Muslim conv...   \n",
       "3938  GERMAN NEWS REPORT: Co-Pilot of Germanwings Ai...   \n",
       "3945  If the #Germanwings copilot #Lubitz was Muslim...   \n",
       "3965  BREAKING: German Media Site Says Germanwings C...   \n",
       "3991  #WakeUpAmerica \\nCo-pilot was a Muslim Convert...   \n",
       "\n",
       "                            src_date  label  \n",
       "0     Tue Mar 24 10:47:20 +0000 2015      0  \n",
       "3     Tue Mar 24 10:52:11 +0000 2015      0  \n",
       "4     Tue Mar 24 10:55:27 +0000 2015      0  \n",
       "5     Tue Mar 24 10:55:45 +0000 2015      0  \n",
       "8     Tue Mar 24 10:56:40 +0000 2015      0  \n",
       "...                              ...    ...  \n",
       "3916  Fri Mar 27 14:20:13 +0000 2015      1  \n",
       "3938  Fri Mar 27 15:09:22 +0000 2015      1  \n",
       "3945  Fri Mar 27 15:32:55 +0000 2015      1  \n",
       "3965  Fri Mar 27 20:02:23 +0000 2015      1  \n",
       "3991  Fri Mar 27 20:17:38 +0000 2015      1  \n",
       "\n",
       "[405 rows x 5 columns]"
      ]
     },
     "execution_count": 21,
     "metadata": {},
     "output_type": "execute_result"
    }
   ],
   "source": [
    "src_tw_df = df.iloc[:,[0,1,2,3,8]].copy()\n",
    "src_tw_df = src_tw_df.drop_duplicates()\n",
    "src_tw_df"
   ]
  },
  {
   "cell_type": "markdown",
   "id": "regulation-channels",
   "metadata": {},
   "source": [
    "## Prepocessing\n",
    "- Define function to process text at one time"
   ]
  },
  {
   "cell_type": "code",
   "execution_count": 22,
   "id": "modular-function",
   "metadata": {},
   "outputs": [],
   "source": [
    "def textprocessing(text):\n",
    "    text = text.lower()\n",
    "\n",
    "    text = \" \".join([word for word in text.split() if 'http' not in word\n",
    "                                and not word.startswith('@')])\n",
    "                                #and word != 'RT'])\n",
    "    import re\n",
    "    def remove_punct(tweet):\n",
    "        new_words = []\n",
    "        for word in tweet:\n",
    "            w = re.sub(r'[^\\w\\s]','',word) #remove everything except words and space\n",
    "            w = re.sub(r'_','',w) #how to remove underscore as well\n",
    "            new_words.append(w)\n",
    "\n",
    "        return new_words\n",
    "    text = \"\".join(remove_punct(text))\n",
    "          \n",
    "    from nltk.tokenize import TweetTokenizer\n",
    "    tknzr = TweetTokenizer(strip_handles=True)\n",
    "    text = tknzr.tokenize(text)\n",
    "    \n",
    "    from nltk.stem.porter import PorterStemmer\n",
    "    stem = PorterStemmer()\n",
    "    text = [stem.stem(i) for i in text]\n",
    "    \n",
    "    from nltk.corpus import stopwords\n",
    "    stop_words=set(stopwords.words(\"english\"))\n",
    "    def filterstopwords(tw):\n",
    "        filter_stopwords = []\n",
    "        for w in tw:\n",
    "            if w not in stop_words:\n",
    "                filter_stopwords.append(w)\n",
    "        return filter_stopwords\n",
    "    text = filterstopwords(text)\n",
    "    text = \" \".join(text)\n",
    "    \n",
    "    return text"
   ]
  },
  {
   "cell_type": "code",
   "execution_count": 23,
   "id": "structural-rebel",
   "metadata": {},
   "outputs": [
    {
     "name": "stdout",
     "output_type": "stream",
     "text": [
      "original text:  @Youngloch yep. That's what I was thinking.\n",
      "cleaned text:  yep wa think\n"
     ]
    }
   ],
   "source": [
    "print(\"original text: \", df.reply_tweet.iloc[20])\n",
    "print(\"cleaned text: \", textprocessing(df.reply_tweet.iloc[20]))"
   ]
  },
  {
   "cell_type": "markdown",
   "id": "integrated-determination",
   "metadata": {},
   "source": [
    "### applied on original data (**df**)"
   ]
  },
  {
   "cell_type": "code",
   "execution_count": 24,
   "id": "inclusive-verification",
   "metadata": {},
   "outputs": [],
   "source": [
    "df['cleaned_src_tw'] = df.src_tweet.apply(textprocessing)\n",
    "df['cleaned_reply_tw'] = df.reply_tweet.apply(textprocessing)"
   ]
  },
  {
   "cell_type": "code",
   "execution_count": 25,
   "id": "outer-update",
   "metadata": {},
   "outputs": [
    {
     "data": {
      "text/html": [
       "<div>\n",
       "<style scoped>\n",
       "    .dataframe tbody tr th:only-of-type {\n",
       "        vertical-align: middle;\n",
       "    }\n",
       "\n",
       "    .dataframe tbody tr th {\n",
       "        vertical-align: top;\n",
       "    }\n",
       "\n",
       "    .dataframe thead th {\n",
       "        text-align: right;\n",
       "    }\n",
       "</style>\n",
       "<table border=\"1\" class=\"dataframe\">\n",
       "  <thead>\n",
       "    <tr style=\"text-align: right;\">\n",
       "      <th></th>\n",
       "      <th>src_tweet_id</th>\n",
       "      <th>src_user_id</th>\n",
       "      <th>src_tweet</th>\n",
       "      <th>src_date</th>\n",
       "      <th>reply_tweet_id</th>\n",
       "      <th>reply_user_id</th>\n",
       "      <th>reply_tweet</th>\n",
       "      <th>reply_date</th>\n",
       "      <th>label</th>\n",
       "      <th>cleaned_src_tw</th>\n",
       "      <th>cleaned_reply_tw</th>\n",
       "    </tr>\n",
       "  </thead>\n",
       "  <tbody>\n",
       "    <tr>\n",
       "      <th>0</th>\n",
       "      <td>580319983676313601</td>\n",
       "      <td>8330472</td>\n",
       "      <td>#Últimahora Es tracta d'un aparell de Germanwi...</td>\n",
       "      <td>Tue Mar 24 10:47:20 +0000 2015</td>\n",
       "      <td>580322851850461184</td>\n",
       "      <td>2307392966</td>\n",
       "      <td>“@324cat: #Últimahora Es tracta d'un aparell d...</td>\n",
       "      <td>Tue Mar 24 10:58:44 +0000 2015</td>\n",
       "      <td>0</td>\n",
       "      <td>últimahora es tracta dun aparel de germanw amb...</td>\n",
       "      <td>324cat últimahora es tracta dun aparel de germ...</td>\n",
       "    </tr>\n",
       "    <tr>\n",
       "      <th>1</th>\n",
       "      <td>580319983676313601</td>\n",
       "      <td>8330472</td>\n",
       "      <td>#Últimahora Es tracta d'un aparell de Germanwi...</td>\n",
       "      <td>Tue Mar 24 10:47:20 +0000 2015</td>\n",
       "      <td>580323127089082368</td>\n",
       "      <td>2535310842</td>\n",
       "      <td>@senyera @324cat 148 pasajeros 142+6</td>\n",
       "      <td>Tue Mar 24 10:59:50 +0000 2015</td>\n",
       "      <td>0</td>\n",
       "      <td>últimahora es tracta dun aparel de germanw amb...</td>\n",
       "      <td>148 pasajero 1426</td>\n",
       "    </tr>\n",
       "    <tr>\n",
       "      <th>2</th>\n",
       "      <td>580319983676313601</td>\n",
       "      <td>8330472</td>\n",
       "      <td>#Últimahora Es tracta d'un aparell de Germanwi...</td>\n",
       "      <td>Tue Mar 24 10:47:20 +0000 2015</td>\n",
       "      <td>580325737619685377</td>\n",
       "      <td>2535310842</td>\n",
       "      <td>@senyera @324cat dice el ministro frances que ...</td>\n",
       "      <td>Tue Mar 24 11:10:12 +0000 2015</td>\n",
       "      <td>0</td>\n",
       "      <td>últimahora es tracta dun aparel de germanw amb...</td>\n",
       "      <td>dice el ministro franc que hay supervivient</td>\n",
       "    </tr>\n",
       "    <tr>\n",
       "      <th>3</th>\n",
       "      <td>580321203757387776</td>\n",
       "      <td>92771309</td>\n",
       "      <td>Route map now being shared by http://t.co/LZkO...</td>\n",
       "      <td>Tue Mar 24 10:52:11 +0000 2015</td>\n",
       "      <td>580324361342615552</td>\n",
       "      <td>161546098</td>\n",
       "      <td>結構な山の中だぞ、それは…… “@BBCRosAtkins: Route map now b...</td>\n",
       "      <td>Tue Mar 24 11:04:44 +0000 2015</td>\n",
       "      <td>0</td>\n",
       "      <td>rout map share 4u9525</td>\n",
       "      <td>結構な山の中だぞそれは bbcrosatkin rout map share 4u9525</td>\n",
       "    </tr>\n",
       "    <tr>\n",
       "      <th>4</th>\n",
       "      <td>580322026029654018</td>\n",
       "      <td>366089337</td>\n",
       "      <td>Pray for #4U9525 http://t.co/II7Rl24ffH</td>\n",
       "      <td>Tue Mar 24 10:55:27 +0000 2015</td>\n",
       "      <td>580332543087505408</td>\n",
       "      <td>744921588</td>\n",
       "      <td>“@f4izalhassan: Pray for #4U9525 http://t.co/d...</td>\n",
       "      <td>Tue Mar 24 11:37:14 +0000 2015</td>\n",
       "      <td>0</td>\n",
       "      <td>pray 4u9525</td>\n",
       "      <td>f4izalhassan pray 4u9525 إنا لله وإنـا إليه را...</td>\n",
       "    </tr>\n",
       "  </tbody>\n",
       "</table>\n",
       "</div>"
      ],
      "text/plain": [
       "         src_tweet_id  src_user_id  \\\n",
       "0  580319983676313601      8330472   \n",
       "1  580319983676313601      8330472   \n",
       "2  580319983676313601      8330472   \n",
       "3  580321203757387776     92771309   \n",
       "4  580322026029654018    366089337   \n",
       "\n",
       "                                           src_tweet  \\\n",
       "0  #Últimahora Es tracta d'un aparell de Germanwi...   \n",
       "1  #Últimahora Es tracta d'un aparell de Germanwi...   \n",
       "2  #Últimahora Es tracta d'un aparell de Germanwi...   \n",
       "3  Route map now being shared by http://t.co/LZkO...   \n",
       "4            Pray for #4U9525 http://t.co/II7Rl24ffH   \n",
       "\n",
       "                         src_date      reply_tweet_id  reply_user_id  \\\n",
       "0  Tue Mar 24 10:47:20 +0000 2015  580322851850461184     2307392966   \n",
       "1  Tue Mar 24 10:47:20 +0000 2015  580323127089082368     2535310842   \n",
       "2  Tue Mar 24 10:47:20 +0000 2015  580325737619685377     2535310842   \n",
       "3  Tue Mar 24 10:52:11 +0000 2015  580324361342615552      161546098   \n",
       "4  Tue Mar 24 10:55:27 +0000 2015  580332543087505408      744921588   \n",
       "\n",
       "                                         reply_tweet  \\\n",
       "0  “@324cat: #Últimahora Es tracta d'un aparell d...   \n",
       "1               @senyera @324cat 148 pasajeros 142+6   \n",
       "2  @senyera @324cat dice el ministro frances que ...   \n",
       "3  結構な山の中だぞ、それは…… “@BBCRosAtkins: Route map now b...   \n",
       "4  “@f4izalhassan: Pray for #4U9525 http://t.co/d...   \n",
       "\n",
       "                       reply_date  label  \\\n",
       "0  Tue Mar 24 10:58:44 +0000 2015      0   \n",
       "1  Tue Mar 24 10:59:50 +0000 2015      0   \n",
       "2  Tue Mar 24 11:10:12 +0000 2015      0   \n",
       "3  Tue Mar 24 11:04:44 +0000 2015      0   \n",
       "4  Tue Mar 24 11:37:14 +0000 2015      0   \n",
       "\n",
       "                                      cleaned_src_tw  \\\n",
       "0  últimahora es tracta dun aparel de germanw amb...   \n",
       "1  últimahora es tracta dun aparel de germanw amb...   \n",
       "2  últimahora es tracta dun aparel de germanw amb...   \n",
       "3                              rout map share 4u9525   \n",
       "4                                        pray 4u9525   \n",
       "\n",
       "                                    cleaned_reply_tw  \n",
       "0  324cat últimahora es tracta dun aparel de germ...  \n",
       "1                                  148 pasajero 1426  \n",
       "2        dice el ministro franc que hay supervivient  \n",
       "3      結構な山の中だぞそれは bbcrosatkin rout map share 4u9525  \n",
       "4  f4izalhassan pray 4u9525 إنا لله وإنـا إليه را...  "
      ]
     },
     "execution_count": 25,
     "metadata": {},
     "output_type": "execute_result"
    }
   ],
   "source": [
    "df.head()"
   ]
  },
  {
   "cell_type": "markdown",
   "id": "innovative-topic",
   "metadata": {},
   "source": [
    "### applied on source tweet data (**src_tw_df**) "
   ]
  },
  {
   "cell_type": "code",
   "execution_count": 26,
   "id": "neural-water",
   "metadata": {},
   "outputs": [],
   "source": [
    "src_tw_df['cleaned_src_tw'] = src_tw_df.src_tweet.apply(textprocessing)"
   ]
  },
  {
   "cell_type": "markdown",
   "id": "collective-monte",
   "metadata": {},
   "source": [
    "## Sentiment Analysis"
   ]
  },
  {
   "cell_type": "code",
   "execution_count": 27,
   "id": "decent-extra",
   "metadata": {},
   "outputs": [],
   "source": [
    "from vaderSentiment.vaderSentiment import SentimentIntensityAnalyzer"
   ]
  },
  {
   "cell_type": "code",
   "execution_count": 28,
   "id": "mounted-budget",
   "metadata": {},
   "outputs": [],
   "source": [
    "def get_sentiment(tweet):\n",
    "    analyzer = SentimentIntensityAnalyzer()\n",
    "    vs = analyzer.polarity_scores(tweet)\n",
    "    if vs['compound'] >=0.05:\n",
    "        sentiment_label = 'Positive'\n",
    "    elif (vs['compound'] > -0.05) & (vs['compound'] < 0.05):\n",
    "        sentiment_label = 'Neutral'\n",
    "    elif vs['compound']<= -0.05:\n",
    "        sentiment_label = 'Negative' \n",
    "    result = sentiment_label\n",
    "    return result"
   ]
  },
  {
   "cell_type": "markdown",
   "id": "acquired-restriction",
   "metadata": {},
   "source": [
    "### applied on original df"
   ]
  },
  {
   "cell_type": "code",
   "execution_count": 29,
   "id": "standing-element",
   "metadata": {},
   "outputs": [],
   "source": [
    "df['src_sentiment']= df.cleaned_src_tw.apply(get_sentiment)\n",
    "df['reply_sentiment']= df.cleaned_reply_tw.apply(get_sentiment)"
   ]
  },
  {
   "cell_type": "code",
   "execution_count": 30,
   "id": "included-bible",
   "metadata": {},
   "outputs": [
    {
     "data": {
      "text/html": [
       "<div>\n",
       "<style scoped>\n",
       "    .dataframe tbody tr th:only-of-type {\n",
       "        vertical-align: middle;\n",
       "    }\n",
       "\n",
       "    .dataframe tbody tr th {\n",
       "        vertical-align: top;\n",
       "    }\n",
       "\n",
       "    .dataframe thead th {\n",
       "        text-align: right;\n",
       "    }\n",
       "</style>\n",
       "<table border=\"1\" class=\"dataframe\">\n",
       "  <thead>\n",
       "    <tr style=\"text-align: right;\">\n",
       "      <th></th>\n",
       "      <th>src_tweet_id</th>\n",
       "      <th>src_user_id</th>\n",
       "      <th>src_tweet</th>\n",
       "      <th>src_date</th>\n",
       "      <th>reply_tweet_id</th>\n",
       "      <th>reply_user_id</th>\n",
       "      <th>reply_tweet</th>\n",
       "      <th>reply_date</th>\n",
       "      <th>label</th>\n",
       "      <th>cleaned_src_tw</th>\n",
       "      <th>cleaned_reply_tw</th>\n",
       "      <th>src_sentiment</th>\n",
       "      <th>reply_sentiment</th>\n",
       "    </tr>\n",
       "  </thead>\n",
       "  <tbody>\n",
       "    <tr>\n",
       "      <th>0</th>\n",
       "      <td>580319983676313601</td>\n",
       "      <td>8330472</td>\n",
       "      <td>#Últimahora Es tracta d'un aparell de Germanwi...</td>\n",
       "      <td>Tue Mar 24 10:47:20 +0000 2015</td>\n",
       "      <td>580322851850461184</td>\n",
       "      <td>2307392966</td>\n",
       "      <td>“@324cat: #Últimahora Es tracta d'un aparell d...</td>\n",
       "      <td>Tue Mar 24 10:58:44 +0000 2015</td>\n",
       "      <td>0</td>\n",
       "      <td>últimahora es tracta dun aparel de germanw amb...</td>\n",
       "      <td>324cat últimahora es tracta dun aparel de germ...</td>\n",
       "      <td>Neutral</td>\n",
       "      <td>Neutral</td>\n",
       "    </tr>\n",
       "  </tbody>\n",
       "</table>\n",
       "</div>"
      ],
      "text/plain": [
       "         src_tweet_id  src_user_id  \\\n",
       "0  580319983676313601      8330472   \n",
       "\n",
       "                                           src_tweet  \\\n",
       "0  #Últimahora Es tracta d'un aparell de Germanwi...   \n",
       "\n",
       "                         src_date      reply_tweet_id  reply_user_id  \\\n",
       "0  Tue Mar 24 10:47:20 +0000 2015  580322851850461184     2307392966   \n",
       "\n",
       "                                         reply_tweet  \\\n",
       "0  “@324cat: #Últimahora Es tracta d'un aparell d...   \n",
       "\n",
       "                       reply_date  label  \\\n",
       "0  Tue Mar 24 10:58:44 +0000 2015      0   \n",
       "\n",
       "                                      cleaned_src_tw  \\\n",
       "0  últimahora es tracta dun aparel de germanw amb...   \n",
       "\n",
       "                                    cleaned_reply_tw src_sentiment  \\\n",
       "0  324cat últimahora es tracta dun aparel de germ...       Neutral   \n",
       "\n",
       "  reply_sentiment  \n",
       "0         Neutral  "
      ]
     },
     "execution_count": 30,
     "metadata": {},
     "output_type": "execute_result"
    }
   ],
   "source": [
    "df.head(1)"
   ]
  },
  {
   "cell_type": "markdown",
   "id": "foreign-review",
   "metadata": {},
   "source": [
    "### applied on source tweet data only "
   ]
  },
  {
   "cell_type": "code",
   "execution_count": 31,
   "id": "artistic-zimbabwe",
   "metadata": {},
   "outputs": [],
   "source": [
    "### source tweet data only \n",
    "src_tw_df['src_sentiment']=  src_tw_df['cleaned_src_tw'].apply(get_sentiment)"
   ]
  },
  {
   "cell_type": "markdown",
   "id": "overhead-dover",
   "metadata": {},
   "source": [
    "### Visualization"
   ]
  },
  {
   "cell_type": "code",
   "execution_count": null,
   "id": "single-catch",
   "metadata": {},
   "outputs": [],
   "source": [
    "print(df[df.label ==1]['reply_sentiment'].value_counts())\n",
    "plt.figure(figsize=(8,6))\n",
    "sns.countplot(x='reply_sentiment',data= df[df['label'] == 1])\n",
    "\n",
    "plt.suptitle('Sentiment analysis on Reply tweets under Catergory Rumour',fontsize=16)\n",
    "plt.title('Reply tweets show more positive attitude towards rumour tweet',fontsize=12,color='grey')\n",
    "plt.savefig('graph/germanwings/senti_reply_rumour.pdf',dpi=300)"
   ]
  },
  {
   "cell_type": "code",
   "execution_count": null,
   "id": "aggressive-running",
   "metadata": {},
   "outputs": [],
   "source": [
    "print(df[df.label ==0]['reply_sentiment'].value_counts())\n",
    "plt.figure(figsize=(8,6))\n",
    "sns.countplot(x='reply_sentiment',data= df[df['label'] == 0])\n",
    "\n",
    "plt.suptitle('Sentiment analysis on Reply tweets under Catergory Non-Rumour',fontsize=16)\n",
    "plt.title('Reply tweets show more neutrual attitude towards non-rumour tweet',fontsize=12,color='grey')\n",
    "plt.savefig('graph/germanwings/senti_reply_nonrumour.pdf',dpi=300)"
   ]
  },
  {
   "cell_type": "code",
   "execution_count": null,
   "id": "annual-class",
   "metadata": {},
   "outputs": [],
   "source": [
    "print(src_tw_df['src_sentiment'].value_counts())\n",
    "sns.countplot(x='src_sentiment',data =src_tw_df,hue='label')\n",
    "\n",
    "plt.suptitle('Sentiment analysis on Source Tweets',fontsize=16)\n",
    "plt.title('Rumour source tweets show more neutral attitude.',fontsize=12,color='grey')\n",
    "plt.savefig('graph/germanwings/senti_source.pdf',dpi=300)"
   ]
  },
  {
   "cell_type": "markdown",
   "id": "younger-administrator",
   "metadata": {},
   "source": [
    "### save data to csv "
   ]
  },
  {
   "cell_type": "code",
   "execution_count": null,
   "id": "welcome-field",
   "metadata": {},
   "outputs": [],
   "source": [
    "df.to_csv(r'D:\\論文\\PHEME9\\Data\\CSV\\germanwings-df.csv',index=False)\n",
    "src_tw_df.to_csv(r'D:\\論文\\PHEME9\\Data\\CSV\\germanwings-src.csv',index=False)"
   ]
  },
  {
   "cell_type": "markdown",
   "id": "transparent-publicity",
   "metadata": {},
   "source": [
    "## Keywords Extraction\n",
    "### WordCloud"
   ]
  },
  {
   "cell_type": "code",
   "execution_count": null,
   "id": "better-arizona",
   "metadata": {},
   "outputs": [],
   "source": [
    "from wordcloud import WordCloud"
   ]
  },
  {
   "cell_type": "code",
   "execution_count": null,
   "id": "simple-landing",
   "metadata": {},
   "outputs": [],
   "source": [
    "plt.figure(figsize=(20,10))\n",
    "mywordcloud = WordCloud().generate(docx)\n",
    "plt.imshow(mywordcloud,interpolation='bilinear')\n",
    "plt.axis('off')\n",
    "plt.show()"
   ]
  },
  {
   "cell_type": "markdown",
   "id": "flying-meeting",
   "metadata": {},
   "source": [
    "#### Reply Tweets"
   ]
  },
  {
   "cell_type": "code",
   "execution_count": null,
   "id": "nasty-rebate",
   "metadata": {},
   "outputs": [],
   "source": [
    "#nltk.download('punkt')\n",
    "from nltk.tokenize import word_tokenize"
   ]
  },
  {
   "cell_type": "code",
   "execution_count": null,
   "id": "guilty-loading",
   "metadata": {},
   "outputs": [],
   "source": [
    "reply_sen = df.cleaned_reply_tw.apply(word_tokenize)\n",
    "reply_tw_list = []\n",
    "for sen in reply_sen:\n",
    "    for token in sen:\n",
    "        reply_tw_list.append(token)\n",
    "reply_tw_doc = \" \".join(reply_tw_list)"
   ]
  },
  {
   "cell_type": "code",
   "execution_count": null,
   "id": "composed-failing",
   "metadata": {},
   "outputs": [],
   "source": [
    "plt.figure(figsize=(20,10))\n",
    "mywordcloud = WordCloud().generate(reply_tw_doc)\n",
    "plt.imshow(mywordcloud,interpolation='bilinear')\n",
    "plt.axis('off')\n",
    "plt.show()\n",
    "mywordcloud.to_file('graph/germanwings/wordcloud_reply.pdf')"
   ]
  },
  {
   "cell_type": "code",
   "execution_count": null,
   "id": "equivalent-paint",
   "metadata": {},
   "outputs": [],
   "source": [
    "# positive \n",
    "posi_reply_sen = df[df.reply_sentiment=='Positive'].cleaned_reply_tw.apply(word_tokenize)\n",
    "posi_reply_tw_list = []\n",
    "for sen in posi_reply_sen:\n",
    "    for token in sen:\n",
    "        posi_reply_tw_list.append(token)\n",
    "posi_reply_tw_doc = \" \".join(posi_reply_tw_list)\n"
   ]
  },
  {
   "cell_type": "code",
   "execution_count": null,
   "id": "confident-player",
   "metadata": {},
   "outputs": [],
   "source": [
    "plt.figure(figsize=(20,10))\n",
    "mywordcloud = WordCloud().generate(posi_reply_tw_doc)\n",
    "plt.imshow(mywordcloud,interpolation='bilinear')\n",
    "plt.axis('off')\n",
    "plt.show()\n",
    "mywordcloud.to_file('graph/germanwings/wordcloud_reply_posi.pdf')"
   ]
  },
  {
   "cell_type": "markdown",
   "id": "forward-unknown",
   "metadata": {},
   "source": [
    "#### Source Tweet"
   ]
  },
  {
   "cell_type": "code",
   "execution_count": null,
   "id": "behind-matthew",
   "metadata": {},
   "outputs": [],
   "source": [
    "src_sen = src_tw_df.cleaned_src_tw.apply(word_tokenize)\n",
    "src_tw_list = []\n",
    "for sen in src_sen:\n",
    "    for token in sen:\n",
    "        src_tw_list.append(token)\n",
    "\n",
    "src_tw_doc = \" \".join(src_tw_list)"
   ]
  },
  {
   "cell_type": "code",
   "execution_count": null,
   "id": "quantitative-boost",
   "metadata": {},
   "outputs": [],
   "source": [
    "plt.figure(figsize=(20,10))\n",
    "mywordcloud = WordCloud().generate(src_tw_doc)\n",
    "plt.imshow(mywordcloud,interpolation='bilinear')\n",
    "plt.axis('off')\n",
    "plt.show()\n",
    "mywordcloud.to_file('graph/germanwings/wordcloud_src.pdf')"
   ]
  },
  {
   "cell_type": "markdown",
   "id": "bridal-arcade",
   "metadata": {},
   "source": [
    "### Common"
   ]
  },
  {
   "cell_type": "code",
   "execution_count": null,
   "id": "higher-termination",
   "metadata": {},
   "outputs": [],
   "source": [
    "from collections import Counter"
   ]
  },
  {
   "cell_type": "code",
   "execution_count": null,
   "id": "connected-tiffany",
   "metadata": {},
   "outputs": [],
   "source": [
    "def get_tokens(docx,num=30):\n",
    "    word_tokens = Counter(docx)\n",
    "    most_common = word_tokens.most_common(num)\n",
    "    result = dict(most_common)\n",
    "    return result"
   ]
  },
  {
   "cell_type": "code",
   "execution_count": null,
   "id": "respiratory-tomato",
   "metadata": {},
   "outputs": [],
   "source": [
    "pd.DataFrame(get_tokens(reply_tw_list).items(),columns=['word','freq']).plot(kind='bar',x='word',y='freq')\n",
    "plt.title(\"Most frequent words among reply tweets are 'Prince','show','tonight'.\")"
   ]
  },
  {
   "cell_type": "code",
   "execution_count": null,
   "id": "opening-stewart",
   "metadata": {},
   "outputs": [],
   "source": [
    "pd.DataFrame(get_tokens(src_tw_list).items(),columns=['word','freq']).plot(kind='bar',x='word',y='freq')\n",
    "plt.title(\"Most frequent words among source tweets are 'Price', 'show', 'tonight'\")\n"
   ]
  },
  {
   "cell_type": "markdown",
   "id": "annual-customer",
   "metadata": {},
   "source": [
    "## Emotion Detection"
   ]
  },
  {
   "cell_type": "markdown",
   "id": "focal-warrant",
   "metadata": {},
   "source": [
    "### text2emotion package\n",
    "https://snyk.io/advisor/python/text2emotion "
   ]
  },
  {
   "cell_type": "code",
   "execution_count": 32,
   "id": "fixed-invention",
   "metadata": {},
   "outputs": [],
   "source": [
    "import text2emotion as te"
   ]
  },
  {
   "cell_type": "code",
   "execution_count": 33,
   "id": "unusual-terminal",
   "metadata": {},
   "outputs": [],
   "source": [
    "emotion = df.cleaned_reply_tw.apply(te.get_emotion)"
   ]
  },
  {
   "cell_type": "code",
   "execution_count": 38,
   "id": "standing-convention",
   "metadata": {},
   "outputs": [],
   "source": [
    "emo = emotion.apply(lambda x: max(x,key=x.get))\n",
    "df['reply_emotion']=emo"
   ]
  },
  {
   "cell_type": "code",
   "execution_count": 39,
   "id": "statutory-democracy",
   "metadata": {},
   "outputs": [],
   "source": [
    "df.to_csv(r'D:\\論文\\PHEME9\\Data\\CSV\\germanwings-df.csv',index=False)"
   ]
  },
  {
   "cell_type": "code",
   "execution_count": 40,
   "id": "private-shoulder",
   "metadata": {},
   "outputs": [],
   "source": [
    "emotion1 = src_tw_df.cleaned_src_tw.apply(te.get_emotion)\n",
    "emo1 = emotion.apply(lambda x: max(x,key=x.get))\n",
    "src_tw_df['src_emotion']=emo1"
   ]
  },
  {
   "cell_type": "code",
   "execution_count": 41,
   "id": "closing-translator",
   "metadata": {},
   "outputs": [],
   "source": [
    "src_tw_df.to_csv(r'D:\\論文\\PHEME9\\Data\\CSV\\germanwings-src.csv',index=False)"
   ]
  },
  {
   "cell_type": "code",
   "execution_count": null,
   "id": "turkish-crest",
   "metadata": {},
   "outputs": [],
   "source": []
  }
 ],
 "metadata": {
  "kernelspec": {
   "display_name": "Python 3",
   "language": "python",
   "name": "python3"
  },
  "language_info": {
   "codemirror_mode": {
    "name": "ipython",
    "version": 3
   },
   "file_extension": ".py",
   "mimetype": "text/x-python",
   "name": "python",
   "nbconvert_exporter": "python",
   "pygments_lexer": "ipython3",
   "version": "3.9.1"
  },
  "toc-autonumbering": true,
  "toc-showmarkdowntxt": false
 },
 "nbformat": 4,
 "nbformat_minor": 5
}
