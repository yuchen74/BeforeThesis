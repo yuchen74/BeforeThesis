{
 "cells": [
  {
   "cell_type": "code",
   "execution_count": 1,
   "metadata": {},
   "outputs": [],
   "source": [
    "import numpy as np\n",
    "import pandas as pd\n",
    "import datetime \n",
    "import matplotlib.pyplot as plt\n",
    "import seaborn as sns"
   ]
  },
  {
   "cell_type": "code",
   "execution_count": 2,
   "metadata": {},
   "outputs": [
    {
     "name": "stderr",
     "output_type": "stream",
     "text": [
      "<ipython-input-2-3b5970faf0be>:2: FutureWarning: Passing a negative integer is deprecated in version 1.0 and will not be supported in future version. Instead, use None to not limit the column width.\n",
      "  pd.set_option('display.max_colwidth', -1)\n"
     ]
    }
   ],
   "source": [
    "# to display full text\n",
    "pd.set_option('display.max_colwidth', -1)"
   ]
  },
  {
   "cell_type": "code",
   "execution_count": 3,
   "metadata": {},
   "outputs": [],
   "source": [
    "df = pd.read_csv(r'D:\\論文\\PHEME9\\Data\\CSV\\germanwings.csv', encoding = 'utf-8', header = None)"
   ]
  },
  {
   "cell_type": "code",
   "execution_count": 4,
   "metadata": {},
   "outputs": [],
   "source": [
    "df.columns = ['src_tweet_id', 'src_user_id', 'src_tweet','src_date','reply_tweet_id','reply_user_id','reply_tweet','reply_date', 'label']"
   ]
  },
  {
   "cell_type": "code",
   "execution_count": 5,
   "metadata": {},
   "outputs": [
    {
     "data": {
      "text/html": [
       "<div>\n",
       "<style scoped>\n",
       "    .dataframe tbody tr th:only-of-type {\n",
       "        vertical-align: middle;\n",
       "    }\n",
       "\n",
       "    .dataframe tbody tr th {\n",
       "        vertical-align: top;\n",
       "    }\n",
       "\n",
       "    .dataframe thead th {\n",
       "        text-align: right;\n",
       "    }\n",
       "</style>\n",
       "<table border=\"1\" class=\"dataframe\">\n",
       "  <thead>\n",
       "    <tr style=\"text-align: right;\">\n",
       "      <th></th>\n",
       "      <th>src_tweet_id</th>\n",
       "      <th>src_user_id</th>\n",
       "      <th>src_tweet</th>\n",
       "      <th>src_date</th>\n",
       "      <th>reply_tweet_id</th>\n",
       "      <th>reply_user_id</th>\n",
       "      <th>reply_tweet</th>\n",
       "      <th>reply_date</th>\n",
       "      <th>label</th>\n",
       "    </tr>\n",
       "  </thead>\n",
       "  <tbody>\n",
       "    <tr>\n",
       "      <th>0</th>\n",
       "      <td>498235547685756928</td>\n",
       "      <td>1539100118</td>\n",
       "      <td>Black teenage boys are not men. They are children. Stop referring to a 17 year old as a man. You are killing children. #ferguson</td>\n",
       "      <td>Sat Aug 09 22:33:06 +0000 2014</td>\n",
       "      <td>498235547685756928</td>\n",
       "      <td>1539100118</td>\n",
       "      <td>Black teenage boys are not men. They are children. Stop referring to a 17 year old as a man. You are killing children. #ferguson</td>\n",
       "      <td>Sat Aug 09 22:33:06 +0000 2014</td>\n",
       "      <td>0</td>\n",
       "    </tr>\n",
       "    <tr>\n",
       "      <th>1</th>\n",
       "      <td>498235547685756928</td>\n",
       "      <td>1539100118</td>\n",
       "      <td>Black teenage boys are not men. They are children. Stop referring to a 17 year old as a man. You are killing children. #ferguson</td>\n",
       "      <td>Sat Aug 09 22:33:06 +0000 2014</td>\n",
       "      <td>498243332204949504</td>\n",
       "      <td>587926686</td>\n",
       "      <td>@annaxsweat @NeoSoulPol Same thing when #Trayvon was killed by #Zimmerman the wanna-be cop. 17yrs old #Black teen is a man to them.</td>\n",
       "      <td>Sat Aug 09 23:04:01 +0000 2014</td>\n",
       "      <td>0</td>\n",
       "    </tr>\n",
       "    <tr>\n",
       "      <th>2</th>\n",
       "      <td>498235547685756928</td>\n",
       "      <td>1539100118</td>\n",
       "      <td>Black teenage boys are not men. They are children. Stop referring to a 17 year old as a man. You are killing children. #ferguson</td>\n",
       "      <td>Sat Aug 09 22:33:06 +0000 2014</td>\n",
       "      <td>498265524397432832</td>\n",
       "      <td>21461995</td>\n",
       "      <td>@annaxsweat http://t.co/Z7Qm4iaoSR</td>\n",
       "      <td>Sun Aug 10 00:32:13 +0000 2014</td>\n",
       "      <td>0</td>\n",
       "    </tr>\n",
       "    <tr>\n",
       "      <th>3</th>\n",
       "      <td>498235547685756928</td>\n",
       "      <td>1539100118</td>\n",
       "      <td>Black teenage boys are not men. They are children. Stop referring to a 17 year old as a man. You are killing children. #ferguson</td>\n",
       "      <td>Sat Aug 09 22:33:06 +0000 2014</td>\n",
       "      <td>498266827676741632</td>\n",
       "      <td>21461995</td>\n",
       "      <td>@annaxsweat #StopThugCops We have to take action to stop this insanity. #Ferguson</td>\n",
       "      <td>Sun Aug 10 00:37:23 +0000 2014</td>\n",
       "      <td>0</td>\n",
       "    </tr>\n",
       "    <tr>\n",
       "      <th>4</th>\n",
       "      <td>498235547685756928</td>\n",
       "      <td>1539100118</td>\n",
       "      <td>Black teenage boys are not men. They are children. Stop referring to a 17 year old as a man. You are killing children. #ferguson</td>\n",
       "      <td>Sat Aug 09 22:33:06 +0000 2014</td>\n",
       "      <td>498272808560889858</td>\n",
       "      <td>2411474370</td>\n",
       "      <td>@annaxsweat @KidFriendlyCamb 17 year olds can be prosecuted as adults, regardless of color. Sorry, but try again.</td>\n",
       "      <td>Sun Aug 10 01:01:09 +0000 2014</td>\n",
       "      <td>0</td>\n",
       "    </tr>\n",
       "  </tbody>\n",
       "</table>\n",
       "</div>"
      ],
      "text/plain": [
       "         src_tweet_id  src_user_id  \\\n",
       "0  498235547685756928  1539100118    \n",
       "1  498235547685756928  1539100118    \n",
       "2  498235547685756928  1539100118    \n",
       "3  498235547685756928  1539100118    \n",
       "4  498235547685756928  1539100118    \n",
       "\n",
       "                                                                                                                          src_tweet  \\\n",
       "0  Black teenage boys are not men. They are children. Stop referring to a 17 year old as a man. You are killing children. #ferguson   \n",
       "1  Black teenage boys are not men. They are children. Stop referring to a 17 year old as a man. You are killing children. #ferguson   \n",
       "2  Black teenage boys are not men. They are children. Stop referring to a 17 year old as a man. You are killing children. #ferguson   \n",
       "3  Black teenage boys are not men. They are children. Stop referring to a 17 year old as a man. You are killing children. #ferguson   \n",
       "4  Black teenage boys are not men. They are children. Stop referring to a 17 year old as a man. You are killing children. #ferguson   \n",
       "\n",
       "                         src_date      reply_tweet_id  reply_user_id  \\\n",
       "0  Sat Aug 09 22:33:06 +0000 2014  498235547685756928  1539100118      \n",
       "1  Sat Aug 09 22:33:06 +0000 2014  498243332204949504  587926686       \n",
       "2  Sat Aug 09 22:33:06 +0000 2014  498265524397432832  21461995        \n",
       "3  Sat Aug 09 22:33:06 +0000 2014  498266827676741632  21461995        \n",
       "4  Sat Aug 09 22:33:06 +0000 2014  498272808560889858  2411474370      \n",
       "\n",
       "                                                                                                                           reply_tweet  \\\n",
       "0  Black teenage boys are not men. They are children. Stop referring to a 17 year old as a man. You are killing children. #ferguson      \n",
       "1  @annaxsweat @NeoSoulPol Same thing when #Trayvon was killed by #Zimmerman the wanna-be cop. 17yrs old #Black teen is a man to them.   \n",
       "2  @annaxsweat http://t.co/Z7Qm4iaoSR                                                                                                    \n",
       "3  @annaxsweat #StopThugCops We have to take action to stop this insanity. #Ferguson                                                     \n",
       "4  @annaxsweat @KidFriendlyCamb 17 year olds can be prosecuted as adults, regardless of color. Sorry, but try again.                     \n",
       "\n",
       "                       reply_date  label  \n",
       "0  Sat Aug 09 22:33:06 +0000 2014  0      \n",
       "1  Sat Aug 09 23:04:01 +0000 2014  0      \n",
       "2  Sun Aug 10 00:32:13 +0000 2014  0      \n",
       "3  Sun Aug 10 00:37:23 +0000 2014  0      \n",
       "4  Sun Aug 10 01:01:09 +0000 2014  0      "
      ]
     },
     "execution_count": 5,
     "metadata": {},
     "output_type": "execute_result"
    }
   ],
   "source": [
    "df.head()"
   ]
  },
  {
   "cell_type": "code",
   "execution_count": 6,
   "metadata": {},
   "outputs": [
    {
     "data": {
      "text/plain": [
       "(212, 9)"
      ]
     },
     "execution_count": 6,
     "metadata": {},
     "output_type": "execute_result"
    }
   ],
   "source": [
    "df.shape"
   ]
  },
  {
   "cell_type": "markdown",
   "metadata": {},
   "source": [
    "+ change data type"
   ]
  },
  {
   "cell_type": "code",
   "execution_count": 5,
   "metadata": {},
   "outputs": [],
   "source": [
    "df.src_tweet_id = df.src_tweet_id.astype(str)\n",
    "df.src_user_id = df.src_user_id.astype(str)\n",
    "\n",
    "df.reply_tweet_id = df.reply_tweet_id.astype(str)\n",
    "df.reply_tweet_id = df.reply_tweet_id.replace('nan',np.nan)\n",
    "\n",
    "df.reply_user_id = df.reply_user_id.astype(str)\n",
    "df.reply_user_id = df.reply_user_id.replace('nan',np.nan)\n",
    "\n",
    "df.src_date = df.src_date.apply(pd.to_datetime)\n",
    "df.reply_date = df.reply_date.apply(pd.to_datetime)\n",
    "\n",
    "df.reply_tweet = df.reply_tweet.replace(np.nan,\"\")"
   ]
  },
  {
   "cell_type": "markdown",
   "metadata": {},
   "source": [
    "+ Source Tweet Data: **src_tw_df**"
   ]
  },
  {
   "cell_type": "code",
   "execution_count": 6,
   "metadata": {},
   "outputs": [],
   "source": [
    "#Source tweet data\n",
    "src_tw_df = df.iloc[:,[0,1,2,3,8]].copy()\n",
    "src_tw_df = src_tw_df.drop_duplicates().reset_index()"
   ]
  },
  {
   "cell_type": "code",
   "execution_count": 7,
   "metadata": {},
   "outputs": [
    {
     "data": {
      "text/html": [
       "<div>\n",
       "<style scoped>\n",
       "    .dataframe tbody tr th:only-of-type {\n",
       "        vertical-align: middle;\n",
       "    }\n",
       "\n",
       "    .dataframe tbody tr th {\n",
       "        vertical-align: top;\n",
       "    }\n",
       "\n",
       "    .dataframe thead th {\n",
       "        text-align: right;\n",
       "    }\n",
       "</style>\n",
       "<table border=\"1\" class=\"dataframe\">\n",
       "  <thead>\n",
       "    <tr style=\"text-align: right;\">\n",
       "      <th></th>\n",
       "      <th>index</th>\n",
       "      <th>src_tweet_id</th>\n",
       "      <th>src_user_id</th>\n",
       "      <th>src_tweet</th>\n",
       "      <th>src_date</th>\n",
       "      <th>label</th>\n",
       "    </tr>\n",
       "  </thead>\n",
       "  <tbody>\n",
       "    <tr>\n",
       "      <th>0</th>\n",
       "      <td>0</td>\n",
       "      <td>580319983676313601</td>\n",
       "      <td>8330472</td>\n",
       "      <td>#Últimahora Es tracta d'un aparell de Germanwings amb 152 passatgers a bord http://t.co/hT5BhpuGuv</td>\n",
       "      <td>2015-03-24 10:47:20+00:00</td>\n",
       "      <td>0</td>\n",
       "    </tr>\n",
       "    <tr>\n",
       "      <th>1</th>\n",
       "      <td>3</td>\n",
       "      <td>580321203757387776</td>\n",
       "      <td>92771309</td>\n",
       "      <td>Route map now being shared by http://t.co/LZkOXadHKa. #4U9525 https://t.co/Hq8KbP2aus</td>\n",
       "      <td>2015-03-24 10:52:11+00:00</td>\n",
       "      <td>0</td>\n",
       "    </tr>\n",
       "    <tr>\n",
       "      <th>2</th>\n",
       "      <td>4</td>\n",
       "      <td>580322026029654018</td>\n",
       "      <td>366089337</td>\n",
       "      <td>Pray for #4U9525 http://t.co/II7Rl24ffH</td>\n",
       "      <td>2015-03-24 10:55:27+00:00</td>\n",
       "      <td>0</td>\n",
       "    </tr>\n",
       "    <tr>\n",
       "      <th>3</th>\n",
       "      <td>5</td>\n",
       "      <td>580322102307373056</td>\n",
       "      <td>16211566</td>\n",
       "      <td>Airbus A320 #4U9525 crash: \\nFlight tracking data here: \\nhttp://t.co/9W6hfTGYQV #airbus http://t.co/RchXQsoqdJ</td>\n",
       "      <td>2015-03-24 10:55:45+00:00</td>\n",
       "      <td>0</td>\n",
       "    </tr>\n",
       "    <tr>\n",
       "      <th>4</th>\n",
       "      <td>8</td>\n",
       "      <td>580322332348190720</td>\n",
       "      <td>92771309</td>\n",
       "      <td>Flightradar24 has this as the plane's last position. #4U9525 https://t.co/KffO4s4N6G</td>\n",
       "      <td>2015-03-24 10:56:40+00:00</td>\n",
       "      <td>0</td>\n",
       "    </tr>\n",
       "  </tbody>\n",
       "</table>\n",
       "</div>"
      ],
      "text/plain": [
       "   index        src_tweet_id src_user_id  \\\n",
       "0  0      580319983676313601  8330472      \n",
       "1  3      580321203757387776  92771309     \n",
       "2  4      580322026029654018  366089337    \n",
       "3  5      580322102307373056  16211566     \n",
       "4  8      580322332348190720  92771309     \n",
       "\n",
       "                                                                                                         src_tweet  \\\n",
       "0  #Últimahora Es tracta d'un aparell de Germanwings amb 152 passatgers a bord http://t.co/hT5BhpuGuv                \n",
       "1  Route map now being shared by http://t.co/LZkOXadHKa. #4U9525 https://t.co/Hq8KbP2aus                             \n",
       "2  Pray for #4U9525 http://t.co/II7Rl24ffH                                                                           \n",
       "3  Airbus A320 #4U9525 crash: \\nFlight tracking data here: \\nhttp://t.co/9W6hfTGYQV #airbus http://t.co/RchXQsoqdJ   \n",
       "4  Flightradar24 has this as the plane's last position. #4U9525 https://t.co/KffO4s4N6G                              \n",
       "\n",
       "                   src_date  label  \n",
       "0 2015-03-24 10:47:20+00:00  0      \n",
       "1 2015-03-24 10:52:11+00:00  0      \n",
       "2 2015-03-24 10:55:27+00:00  0      \n",
       "3 2015-03-24 10:55:45+00:00  0      \n",
       "4 2015-03-24 10:56:40+00:00  0      "
      ]
     },
     "execution_count": 7,
     "metadata": {},
     "output_type": "execute_result"
    }
   ],
   "source": [
    "src_tw_df.head()"
   ]
  },
  {
   "cell_type": "markdown",
   "metadata": {},
   "source": [
    "# EDA"
   ]
  },
  {
   "cell_type": "markdown",
   "metadata": {},
   "source": [
    "## Missing Value"
   ]
  },
  {
   "cell_type": "code",
   "execution_count": 8,
   "metadata": {},
   "outputs": [
    {
     "data": {
      "text/plain": [
       "src_tweet_id      0\n",
       "src_user_id       0\n",
       "src_tweet         0\n",
       "src_date          0\n",
       "reply_tweet_id    0\n",
       "reply_user_id     0\n",
       "reply_tweet       0\n",
       "reply_date        0\n",
       "label             0\n",
       "dtype: int64"
      ]
     },
     "execution_count": 8,
     "metadata": {},
     "output_type": "execute_result"
    }
   ],
   "source": [
    "df.isnull().sum()"
   ]
  },
  {
   "cell_type": "markdown",
   "metadata": {},
   "source": [
    "+ drop rows where there is missing value."
   ]
  },
  {
   "cell_type": "code",
   "execution_count": 9,
   "metadata": {},
   "outputs": [],
   "source": [
    "df.dropna(inplace=True)"
   ]
  },
  {
   "cell_type": "markdown",
   "metadata": {},
   "source": [
    "## Statistics"
   ]
  },
  {
   "cell_type": "code",
   "execution_count": 10,
   "metadata": {},
   "outputs": [
    {
     "name": "stdout",
     "output_type": "stream",
     "text": [
      "# of source tweets: 405\n",
      "# of source users: 207\n",
      "# of reply users: 2745\n",
      "# of reply tweets: 4020\n"
     ]
    }
   ],
   "source": [
    "print(\"# of source tweets:\",src_tw_df.src_tweet_id.nunique())\n",
    "print(\"# of source users:\",src_tw_df.src_user_id.nunique())\n",
    "print(\"# of reply users:\",df.reply_user_id.nunique())\n",
    "print(\"# of reply tweets:\",df.reply_tweet_id.nunique())"
   ]
  },
  {
   "cell_type": "markdown",
   "metadata": {},
   "source": [
    "## Visualiztion "
   ]
  },
  {
   "cell_type": "code",
   "execution_count": 11,
   "metadata": {},
   "outputs": [
    {
     "data": {
      "image/png": "[encoded data removed]",
      "text/plain": [
       "<Figure size 432x288 with 1 Axes>"
      ]
     },
     "metadata": {
      "needs_background": "light"
     },
     "output_type": "display_data"
    }
   ],
   "source": [
    "reply_user = df.reply_user_id.value_counts().sort_values(ascending=False).to_frame()\n",
    "reply_user.rename(columns={'reply_user_id' :'count'},inplace=True)\n",
    "sns.boxplot(data=reply_user ,x='count')\n",
    "plt.title(\"A few users replied multiple times\")\n",
    "plt.savefig('graph/germanwings/reply_user-1.pdf',dpi=300)"
   ]
  },
  {
   "cell_type": "code",
   "execution_count": 12,
   "metadata": {},
   "outputs": [
    {
     "data": {
      "text/plain": [
       "555"
      ]
     },
     "execution_count": 12,
     "metadata": {},
     "output_type": "execute_result"
    }
   ],
   "source": [
    "more_freq_reply_user = reply_user.loc[reply_user['count'] > 1].index\n",
    "len(more_freq_reply_user)"
   ]
  },
  {
   "cell_type": "code",
   "execution_count": 13,
   "metadata": {},
   "outputs": [
    {
     "data": {
      "image/png": "[encoded data removed]",
      "text/plain": [
       "<Figure size 432x288 with 1 Axes>"
      ]
     },
     "metadata": {
      "needs_background": "light"
     },
     "output_type": "display_data"
    }
   ],
   "source": [
    "more_freq = df[df['reply_user_id'].isin(more_freq_reply_user)]\n",
    "# more_freq.label.value_counts().\n",
    "sns.countplot(data=more_freq ,x='label')\n",
    "plt.title('Frequent users replied more to rumours')\n",
    "plt.savefig('graph/germanwings/reply_user-2.pdf',dpi=300)"
   ]
  },
  {
   "cell_type": "code",
   "execution_count": 14,
   "metadata": {},
   "outputs": [
    {
     "name": "stdout",
     "output_type": "stream",
     "text": [
      "            count\n",
      "2280470022  27   \n",
      "134196350   15   \n",
      "64643056    12   \n",
      "5402612     11   \n",
      "7587032     11   \n",
      "...         ..   \n",
      "14892330    1    \n",
      "328541805   1    \n",
      "240649814   1    \n",
      "2350218440  1    \n",
      "16834659    1    \n",
      "\n",
      "[207 rows x 1 columns]\n"
     ]
    },
    {
     "data": {
      "image/png": "[encoded data removed]",
      "text/plain": [
       "<Figure size 432x288 with 1 Axes>"
      ]
     },
     "metadata": {
      "needs_background": "light"
     },
     "output_type": "display_data"
    },
    {
     "data": {
      "text/plain": [
       "<Figure size 432x288 with 0 Axes>"
      ]
     },
     "metadata": {},
     "output_type": "display_data"
    }
   ],
   "source": [
    "source_user = src_tw_df.src_user_id.value_counts().sort_values(ascending=False).to_frame()\n",
    "source_user.rename(columns={'src_user_id' :'count'},inplace=True)\n",
    "print(source_user)\n",
    "sns.boxplot(data=source_user ,x='count')\n",
    "plt.title('a few user tweeted more than once',fontsize = 12)\n",
    "plt.show()\n",
    "plt.savefig('graph/germanwings/source_user-1.pdf',dpi=300)"
   ]
  },
  {
   "cell_type": "code",
   "execution_count": 15,
   "metadata": {},
   "outputs": [
    {
     "data": {
      "image/png": "[encoded data removed]",
      "text/plain": [
       "<Figure size 432x288 with 1 Axes>"
      ]
     },
     "metadata": {
      "needs_background": "light"
     },
     "output_type": "display_data"
    }
   ],
   "source": [
    "more_freq_src_user = source_user.loc[source_user['count'] > 1].index\n",
    "more_freq_src_user\n",
    "more_freq = src_tw_df[src_tw_df['src_user_id'].isin(more_freq_src_user)]\n",
    "# more_freq.label.value_counts().\n",
    "sns.countplot(data=more_freq ,x='label')\n",
    "plt.title('Most of source tweets posted by frequent users were rumours.')\n",
    "plt.savefig('graph/germanwings/src_user-2.pdf',dpi=300)"
   ]
  },
  {
   "cell_type": "code",
   "execution_count": null,
   "metadata": {},
   "outputs": [],
   "source": [
    "df.groupby('src_tweet_id')['label'].value_counts().sort_values('label')#.plot(kind = 'bar')\n",
    "# plt.title('Rumour tweet are more than non-rumor tweet',fontsize = 14)\n",
    "# plt.xlabel('Rumor / Non-Rumour', fontsize=12)\n",
    "# plt.ylabel('Count', fontsize=12)\n",
    "# plt.show()"
   ]
  }
 ],
 "metadata": {
  "kernelspec": {
   "display_name": "Python 3",
   "language": "python",
   "name": "python3"
  },
  "language_info": {
   "codemirror_mode": {
    "name": "ipython",
    "version": 3
   },
   "file_extension": ".py",
   "mimetype": "text/x-python",
   "name": "python",
   "nbconvert_exporter": "python",
   "pygments_lexer": "ipython3",
   "version": "3.9.1"
  },
  "toc-autonumbering": false,
  "toc-showmarkdowntxt": true
 },
 "nbformat": 4,
 "nbformat_minor": 4
}
