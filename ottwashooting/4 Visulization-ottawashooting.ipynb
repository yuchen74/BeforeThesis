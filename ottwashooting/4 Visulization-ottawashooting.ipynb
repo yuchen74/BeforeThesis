{
 "cells": [
  {
   "cell_type": "markdown",
   "id": "technical-short",
   "metadata": {},
   "source": [
    "# Dataset: *ottawashooting*"
   ]
  },
  {
   "cell_type": "markdown",
   "id": "judicial-floor",
   "metadata": {},
   "source": [
    "- df.to_csv(r'D:\\論文\\PHEME9\\Data\\CSV\\ottawashooting-df.csv',index=False)\n",
    "- src_tw_df.to_csv(r'D:\\論文\\PHEME9\\Data\\CSV\\ottawashooting-src.csv',index=False)"
   ]
  },
  {
   "cell_type": "code",
   "execution_count": 1,
   "id": "coral-webcam",
   "metadata": {},
   "outputs": [],
   "source": [
    "import numpy as np\n",
    "import pandas as pd\n",
    "import datetime \n",
    "import matplotlib.pyplot as plt\n",
    "import seaborn as sns\n",
    "from wordcloud import WordCloud,ImageColorGenerator\n",
    "import nltk\n",
    "from nltk import FreqDist, word_tokenize"
   ]
  },
  {
   "cell_type": "code",
   "execution_count": 2,
   "id": "confident-maine",
   "metadata": {},
   "outputs": [
    {
     "name": "stdout",
     "output_type": "stream",
     "text": [
      "Index(['src_tweet_id', 'src_user_id', 'src_tweet', 'src_date',\n",
      "       'reply_tweet_id', 'reply_user_id', 'reply_tweet', 'reply_date', 'label',\n",
      "       'cleaned_reply_tw', 'reply_sentiment', 'reply_emo_ro'],\n",
      "      dtype='object')\n",
      "(10378, 12)\n"
     ]
    },
    {
     "data": {
      "text/html": [
       "<div>\n",
       "<style scoped>\n",
       "    .dataframe tbody tr th:only-of-type {\n",
       "        vertical-align: middle;\n",
       "    }\n",
       "\n",
       "    .dataframe tbody tr th {\n",
       "        vertical-align: top;\n",
       "    }\n",
       "\n",
       "    .dataframe thead th {\n",
       "        text-align: right;\n",
       "    }\n",
       "</style>\n",
       "<table border=\"1\" class=\"dataframe\">\n",
       "  <thead>\n",
       "    <tr style=\"text-align: right;\">\n",
       "      <th></th>\n",
       "      <th>src_tweet_id</th>\n",
       "      <th>src_user_id</th>\n",
       "      <th>src_tweet</th>\n",
       "      <th>src_date</th>\n",
       "      <th>reply_tweet_id</th>\n",
       "      <th>reply_user_id</th>\n",
       "      <th>reply_tweet</th>\n",
       "      <th>reply_date</th>\n",
       "      <th>label</th>\n",
       "      <th>cleaned_reply_tw</th>\n",
       "      <th>reply_sentiment</th>\n",
       "      <th>reply_emo_ro</th>\n",
       "    </tr>\n",
       "  </thead>\n",
       "  <tbody>\n",
       "    <tr>\n",
       "      <th>0</th>\n",
       "      <td>524922078638903296</td>\n",
       "      <td>18999969</td>\n",
       "      <td>Ottawa police are confirming a shooting at the...</td>\n",
       "      <td>Wed Oct 22 13:55:50 +0000 2014</td>\n",
       "      <td>524922392582586368</td>\n",
       "      <td>2433907530</td>\n",
       "      <td>.@dominiquehardy @CBCOttawa related to St-Jean ?</td>\n",
       "      <td>Wed Oct 22 13:57:05 +0000 2014</td>\n",
       "      <td>0</td>\n",
       "      <td>relate stjean</td>\n",
       "      <td>Neutral</td>\n",
       "      <td>sadness</td>\n",
       "    </tr>\n",
       "  </tbody>\n",
       "</table>\n",
       "</div>"
      ],
      "text/plain": [
       "         src_tweet_id  src_user_id  \\\n",
       "0  524922078638903296     18999969   \n",
       "\n",
       "                                           src_tweet  \\\n",
       "0  Ottawa police are confirming a shooting at the...   \n",
       "\n",
       "                         src_date      reply_tweet_id  reply_user_id  \\\n",
       "0  Wed Oct 22 13:55:50 +0000 2014  524922392582586368     2433907530   \n",
       "\n",
       "                                        reply_tweet  \\\n",
       "0  .@dominiquehardy @CBCOttawa related to St-Jean ?   \n",
       "\n",
       "                       reply_date  label cleaned_reply_tw reply_sentiment  \\\n",
       "0  Wed Oct 22 13:57:05 +0000 2014      0    relate stjean         Neutral   \n",
       "\n",
       "  reply_emo_ro  \n",
       "0      sadness  "
      ]
     },
     "execution_count": 2,
     "metadata": {},
     "output_type": "execute_result"
    }
   ],
   "source": [
    "df = pd.read_csv(r'D:\\論文\\PHEME9\\Data\\CSV\\ottawashooting-df-2.csv', encoding = 'utf-8', header = 0)\n",
    "print(df.columns)\n",
    "print(df.shape)\n",
    "df.head(1)"
   ]
  },
  {
   "cell_type": "code",
   "execution_count": 3,
   "id": "sonic-playback",
   "metadata": {},
   "outputs": [
    {
     "name": "stdout",
     "output_type": "stream",
     "text": [
      "Index(['src_tweet_id', 'src_user_id', 'src_tweet', 'src_date', 'label',\n",
      "       'cleaned_src_tw', 'src_sentiment', 'src_emo_ro'],\n",
      "      dtype='object')\n",
      "(857, 8)\n"
     ]
    },
    {
     "data": {
      "text/html": [
       "<div>\n",
       "<style scoped>\n",
       "    .dataframe tbody tr th:only-of-type {\n",
       "        vertical-align: middle;\n",
       "    }\n",
       "\n",
       "    .dataframe tbody tr th {\n",
       "        vertical-align: top;\n",
       "    }\n",
       "\n",
       "    .dataframe thead th {\n",
       "        text-align: right;\n",
       "    }\n",
       "</style>\n",
       "<table border=\"1\" class=\"dataframe\">\n",
       "  <thead>\n",
       "    <tr style=\"text-align: right;\">\n",
       "      <th></th>\n",
       "      <th>src_tweet_id</th>\n",
       "      <th>src_user_id</th>\n",
       "      <th>src_tweet</th>\n",
       "      <th>src_date</th>\n",
       "      <th>label</th>\n",
       "      <th>cleaned_src_tw</th>\n",
       "      <th>src_sentiment</th>\n",
       "      <th>src_emo_ro</th>\n",
       "    </tr>\n",
       "  </thead>\n",
       "  <tbody>\n",
       "    <tr>\n",
       "      <th>0</th>\n",
       "      <td>524922078638903296</td>\n",
       "      <td>18999969</td>\n",
       "      <td>Ottawa police are confirming a shooting at the...</td>\n",
       "      <td>Wed Oct 22 13:55:50 +0000 2014</td>\n",
       "      <td>0</td>\n",
       "      <td>ottawa police confirm shoot war memorial minut...</td>\n",
       "      <td>Negative</td>\n",
       "      <td>anger</td>\n",
       "    </tr>\n",
       "  </tbody>\n",
       "</table>\n",
       "</div>"
      ],
      "text/plain": [
       "         src_tweet_id  src_user_id  \\\n",
       "0  524922078638903296     18999969   \n",
       "\n",
       "                                           src_tweet  \\\n",
       "0  Ottawa police are confirming a shooting at the...   \n",
       "\n",
       "                         src_date  label  \\\n",
       "0  Wed Oct 22 13:55:50 +0000 2014      0   \n",
       "\n",
       "                                      cleaned_src_tw src_sentiment src_emo_ro  \n",
       "0  ottawa police confirm shoot war memorial minut...      Negative      anger  "
      ]
     },
     "execution_count": 3,
     "metadata": {},
     "output_type": "execute_result"
    }
   ],
   "source": [
    "src_tw_df = pd.read_csv(r'D:\\論文\\PHEME9\\Data\\CSV\\ottawashooting-src-2.csv', encoding = 'utf-8', header =0)\n",
    "print(src_tw_df.columns)\n",
    "print(src_tw_df.shape)\n",
    "src_tw_df.head(1)"
   ]
  },
  {
   "cell_type": "code",
   "execution_count": 4,
   "id": "healthy-volleyball",
   "metadata": {},
   "outputs": [
    {
     "data": {
      "text/html": [
       "<div>\n",
       "<style scoped>\n",
       "    .dataframe tbody tr th:only-of-type {\n",
       "        vertical-align: middle;\n",
       "    }\n",
       "\n",
       "    .dataframe tbody tr th {\n",
       "        vertical-align: top;\n",
       "    }\n",
       "\n",
       "    .dataframe thead th {\n",
       "        text-align: right;\n",
       "    }\n",
       "</style>\n",
       "<table border=\"1\" class=\"dataframe\">\n",
       "  <thead>\n",
       "    <tr style=\"text-align: right;\">\n",
       "      <th></th>\n",
       "      <th>src_tweet_id</th>\n",
       "      <th>src_tweet</th>\n",
       "      <th>cleaned_src_tw</th>\n",
       "      <th>src_sentiment</th>\n",
       "    </tr>\n",
       "  </thead>\n",
       "  <tbody>\n",
       "    <tr>\n",
       "      <th>62</th>\n",
       "      <td>524939821815721984</td>\n",
       "      <td>RT @ctvmercedes: Ottawa: don't tweet your loca...</td>\n",
       "      <td>NaN</td>\n",
       "      <td>Neutral</td>\n",
       "    </tr>\n",
       "    <tr>\n",
       "      <th>64</th>\n",
       "      <td>524940623594287104</td>\n",
       "      <td>RT @bts_bighit: [Episode] #BTS 'War of Hormone...</td>\n",
       "      <td>NaN</td>\n",
       "      <td>Neutral</td>\n",
       "    </tr>\n",
       "    <tr>\n",
       "      <th>182</th>\n",
       "      <td>524960277348233216</td>\n",
       "      <td>RT @scottbix: Incredible shot: A woman gives m...</td>\n",
       "      <td>NaN</td>\n",
       "      <td>Neutral</td>\n",
       "    </tr>\n",
       "    <tr>\n",
       "      <th>386</th>\n",
       "      <td>525061246702587904</td>\n",
       "      <td>RT @cfedio: Being told at CBC Ottawa that \"sit...</td>\n",
       "      <td>NaN</td>\n",
       "      <td>Neutral</td>\n",
       "    </tr>\n",
       "    <tr>\n",
       "      <th>428</th>\n",
       "      <td>524927288077746176</td>\n",
       "      <td>RT @WatchCTVNews: LIVE NOW: Cops swarm Parliam...</td>\n",
       "      <td>NaN</td>\n",
       "      <td>Neutral</td>\n",
       "    </tr>\n",
       "    <tr>\n",
       "      <th>515</th>\n",
       "      <td>524944006577668096</td>\n",
       "      <td>RT @CBCOttawa: CONFIRMED | 1 shooter shot dead...</td>\n",
       "      <td>NaN</td>\n",
       "      <td>Neutral</td>\n",
       "    </tr>\n",
       "    <tr>\n",
       "      <th>747</th>\n",
       "      <td>525020620636307456</td>\n",
       "      <td>RT @ArmedResearch:#ISIS Media account posts pi...</td>\n",
       "      <td>NaN</td>\n",
       "      <td>Neutral</td>\n",
       "    </tr>\n",
       "  </tbody>\n",
       "</table>\n",
       "</div>"
      ],
      "text/plain": [
       "           src_tweet_id                                          src_tweet  \\\n",
       "62   524939821815721984  RT @ctvmercedes: Ottawa: don't tweet your loca...   \n",
       "64   524940623594287104  RT @bts_bighit: [Episode] #BTS 'War of Hormone...   \n",
       "182  524960277348233216  RT @scottbix: Incredible shot: A woman gives m...   \n",
       "386  525061246702587904  RT @cfedio: Being told at CBC Ottawa that \"sit...   \n",
       "428  524927288077746176  RT @WatchCTVNews: LIVE NOW: Cops swarm Parliam...   \n",
       "515  524944006577668096  RT @CBCOttawa: CONFIRMED | 1 shooter shot dead...   \n",
       "747  525020620636307456  RT @ArmedResearch:#ISIS Media account posts pi...   \n",
       "\n",
       "    cleaned_src_tw src_sentiment  \n",
       "62             NaN       Neutral  \n",
       "64             NaN       Neutral  \n",
       "182            NaN       Neutral  \n",
       "386            NaN       Neutral  \n",
       "428            NaN       Neutral  \n",
       "515            NaN       Neutral  \n",
       "747            NaN       Neutral  "
      ]
     },
     "execution_count": 4,
     "metadata": {},
     "output_type": "execute_result"
    }
   ],
   "source": [
    "src_tw_df.loc[src_tw_df.cleaned_src_tw.isnull(),['src_tweet_id','src_tweet','cleaned_src_tw','src_sentiment']]"
   ]
  },
  {
   "cell_type": "code",
   "execution_count": 4,
   "id": "musical-thunder",
   "metadata": {},
   "outputs": [
    {
     "data": {
      "text/html": [
       "<div>\n",
       "<style scoped>\n",
       "    .dataframe tbody tr th:only-of-type {\n",
       "        vertical-align: middle;\n",
       "    }\n",
       "\n",
       "    .dataframe tbody tr th {\n",
       "        vertical-align: top;\n",
       "    }\n",
       "\n",
       "    .dataframe thead th {\n",
       "        text-align: right;\n",
       "    }\n",
       "</style>\n",
       "<table border=\"1\" class=\"dataframe\">\n",
       "  <thead>\n",
       "    <tr style=\"text-align: right;\">\n",
       "      <th></th>\n",
       "      <th>src_tweet_id</th>\n",
       "      <th>src_user_id</th>\n",
       "      <th>src_tweet</th>\n",
       "      <th>src_date</th>\n",
       "      <th>reply_tweet_id</th>\n",
       "      <th>reply_user_id</th>\n",
       "      <th>reply_tweet</th>\n",
       "      <th>reply_date</th>\n",
       "      <th>label</th>\n",
       "      <th>cleaned_reply_tw</th>\n",
       "      <th>reply_sentiment</th>\n",
       "      <th>reply_emo_ro</th>\n",
       "      <th>cleaned_src_tw</th>\n",
       "      <th>src_sentiment</th>\n",
       "      <th>src_emo_ro</th>\n",
       "    </tr>\n",
       "  </thead>\n",
       "  <tbody>\n",
       "    <tr>\n",
       "      <th>0</th>\n",
       "      <td>524922078638903296</td>\n",
       "      <td>18999969</td>\n",
       "      <td>Ottawa police are confirming a shooting at the...</td>\n",
       "      <td>Wed Oct 22 13:55:50 +0000 2014</td>\n",
       "      <td>524922392582586368</td>\n",
       "      <td>2433907530</td>\n",
       "      <td>.@dominiquehardy @CBCOttawa related to St-Jean ?</td>\n",
       "      <td>Wed Oct 22 13:57:05 +0000 2014</td>\n",
       "      <td>0</td>\n",
       "      <td>relate stjean</td>\n",
       "      <td>Neutral</td>\n",
       "      <td>sadness</td>\n",
       "      <td>ottawa police confirm shoot war memorial minut...</td>\n",
       "      <td>Negative</td>\n",
       "      <td>anger</td>\n",
       "    </tr>\n",
       "  </tbody>\n",
       "</table>\n",
       "</div>"
      ],
      "text/plain": [
       "         src_tweet_id  src_user_id  \\\n",
       "0  524922078638903296     18999969   \n",
       "\n",
       "                                           src_tweet  \\\n",
       "0  Ottawa police are confirming a shooting at the...   \n",
       "\n",
       "                         src_date      reply_tweet_id  reply_user_id  \\\n",
       "0  Wed Oct 22 13:55:50 +0000 2014  524922392582586368     2433907530   \n",
       "\n",
       "                                        reply_tweet  \\\n",
       "0  .@dominiquehardy @CBCOttawa related to St-Jean ?   \n",
       "\n",
       "                       reply_date  label cleaned_reply_tw reply_sentiment  \\\n",
       "0  Wed Oct 22 13:57:05 +0000 2014      0    relate stjean         Neutral   \n",
       "\n",
       "  reply_emo_ro                                     cleaned_src_tw  \\\n",
       "0      sadness  ottawa police confirm shoot war memorial minut...   \n",
       "\n",
       "  src_sentiment src_emo_ro  \n",
       "0      Negative      anger  "
      ]
     },
     "execution_count": 4,
     "metadata": {},
     "output_type": "execute_result"
    }
   ],
   "source": [
    "df1 = pd.merge(df, src_tw_df[['src_tweet_id','cleaned_src_tw','src_sentiment','src_emo_ro']],\\\n",
    "               on='src_tweet_id')\n",
    "df1.head(1)"
   ]
  },
  {
   "cell_type": "code",
   "execution_count": 5,
   "id": "applied-circumstances",
   "metadata": {},
   "outputs": [
    {
     "name": "stdout",
     "output_type": "stream",
     "text": [
      "df's shape:  (10378, 12)\n",
      "df1's shape:  (10378, 15)\n",
      "src_tw_df's shapes:  (857, 8)\n"
     ]
    }
   ],
   "source": [
    "print(\"df's shape: \",df.shape)\n",
    "print(\"df1's shape: \",df1.shape)\n",
    "print(\"src_tw_df's shapes: \", src_tw_df.shape)"
   ]
  },
  {
   "cell_type": "code",
   "execution_count": null,
   "id": "broad-graduation",
   "metadata": {},
   "outputs": [],
   "source": [
    "src_null = df1.loc[df1.cleaned_src_tw.isnull()].index"
   ]
  },
  {
   "cell_type": "code",
   "execution_count": null,
   "id": "gorgeous-format",
   "metadata": {},
   "outputs": [],
   "source": [
    "#df1.drop(src_null,0).shape"
   ]
  },
  {
   "cell_type": "markdown",
   "id": "guilty-boxing",
   "metadata": {},
   "source": [
    "## Sentiment Analysis"
   ]
  },
  {
   "cell_type": "code",
   "execution_count": 6,
   "id": "confused-international",
   "metadata": {},
   "outputs": [
    {
     "data": {
      "text/plain": [
       "1    0.533256\n",
       "0    0.466744\n",
       "Name: label, dtype: float64"
      ]
     },
     "execution_count": 6,
     "metadata": {},
     "output_type": "execute_result"
    }
   ],
   "source": [
    "src_tw_df.label.value_counts(normalize=True)"
   ]
  },
  {
   "cell_type": "markdown",
   "id": "separate-tribune",
   "metadata": {},
   "source": [
    "### Source Tweets "
   ]
  },
  {
   "cell_type": "code",
   "execution_count": 7,
   "id": "fleet-centre",
   "metadata": {},
   "outputs": [
    {
     "data": {
      "image/png": "[encoded data removed]",
      "text/plain": [
       "<Figure size 432x288 with 1 Axes>"
      ]
     },
     "metadata": {
      "needs_background": "light"
     },
     "output_type": "display_data"
    }
   ],
   "source": [
    "g = src_tw_df.groupby(['label'])['src_sentiment'].value_counts(normalize=True).mul(100).rename('count').reset_index()\\\n",
    ".pipe((sns.barplot,'data'), x ='label',y='count',hue='src_sentiment',palette=\"vlag\")\n",
    "\n",
    "g.axes.set_ylim(0,100)\n",
    "g.axes.set_xticklabels(['Non-rumor','Rumor'])\n",
    "g.axes.set_ylabel('Count (%)')\n",
    "g.axes.set_title('Sentiment Analysis of Source Tweet (for each label)')\n",
    "\n",
    "for p in g.axes.patches:\n",
    "    txt = str(p.get_height().round(1)) + '%'\n",
    "    txt_x = p.get_x() \n",
    "    txt_y = p.get_height()\n",
    "    g.axes.text(txt_x,txt_y,txt)\n",
    "plt.savefig('D:/論文/PHEME9/Code/graph/ottawashooting/src-sentiment.pdf',dpi=300)"
   ]
  },
  {
   "cell_type": "code",
   "execution_count": 8,
   "id": "outer-tuner",
   "metadata": {},
   "outputs": [
    {
     "data": {
      "text/plain": [
       "Text(0.5, 1.0, '# of rumor/non-rumor Source tweet (for each sentiment class).')"
      ]
     },
     "execution_count": 8,
     "metadata": {},
     "output_type": "execute_result"
    },
    {
     "data": {
      "image/png": "[encoded data removed]",
      "text/plain": [
       "<Figure size 432x288 with 1 Axes>"
      ]
     },
     "metadata": {
      "needs_background": "light"
     },
     "output_type": "display_data"
    }
   ],
   "source": [
    "g = src_tw_df.groupby(['src_sentiment'])['label'].value_counts(normalize=True).mul(100).rename('count').reset_index()\\\n",
    ".pipe((sns.barplot,'data'), x ='src_sentiment',y='count',hue='label',palette=\"vlag\")\n",
    "\n",
    "g.axes.set_ylim(0,100)\n",
    "g.axes.set_ylabel('Count (%)')\n",
    "\n",
    "for p in g.axes.patches:\n",
    "    txt = str(p.get_height().round(1)) + '%'\n",
    "    txt_x = p.get_x() \n",
    "    txt_y = p.get_height()\n",
    "    g.axes.text(txt_x,txt_y,txt)\n",
    "plt.title('# of rumor/non-rumor Source tweet (for each sentiment class).',fontsize=12)"
   ]
  },
  {
   "cell_type": "markdown",
   "id": "narrative-affair",
   "metadata": {},
   "source": [
    "### Reply Tweets"
   ]
  },
  {
   "cell_type": "code",
   "execution_count": 9,
   "id": "judicial-sodium",
   "metadata": {},
   "outputs": [
    {
     "data": {
      "text/plain": [
       "Negative    0.365388\n",
       "Positive    0.340046\n",
       "Neutral     0.294565\n",
       "Name: reply_sentiment, dtype: float64"
      ]
     },
     "execution_count": 9,
     "metadata": {},
     "output_type": "execute_result"
    }
   ],
   "source": [
    "df.reply_sentiment.value_counts(normalize=True)"
   ]
  },
  {
   "cell_type": "code",
   "execution_count": 10,
   "id": "acting-senator",
   "metadata": {},
   "outputs": [
    {
     "data": {
      "image/png": "[encoded data removed]",
      "text/plain": [
       "<Figure size 432x288 with 1 Axes>"
      ]
     },
     "metadata": {
      "needs_background": "light"
     },
     "output_type": "display_data"
    }
   ],
   "source": [
    "g = df.groupby(['label'])['reply_sentiment'].value_counts(normalize=True).mul(100).rename('count').reset_index()\\\n",
    ".pipe((sns.barplot,'data'), x ='label',y='count',hue='reply_sentiment',palette=\"Set3\")\n",
    "\n",
    "g.axes.set_ylim(0,100)\n",
    "g.axes.set_title('Sentiment Analysis of Reply Tweet (for each label)')\n",
    "g.axes.set_xticklabels(['Non-rumor','Rumor'])\n",
    "g.axes.set_ylabel('Count (%)')\n",
    "\n",
    "for p in g.axes.patches:\n",
    "    txt = str(p.get_height().round(1)) + '%'\n",
    "    txt_x = p.get_x() \n",
    "    txt_y = p.get_height()\n",
    "    g.axes.text(txt_x,txt_y,txt)\n",
    "plt.savefig('D:/論文/PHEME9/Code/graph/ottawashooting/reply-sentiment.pdf',dpi=300)"
   ]
  },
  {
   "cell_type": "code",
   "execution_count": 11,
   "id": "toxic-bibliography",
   "metadata": {},
   "outputs": [
    {
     "data": {
      "text/plain": [
       "Text(0.5, 1.0, '# of rumor/non-rumor Reply tweet (for each sentiment class).')"
      ]
     },
     "execution_count": 11,
     "metadata": {},
     "output_type": "execute_result"
    },
    {
     "data": {
      "image/png": "[encoded data removed]",
      "text/plain": [
       "<Figure size 432x288 with 1 Axes>"
      ]
     },
     "metadata": {
      "needs_background": "light"
     },
     "output_type": "display_data"
    }
   ],
   "source": [
    "g = df.groupby(['reply_sentiment'])['label'].value_counts(normalize=True).mul(100).rename('count').reset_index()\\\n",
    ".pipe((sns.barplot,'data'), x ='reply_sentiment',y='count',hue='label',palette=\"Set3\")\n",
    "\n",
    "g.axes.set_ylim(0,100)\n",
    "g.axes.set_ylabel('Count (%)')\n",
    "\n",
    "for p in g.axes.patches:\n",
    "    txt = str(p.get_height().round(1)) + '%'\n",
    "    txt_x = p.get_x() \n",
    "    txt_y = p.get_height()\n",
    "    g.axes.text(txt_x,txt_y,txt)\n",
    "plt.title('# of rumor/non-rumor Reply tweet (for each sentiment class).',fontsize=12)"
   ]
  },
  {
   "cell_type": "markdown",
   "id": "addressed-struggle",
   "metadata": {},
   "source": [
    "## Emotion Analysis"
   ]
  },
  {
   "cell_type": "markdown",
   "id": "tutorial-shoulder",
   "metadata": {},
   "source": [
    "### Source Tweets"
   ]
  },
  {
   "cell_type": "code",
   "execution_count": 12,
   "id": "respected-rally",
   "metadata": {},
   "outputs": [
    {
     "data": {
      "text/plain": [
       "anger       0.472579\n",
       "sadness     0.336056\n",
       "joy         0.130688\n",
       "optimism    0.060677\n",
       "Name: src_emo_ro, dtype: float64"
      ]
     },
     "execution_count": 12,
     "metadata": {},
     "output_type": "execute_result"
    }
   ],
   "source": [
    "src_tw_df['src_emo_ro'].value_counts(normalize=True)"
   ]
  },
  {
   "cell_type": "code",
   "execution_count": 13,
   "id": "affected-satellite",
   "metadata": {},
   "outputs": [
    {
     "data": {
      "image/png": "[encoded data removed]",
      "text/plain": [
       "<Figure size 432x288 with 1 Axes>"
      ]
     },
     "metadata": {
      "needs_background": "light"
     },
     "output_type": "display_data"
    }
   ],
   "source": [
    "g = src_tw_df.groupby(['label'])['src_emo_ro'].value_counts(normalize=True).mul(100).rename('count').reset_index()\\\n",
    ".pipe((sns.barplot,'data'), x ='label',y='count',hue='src_emo_ro',palette=\"vlag\")\n",
    "\n",
    "g.axes.set_ylim(0,100)\n",
    "g.axes.set_xticklabels(['Non-rumor','Rumor'])\n",
    "g.axes.set_ylabel('Count (%)')\n",
    "\n",
    "for p in g.axes.patches:\n",
    "    txt = str(p.get_height().round(1)) + '%'\n",
    "    txt_x = p.get_x() \n",
    "    txt_y = p.get_height()\n",
    "    g.axes.text(txt_x,txt_y,txt)\n",
    "plt.title('Emotion Analysis of Source tweet (for each label).',fontsize=12)\n",
    "plt.savefig('D:/論文/PHEME9/Code/graph/ottawashooting/src-emotion.pdf',dpi=300)"
   ]
  },
  {
   "cell_type": "markdown",
   "id": "banned-colorado",
   "metadata": {},
   "source": [
    "### Reply Tweets"
   ]
  },
  {
   "cell_type": "code",
   "execution_count": 14,
   "id": "concerned-acoustic",
   "metadata": {},
   "outputs": [
    {
     "data": {
      "image/png": "[encoded data removed]",
      "text/plain": [
       "<Figure size 432x288 with 1 Axes>"
      ]
     },
     "metadata": {
      "needs_background": "light"
     },
     "output_type": "display_data"
    }
   ],
   "source": [
    "g =df.groupby(['label'])['reply_emo_ro'].value_counts(normalize=True).mul(100).rename('count').reset_index()\\\n",
    ".pipe((sns.barplot,'data'), x ='label',y='count',hue='reply_emo_ro',palette=\"Set3\")\n",
    "\n",
    "g.axes.set_ylim(0,100)\n",
    "g.axes.set_xticklabels(['Non-rumor','Rumor'])\n",
    "g.axes.set_ylabel('Count (%)')\n",
    "\n",
    "for p in g.axes.patches:\n",
    "    txt = str(p.get_height().round(1)) + '%'\n",
    "    txt_x = p.get_x() \n",
    "    txt_y = p.get_height()\n",
    "    g.axes.text(txt_x,txt_y,txt)\n",
    "plt.title('Emotion Analysis of Reply tweet (for each label).',fontsize=12)\n",
    "plt.savefig('D:/論文/PHEME9/Code/graph/ottawashooting/reply-emotion.pdf',dpi=300)"
   ]
  },
  {
   "cell_type": "code",
   "execution_count": null,
   "id": "suspended-shell",
   "metadata": {},
   "outputs": [],
   "source": []
  }
 ],
 "metadata": {
  "kernelspec": {
   "display_name": "Python 3",
   "language": "python",
   "name": "python3"
  },
  "language_info": {
   "codemirror_mode": {
    "name": "ipython",
    "version": 3
   },
   "file_extension": ".py",
   "mimetype": "text/x-python",
   "name": "python",
   "nbconvert_exporter": "python",
   "pygments_lexer": "ipython3",
   "version": "3.9.1"
  },
  "toc-autonumbering": true,
  "toc-showmarkdowntxt": false
 },
 "nbformat": 4,
 "nbformat_minor": 5
}
