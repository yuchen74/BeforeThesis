{
 "cells": [
  {
   "cell_type": "code",
   "execution_count": 1,
   "metadata": {},
   "outputs": [],
   "source": [
    "import numpy as np\n",
    "import pandas as pd\n",
    "import datetime \n",
    "import matplotlib.pyplot as plt\n",
    "import seaborn as sns"
   ]
  },
  {
   "cell_type": "code",
   "execution_count": 2,
   "metadata": {},
   "outputs": [
    {
     "name": "stderr",
     "output_type": "stream",
     "text": [
      "<ipython-input-2-3b5970faf0be>:2: FutureWarning: Passing a negative integer is deprecated in version 1.0 and will not be supported in future version. Instead, use None to not limit the column width.\n",
      "  pd.set_option('display.max_colwidth', -1)\n"
     ]
    }
   ],
   "source": [
    "# to display full text\n",
    "pd.set_option('display.max_colwidth', -1)"
   ]
  },
  {
   "cell_type": "code",
   "execution_count": 3,
   "metadata": {},
   "outputs": [],
   "source": [
    "df = pd.read_csv(r'D:\\論文\\PHEME9\\Data\\CSV\\ottawashooting.csv', encoding = 'utf-8', header = None)"
   ]
  },
  {
   "cell_type": "code",
   "execution_count": 4,
   "metadata": {},
   "outputs": [],
   "source": [
    "df.columns = ['src_tweet_id', 'src_user_id', 'src_tweet','src_date','reply_tweet_id','reply_user_id','reply_tweet','reply_date', 'label']"
   ]
  },
  {
   "cell_type": "code",
   "execution_count": 5,
   "metadata": {},
   "outputs": [
    {
     "data": {
      "text/html": [
       "<div>\n",
       "<style scoped>\n",
       "    .dataframe tbody tr th:only-of-type {\n",
       "        vertical-align: middle;\n",
       "    }\n",
       "\n",
       "    .dataframe tbody tr th {\n",
       "        vertical-align: top;\n",
       "    }\n",
       "\n",
       "    .dataframe thead th {\n",
       "        text-align: right;\n",
       "    }\n",
       "</style>\n",
       "<table border=\"1\" class=\"dataframe\">\n",
       "  <thead>\n",
       "    <tr style=\"text-align: right;\">\n",
       "      <th></th>\n",
       "      <th>src_tweet_id</th>\n",
       "      <th>src_user_id</th>\n",
       "      <th>src_tweet</th>\n",
       "      <th>src_date</th>\n",
       "      <th>reply_tweet_id</th>\n",
       "      <th>reply_user_id</th>\n",
       "      <th>reply_tweet</th>\n",
       "      <th>reply_date</th>\n",
       "      <th>label</th>\n",
       "    </tr>\n",
       "  </thead>\n",
       "  <tbody>\n",
       "    <tr>\n",
       "      <th>0</th>\n",
       "      <td>524922078638903296</td>\n",
       "      <td>18999969</td>\n",
       "      <td>Ottawa police are confirming a shooting at the War Memorial. Minutes ago. No other info. #cbcOTT #OTTnews</td>\n",
       "      <td>Wed Oct 22 13:55:50 +0000 2014</td>\n",
       "      <td>524922392582586368</td>\n",
       "      <td>2433907530</td>\n",
       "      <td>.@dominiquehardy @CBCOttawa related to St-Jean ?</td>\n",
       "      <td>Wed Oct 22 13:57:05 +0000 2014</td>\n",
       "      <td>0</td>\n",
       "    </tr>\n",
       "    <tr>\n",
       "      <th>1</th>\n",
       "      <td>524922078638903296</td>\n",
       "      <td>18999969</td>\n",
       "      <td>Ottawa police are confirming a shooting at the War Memorial. Minutes ago. No other info. #cbcOTT #OTTnews</td>\n",
       "      <td>Wed Oct 22 13:55:50 +0000 2014</td>\n",
       "      <td>524922589861658624</td>\n",
       "      <td>15816550</td>\n",
       "      <td>@petitmetroide @CBCOttawa Il est tôt pour une quelconque hypothèse.</td>\n",
       "      <td>Wed Oct 22 13:57:52 +0000 2014</td>\n",
       "      <td>0</td>\n",
       "    </tr>\n",
       "    <tr>\n",
       "      <th>2</th>\n",
       "      <td>524922078638903296</td>\n",
       "      <td>18999969</td>\n",
       "      <td>Ottawa police are confirming a shooting at the War Memorial. Minutes ago. No other info. #cbcOTT #OTTnews</td>\n",
       "      <td>Wed Oct 22 13:55:50 +0000 2014</td>\n",
       "      <td>524922681595269120</td>\n",
       "      <td>1206639234</td>\n",
       "      <td>Prudence avant d'en savoir plus “@CBCOttawa: Ottawa police are confirming a shooting at the War Memorial. Minutes ago. No other info.</td>\n",
       "      <td>Wed Oct 22 13:58:14 +0000 2014</td>\n",
       "      <td>0</td>\n",
       "    </tr>\n",
       "    <tr>\n",
       "      <th>3</th>\n",
       "      <td>524922078638903296</td>\n",
       "      <td>18999969</td>\n",
       "      <td>Ottawa police are confirming a shooting at the War Memorial. Minutes ago. No other info. #cbcOTT #OTTnews</td>\n",
       "      <td>Wed Oct 22 13:55:50 +0000 2014</td>\n",
       "      <td>524923071090917376</td>\n",
       "      <td>347531577</td>\n",
       "      <td>@StephBerthomet Ça va être rapporté partout sans validation,sur les radio poubelles pour crée une panique collective. L'EI nous attaque !!!</td>\n",
       "      <td>Wed Oct 22 13:59:47 +0000 2014</td>\n",
       "      <td>0</td>\n",
       "    </tr>\n",
       "    <tr>\n",
       "      <th>4</th>\n",
       "      <td>524922078638903296</td>\n",
       "      <td>18999969</td>\n",
       "      <td>Ottawa police are confirming a shooting at the War Memorial. Minutes ago. No other info. #cbcOTT #OTTnews</td>\n",
       "      <td>Wed Oct 22 13:55:50 +0000 2014</td>\n",
       "      <td>524923096911052802</td>\n",
       "      <td>96146974</td>\n",
       "      <td>“@CBCOttawa: Ottawa police are confirming a shooting at the War Memorial. Minutes ago. No other info. #cbcOTT #OTTnews”</td>\n",
       "      <td>Wed Oct 22 13:59:53 +0000 2014</td>\n",
       "      <td>0</td>\n",
       "    </tr>\n",
       "  </tbody>\n",
       "</table>\n",
       "</div>"
      ],
      "text/plain": [
       "         src_tweet_id  src_user_id  \\\n",
       "0  524922078638903296  18999969      \n",
       "1  524922078638903296  18999969      \n",
       "2  524922078638903296  18999969      \n",
       "3  524922078638903296  18999969      \n",
       "4  524922078638903296  18999969      \n",
       "\n",
       "                                                                                                   src_tweet  \\\n",
       "0  Ottawa police are confirming a shooting at the War Memorial. Minutes ago. No other info. #cbcOTT #OTTnews   \n",
       "1  Ottawa police are confirming a shooting at the War Memorial. Minutes ago. No other info. #cbcOTT #OTTnews   \n",
       "2  Ottawa police are confirming a shooting at the War Memorial. Minutes ago. No other info. #cbcOTT #OTTnews   \n",
       "3  Ottawa police are confirming a shooting at the War Memorial. Minutes ago. No other info. #cbcOTT #OTTnews   \n",
       "4  Ottawa police are confirming a shooting at the War Memorial. Minutes ago. No other info. #cbcOTT #OTTnews   \n",
       "\n",
       "                         src_date      reply_tweet_id  reply_user_id  \\\n",
       "0  Wed Oct 22 13:55:50 +0000 2014  524922392582586368  2433907530      \n",
       "1  Wed Oct 22 13:55:50 +0000 2014  524922589861658624  15816550        \n",
       "2  Wed Oct 22 13:55:50 +0000 2014  524922681595269120  1206639234      \n",
       "3  Wed Oct 22 13:55:50 +0000 2014  524923071090917376  347531577       \n",
       "4  Wed Oct 22 13:55:50 +0000 2014  524923096911052802  96146974        \n",
       "\n",
       "                                                                                                                                   reply_tweet  \\\n",
       "0  .@dominiquehardy @CBCOttawa related to St-Jean ?                                                                                              \n",
       "1  @petitmetroide @CBCOttawa Il est tôt pour une quelconque hypothèse.                                                                           \n",
       "2  Prudence avant d'en savoir plus “@CBCOttawa: Ottawa police are confirming a shooting at the War Memorial. Minutes ago. No other info.         \n",
       "3  @StephBerthomet Ça va être rapporté partout sans validation,sur les radio poubelles pour crée une panique collective. L'EI nous attaque !!!   \n",
       "4  “@CBCOttawa: Ottawa police are confirming a shooting at the War Memorial. Minutes ago. No other info. #cbcOTT #OTTnews”                       \n",
       "\n",
       "                       reply_date  label  \n",
       "0  Wed Oct 22 13:57:05 +0000 2014  0      \n",
       "1  Wed Oct 22 13:57:52 +0000 2014  0      \n",
       "2  Wed Oct 22 13:58:14 +0000 2014  0      \n",
       "3  Wed Oct 22 13:59:47 +0000 2014  0      \n",
       "4  Wed Oct 22 13:59:53 +0000 2014  0      "
      ]
     },
     "execution_count": 5,
     "metadata": {},
     "output_type": "execute_result"
    }
   ],
   "source": [
    "df.head()"
   ]
  },
  {
   "cell_type": "code",
   "execution_count": 6,
   "metadata": {},
   "outputs": [
    {
     "data": {
      "text/plain": [
       "(11394, 9)"
      ]
     },
     "execution_count": 6,
     "metadata": {},
     "output_type": "execute_result"
    }
   ],
   "source": [
    "df.shape"
   ]
  },
  {
   "cell_type": "markdown",
   "metadata": {},
   "source": [
    "+ change data type"
   ]
  },
  {
   "cell_type": "code",
   "execution_count": 7,
   "metadata": {},
   "outputs": [],
   "source": [
    "df.src_tweet_id = df.src_tweet_id.astype(str)\n",
    "df.src_user_id = df.src_user_id.astype(str)\n",
    "\n",
    "df.reply_tweet_id = df.reply_tweet_id.astype(str)\n",
    "df.reply_tweet_id = df.reply_tweet_id.replace('nan',np.nan)\n",
    "\n",
    "df.reply_user_id = df.reply_user_id.astype(str)\n",
    "df.reply_user_id = df.reply_user_id.replace('nan',np.nan)\n",
    "\n",
    "df.src_date = df.src_date.apply(pd.to_datetime)\n",
    "df.reply_date = df.reply_date.apply(pd.to_datetime)\n",
    "\n",
    "df.reply_tweet = df.reply_tweet.replace(np.nan,\"\")"
   ]
  },
  {
   "cell_type": "markdown",
   "metadata": {},
   "source": [
    "+ Source Tweet Data: **src_tw_df**"
   ]
  },
  {
   "cell_type": "code",
   "execution_count": 8,
   "metadata": {},
   "outputs": [],
   "source": [
    "#Source tweet data\n",
    "src_tw_df = df.iloc[:,[0,1,2,3,8]].copy()\n",
    "src_tw_df = src_tw_df.drop_duplicates().reset_index()"
   ]
  },
  {
   "cell_type": "code",
   "execution_count": 8,
   "metadata": {},
   "outputs": [
    {
     "data": {
      "text/html": [
       "<div>\n",
       "<style scoped>\n",
       "    .dataframe tbody tr th:only-of-type {\n",
       "        vertical-align: middle;\n",
       "    }\n",
       "\n",
       "    .dataframe tbody tr th {\n",
       "        vertical-align: top;\n",
       "    }\n",
       "\n",
       "    .dataframe thead th {\n",
       "        text-align: right;\n",
       "    }\n",
       "</style>\n",
       "<table border=\"1\" class=\"dataframe\">\n",
       "  <thead>\n",
       "    <tr style=\"text-align: right;\">\n",
       "      <th></th>\n",
       "      <th>index</th>\n",
       "      <th>src_tweet_id</th>\n",
       "      <th>src_user_id</th>\n",
       "      <th>src_tweet</th>\n",
       "      <th>src_date</th>\n",
       "      <th>label</th>\n",
       "    </tr>\n",
       "  </thead>\n",
       "  <tbody>\n",
       "    <tr>\n",
       "      <th>0</th>\n",
       "      <td>0</td>\n",
       "      <td>535386605666979840</td>\n",
       "      <td>43092938</td>\n",
       "      <td>Will Bern's Museum of Fine Arts accept the controversial #Gurlitt collection? http://t.co/2g9lQgnUwG #art #stolen @KunstmuseumBern</td>\n",
       "      <td>2014-11-20 10:58:08+00:00</td>\n",
       "      <td>0</td>\n",
       "    </tr>\n",
       "    <tr>\n",
       "      <th>1</th>\n",
       "      <td>1</td>\n",
       "      <td>535391478969675776</td>\n",
       "      <td>38402632</td>\n",
       "      <td>The Gurlitt art collection no one - and everyone - wants - SWI swissinfo.ch http://t.co/7j0ZLfv7d1 @swissinfo_en</td>\n",
       "      <td>2014-11-20 11:17:30+00:00</td>\n",
       "      <td>0</td>\n",
       "    </tr>\n",
       "    <tr>\n",
       "      <th>2</th>\n",
       "      <td>2</td>\n",
       "      <td>535415010361487360</td>\n",
       "      <td>719898644</td>\n",
       "      <td>German and Swiss handling of Gurlitt hoard and his bequest is all wrong, says senior Austrian curator, see http://t.co/oS5eu0rzEx</td>\n",
       "      <td>2014-11-20 12:51:00+00:00</td>\n",
       "      <td>0</td>\n",
       "    </tr>\n",
       "    <tr>\n",
       "      <th>3</th>\n",
       "      <td>3</td>\n",
       "      <td>535415869862473729</td>\n",
       "      <td>1140049158</td>\n",
       "      <td>The Gurlitt art collection no one - and everyone - wants - SWI swissinfo.ch http://t.co/rjjy0e4AR4 @swissinfo_en</td>\n",
       "      <td>2014-11-20 12:54:25+00:00</td>\n",
       "      <td>0</td>\n",
       "    </tr>\n",
       "    <tr>\n",
       "      <th>4</th>\n",
       "      <td>4</td>\n",
       "      <td>535425236871544832</td>\n",
       "      <td>289989248</td>\n",
       "      <td>The Gurlitt art collection no one - and everyone - wants - SWI swissinfo.ch http://t.co/iRdYJ2HIrO @swissinfo_en</td>\n",
       "      <td>2014-11-20 13:31:38+00:00</td>\n",
       "      <td>0</td>\n",
       "    </tr>\n",
       "  </tbody>\n",
       "</table>\n",
       "</div>"
      ],
      "text/plain": [
       "   index        src_tweet_id src_user_id  \\\n",
       "0  0      535386605666979840  43092938     \n",
       "1  1      535391478969675776  38402632     \n",
       "2  2      535415010361487360  719898644    \n",
       "3  3      535415869862473729  1140049158   \n",
       "4  4      535425236871544832  289989248    \n",
       "\n",
       "                                                                                                                            src_tweet  \\\n",
       "0  Will Bern's Museum of Fine Arts accept the controversial #Gurlitt collection? http://t.co/2g9lQgnUwG #art #stolen @KunstmuseumBern   \n",
       "1  The Gurlitt art collection no one - and everyone - wants - SWI swissinfo.ch http://t.co/7j0ZLfv7d1 @swissinfo_en                     \n",
       "2  German and Swiss handling of Gurlitt hoard and his bequest is all wrong, says senior Austrian curator, see http://t.co/oS5eu0rzEx    \n",
       "3  The Gurlitt art collection no one - and everyone - wants - SWI swissinfo.ch http://t.co/rjjy0e4AR4 @swissinfo_en                     \n",
       "4  The Gurlitt art collection no one - and everyone - wants - SWI swissinfo.ch http://t.co/iRdYJ2HIrO @swissinfo_en                     \n",
       "\n",
       "                   src_date  label  \n",
       "0 2014-11-20 10:58:08+00:00  0      \n",
       "1 2014-11-20 11:17:30+00:00  0      \n",
       "2 2014-11-20 12:51:00+00:00  0      \n",
       "3 2014-11-20 12:54:25+00:00  0      \n",
       "4 2014-11-20 13:31:38+00:00  0      "
      ]
     },
     "execution_count": 8,
     "metadata": {},
     "output_type": "execute_result"
    }
   ],
   "source": [
    "src_tw_df.head()"
   ]
  },
  {
   "cell_type": "markdown",
   "metadata": {},
   "source": [
    "# EDA"
   ]
  },
  {
   "cell_type": "markdown",
   "metadata": {},
   "source": [
    "## Missing Value"
   ]
  },
  {
   "cell_type": "code",
   "execution_count": 9,
   "metadata": {},
   "outputs": [
    {
     "data": {
      "text/plain": [
       "src_tweet_id      0\n",
       "src_user_id       0\n",
       "src_tweet         0\n",
       "src_date          0\n",
       "reply_tweet_id    0\n",
       "reply_user_id     0\n",
       "reply_tweet       0\n",
       "reply_date        0\n",
       "label             0\n",
       "dtype: int64"
      ]
     },
     "execution_count": 9,
     "metadata": {},
     "output_type": "execute_result"
    }
   ],
   "source": [
    "df.isnull().sum()"
   ]
  },
  {
   "cell_type": "markdown",
   "metadata": {},
   "source": [
    "+ drop rows where there is missing value."
   ]
  },
  {
   "cell_type": "code",
   "execution_count": 10,
   "metadata": {},
   "outputs": [],
   "source": [
    "df.dropna(inplace=True)"
   ]
  },
  {
   "cell_type": "markdown",
   "metadata": {},
   "source": [
    "## Statistics"
   ]
  },
  {
   "cell_type": "code",
   "execution_count": 11,
   "metadata": {},
   "outputs": [
    {
     "name": "stdout",
     "output_type": "stream",
     "text": [
      "# of source tweets: 857\n",
      "# of source users: 425\n",
      "# of reply users: 7442\n",
      "# of reply tweets: 11394\n"
     ]
    }
   ],
   "source": [
    "print(\"# of source tweets:\",src_tw_df.src_tweet_id.nunique())\n",
    "print(\"# of source users:\",src_tw_df.src_user_id.nunique())\n",
    "print(\"# of reply users:\",df.reply_user_id.nunique())\n",
    "print(\"# of reply tweets:\",df.reply_tweet_id.nunique())"
   ]
  },
  {
   "cell_type": "markdown",
   "metadata": {},
   "source": [
    "## Visualiztion "
   ]
  },
  {
   "cell_type": "code",
   "execution_count": 12,
   "metadata": {},
   "outputs": [
    {
     "data": {
      "image/png": "[encoded data removed]",
      "text/plain": [
       "<Figure size 432x288 with 1 Axes>"
      ]
     },
     "metadata": {
      "needs_background": "light"
     },
     "output_type": "display_data"
    }
   ],
   "source": [
    "reply_user = df.reply_user_id.value_counts().sort_values(ascending=False).to_frame()\n",
    "reply_user.rename(columns={'reply_user_id' :'count'},inplace=True)\n",
    "sns.boxplot(data=reply_user ,x='count')\n",
    "plt.title(\"A few users replied multiple times\")\n",
    "plt.savefig('graph/ottawashooting/reply_user-1.pdf',dpi=300)"
   ]
  },
  {
   "cell_type": "code",
   "execution_count": 13,
   "metadata": {},
   "outputs": [
    {
     "data": {
      "text/plain": [
       "1602"
      ]
     },
     "execution_count": 13,
     "metadata": {},
     "output_type": "execute_result"
    }
   ],
   "source": [
    "more_freq_reply_user = reply_user.loc[reply_user['count'] > 1].index\n",
    "len(more_freq_reply_user)"
   ]
  },
  {
   "cell_type": "code",
   "execution_count": 14,
   "metadata": {},
   "outputs": [
    {
     "data": {
      "image/png": "[encoded data removed]",
      "text/plain": [
       "<Figure size 432x288 with 1 Axes>"
      ]
     },
     "metadata": {
      "needs_background": "light"
     },
     "output_type": "display_data"
    }
   ],
   "source": [
    "more_freq = df[df['reply_user_id'].isin(more_freq_reply_user)]\n",
    "# more_freq.label.value_counts().\n",
    "sns.countplot(data=more_freq ,x='label')\n",
    "plt.title('Frequent users replied more to rumours')\n",
    "plt.savefig('graph/ottawashooting/reply_user-2.pdf',dpi=300)"
   ]
  },
  {
   "cell_type": "code",
   "execution_count": 15,
   "metadata": {},
   "outputs": [
    {
     "name": "stdout",
     "output_type": "stream",
     "text": [
      "            count\n",
      "19038934    38   \n",
      "18999969    28   \n",
      "8736882     26   \n",
      "19636948    26   \n",
      "203123011   23   \n",
      "...         ..   \n",
      "126400767   1    \n",
      "1263002017  1    \n",
      "57709461    1    \n",
      "19114232    1    \n",
      "17001435    1    \n",
      "\n",
      "[425 rows x 1 columns]\n"
     ]
    },
    {
     "data": {
      "image/png": "[encoded data removed]",
      "text/plain": [
       "<Figure size 432x288 with 1 Axes>"
      ]
     },
     "metadata": {
      "needs_background": "light"
     },
     "output_type": "display_data"
    },
    {
     "data": {
      "text/plain": [
       "<Figure size 432x288 with 0 Axes>"
      ]
     },
     "metadata": {},
     "output_type": "display_data"
    }
   ],
   "source": [
    "source_user = src_tw_df.src_user_id.value_counts().sort_values(ascending=False).to_frame()\n",
    "source_user.rename(columns={'src_user_id' :'count'},inplace=True)\n",
    "print(source_user)\n",
    "sns.boxplot(data=source_user ,x='count')\n",
    "plt.title('a few user tweeted more than once',fontsize = 12)\n",
    "plt.show()\n",
    "plt.savefig('graph/ottawashooting/source_user-1.pdf',dpi=300)"
   ]
  },
  {
   "cell_type": "code",
   "execution_count": 16,
   "metadata": {},
   "outputs": [
    {
     "data": {
      "image/png": "[encoded data removed]",
      "text/plain": [
       "<Figure size 432x288 with 1 Axes>"
      ]
     },
     "metadata": {
      "needs_background": "light"
     },
     "output_type": "display_data"
    }
   ],
   "source": [
    "more_freq_src_user = source_user.loc[source_user['count'] > 1].index\n",
    "more_freq_src_user\n",
    "more_freq = src_tw_df[src_tw_df['src_user_id'].isin(more_freq_src_user)]\n",
    "# more_freq.label.value_counts().\n",
    "sns.countplot(data=more_freq ,x='label')\n",
    "plt.title('Most of source tweets posted by frequent users were rumours.')\n",
    "plt.savefig('graph/ottawashooting/src_user-2.pdf',dpi=300)"
   ]
  },
  {
   "cell_type": "code",
   "execution_count": null,
   "metadata": {},
   "outputs": [],
   "source": [
    "df.groupby('src_tweet_id')['label'].value_counts().sort_values('label')#.plot(kind = 'bar')\n",
    "# plt.title('Rumour tweet are more than non-rumor tweet',fontsize = 14)\n",
    "# plt.xlabel('Rumor / Non-Rumour', fontsize=12)\n",
    "# plt.ylabel('Count', fontsize=12)\n",
    "# plt.show()"
   ]
  }
 ],
 "metadata": {
  "kernelspec": {
   "display_name": "Python 3",
   "language": "python",
   "name": "python3"
  },
  "language_info": {
   "codemirror_mode": {
    "name": "ipython",
    "version": 3
   },
   "file_extension": ".py",
   "mimetype": "text/x-python",
   "name": "python",
   "nbconvert_exporter": "python",
   "pygments_lexer": "ipython3",
   "version": "3.9.1"
  },
  "toc-autonumbering": false,
  "toc-showmarkdowntxt": true
 },
 "nbformat": 4,
 "nbformat_minor": 4
}
