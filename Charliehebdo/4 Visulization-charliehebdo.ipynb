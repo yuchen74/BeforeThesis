{
 "cells": [
  {
   "cell_type": "markdown",
   "id": "understanding-traveler",
   "metadata": {},
   "source": [
    "# Dataset: *charliehebdo*"
   ]
  },
  {
   "cell_type": "markdown",
   "id": "general-sunset",
   "metadata": {},
   "source": [
    "- df.to_csv(r'D:\\論文\\PHEME9\\Data\\CSV\\charliehebdo-df.csv',index=False)\n",
    "- src_tw_df.to_csv(r'D:\\論文\\PHEME9\\Data\\CSV\\charliehebdo-src.csv',index=False)"
   ]
  },
  {
   "cell_type": "code",
   "execution_count": 1,
   "id": "danish-thomas",
   "metadata": {},
   "outputs": [],
   "source": [
    "import numpy as np\n",
    "import pandas as pd\n",
    "import datetime \n",
    "import matplotlib.pyplot as plt\n",
    "import seaborn as sns\n",
    "from wordcloud import WordCloud,ImageColorGenerator\n",
    "import nltk\n",
    "from nltk import FreqDist, word_tokenize"
   ]
  },
  {
   "cell_type": "code",
   "execution_count": 2,
   "id": "shaped-header",
   "metadata": {},
   "outputs": [
    {
     "name": "stdout",
     "output_type": "stream",
     "text": [
      "Index(['src_tweet_id', 'src_user_id', 'src_tweet', 'src_date',\n",
      "       'reply_tweet_id', 'reply_user_id', 'reply_tweet', 'reply_date', 'label',\n",
      "       'cleaned_reply_tw', 'reply_sentiment', 'reply_emo_ro'],\n",
      "      dtype='object')\n",
      "(33628, 12)\n"
     ]
    },
    {
     "data": {
      "text/html": [
       "<div>\n",
       "<style scoped>\n",
       "    .dataframe tbody tr th:only-of-type {\n",
       "        vertical-align: middle;\n",
       "    }\n",
       "\n",
       "    .dataframe tbody tr th {\n",
       "        vertical-align: top;\n",
       "    }\n",
       "\n",
       "    .dataframe thead th {\n",
       "        text-align: right;\n",
       "    }\n",
       "</style>\n",
       "<table border=\"1\" class=\"dataframe\">\n",
       "  <thead>\n",
       "    <tr style=\"text-align: right;\">\n",
       "      <th></th>\n",
       "      <th>src_tweet_id</th>\n",
       "      <th>src_user_id</th>\n",
       "      <th>src_tweet</th>\n",
       "      <th>src_date</th>\n",
       "      <th>reply_tweet_id</th>\n",
       "      <th>reply_user_id</th>\n",
       "      <th>reply_tweet</th>\n",
       "      <th>reply_date</th>\n",
       "      <th>label</th>\n",
       "      <th>cleaned_reply_tw</th>\n",
       "      <th>reply_sentiment</th>\n",
       "      <th>reply_emo_ro</th>\n",
       "    </tr>\n",
       "  </thead>\n",
       "  <tbody>\n",
       "    <tr>\n",
       "      <th>0</th>\n",
       "      <td>552784600502915072</td>\n",
       "      <td>331658004</td>\n",
       "      <td>Charlie Hebdo became well known for publishing...</td>\n",
       "      <td>Wed Jan 07 11:11:33 +0000 2015</td>\n",
       "      <td>552785249420447745</td>\n",
       "      <td>18370911</td>\n",
       "      <td>Now 10 dead in a shooting there today RT \"@BBC...</td>\n",
       "      <td>Wed Jan 07 11:14:08 +0000 2015</td>\n",
       "      <td>0</td>\n",
       "      <td>dead shoot today</td>\n",
       "      <td>Negative</td>\n",
       "      <td>sadness</td>\n",
       "    </tr>\n",
       "  </tbody>\n",
       "</table>\n",
       "</div>"
      ],
      "text/plain": [
       "         src_tweet_id  src_user_id  \\\n",
       "0  552784600502915072    331658004   \n",
       "\n",
       "                                           src_tweet  \\\n",
       "0  Charlie Hebdo became well known for publishing...   \n",
       "\n",
       "                         src_date      reply_tweet_id  reply_user_id  \\\n",
       "0  Wed Jan 07 11:11:33 +0000 2015  552785249420447745       18370911   \n",
       "\n",
       "                                         reply_tweet  \\\n",
       "0  Now 10 dead in a shooting there today RT \"@BBC...   \n",
       "\n",
       "                       reply_date  label  cleaned_reply_tw reply_sentiment  \\\n",
       "0  Wed Jan 07 11:14:08 +0000 2015      0  dead shoot today        Negative   \n",
       "\n",
       "  reply_emo_ro  \n",
       "0      sadness  "
      ]
     },
     "execution_count": 2,
     "metadata": {},
     "output_type": "execute_result"
    }
   ],
   "source": [
    "df = pd.read_csv(r'D:\\論文\\PHEME9\\Data\\CSV\\charliehebdo-df-2.csv', encoding = 'utf-8', header = 0)\n",
    "print(df.columns)\n",
    "print(df.shape)\n",
    "df.head(1)"
   ]
  },
  {
   "cell_type": "code",
   "execution_count": 3,
   "id": "chubby-element",
   "metadata": {},
   "outputs": [
    {
     "name": "stdout",
     "output_type": "stream",
     "text": [
      "Index(['src_tweet_id', 'src_user_id', 'src_tweet', 'src_date', 'label',\n",
      "       'cleaned_src_tw', 'src_sentiment', 'src_emo_ro'],\n",
      "      dtype='object')\n",
      "(2002, 8)\n"
     ]
    },
    {
     "data": {
      "text/html": [
       "<div>\n",
       "<style scoped>\n",
       "    .dataframe tbody tr th:only-of-type {\n",
       "        vertical-align: middle;\n",
       "    }\n",
       "\n",
       "    .dataframe tbody tr th {\n",
       "        vertical-align: top;\n",
       "    }\n",
       "\n",
       "    .dataframe thead th {\n",
       "        text-align: right;\n",
       "    }\n",
       "</style>\n",
       "<table border=\"1\" class=\"dataframe\">\n",
       "  <thead>\n",
       "    <tr style=\"text-align: right;\">\n",
       "      <th></th>\n",
       "      <th>src_tweet_id</th>\n",
       "      <th>src_user_id</th>\n",
       "      <th>src_tweet</th>\n",
       "      <th>src_date</th>\n",
       "      <th>label</th>\n",
       "      <th>cleaned_src_tw</th>\n",
       "      <th>src_sentiment</th>\n",
       "      <th>src_emo_ro</th>\n",
       "    </tr>\n",
       "  </thead>\n",
       "  <tbody>\n",
       "    <tr>\n",
       "      <th>0</th>\n",
       "      <td>552784600502915072</td>\n",
       "      <td>331658004</td>\n",
       "      <td>Charlie Hebdo became well known for publishing...</td>\n",
       "      <td>Wed Jan 07 11:11:33 +0000 2015</td>\n",
       "      <td>0</td>\n",
       "      <td>charlie hebdo become well know publish muhamme...</td>\n",
       "      <td>Positive</td>\n",
       "      <td>joy</td>\n",
       "    </tr>\n",
       "  </tbody>\n",
       "</table>\n",
       "</div>"
      ],
      "text/plain": [
       "         src_tweet_id  src_user_id  \\\n",
       "0  552784600502915072    331658004   \n",
       "\n",
       "                                           src_tweet  \\\n",
       "0  Charlie Hebdo became well known for publishing...   \n",
       "\n",
       "                         src_date  label  \\\n",
       "0  Wed Jan 07 11:11:33 +0000 2015      0   \n",
       "\n",
       "                                      cleaned_src_tw src_sentiment src_emo_ro  \n",
       "0  charlie hebdo become well know publish muhamme...      Positive        joy  "
      ]
     },
     "execution_count": 3,
     "metadata": {},
     "output_type": "execute_result"
    }
   ],
   "source": [
    "src_tw_df = pd.read_csv(r'D:\\論文\\PHEME9\\Data\\CSV\\charliehebdo-src-2.csv', encoding = 'utf-8', header =0)\n",
    "print(src_tw_df.columns)\n",
    "print(src_tw_df.shape)\n",
    "src_tw_df.head(1)"
   ]
  },
  {
   "cell_type": "code",
   "execution_count": null,
   "id": "sticky-accessory",
   "metadata": {},
   "outputs": [],
   "source": [
    "src_tw_df.loc[src_tw_df.cleaned_src_tw.isnull(),['src_tweet_id','src_tweet','cleaned_src_tw','src_sentiment']]"
   ]
  },
  {
   "cell_type": "code",
   "execution_count": 4,
   "id": "dietary-object",
   "metadata": {},
   "outputs": [
    {
     "data": {
      "text/html": [
       "<div>\n",
       "<style scoped>\n",
       "    .dataframe tbody tr th:only-of-type {\n",
       "        vertical-align: middle;\n",
       "    }\n",
       "\n",
       "    .dataframe tbody tr th {\n",
       "        vertical-align: top;\n",
       "    }\n",
       "\n",
       "    .dataframe thead th {\n",
       "        text-align: right;\n",
       "    }\n",
       "</style>\n",
       "<table border=\"1\" class=\"dataframe\">\n",
       "  <thead>\n",
       "    <tr style=\"text-align: right;\">\n",
       "      <th></th>\n",
       "      <th>src_tweet_id</th>\n",
       "      <th>src_user_id</th>\n",
       "      <th>src_tweet</th>\n",
       "      <th>src_date</th>\n",
       "      <th>reply_tweet_id</th>\n",
       "      <th>reply_user_id</th>\n",
       "      <th>reply_tweet</th>\n",
       "      <th>reply_date</th>\n",
       "      <th>label</th>\n",
       "      <th>cleaned_reply_tw</th>\n",
       "      <th>reply_sentiment</th>\n",
       "      <th>reply_emo_ro</th>\n",
       "      <th>cleaned_src_tw</th>\n",
       "      <th>src_sentiment</th>\n",
       "      <th>src_emo_ro</th>\n",
       "    </tr>\n",
       "  </thead>\n",
       "  <tbody>\n",
       "    <tr>\n",
       "      <th>0</th>\n",
       "      <td>552784600502915072</td>\n",
       "      <td>331658004</td>\n",
       "      <td>Charlie Hebdo became well known for publishing...</td>\n",
       "      <td>Wed Jan 07 11:11:33 +0000 2015</td>\n",
       "      <td>552785249420447745</td>\n",
       "      <td>18370911</td>\n",
       "      <td>Now 10 dead in a shooting there today RT \"@BBC...</td>\n",
       "      <td>Wed Jan 07 11:14:08 +0000 2015</td>\n",
       "      <td>0</td>\n",
       "      <td>dead shoot today</td>\n",
       "      <td>Negative</td>\n",
       "      <td>sadness</td>\n",
       "      <td>charlie hebdo become well know publish muhamme...</td>\n",
       "      <td>Positive</td>\n",
       "      <td>joy</td>\n",
       "    </tr>\n",
       "  </tbody>\n",
       "</table>\n",
       "</div>"
      ],
      "text/plain": [
       "         src_tweet_id  src_user_id  \\\n",
       "0  552784600502915072    331658004   \n",
       "\n",
       "                                           src_tweet  \\\n",
       "0  Charlie Hebdo became well known for publishing...   \n",
       "\n",
       "                         src_date      reply_tweet_id  reply_user_id  \\\n",
       "0  Wed Jan 07 11:11:33 +0000 2015  552785249420447745       18370911   \n",
       "\n",
       "                                         reply_tweet  \\\n",
       "0  Now 10 dead in a shooting there today RT \"@BBC...   \n",
       "\n",
       "                       reply_date  label  cleaned_reply_tw reply_sentiment  \\\n",
       "0  Wed Jan 07 11:14:08 +0000 2015      0  dead shoot today        Negative   \n",
       "\n",
       "  reply_emo_ro                                     cleaned_src_tw  \\\n",
       "0      sadness  charlie hebdo become well know publish muhamme...   \n",
       "\n",
       "  src_sentiment src_emo_ro  \n",
       "0      Positive        joy  "
      ]
     },
     "execution_count": 4,
     "metadata": {},
     "output_type": "execute_result"
    }
   ],
   "source": [
    "df1 = pd.merge(df, src_tw_df[['src_tweet_id','cleaned_src_tw','src_sentiment','src_emo_ro']],\\\n",
    "               on='src_tweet_id')\n",
    "df1.head(1)"
   ]
  },
  {
   "cell_type": "code",
   "execution_count": 6,
   "id": "fancy-still",
   "metadata": {},
   "outputs": [
    {
     "name": "stdout",
     "output_type": "stream",
     "text": [
      "df's shape:  (33628, 12)\n",
      "df1's shape:  (33628, 15)\n",
      "src_tw_df's shapes:  (2002, 8)\n"
     ]
    }
   ],
   "source": [
    "print(\"df's shape: \",df.shape)\n",
    "print(\"df1's shape: \",df1.shape)\n",
    "print(\"src_tw_df's shapes: \", src_tw_df.shape)"
   ]
  },
  {
   "cell_type": "code",
   "execution_count": 7,
   "id": "stable-certification",
   "metadata": {},
   "outputs": [],
   "source": [
    "src_null = df1.loc[df1.cleaned_src_tw.isnull()].index"
   ]
  },
  {
   "cell_type": "code",
   "execution_count": null,
   "id": "according-there",
   "metadata": {},
   "outputs": [],
   "source": [
    "#df1.drop(src_null,0).shape"
   ]
  },
  {
   "cell_type": "markdown",
   "id": "dramatic-moldova",
   "metadata": {},
   "source": [
    "## Sentiment Analysis"
   ]
  },
  {
   "cell_type": "code",
   "execution_count": 31,
   "id": "overhead-naples",
   "metadata": {},
   "outputs": [
    {
     "data": {
      "text/plain": [
       "0    0.776723\n",
       "1    0.223277\n",
       "Name: label, dtype: float64"
      ]
     },
     "execution_count": 31,
     "metadata": {},
     "output_type": "execute_result"
    }
   ],
   "source": [
    "src_tw_df.label.value_counts(normalize=True)"
   ]
  },
  {
   "cell_type": "markdown",
   "id": "popular-tuesday",
   "metadata": {},
   "source": [
    "### Source Tweets "
   ]
  },
  {
   "cell_type": "code",
   "execution_count": 5,
   "id": "hispanic-brake",
   "metadata": {},
   "outputs": [
    {
     "data": {
      "image/png": "[encoded data removed]",
      "text/plain": [
       "<Figure size 432x288 with 1 Axes>"
      ]
     },
     "metadata": {
      "needs_background": "light"
     },
     "output_type": "display_data"
    }
   ],
   "source": [
    "g = src_tw_df.groupby(['label'])['src_sentiment'].value_counts(normalize=True).mul(100).rename('count').reset_index()\\\n",
    ".pipe((sns.barplot,'data'), x ='label',y='count',hue='src_sentiment',palette=\"vlag\")\n",
    "\n",
    "g.axes.set_ylim(0,100)\n",
    "g.axes.set_xticklabels(['Non-rumor','Rumor'])\n",
    "g.axes.set_ylabel('Count (%)')\n",
    "g.axes.set_title('Sentiment Analysis of Source Tweet (for each label)')\n",
    "\n",
    "for p in g.axes.patches:\n",
    "    txt = str(p.get_height().round(1)) + '%'\n",
    "    txt_x = p.get_x() \n",
    "    txt_y = p.get_height()\n",
    "    g.axes.text(txt_x,txt_y,txt)\n",
    "plt.title('Sentiment Analysis of Source tweet (for each label).',fontsize=12)\n",
    "plt.savefig('D:/論文/PHEME9/Code/graph/charliehebdo/src-sentiment.pdf',dpi=300)"
   ]
  },
  {
   "cell_type": "code",
   "execution_count": 7,
   "id": "naughty-machine",
   "metadata": {},
   "outputs": [
    {
     "data": {
      "text/plain": [
       "Text(0.5, 1.0, '# of rumor/non-rumor Source tweet (for each sentiment class).')"
      ]
     },
     "execution_count": 7,
     "metadata": {},
     "output_type": "execute_result"
    },
    {
     "data": {
      "image/png": "[encoded data removed]",
      "text/plain": [
       "<Figure size 432x288 with 1 Axes>"
      ]
     },
     "metadata": {
      "needs_background": "light"
     },
     "output_type": "display_data"
    }
   ],
   "source": [
    "g = src_tw_df.groupby(['src_sentiment'])['label'].value_counts(normalize=True).mul(100).rename('count').reset_index()\\\n",
    ".pipe((sns.barplot,'data'), x ='src_sentiment',y='count',hue='label',palette=\"vlag\")\n",
    "\n",
    "g.axes.set_ylim(0,100)\n",
    "g.axes.set_ylabel('Count (%)')\n",
    "\n",
    "for p in g.axes.patches:\n",
    "    txt = str(p.get_height().round(1)) + '%'\n",
    "    txt_x = p.get_x() \n",
    "    txt_y = p.get_height()\n",
    "    g.axes.text(txt_x,txt_y,txt)\n",
    "plt.title('# of rumor/non-rumor Source tweet (for each sentiment class).',fontsize=12)"
   ]
  },
  {
   "cell_type": "markdown",
   "id": "saved-configuration",
   "metadata": {},
   "source": [
    "### Reply Tweets"
   ]
  },
  {
   "cell_type": "code",
   "execution_count": 32,
   "id": "alert-singapore",
   "metadata": {},
   "outputs": [
    {
     "data": {
      "text/plain": [
       "Negative    0.401719\n",
       "Positive    0.317592\n",
       "Neutral     0.280689\n",
       "Name: reply_sentiment, dtype: float64"
      ]
     },
     "execution_count": 32,
     "metadata": {},
     "output_type": "execute_result"
    }
   ],
   "source": [
    "df.reply_sentiment.value_counts(normalize=True)"
   ]
  },
  {
   "cell_type": "code",
   "execution_count": 9,
   "id": "engaged-tsunami",
   "metadata": {},
   "outputs": [
    {
     "data": {
      "image/png": "[encoded data removed]",
      "text/plain": [
       "<Figure size 432x288 with 1 Axes>"
      ]
     },
     "metadata": {
      "needs_background": "light"
     },
     "output_type": "display_data"
    }
   ],
   "source": [
    "g = df.groupby(['label'])['reply_sentiment'].value_counts(normalize=True).mul(100).rename('count').reset_index()\\\n",
    ".pipe((sns.barplot,'data'), x ='label',y='count',hue='reply_sentiment',palette=\"Set3\")\n",
    "\n",
    "g.axes.set_ylim(0,100)\n",
    "g.axes.set_title('Sentiment Analysis of Reply Tweet (for each label)')\n",
    "g.axes.set_xticklabels(['Non-rumor','Rumor'])\n",
    "g.axes.set_ylabel('Count (%)')\n",
    "\n",
    "for p in g.axes.patches:\n",
    "    txt = str(p.get_height().round(1)) + '%'\n",
    "    txt_x = p.get_x() \n",
    "    txt_y = p.get_height()\n",
    "    g.axes.text(txt_x,txt_y,txt)\n",
    "plt.savefig('D:/論文/PHEME9/Code/graph/charliehebdo/reply-sentiment.pdf',dpi=300)"
   ]
  },
  {
   "cell_type": "code",
   "execution_count": 8,
   "id": "searching-secretary",
   "metadata": {},
   "outputs": [
    {
     "data": {
      "text/plain": [
       "Text(0.5, 1.0, '# of rumor/non-rumor Reply tweet (for each sentiment class).')"
      ]
     },
     "execution_count": 8,
     "metadata": {},
     "output_type": "execute_result"
    },
    {
     "data": {
      "image/png": "[encoded data removed]",
      "text/plain": [
       "<Figure size 432x288 with 1 Axes>"
      ]
     },
     "metadata": {
      "needs_background": "light"
     },
     "output_type": "display_data"
    }
   ],
   "source": [
    "g = df.groupby(['reply_sentiment'])['label'].value_counts(normalize=True).mul(100).rename('count').reset_index()\\\n",
    ".pipe((sns.barplot,'data'), x ='reply_sentiment',y='count',hue='label',palette=\"Set3\")\n",
    "\n",
    "g.axes.set_ylim(0,100)\n",
    "g.axes.set_ylabel('Count (%)')\n",
    "\n",
    "for p in g.axes.patches:\n",
    "    txt = str(p.get_height().round(1)) + '%'\n",
    "    txt_x = p.get_x() \n",
    "    txt_y = p.get_height()\n",
    "    g.axes.text(txt_x,txt_y,txt)\n",
    "plt.title('# of rumor/non-rumor Reply tweet (for each sentiment class).',fontsize=12)"
   ]
  },
  {
   "cell_type": "markdown",
   "id": "attended-visiting",
   "metadata": {},
   "source": [
    "## Emotion Analysis"
   ]
  },
  {
   "cell_type": "markdown",
   "id": "accredited-treasury",
   "metadata": {},
   "source": [
    "### Source Tweets"
   ]
  },
  {
   "cell_type": "code",
   "execution_count": 14,
   "id": "neutral-madrid",
   "metadata": {},
   "outputs": [
    {
     "data": {
      "text/plain": [
       "anger       0.599401\n",
       "joy         0.204296\n",
       "sadness     0.173327\n",
       "optimism    0.022977\n",
       "Name: src_emo_ro, dtype: float64"
      ]
     },
     "execution_count": 14,
     "metadata": {},
     "output_type": "execute_result"
    }
   ],
   "source": [
    "src_tw_df['src_emo_ro'].value_counts(normalize=True)"
   ]
  },
  {
   "cell_type": "code",
   "execution_count": 10,
   "id": "following-niger",
   "metadata": {},
   "outputs": [
    {
     "name": "stderr",
     "output_type": "stream",
     "text": [
      "posx and posy should be finite values\n",
      "posx and posy should be finite values\n",
      "posx and posy should be finite values\n",
      "posx and posy should be finite values\n"
     ]
    },
    {
     "data": {
      "image/png": "[encoded data removed]",
      "text/plain": [
       "<Figure size 432x288 with 1 Axes>"
      ]
     },
     "metadata": {
      "needs_background": "light"
     },
     "output_type": "display_data"
    }
   ],
   "source": [
    "g = src_tw_df.groupby(['label'])['src_emo_ro'].value_counts(normalize=True).mul(100).rename('count').reset_index()\\\n",
    ".pipe((sns.barplot,'data'), x ='label',y='count',hue='src_emo_ro',palette=\"vlag\")\n",
    "\n",
    "g.axes.set_ylim(0,100)\n",
    "g.axes.set_xticklabels(['Non-rumor','Rumor'])\n",
    "g.axes.set_ylabel('Count (%)')\n",
    "\n",
    "for p in g.axes.patches:\n",
    "    txt = str(p.get_height().round(1)) + '%'\n",
    "    txt_x = p.get_x() \n",
    "    txt_y = p.get_height()\n",
    "    g.axes.text(txt_x,txt_y,txt)\n",
    "plt.title('Emotion Analysis of Source tweet (for each label).',fontsize=12)\n",
    "plt.savefig('D:/論文/PHEME9/Code/graph/charliehebdo/src-emotion.pdf',dpi=300)"
   ]
  },
  {
   "cell_type": "markdown",
   "id": "liberal-factor",
   "metadata": {},
   "source": [
    "### Reply Tweets"
   ]
  },
  {
   "cell_type": "code",
   "execution_count": 11,
   "id": "foreign-metabolism",
   "metadata": {},
   "outputs": [
    {
     "data": {
      "image/png": "[encoded data removed]",
      "text/plain": [
       "<Figure size 432x288 with 1 Axes>"
      ]
     },
     "metadata": {
      "needs_background": "light"
     },
     "output_type": "display_data"
    }
   ],
   "source": [
    "g =df.groupby(['label'])['reply_emo_ro'].value_counts(normalize=True).mul(100).rename('count').reset_index()\\\n",
    ".pipe((sns.barplot,'data'), x ='label',y='count',hue='reply_emo_ro',palette=\"Set3\")\n",
    "\n",
    "g.axes.set_ylim(0,100)\n",
    "g.axes.set_xticklabels(['Non-rumor','Rumor'])\n",
    "g.axes.set_ylabel('Count (%)')\n",
    "\n",
    "for p in g.axes.patches:\n",
    "    txt = str(p.get_height().round(1)) + '%'\n",
    "    txt_x = p.get_x() \n",
    "    txt_y = p.get_height()\n",
    "    g.axes.text(txt_x,txt_y,txt)\n",
    "plt.title('Emotion Analysis of Reply tweet (for each label).',fontsize=12)\n",
    "plt.savefig('D:/論文/PHEME9/Code/graph/charliehebdo/reply-emotion.pdf',dpi=300)"
   ]
  },
  {
   "cell_type": "code",
   "execution_count": null,
   "id": "close-assistant",
   "metadata": {},
   "outputs": [],
   "source": []
  }
 ],
 "metadata": {
  "kernelspec": {
   "display_name": "Python 3",
   "language": "python",
   "name": "python3"
  },
  "language_info": {
   "codemirror_mode": {
    "name": "ipython",
    "version": 3
   },
   "file_extension": ".py",
   "mimetype": "text/x-python",
   "name": "python",
   "nbconvert_exporter": "python",
   "pygments_lexer": "ipython3",
   "version": "3.9.1"
  },
  "toc-autonumbering": true,
  "toc-showmarkdowntxt": false
 },
 "nbformat": 4,
 "nbformat_minor": 5
}
