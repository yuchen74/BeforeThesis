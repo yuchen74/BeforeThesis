{
 "cells": [
  {
   "cell_type": "code",
   "execution_count": 1,
   "metadata": {},
   "outputs": [],
   "source": [
    "import numpy as np\n",
    "import pandas as pd\n",
    "import datetime \n",
    "import matplotlib.pyplot as plt\n",
    "import seaborn as sns"
   ]
  },
  {
   "cell_type": "code",
   "execution_count": 2,
   "metadata": {},
   "outputs": [
    {
     "name": "stderr",
     "output_type": "stream",
     "text": [
      "<ipython-input-2-3b5970faf0be>:2: FutureWarning: Passing a negative integer is deprecated in version 1.0 and will not be supported in future version. Instead, use None to not limit the column width.\n",
      "  pd.set_option('display.max_colwidth', -1)\n"
     ]
    }
   ],
   "source": [
    "# to display full text\n",
    "pd.set_option('display.max_colwidth', -1)"
   ]
  },
  {
   "cell_type": "code",
   "execution_count": 3,
   "metadata": {},
   "outputs": [],
   "source": [
    "df = pd.read_csv(r'D:\\論文\\PHEME9\\Data\\CSV\\charliehebdo.csv', encoding = 'utf-8', header = None)"
   ]
  },
  {
   "cell_type": "code",
   "execution_count": 4,
   "metadata": {},
   "outputs": [],
   "source": [
    "df.columns = ['src_tweet_id', 'src_user_id', 'src_tweet','src_date','reply_tweet_id','reply_user_id','reply_tweet','reply_date', 'label']"
   ]
  },
  {
   "cell_type": "code",
   "execution_count": 5,
   "metadata": {},
   "outputs": [
    {
     "data": {
      "text/html": [
       "<div>\n",
       "<style scoped>\n",
       "    .dataframe tbody tr th:only-of-type {\n",
       "        vertical-align: middle;\n",
       "    }\n",
       "\n",
       "    .dataframe tbody tr th {\n",
       "        vertical-align: top;\n",
       "    }\n",
       "\n",
       "    .dataframe thead th {\n",
       "        text-align: right;\n",
       "    }\n",
       "</style>\n",
       "<table border=\"1\" class=\"dataframe\">\n",
       "  <thead>\n",
       "    <tr style=\"text-align: right;\">\n",
       "      <th></th>\n",
       "      <th>src_tweet_id</th>\n",
       "      <th>src_user_id</th>\n",
       "      <th>src_tweet</th>\n",
       "      <th>src_date</th>\n",
       "      <th>reply_tweet_id</th>\n",
       "      <th>reply_user_id</th>\n",
       "      <th>reply_tweet</th>\n",
       "      <th>reply_date</th>\n",
       "      <th>label</th>\n",
       "    </tr>\n",
       "  </thead>\n",
       "  <tbody>\n",
       "    <tr>\n",
       "      <th>0</th>\n",
       "      <td>552784600502915072</td>\n",
       "      <td>331658004</td>\n",
       "      <td>Charlie Hebdo became well known for publishing the Muhammed cartoons two years ago</td>\n",
       "      <td>Wed Jan 07 11:11:33 +0000 2015</td>\n",
       "      <td>552785249420447745</td>\n",
       "      <td>18370911</td>\n",
       "      <td>Now 10 dead in a shooting there today RT \"@BBCDanielS: Charlie Hebdo became well known for publishing the Muhammed cartoons two years ago”</td>\n",
       "      <td>Wed Jan 07 11:14:08 +0000 2015</td>\n",
       "      <td>0</td>\n",
       "    </tr>\n",
       "    <tr>\n",
       "      <th>1</th>\n",
       "      <td>552784600502915072</td>\n",
       "      <td>331658004</td>\n",
       "      <td>Charlie Hebdo became well known for publishing the Muhammed cartoons two years ago</td>\n",
       "      <td>Wed Jan 07 11:11:33 +0000 2015</td>\n",
       "      <td>552786761534144512</td>\n",
       "      <td>2806109387</td>\n",
       "      <td>@BBCDanielS @BBCWorld I'm guessing this is being considered terrorism right now or lone wolf?</td>\n",
       "      <td>Wed Jan 07 11:20:08 +0000 2015</td>\n",
       "      <td>0</td>\n",
       "    </tr>\n",
       "    <tr>\n",
       "      <th>2</th>\n",
       "      <td>552784600502915072</td>\n",
       "      <td>331658004</td>\n",
       "      <td>Charlie Hebdo became well known for publishing the Muhammed cartoons two years ago</td>\n",
       "      <td>Wed Jan 07 11:11:33 +0000 2015</td>\n",
       "      <td>552786803884060672</td>\n",
       "      <td>146142164</td>\n",
       "      <td>@BBCDanielS @BBCWorld why would you mention that before knowing the facts #islamphobiaatitsbest</td>\n",
       "      <td>Wed Jan 07 11:20:18 +0000 2015</td>\n",
       "      <td>0</td>\n",
       "    </tr>\n",
       "    <tr>\n",
       "      <th>3</th>\n",
       "      <td>552784600502915072</td>\n",
       "      <td>331658004</td>\n",
       "      <td>Charlie Hebdo became well known for publishing the Muhammed cartoons two years ago</td>\n",
       "      <td>Wed Jan 07 11:11:33 +0000 2015</td>\n",
       "      <td>552786954656710656</td>\n",
       "      <td>940853760</td>\n",
       "      <td>@BBCDanielS @BBCWorld perps identified?</td>\n",
       "      <td>Wed Jan 07 11:20:54 +0000 2015</td>\n",
       "      <td>0</td>\n",
       "    </tr>\n",
       "    <tr>\n",
       "      <th>4</th>\n",
       "      <td>552784600502915072</td>\n",
       "      <td>331658004</td>\n",
       "      <td>Charlie Hebdo became well known for publishing the Muhammed cartoons two years ago</td>\n",
       "      <td>Wed Jan 07 11:11:33 +0000 2015</td>\n",
       "      <td>552787979224092672</td>\n",
       "      <td>2888783532</td>\n",
       "      <td>@BBCDanielS @BBCWorld who is charlie hebdo?</td>\n",
       "      <td>Wed Jan 07 11:24:59 +0000 2015</td>\n",
       "      <td>0</td>\n",
       "    </tr>\n",
       "  </tbody>\n",
       "</table>\n",
       "</div>"
      ],
      "text/plain": [
       "         src_tweet_id  src_user_id  \\\n",
       "0  552784600502915072  331658004     \n",
       "1  552784600502915072  331658004     \n",
       "2  552784600502915072  331658004     \n",
       "3  552784600502915072  331658004     \n",
       "4  552784600502915072  331658004     \n",
       "\n",
       "                                                                            src_tweet  \\\n",
       "0  Charlie Hebdo became well known for publishing the Muhammed cartoons two years ago   \n",
       "1  Charlie Hebdo became well known for publishing the Muhammed cartoons two years ago   \n",
       "2  Charlie Hebdo became well known for publishing the Muhammed cartoons two years ago   \n",
       "3  Charlie Hebdo became well known for publishing the Muhammed cartoons two years ago   \n",
       "4  Charlie Hebdo became well known for publishing the Muhammed cartoons two years ago   \n",
       "\n",
       "                         src_date      reply_tweet_id  reply_user_id  \\\n",
       "0  Wed Jan 07 11:11:33 +0000 2015  552785249420447745  18370911        \n",
       "1  Wed Jan 07 11:11:33 +0000 2015  552786761534144512  2806109387      \n",
       "2  Wed Jan 07 11:11:33 +0000 2015  552786803884060672  146142164       \n",
       "3  Wed Jan 07 11:11:33 +0000 2015  552786954656710656  940853760       \n",
       "4  Wed Jan 07 11:11:33 +0000 2015  552787979224092672  2888783532      \n",
       "\n",
       "                                                                                                                                  reply_tweet  \\\n",
       "0  Now 10 dead in a shooting there today RT \"@BBCDanielS: Charlie Hebdo became well known for publishing the Muhammed cartoons two years ago”   \n",
       "1  @BBCDanielS @BBCWorld I'm guessing this is being considered terrorism right now or lone wolf?                                                \n",
       "2  @BBCDanielS @BBCWorld why would you mention that before knowing the facts #islamphobiaatitsbest                                              \n",
       "3  @BBCDanielS @BBCWorld perps identified?                                                                                                      \n",
       "4  @BBCDanielS @BBCWorld who is charlie hebdo?                                                                                                  \n",
       "\n",
       "                       reply_date  label  \n",
       "0  Wed Jan 07 11:14:08 +0000 2015  0      \n",
       "1  Wed Jan 07 11:20:08 +0000 2015  0      \n",
       "2  Wed Jan 07 11:20:18 +0000 2015  0      \n",
       "3  Wed Jan 07 11:20:54 +0000 2015  0      \n",
       "4  Wed Jan 07 11:24:59 +0000 2015  0      "
      ]
     },
     "execution_count": 5,
     "metadata": {},
     "output_type": "execute_result"
    }
   ],
   "source": [
    "df.head()"
   ]
  },
  {
   "cell_type": "code",
   "execution_count": 6,
   "metadata": {},
   "outputs": [
    {
     "data": {
      "text/plain": [
       "(36189, 9)"
      ]
     },
     "execution_count": 6,
     "metadata": {},
     "output_type": "execute_result"
    }
   ],
   "source": [
    "df.shape"
   ]
  },
  {
   "cell_type": "markdown",
   "metadata": {},
   "source": [
    "+ change data type"
   ]
  },
  {
   "cell_type": "code",
   "execution_count": 7,
   "metadata": {},
   "outputs": [],
   "source": [
    "df.src_tweet_id = df.src_tweet_id.astype(str)\n",
    "df.src_user_id = df.src_user_id.astype(str)\n",
    "\n",
    "df.reply_tweet_id = df.reply_tweet_id.astype(str)\n",
    "df.reply_tweet_id = df.reply_tweet_id.replace('nan',np.nan)\n",
    "\n",
    "df.reply_user_id = df.reply_user_id.astype(str)\n",
    "df.reply_user_id = df.reply_user_id.replace('nan',np.nan)\n",
    "\n",
    "df.src_date = df.src_date.apply(pd.to_datetime)\n",
    "df.reply_date = df.reply_date.apply(pd.to_datetime)\n",
    "\n",
    "df.reply_tweet = df.reply_tweet.replace(np.nan,\"\")"
   ]
  },
  {
   "cell_type": "markdown",
   "metadata": {},
   "source": [
    "+ Source Tweet Data: **src_tw_df**"
   ]
  },
  {
   "cell_type": "code",
   "execution_count": 8,
   "metadata": {},
   "outputs": [],
   "source": [
    "#Source tweet data\n",
    "src_tw_df = df.iloc[:,[0,1,2,3,8]].copy()\n",
    "src_tw_df = src_tw_df.drop_duplicates().reset_index()"
   ]
  },
  {
   "cell_type": "code",
   "execution_count": 9,
   "metadata": {},
   "outputs": [
    {
     "data": {
      "text/html": [
       "<div>\n",
       "<style scoped>\n",
       "    .dataframe tbody tr th:only-of-type {\n",
       "        vertical-align: middle;\n",
       "    }\n",
       "\n",
       "    .dataframe tbody tr th {\n",
       "        vertical-align: top;\n",
       "    }\n",
       "\n",
       "    .dataframe thead th {\n",
       "        text-align: right;\n",
       "    }\n",
       "</style>\n",
       "<table border=\"1\" class=\"dataframe\">\n",
       "  <thead>\n",
       "    <tr style=\"text-align: right;\">\n",
       "      <th></th>\n",
       "      <th>index</th>\n",
       "      <th>src_tweet_id</th>\n",
       "      <th>src_user_id</th>\n",
       "      <th>src_tweet</th>\n",
       "      <th>src_date</th>\n",
       "      <th>label</th>\n",
       "    </tr>\n",
       "  </thead>\n",
       "  <tbody>\n",
       "    <tr>\n",
       "      <th>0</th>\n",
       "      <td>0</td>\n",
       "      <td>552784600502915072</td>\n",
       "      <td>331658004</td>\n",
       "      <td>Charlie Hebdo became well known for publishing the Muhammed cartoons two years ago</td>\n",
       "      <td>2015-01-07 11:11:33+00:00</td>\n",
       "      <td>0</td>\n",
       "    </tr>\n",
       "    <tr>\n",
       "      <th>1</th>\n",
       "      <td>39</td>\n",
       "      <td>552784898743099392</td>\n",
       "      <td>465973</td>\n",
       "      <td>Charlie Hebdo’s Last Tweet Before Shootings http://t.co/9Oa2xAqOcM http://t.co/skJHNEQcn0</td>\n",
       "      <td>2015-01-07 11:12:44+00:00</td>\n",
       "      <td>0</td>\n",
       "    </tr>\n",
       "    <tr>\n",
       "      <th>2</th>\n",
       "      <td>48</td>\n",
       "      <td>552785391653494784</td>\n",
       "      <td>15798091</td>\n",
       "      <td>Prediction: the #CharlieHebdo massacre will not dent the political class's complacency one iota</td>\n",
       "      <td>2015-01-07 11:14:42+00:00</td>\n",
       "      <td>0</td>\n",
       "    </tr>\n",
       "    <tr>\n",
       "      <th>3</th>\n",
       "      <td>79</td>\n",
       "      <td>552786116404072448</td>\n",
       "      <td>465973</td>\n",
       "      <td>10:28am Charlie Hebdo account mocks ISIS leader, wishing him \"good health and best wishes\" http://t.co/9Oa2xAqOcM http://t.co/uYXayKLA7q</td>\n",
       "      <td>2015-01-07 11:17:35+00:00</td>\n",
       "      <td>0</td>\n",
       "    </tr>\n",
       "    <tr>\n",
       "      <th>4</th>\n",
       "      <td>84</td>\n",
       "      <td>552786299875520512</td>\n",
       "      <td>144301368</td>\n",
       "      <td>If your faith isn't strong enough to cope with satirical poke, it oughtn't be strong enough to induce you to kill. Barbaric #CharlieHebdo</td>\n",
       "      <td>2015-01-07 11:18:18+00:00</td>\n",
       "      <td>0</td>\n",
       "    </tr>\n",
       "  </tbody>\n",
       "</table>\n",
       "</div>"
      ],
      "text/plain": [
       "   index        src_tweet_id src_user_id  \\\n",
       "0  0      552784600502915072  331658004    \n",
       "1  39     552784898743099392  465973       \n",
       "2  48     552785391653494784  15798091     \n",
       "3  79     552786116404072448  465973       \n",
       "4  84     552786299875520512  144301368    \n",
       "\n",
       "                                                                                                                                   src_tweet  \\\n",
       "0  Charlie Hebdo became well known for publishing the Muhammed cartoons two years ago                                                          \n",
       "1  Charlie Hebdo’s Last Tweet Before Shootings http://t.co/9Oa2xAqOcM http://t.co/skJHNEQcn0                                                   \n",
       "2  Prediction: the #CharlieHebdo massacre will not dent the political class's complacency one iota                                             \n",
       "3  10:28am Charlie Hebdo account mocks ISIS leader, wishing him \"good health and best wishes\" http://t.co/9Oa2xAqOcM http://t.co/uYXayKLA7q    \n",
       "4  If your faith isn't strong enough to cope with satirical poke, it oughtn't be strong enough to induce you to kill. Barbaric #CharlieHebdo   \n",
       "\n",
       "                   src_date  label  \n",
       "0 2015-01-07 11:11:33+00:00  0      \n",
       "1 2015-01-07 11:12:44+00:00  0      \n",
       "2 2015-01-07 11:14:42+00:00  0      \n",
       "3 2015-01-07 11:17:35+00:00  0      \n",
       "4 2015-01-07 11:18:18+00:00  0      "
      ]
     },
     "execution_count": 9,
     "metadata": {},
     "output_type": "execute_result"
    }
   ],
   "source": [
    "src_tw_df.head()"
   ]
  },
  {
   "cell_type": "markdown",
   "metadata": {},
   "source": [
    "# EDA"
   ]
  },
  {
   "cell_type": "markdown",
   "metadata": {},
   "source": [
    "## Missing Value"
   ]
  },
  {
   "cell_type": "code",
   "execution_count": 10,
   "metadata": {},
   "outputs": [
    {
     "data": {
      "text/plain": [
       "src_tweet_id      0\n",
       "src_user_id       0\n",
       "src_tweet         0\n",
       "src_date          0\n",
       "reply_tweet_id    0\n",
       "reply_user_id     0\n",
       "reply_tweet       0\n",
       "reply_date        0\n",
       "label             0\n",
       "dtype: int64"
      ]
     },
     "execution_count": 10,
     "metadata": {},
     "output_type": "execute_result"
    }
   ],
   "source": [
    "df.isnull().sum()"
   ]
  },
  {
   "cell_type": "markdown",
   "metadata": {},
   "source": [
    "+ drop rows where there is missing value."
   ]
  },
  {
   "cell_type": "code",
   "execution_count": 11,
   "metadata": {},
   "outputs": [],
   "source": [
    "df.dropna(inplace=True)"
   ]
  },
  {
   "cell_type": "markdown",
   "metadata": {},
   "source": [
    "## Statistics"
   ]
  },
  {
   "cell_type": "code",
   "execution_count": 12,
   "metadata": {},
   "outputs": [
    {
     "name": "stdout",
     "output_type": "stream",
     "text": [
      "# of source tweets: 2002\n",
      "# of source users: 1006\n",
      "# of reply users: 17992\n",
      "# of reply tweets: 36189\n"
     ]
    }
   ],
   "source": [
    "print(\"# of source tweets:\",src_tw_df.src_tweet_id.nunique())\n",
    "print(\"# of source users:\",src_tw_df.src_user_id.nunique())\n",
    "print(\"# of reply users:\",df.reply_user_id.nunique())\n",
    "print(\"# of reply tweets:\",df.reply_tweet_id.nunique())"
   ]
  },
  {
   "cell_type": "markdown",
   "metadata": {},
   "source": [
    "## Visualiztion "
   ]
  },
  {
   "cell_type": "code",
   "execution_count": 13,
   "metadata": {},
   "outputs": [
    {
     "data": {
      "image/png": "[encoded data removed]",
      "text/plain": [
       "<Figure size 432x288 with 1 Axes>"
      ]
     },
     "metadata": {
      "needs_background": "light"
     },
     "output_type": "display_data"
    }
   ],
   "source": [
    "reply_user = df.reply_user_id.value_counts().sort_values(ascending=False).to_frame()\n",
    "reply_user.rename(columns={'reply_user_id' :'count'},inplace=True)\n",
    "sns.boxplot(data=reply_user ,x='count')\n",
    "plt.title(\"A few users replied multiple times\")\n",
    "plt.savefig('graph/charliehebdo/reply_user-1.pdf',dpi=300)"
   ]
  },
  {
   "cell_type": "code",
   "execution_count": 15,
   "metadata": {},
   "outputs": [
    {
     "data": {
      "text/plain": [
       "5143"
      ]
     },
     "execution_count": 15,
     "metadata": {},
     "output_type": "execute_result"
    }
   ],
   "source": [
    "more_freq_reply_user = reply_user.loc[reply_user['count'] > 1].index\n",
    "len(more_freq_reply_user)"
   ]
  },
  {
   "cell_type": "code",
   "execution_count": 16,
   "metadata": {},
   "outputs": [
    {
     "data": {
      "image/png": "[encoded data removed]",
      "text/plain": [
       "<Figure size 432x288 with 1 Axes>"
      ]
     },
     "metadata": {
      "needs_background": "light"
     },
     "output_type": "display_data"
    }
   ],
   "source": [
    "more_freq = df[df['reply_user_id'].isin(more_freq_reply_user)]\n",
    "# more_freq.label.value_counts().\n",
    "sns.countplot(data=more_freq ,x='label')\n",
    "plt.title('Frequent users replied more to rumours')\n",
    "plt.savefig('graph/prince-toronto/reply_user-2.pdf',dpi=300)"
   ]
  },
  {
   "cell_type": "code",
   "execution_count": 17,
   "metadata": {},
   "outputs": [
    {
     "name": "stdout",
     "output_type": "stream",
     "text": [
      "           count\n",
      "7587032    44   \n",
      "16973333   44   \n",
      "5402612    41   \n",
      "64643056   39   \n",
      "3108351    38   \n",
      "...        ..   \n",
      "86516574   1    \n",
      "257824868  1    \n",
      "36311109   1    \n",
      "30886757   1    \n",
      "169272033  1    \n",
      "\n",
      "[1006 rows x 1 columns]\n"
     ]
    },
    {
     "data": {
      "image/png": "[encoded data removed]",
      "text/plain": [
       "<Figure size 432x288 with 1 Axes>"
      ]
     },
     "metadata": {
      "needs_background": "light"
     },
     "output_type": "display_data"
    },
    {
     "data": {
      "text/plain": [
       "<Figure size 432x288 with 0 Axes>"
      ]
     },
     "metadata": {},
     "output_type": "display_data"
    }
   ],
   "source": [
    "source_user = src_tw_df.src_user_id.value_counts().sort_values(ascending=False).to_frame()\n",
    "source_user.rename(columns={'src_user_id' :'count'},inplace=True)\n",
    "print(source_user)\n",
    "sns.boxplot(data=source_user ,x='count')\n",
    "plt.title('a few user tweeted more than once',fontsize = 12)\n",
    "plt.show()\n",
    "plt.savefig('graph/charliehebdo/source_user-1.pdf',dpi=300)"
   ]
  },
  {
   "cell_type": "code",
   "execution_count": 18,
   "metadata": {},
   "outputs": [
    {
     "data": {
      "image/png": "[encoded data removed]",
      "text/plain": [
       "<Figure size 432x288 with 1 Axes>"
      ]
     },
     "metadata": {
      "needs_background": "light"
     },
     "output_type": "display_data"
    }
   ],
   "source": [
    "more_freq_src_user = source_user.loc[source_user['count'] > 1].index\n",
    "more_freq_src_user\n",
    "more_freq = src_tw_df[src_tw_df['src_user_id'].isin(more_freq_src_user)]\n",
    "# more_freq.label.value_counts().\n",
    "sns.countplot(data=more_freq ,x='label')\n",
    "plt.title('Most of source tweets posted by frequent users were rumours.')\n",
    "plt.savefig('graph/charliehebdo/src_user-2.pdf',dpi=300)"
   ]
  },
  {
   "cell_type": "code",
   "execution_count": null,
   "metadata": {},
   "outputs": [],
   "source": [
    "df.groupby('src_tweet_id')['label'].value_counts().sort_values('label')#.plot(kind = 'bar')\n",
    "# plt.title('Rumour tweet are more than non-rumor tweet',fontsize = 14)\n",
    "# plt.xlabel('Rumor / Non-Rumour', fontsize=12)\n",
    "# plt.ylabel('Count', fontsize=12)\n",
    "# plt.show()"
   ]
  }
 ],
 "metadata": {
  "kernelspec": {
   "display_name": "Python 3",
   "language": "python",
   "name": "python3"
  },
  "language_info": {
   "codemirror_mode": {
    "name": "ipython",
    "version": 3
   },
   "file_extension": ".py",
   "mimetype": "text/x-python",
   "name": "python",
   "nbconvert_exporter": "python",
   "pygments_lexer": "ipython3",
   "version": "3.9.1"
  },
  "toc-autonumbering": false,
  "toc-showmarkdowntxt": true
 },
 "nbformat": 4,
 "nbformat_minor": 4
}
