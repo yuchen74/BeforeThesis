{
 "cells": [
  {
   "cell_type": "markdown",
   "id": "excessive-practice",
   "metadata": {},
   "source": [
    "# Dataset: *charliehebdo*"
   ]
  },
  {
   "cell_type": "markdown",
   "id": "imposed-hunger",
   "metadata": {},
   "source": [
    "- df.to_csv(r'D:\\論文\\PHEME9\\Data\\CSV\\charliehebdo-df.csv',index=False)\n",
    "- src_tw_df.to_csv(r'D:\\論文\\PHEME9\\Data\\CSV\\charliehebdo-src.csv',index=False)"
   ]
  },
  {
   "cell_type": "code",
   "execution_count": 1,
   "id": "available-simon",
   "metadata": {},
   "outputs": [],
   "source": [
    "import numpy as np\n",
    "import pandas as pd\n",
    "import datetime \n",
    "import matplotlib.pyplot as plt\n",
    "import seaborn as sns"
   ]
  },
  {
   "cell_type": "code",
   "execution_count": 2,
   "id": "processed-guitar",
   "metadata": {},
   "outputs": [
    {
     "name": "stdout",
     "output_type": "stream",
     "text": [
      "INFO:tensorflow:Enabling eager execution\n",
      "INFO:tensorflow:Enabling v2 tensorshape\n",
      "INFO:tensorflow:Enabling resource variables\n",
      "INFO:tensorflow:Enabling tensor equality\n",
      "INFO:tensorflow:Enabling control flow v2\n"
     ]
    }
   ],
   "source": [
    "from transformers import AutoTokenizer, AutoModelWithLMHead, AutoModelForSequenceClassification"
   ]
  },
  {
   "cell_type": "code",
   "execution_count": 2,
   "id": "dependent-factor",
   "metadata": {},
   "outputs": [
    {
     "name": "stdout",
     "output_type": "stream",
     "text": [
      "(36189, 11)\n",
      "(2002, 7)\n"
     ]
    }
   ],
   "source": [
    "df = pd.read_csv(r'D:\\論文\\PHEME9\\Data\\CSV\\charliehebdo-df.csv', encoding = 'utf-8', header = 0)\n",
    "src_tw_df = pd.read_csv(r'D:\\論文\\PHEME9\\Data\\CSV\\charliehebdo-src.csv', encoding = 'utf-8', header =0)\n",
    "print(df.shape)\n",
    "print(src_tw_df.shape)"
   ]
  },
  {
   "cell_type": "code",
   "execution_count": 3,
   "id": "smooth-boost",
   "metadata": {},
   "outputs": [
    {
     "data": {
      "text/plain": [
       "reply_tweet         @neesa_h @GabTarquini @BBCDanielS @BBCWorld Gr...\n",
       "cleaned_reply_tw         great not see thousands protest hijack islam\n",
       "reply_sentiment                                              Positive\n",
       "Name: 23, dtype: object"
      ]
     },
     "execution_count": 3,
     "metadata": {},
     "output_type": "execute_result"
    }
   ],
   "source": [
    "df.loc[23,['reply_tweet','cleaned_reply_tw','reply_sentiment']]"
   ]
  },
  {
   "cell_type": "code",
   "execution_count": 11,
   "id": "personalized-indian",
   "metadata": {},
   "outputs": [
    {
     "data": {
      "text/plain": [
       "src_tweet_id           0\n",
       "src_user_id            0\n",
       "src_tweet              0\n",
       "src_date               0\n",
       "reply_tweet_id         0\n",
       "reply_user_id          0\n",
       "reply_tweet            0\n",
       "reply_date             0\n",
       "label                  0\n",
       "cleaned_reply_tw    2561\n",
       "reply_sentiment        0\n",
       "dtype: int64"
      ]
     },
     "execution_count": 11,
     "metadata": {},
     "output_type": "execute_result"
    }
   ],
   "source": [
    "df.isnull().sum()"
   ]
  },
  {
   "cell_type": "code",
   "execution_count": 12,
   "id": "personalized-holly",
   "metadata": {},
   "outputs": [
    {
     "data": {
      "text/plain": [
       "(33628, 11)"
      ]
     },
     "execution_count": 12,
     "metadata": {},
     "output_type": "execute_result"
    }
   ],
   "source": [
    "df.dropna(inplace = True)\n",
    "df.reset_index(drop=True,inplace=True)\n",
    "df.shape"
   ]
  },
  {
   "cell_type": "code",
   "execution_count": 13,
   "id": "scientific-munich",
   "metadata": {},
   "outputs": [
    {
     "data": {
      "text/plain": [
       "src_tweet_id       0\n",
       "src_user_id        0\n",
       "src_tweet          0\n",
       "src_date           0\n",
       "label              0\n",
       "cleaned_src_tw    17\n",
       "src_sentiment      0\n",
       "dtype: int64"
      ]
     },
     "execution_count": 13,
     "metadata": {},
     "output_type": "execute_result"
    }
   ],
   "source": [
    "src_tw_df.isnull().sum()"
   ]
  },
  {
   "cell_type": "code",
   "execution_count": 14,
   "id": "protective-purse",
   "metadata": {},
   "outputs": [
    {
     "data": {
      "text/plain": [
       "119     RT #JeSuisCharlie In support of #CharlieHebdo....\n",
       "267     “If liberty means anything at all, it means th...\n",
       "328     RT to fuck terrorism http://t.co/7SHjMeJ0iD ht...\n",
       "344     RT this cartoon and pay your tribute\\nshow the...\n",
       "377     RT this cartoon and pay your tribute\\nshow the...\n",
       "392     RT @froomkin: #CharlieHebdo’s Charb: \"I would ...\n",
       "686     RT @socdec: #Charb, cartoonist killed in #Pari...\n",
       "753     RT @mkapral Today's French lesson. #JeSuisChar...\n",
       "765     RT @Beltrew: A few of the best cartoons drawn ...\n",
       "807     RT @LatuffCartoons: So now let's talk seriousl...\n",
       "903     “17 journalists massacres by Israel in Gaza, 2...\n",
       "974     RT @charliesaidthat: The Earth without Art is ...\n",
       "1084    RT - If you support this #freedom fighter! #St...\n",
       "1198    THIS: RT @LatuffCartoons: let's talk seriously...\n",
       "1639    “@LePoint: #CharlieHebdo : “The cartoonists Ch...\n",
       "1665    “I don’t feel as though I’m killing someone wi...\n",
       "1716    RT @JeffersonObama: R.I.P. Ahmed Merabet, a Fr...\n",
       "Name: src_tweet, dtype: object"
      ]
     },
     "execution_count": 14,
     "metadata": {},
     "output_type": "execute_result"
    }
   ],
   "source": [
    "src_tw_df[src_tw_df.cleaned_src_tw.isnull()].src_tweet"
   ]
  },
  {
   "cell_type": "code",
   "execution_count": 15,
   "id": "spread-clarity",
   "metadata": {},
   "outputs": [
    {
     "data": {
      "text/html": [
       "<div>\n",
       "<style scoped>\n",
       "    .dataframe tbody tr th:only-of-type {\n",
       "        vertical-align: middle;\n",
       "    }\n",
       "\n",
       "    .dataframe tbody tr th {\n",
       "        vertical-align: top;\n",
       "    }\n",
       "\n",
       "    .dataframe thead th {\n",
       "        text-align: right;\n",
       "    }\n",
       "</style>\n",
       "<table border=\"1\" class=\"dataframe\">\n",
       "  <thead>\n",
       "    <tr style=\"text-align: right;\">\n",
       "      <th></th>\n",
       "      <th>reply_tweet</th>\n",
       "      <th>cleaned_reply_tw</th>\n",
       "    </tr>\n",
       "  </thead>\n",
       "  <tbody>\n",
       "    <tr>\n",
       "      <th>2649</th>\n",
       "      <td>@Journalism2ls #jesuischarlie</td>\n",
       "      <td>jesuischarlie</td>\n",
       "    </tr>\n",
       "    <tr>\n",
       "      <th>2650</th>\n",
       "      <td>This. And buy a subscription as well ! RT@Jour...</td>\n",
       "      <td>buy subscription well</td>\n",
       "    </tr>\n",
       "    <tr>\n",
       "      <th>5394</th>\n",
       "      <td>@LibertarianGeo @mimitonadzuketa I recognise t...</td>\n",
       "      <td>recognise guy right</td>\n",
       "    </tr>\n",
       "    <tr>\n",
       "      <th>5395</th>\n",
       "      <td>@BreadunCircuses Orwell</td>\n",
       "      <td>orwell</td>\n",
       "    </tr>\n",
       "    <tr>\n",
       "      <th>5396</th>\n",
       "      <td>@LibertarianGeo Thank you! (It was bugging me ...</td>\n",
       "      <td>thank bug couldnt remember</td>\n",
       "    </tr>\n",
       "    <tr>\n",
       "      <th>...</th>\n",
       "      <td>...</td>\n",
       "      <td>...</td>\n",
       "    </tr>\n",
       "    <tr>\n",
       "      <th>30198</th>\n",
       "      <td>@tonyjdell @Mama4Obama1 @JeffersonObama worldwide</td>\n",
       "      <td>worldwide</td>\n",
       "    </tr>\n",
       "    <tr>\n",
       "      <th>30199</th>\n",
       "      <td>@No_Idteaots @Mama4Obama1 @JeffersonObama  Yea...</td>\n",
       "      <td>yeah chop head aint chop theyre cheer</td>\n",
       "    </tr>\n",
       "    <tr>\n",
       "      <th>30200</th>\n",
       "      <td>.@tonyjdell @No_Idteaots @JeffersonObama thank...</td>\n",
       "      <td>thank make easy spot block bye</td>\n",
       "    </tr>\n",
       "    <tr>\n",
       "      <th>30201</th>\n",
       "      <td>@tonyjdell @No_Idteaots @JeffersonObama Seriou...</td>\n",
       "      <td>seriously theyve give chance reform idiotic bu...</td>\n",
       "    </tr>\n",
       "    <tr>\n",
       "      <th>30202</th>\n",
       "      <td>.@Mama4Obama1 @JeffersonObama 💔💔💔💔💔💔💔 #JeSuisM...</td>\n",
       "      <td>brokenheartbrokenheartbrokenheartbrokenheartbr...</td>\n",
       "    </tr>\n",
       "  </tbody>\n",
       "</table>\n",
       "<p>210 rows × 2 columns</p>\n",
       "</div>"
      ],
      "text/plain": [
       "                                             reply_tweet  \\\n",
       "2649                       @Journalism2ls #jesuischarlie   \n",
       "2650   This. And buy a subscription as well ! RT@Jour...   \n",
       "5394   @LibertarianGeo @mimitonadzuketa I recognise t...   \n",
       "5395                             @BreadunCircuses Orwell   \n",
       "5396   @LibertarianGeo Thank you! (It was bugging me ...   \n",
       "...                                                  ...   \n",
       "30198  @tonyjdell @Mama4Obama1 @JeffersonObama worldwide   \n",
       "30199  @No_Idteaots @Mama4Obama1 @JeffersonObama  Yea...   \n",
       "30200  .@tonyjdell @No_Idteaots @JeffersonObama thank...   \n",
       "30201  @tonyjdell @No_Idteaots @JeffersonObama Seriou...   \n",
       "30202  .@Mama4Obama1 @JeffersonObama 💔💔💔💔💔💔💔 #JeSuisM...   \n",
       "\n",
       "                                        cleaned_reply_tw  \n",
       "2649                                       jesuischarlie  \n",
       "2650                               buy subscription well  \n",
       "5394                                 recognise guy right  \n",
       "5395                                              orwell  \n",
       "5396                          thank bug couldnt remember  \n",
       "...                                                  ...  \n",
       "30198                                          worldwide  \n",
       "30199              yeah chop head aint chop theyre cheer  \n",
       "30200                     thank make easy spot block bye  \n",
       "30201  seriously theyve give chance reform idiotic bu...  \n",
       "30202  brokenheartbrokenheartbrokenheartbrokenheartbr...  \n",
       "\n",
       "[210 rows x 2 columns]"
      ]
     },
     "execution_count": 15,
     "metadata": {},
     "output_type": "execute_result"
    }
   ],
   "source": [
    "a = src_tw_df[src_tw_df.cleaned_src_tw.isnull()].src_tweet_id.values\n",
    "df.loc[df.src_tweet_id.isin(a),['reply_tweet','cleaned_reply_tw']]"
   ]
  },
  {
   "cell_type": "markdown",
   "id": "excessive-emergency",
   "metadata": {},
   "source": [
    "## Emotion Analysis"
   ]
  },
  {
   "cell_type": "markdown",
   "id": "dried-suite",
   "metadata": {},
   "source": [
    "### T5 Based\n",
    "<https://huggingface.co/mrm8488/t5-base-finetuned-emotion?text=I+wish+you+were+here+but+it+is+impossible>"
   ]
  },
  {
   "cell_type": "code",
   "execution_count": null,
   "id": "subject-coffee",
   "metadata": {},
   "outputs": [],
   "source": [
    "t5_tokenizer = AutoTokenizer.from_pretrained(\"mrm8488/t5-base-finetuned-emotion\",use_fast=False)\n",
    "t5_model = AutoModelWithLMHead.from_pretrained(\"mrm8488/t5-base-finetuned-emotion\")\n",
    "\n",
    "\n",
    "\n",
    "def get_emotion_t5(text):\n",
    "    input_ids = t5_tokenizer.encode(text , return_tensors='pt')\n",
    "    output = t5_model.generate(input_ids=input_ids,max_length=2)\n",
    "  \n",
    "    dec = [t5_tokenizer.decode(ids) for ids in output]\n",
    "    label = dec[0]\n",
    "    return label"
   ]
  },
  {
   "cell_type": "code",
   "execution_count": null,
   "id": "patient-stretch",
   "metadata": {},
   "outputs": [],
   "source": [
    "emotion_t5 = df.cleaned_reply_tw.astype(str).apply(get_emotion_t5)"
   ]
  },
  {
   "cell_type": "code",
   "execution_count": null,
   "id": "multiple-friendship",
   "metadata": {},
   "outputs": [],
   "source": [
    "df['reply_emo_t5'] = emotion_t5"
   ]
  },
  {
   "cell_type": "code",
   "execution_count": null,
   "id": "solid-luxembourg",
   "metadata": {},
   "outputs": [],
   "source": [
    "import re\n",
    "df['reply_emo_t5'] = df['reply_emo_t5'].apply(lambda x : re.sub('<pad> ',\"\",x))"
   ]
  },
  {
   "cell_type": "code",
   "execution_count": null,
   "id": "joint-muslim",
   "metadata": {},
   "outputs": [],
   "source": [
    "src_emo_t5 = src_tw_df.cleaned_src_tw.astype(str).apply(get_emotion_t5)\n",
    "src_tw_df['src_emo_t5'] = src_emo_t5"
   ]
  },
  {
   "cell_type": "code",
   "execution_count": null,
   "id": "normal-evolution",
   "metadata": {},
   "outputs": [],
   "source": [
    "src_tw_df['src_emo_t5']  = src_tw_df.src_emo_t5.apply(lambda x : re.sub('<pad> ',\"\",x))"
   ]
  },
  {
   "cell_type": "markdown",
   "id": "outstanding-auditor",
   "metadata": {},
   "source": [
    "### roBERTa-base model\n",
    "<https://huggingface.co/cardiffnlp/twitter-roberta-base-emotion>"
   ]
  },
  {
   "cell_type": "code",
   "execution_count": 5,
   "id": "celtic-builder",
   "metadata": {},
   "outputs": [],
   "source": [
    "import numpy as np\n",
    "from scipy.special import softmax\n",
    "\n",
    "task='emotion'\n",
    "MODEL = f\"cardiffnlp/twitter-roberta-base-{task}\"\n",
    "ro_tokenizer = AutoTokenizer.from_pretrained(MODEL)\n",
    "ro_model = AutoModelForSequenceClassification.from_pretrained(MODEL)\n"
   ]
  },
  {
   "cell_type": "code",
   "execution_count": 6,
   "id": "experimental-supplier",
   "metadata": {},
   "outputs": [],
   "source": [
    "def get_emotion_roBERT(text):\n",
    "    \n",
    "    def preprocess(txt):\n",
    "        new_text = []\n",
    "        for t in txt.split(\" \"):\n",
    "            t = '@user' if t.startswith('@') and len(t) > 1 else t\n",
    "            t = 'http' if t.startswith('http') else t\n",
    "            new_text.append(t)\n",
    "        return \" \".join(new_text)\n",
    "    \n",
    "    labels = ['anger','joy','optimism','sadness']\n",
    "    text = preprocess(text)\n",
    "    encoded_input = ro_tokenizer(text, return_tensors='pt')\n",
    "    output = ro_model(**encoded_input)\n",
    "\n",
    "    scores = output[0][0].detach().numpy()\n",
    "    scores = softmax(scores)\n",
    "    ranking = np.argsort(scores)\n",
    "    ranking = ranking[::-1]\n",
    "    emo = labels[ranking[0]]\n",
    "    return emo"
   ]
  },
  {
   "cell_type": "code",
   "execution_count": 7,
   "id": "divided-tension",
   "metadata": {},
   "outputs": [],
   "source": [
    "emotion_ro = df.cleaned_reply_tw.apply(get_emotion_roBERT)"
   ]
  },
  {
   "cell_type": "code",
   "execution_count": 8,
   "id": "sapphire-adelaide",
   "metadata": {},
   "outputs": [],
   "source": [
    "df['reply_emo_ro'] = emotion_ro"
   ]
  },
  {
   "cell_type": "code",
   "execution_count": 10,
   "id": "suited-container",
   "metadata": {},
   "outputs": [],
   "source": [
    "df.to_csv(r'D:\\論文\\PHEME9\\Data\\CSV\\charliehebdo-df-2.csv',index=False)"
   ]
  },
  {
   "cell_type": "code",
   "execution_count": 11,
   "id": "different-wallet",
   "metadata": {},
   "outputs": [],
   "source": [
    "src_emo_ro = src_tw_df.cleaned_src_tw.astype(str).apply(get_emotion_roBERT)\n",
    "src_tw_df['src_emo_ro'] = src_emo_ro"
   ]
  },
  {
   "cell_type": "code",
   "execution_count": 12,
   "id": "promotional-number",
   "metadata": {},
   "outputs": [],
   "source": [
    "src_tw_df.to_csv(r'D:\\論文\\PHEME9\\Data\\CSV\\charliehebdo-src-2.csv',index=False)"
   ]
  },
  {
   "cell_type": "markdown",
   "id": "german-strengthening",
   "metadata": {},
   "source": [
    " - robert : 'anger','joy','optimism','sadness'\n",
    " - t5: 'sadness', 'joy', 'love', 'anger', 'fear', 'surprise' \n",
    " - text2emotion: 'angry, 'fear', 'happy, 'sad', 'surprise'"
   ]
  },
  {
   "cell_type": "code",
   "execution_count": null,
   "id": "narrative-round",
   "metadata": {},
   "outputs": [],
   "source": [
    "print(\"source tweet:\", df.src_tweet[1118],'\\n')\n",
    "print(\"original reply tw: \", df.reply_tweet[1118])\n",
    "print(\"cleaned reply tw: \", df.cleaned_reply_tw[1118])\n",
    "\n",
    "print('roBERT based: ',df.reply_emo_ro[1118])\n",
    "print('t5 based: ',df.reply_emo_t5[1118])\n",
    "print('text2emotion: ', df.reply_emo_te[1118])"
   ]
  },
  {
   "cell_type": "code",
   "execution_count": null,
   "id": "advisory-copying",
   "metadata": {},
   "outputs": [],
   "source": []
  }
 ],
 "metadata": {
  "kernelspec": {
   "display_name": "Python 3",
   "language": "python",
   "name": "python3"
  },
  "language_info": {
   "codemirror_mode": {
    "name": "ipython",
    "version": 3
   },
   "file_extension": ".py",
   "mimetype": "text/x-python",
   "name": "python",
   "nbconvert_exporter": "python",
   "pygments_lexer": "ipython3",
   "version": "3.9.1"
  },
  "toc-autonumbering": true,
  "toc-showmarkdowntxt": false
 },
 "nbformat": 4,
 "nbformat_minor": 5
}
