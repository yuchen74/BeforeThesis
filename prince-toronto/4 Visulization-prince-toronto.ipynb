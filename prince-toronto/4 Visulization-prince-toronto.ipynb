{
 "cells": [
  {
   "cell_type": "markdown",
   "id": "veterinary-modern",
   "metadata": {},
   "source": [
    "# Dataset: *prince-toronto*"
   ]
  },
  {
   "cell_type": "markdown",
   "id": "together-learning",
   "metadata": {},
   "source": [
    "- df.to_csv(r'D:\\論文\\PHEME9\\Data\\CSV\\prince-toronto-df.csv',index=False)\n",
    "- src_tw_df.to_csv(r'D:\\論文\\PHEME9\\Data\\CSV\\prince-toronto-src.csv',index=False)"
   ]
  },
  {
   "cell_type": "code",
   "execution_count": 15,
   "id": "considered-bishop",
   "metadata": {},
   "outputs": [],
   "source": [
    "import numpy as np\n",
    "import pandas as pd\n",
    "import datetime \n",
    "import matplotlib.pyplot as plt\n",
    "import seaborn as sns\n",
    "# from wordcloud import WordCloud,ImageColorGenerator\n",
    "# import nltk\n",
    "# from nltk import FreqDist, word_tokenize"
   ]
  },
  {
   "cell_type": "code",
   "execution_count": 16,
   "id": "close-imaging",
   "metadata": {},
   "outputs": [
    {
     "name": "stdout",
     "output_type": "stream",
     "text": [
      "Index(['src_tweet_id', 'src_user_id', 'src_tweet', 'src_date',\n",
      "       'reply_tweet_id', 'reply_user_id', 'reply_tweet', 'reply_date', 'label',\n",
      "       'cleaned_reply_tw', 'reply_sentiment', 'reply_emo_ro'],\n",
      "      dtype='object')\n",
      "(623, 12)\n"
     ]
    },
    {
     "data": {
      "text/html": [
       "<div>\n",
       "<style scoped>\n",
       "    .dataframe tbody tr th:only-of-type {\n",
       "        vertical-align: middle;\n",
       "    }\n",
       "\n",
       "    .dataframe tbody tr th {\n",
       "        vertical-align: top;\n",
       "    }\n",
       "\n",
       "    .dataframe thead th {\n",
       "        text-align: right;\n",
       "    }\n",
       "</style>\n",
       "<table border=\"1\" class=\"dataframe\">\n",
       "  <thead>\n",
       "    <tr style=\"text-align: right;\">\n",
       "      <th></th>\n",
       "      <th>src_tweet_id</th>\n",
       "      <th>src_user_id</th>\n",
       "      <th>src_tweet</th>\n",
       "      <th>src_date</th>\n",
       "      <th>reply_tweet_id</th>\n",
       "      <th>reply_user_id</th>\n",
       "      <th>reply_tweet</th>\n",
       "      <th>reply_date</th>\n",
       "      <th>label</th>\n",
       "      <th>cleaned_reply_tw</th>\n",
       "      <th>reply_sentiment</th>\n",
       "      <th>reply_emo_ro</th>\n",
       "    </tr>\n",
       "  </thead>\n",
       "  <tbody>\n",
       "    <tr>\n",
       "      <th>0</th>\n",
       "      <td>529590949136326656</td>\n",
       "      <td>842564341</td>\n",
       "      <td>As an aside, Toronto is home to @magpietoronto...</td>\n",
       "      <td>Tue Nov 04 11:08:16 +0000 2014</td>\n",
       "      <td>5.295916e+17</td>\n",
       "      <td>1.538385e+09</td>\n",
       "      <td>@PrinceMuseum @magpietoronto @3RDEYEGIRL Lol, ...</td>\n",
       "      <td>Tue Nov 04 11:11:03 +0000 2014</td>\n",
       "      <td>0</td>\n",
       "      <td>lol hopefully stock summer range pop australia</td>\n",
       "      <td>Positive</td>\n",
       "      <td>joy</td>\n",
       "    </tr>\n",
       "  </tbody>\n",
       "</table>\n",
       "</div>"
      ],
      "text/plain": [
       "         src_tweet_id  src_user_id  \\\n",
       "0  529590949136326656    842564341   \n",
       "\n",
       "                                           src_tweet  \\\n",
       "0  As an aside, Toronto is home to @magpietoronto...   \n",
       "\n",
       "                         src_date  reply_tweet_id  reply_user_id  \\\n",
       "0  Tue Nov 04 11:08:16 +0000 2014    5.295916e+17   1.538385e+09   \n",
       "\n",
       "                                         reply_tweet  \\\n",
       "0  @PrinceMuseum @magpietoronto @3RDEYEGIRL Lol, ...   \n",
       "\n",
       "                       reply_date  label  \\\n",
       "0  Tue Nov 04 11:11:03 +0000 2014      0   \n",
       "\n",
       "                                 cleaned_reply_tw reply_sentiment reply_emo_ro  \n",
       "0  lol hopefully stock summer range pop australia        Positive          joy  "
      ]
     },
     "execution_count": 16,
     "metadata": {},
     "output_type": "execute_result"
    }
   ],
   "source": [
    "df = pd.read_csv(r'D:\\論文\\PHEME9\\Data\\CSV\\prince-toronto-df-2.csv', encoding = 'utf-8', header = 0)\n",
    "print(df.columns)\n",
    "print(df.shape)\n",
    "df.head(1)"
   ]
  },
  {
   "cell_type": "code",
   "execution_count": 17,
   "id": "smaller-scene",
   "metadata": {},
   "outputs": [
    {
     "name": "stdout",
     "output_type": "stream",
     "text": [
      "Index(['src_tweet_id', 'src_user_id', 'src_tweet', 'src_date', 'label',\n",
      "       'cleaned_src_tw', 'src_sentiment', 'src_emo_ro'],\n",
      "      dtype='object')\n",
      "(233, 8)\n"
     ]
    },
    {
     "data": {
      "text/html": [
       "<div>\n",
       "<style scoped>\n",
       "    .dataframe tbody tr th:only-of-type {\n",
       "        vertical-align: middle;\n",
       "    }\n",
       "\n",
       "    .dataframe tbody tr th {\n",
       "        vertical-align: top;\n",
       "    }\n",
       "\n",
       "    .dataframe thead th {\n",
       "        text-align: right;\n",
       "    }\n",
       "</style>\n",
       "<table border=\"1\" class=\"dataframe\">\n",
       "  <thead>\n",
       "    <tr style=\"text-align: right;\">\n",
       "      <th></th>\n",
       "      <th>src_tweet_id</th>\n",
       "      <th>src_user_id</th>\n",
       "      <th>src_tweet</th>\n",
       "      <th>src_date</th>\n",
       "      <th>label</th>\n",
       "      <th>cleaned_src_tw</th>\n",
       "      <th>src_sentiment</th>\n",
       "      <th>src_emo_ro</th>\n",
       "    </tr>\n",
       "  </thead>\n",
       "  <tbody>\n",
       "    <tr>\n",
       "      <th>0</th>\n",
       "      <td>529590949136326656</td>\n",
       "      <td>842564341</td>\n",
       "      <td>As an aside, Toronto is home to @magpietoronto...</td>\n",
       "      <td>Tue Nov 04 11:08:16 +0000 2014</td>\n",
       "      <td>0</td>\n",
       "      <td>aside toronto home prince get lot stage clothe</td>\n",
       "      <td>Neutral</td>\n",
       "      <td>joy</td>\n",
       "    </tr>\n",
       "  </tbody>\n",
       "</table>\n",
       "</div>"
      ],
      "text/plain": [
       "         src_tweet_id  src_user_id  \\\n",
       "0  529590949136326656    842564341   \n",
       "\n",
       "                                           src_tweet  \\\n",
       "0  As an aside, Toronto is home to @magpietoronto...   \n",
       "\n",
       "                         src_date  label  \\\n",
       "0  Tue Nov 04 11:08:16 +0000 2014      0   \n",
       "\n",
       "                                   cleaned_src_tw src_sentiment src_emo_ro  \n",
       "0  aside toronto home prince get lot stage clothe       Neutral        joy  "
      ]
     },
     "execution_count": 17,
     "metadata": {},
     "output_type": "execute_result"
    }
   ],
   "source": [
    "src_tw_df = pd.read_csv(r'D:\\論文\\PHEME9\\Data\\CSV\\prince-toronto-src-2.csv', encoding = 'utf-8', header =0)\n",
    "print(src_tw_df.columns)\n",
    "print(src_tw_df.shape)\n",
    "src_tw_df.head(1)"
   ]
  },
  {
   "cell_type": "code",
   "execution_count": null,
   "id": "representative-bangkok",
   "metadata": {},
   "outputs": [],
   "source": [
    "src_tw_df.loc[src_tw_df.cleaned_src_tw.isnull(),['src_tweet_id','src_tweet','cleaned_src_tw','src_sentiment']]"
   ]
  },
  {
   "cell_type": "code",
   "execution_count": 18,
   "id": "sound-helena",
   "metadata": {},
   "outputs": [
    {
     "data": {
      "text/html": [
       "<div>\n",
       "<style scoped>\n",
       "    .dataframe tbody tr th:only-of-type {\n",
       "        vertical-align: middle;\n",
       "    }\n",
       "\n",
       "    .dataframe tbody tr th {\n",
       "        vertical-align: top;\n",
       "    }\n",
       "\n",
       "    .dataframe thead th {\n",
       "        text-align: right;\n",
       "    }\n",
       "</style>\n",
       "<table border=\"1\" class=\"dataframe\">\n",
       "  <thead>\n",
       "    <tr style=\"text-align: right;\">\n",
       "      <th></th>\n",
       "      <th>src_tweet_id</th>\n",
       "      <th>src_user_id</th>\n",
       "      <th>src_tweet</th>\n",
       "      <th>src_date</th>\n",
       "      <th>reply_tweet_id</th>\n",
       "      <th>reply_user_id</th>\n",
       "      <th>reply_tweet</th>\n",
       "      <th>reply_date</th>\n",
       "      <th>label</th>\n",
       "      <th>cleaned_reply_tw</th>\n",
       "      <th>reply_sentiment</th>\n",
       "      <th>reply_emo_ro</th>\n",
       "      <th>cleaned_src_tw</th>\n",
       "      <th>src_sentiment</th>\n",
       "      <th>src_emo_ro</th>\n",
       "    </tr>\n",
       "  </thead>\n",
       "  <tbody>\n",
       "    <tr>\n",
       "      <th>0</th>\n",
       "      <td>529590949136326656</td>\n",
       "      <td>842564341</td>\n",
       "      <td>As an aside, Toronto is home to @magpietoronto...</td>\n",
       "      <td>Tue Nov 04 11:08:16 +0000 2014</td>\n",
       "      <td>5.295916e+17</td>\n",
       "      <td>1.538385e+09</td>\n",
       "      <td>@PrinceMuseum @magpietoronto @3RDEYEGIRL Lol, ...</td>\n",
       "      <td>Tue Nov 04 11:11:03 +0000 2014</td>\n",
       "      <td>0</td>\n",
       "      <td>lol hopefully stock summer range pop australia</td>\n",
       "      <td>Positive</td>\n",
       "      <td>joy</td>\n",
       "      <td>aside toronto home prince get lot stage clothe</td>\n",
       "      <td>Neutral</td>\n",
       "      <td>joy</td>\n",
       "    </tr>\n",
       "  </tbody>\n",
       "</table>\n",
       "</div>"
      ],
      "text/plain": [
       "         src_tweet_id  src_user_id  \\\n",
       "0  529590949136326656    842564341   \n",
       "\n",
       "                                           src_tweet  \\\n",
       "0  As an aside, Toronto is home to @magpietoronto...   \n",
       "\n",
       "                         src_date  reply_tweet_id  reply_user_id  \\\n",
       "0  Tue Nov 04 11:08:16 +0000 2014    5.295916e+17   1.538385e+09   \n",
       "\n",
       "                                         reply_tweet  \\\n",
       "0  @PrinceMuseum @magpietoronto @3RDEYEGIRL Lol, ...   \n",
       "\n",
       "                       reply_date  label  \\\n",
       "0  Tue Nov 04 11:11:03 +0000 2014      0   \n",
       "\n",
       "                                 cleaned_reply_tw reply_sentiment  \\\n",
       "0  lol hopefully stock summer range pop australia        Positive   \n",
       "\n",
       "  reply_emo_ro                                  cleaned_src_tw src_sentiment  \\\n",
       "0          joy  aside toronto home prince get lot stage clothe       Neutral   \n",
       "\n",
       "  src_emo_ro  \n",
       "0        joy  "
      ]
     },
     "execution_count": 18,
     "metadata": {},
     "output_type": "execute_result"
    }
   ],
   "source": [
    "df1 = pd.merge(df, src_tw_df[['src_tweet_id','cleaned_src_tw','src_sentiment','src_emo_ro']],\\\n",
    "               on='src_tweet_id')\n",
    "df1.head(1)"
   ]
  },
  {
   "cell_type": "code",
   "execution_count": 19,
   "id": "quantitative-painting",
   "metadata": {},
   "outputs": [
    {
     "name": "stdout",
     "output_type": "stream",
     "text": [
      "df's shape:  (623, 12)\n",
      "df1's shape:  (623, 15)\n",
      "src_tw_df's shapes:  (233, 8)\n"
     ]
    }
   ],
   "source": [
    "print(\"df's shape: \",df.shape)\n",
    "print(\"df1's shape: \",df1.shape)\n",
    "print(\"src_tw_df's shapes: \", src_tw_df.shape)"
   ]
  },
  {
   "cell_type": "code",
   "execution_count": null,
   "id": "another-terminal",
   "metadata": {},
   "outputs": [],
   "source": [
    "src_null = df1.loc[df1.cleaned_src_tw.isnull()].index"
   ]
  },
  {
   "cell_type": "code",
   "execution_count": null,
   "id": "spoken-talent",
   "metadata": {},
   "outputs": [],
   "source": [
    "#df1.drop(src_null,0).shape"
   ]
  },
  {
   "cell_type": "markdown",
   "id": "operational-basin",
   "metadata": {},
   "source": [
    "## Sentiment Analysis"
   ]
  },
  {
   "cell_type": "code",
   "execution_count": 22,
   "id": "immediate-toddler",
   "metadata": {},
   "outputs": [
    {
     "data": {
      "text/plain": [
       "1    229\n",
       "0      4\n",
       "Name: label, dtype: int64"
      ]
     },
     "execution_count": 22,
     "metadata": {},
     "output_type": "execute_result"
    }
   ],
   "source": [
    "src_tw_df.label.value_counts()"
   ]
  },
  {
   "cell_type": "markdown",
   "id": "loving-treat",
   "metadata": {},
   "source": [
    "### Source Tweets "
   ]
  },
  {
   "cell_type": "code",
   "execution_count": 20,
   "id": "agricultural-grounds",
   "metadata": {},
   "outputs": [
    {
     "name": "stderr",
     "output_type": "stream",
     "text": [
      "posx and posy should be finite values\n",
      "posx and posy should be finite values\n",
      "posx and posy should be finite values\n",
      "posx and posy should be finite values\n"
     ]
    },
    {
     "data": {
      "image/png": "[encoded data removed]",
      "text/plain": [
       "<Figure size 432x288 with 1 Axes>"
      ]
     },
     "metadata": {
      "needs_background": "light"
     },
     "output_type": "display_data"
    }
   ],
   "source": [
    "g = src_tw_df.groupby(['label'])['src_sentiment'].value_counts(normalize=True).mul(100).rename('count').reset_index()\\\n",
    ".pipe((sns.barplot,'data'), x ='label',y='count',hue='src_sentiment',palette=\"vlag\")\n",
    "\n",
    "g.axes.set_ylim(0,100)\n",
    "g.axes.set_xticklabels(['Non-rumor','Rumor'])\n",
    "g.axes.set_ylabel('Count (%)')\n",
    "g.axes.set_title('Sentiment Analysis of Source Tweet (for each label)')\n",
    "\n",
    "for p in g.axes.patches:\n",
    "    txt = str(p.get_height().round(1)) + '%'\n",
    "    txt_x = p.get_x() \n",
    "    txt_y = p.get_height()\n",
    "    g.axes.text(txt_x,txt_y,txt)\n",
    "plt.title('Sentiment Analysis of Source tweet (for each label).',fontsize=12)\n",
    "plt.savefig('D:/論文/PHEME9/Code/graph/prince-toronto/src-sentiment.pdf',dpi=300)"
   ]
  },
  {
   "cell_type": "code",
   "execution_count": null,
   "id": "governmental-velvet",
   "metadata": {},
   "outputs": [],
   "source": [
    "g = src_tw_df.groupby(['src_sentiment'])['label'].value_counts(normalize=True).mul(100).rename('count').reset_index()\\\n",
    ".pipe((sns.barplot,'data'), x ='src_sentiment',y='count',hue='label',palette=\"vlag\")\n",
    "\n",
    "g.axes.set_ylim(0,100)\n",
    "g.axes.set_ylabel('Count (%)')\n",
    "\n",
    "for p in g.axes.patches:\n",
    "    txt = str(p.get_height().round(1)) + '%'\n",
    "    txt_x = p.get_x() \n",
    "    txt_y = p.get_height()\n",
    "    g.axes.text(txt_x,txt_y,txt)\n",
    "plt.title('# of rumor/non-rumor Source tweet (for each sentiment class).',fontsize=12)\n"
   ]
  },
  {
   "cell_type": "markdown",
   "id": "political-cowboy",
   "metadata": {},
   "source": [
    "### Reply Tweets"
   ]
  },
  {
   "cell_type": "code",
   "execution_count": null,
   "id": "plastic-closure",
   "metadata": {},
   "outputs": [],
   "source": [
    "df.reply_sentiment.value_counts(normalize=True)"
   ]
  },
  {
   "cell_type": "code",
   "execution_count": 23,
   "id": "instructional-taste",
   "metadata": {},
   "outputs": [
    {
     "name": "stderr",
     "output_type": "stream",
     "text": [
      "posx and posy should be finite values\n",
      "posx and posy should be finite values\n",
      "posx and posy should be finite values\n",
      "posx and posy should be finite values\n",
      "posx and posy should be finite values\n",
      "posx and posy should be finite values\n",
      "posx and posy should be finite values\n",
      "posx and posy should be finite values\n"
     ]
    },
    {
     "data": {
      "image/png": "[encoded data removed]",
      "text/plain": [
       "<Figure size 432x288 with 1 Axes>"
      ]
     },
     "metadata": {
      "needs_background": "light"
     },
     "output_type": "display_data"
    }
   ],
   "source": [
    "g = df.groupby(['label'])['reply_sentiment'].value_counts(normalize=True).mul(100).rename('count').reset_index()\\\n",
    ".pipe((sns.barplot,'data'), x ='label',y='count',hue='reply_sentiment',palette=\"Set3\")\n",
    "\n",
    "g.axes.set_ylim(0,100)\n",
    "g.axes.set_title('Sentiment Analysis of Reply Tweet (for each label)')\n",
    "g.axes.set_xticklabels(['Non-rumor','Rumor'])\n",
    "g.axes.set_ylabel('Count (%)')\n",
    "\n",
    "for p in g.axes.patches:\n",
    "    txt = str(p.get_height().round(1)) + '%'\n",
    "    txt_x = p.get_x() \n",
    "    txt_y = p.get_height()\n",
    "    g.axes.text(txt_x,txt_y,txt)\n",
    "plt.savefig('D:/論文/PHEME9/Code/graph/prince-toronto/reply-sentiment.pdf',dpi=300)"
   ]
  },
  {
   "cell_type": "code",
   "execution_count": 24,
   "id": "freelance-davis",
   "metadata": {},
   "outputs": [
    {
     "name": "stderr",
     "output_type": "stream",
     "text": [
      "posx and posy should be finite values\n",
      "posx and posy should be finite values\n",
      "posx and posy should be finite values\n",
      "posx and posy should be finite values\n"
     ]
    },
    {
     "data": {
      "image/png": "[encoded data removed]",
      "text/plain": [
       "<Figure size 432x288 with 1 Axes>"
      ]
     },
     "metadata": {
      "needs_background": "light"
     },
     "output_type": "display_data"
    }
   ],
   "source": [
    "g = df.groupby(['reply_sentiment'])['label'].value_counts(normalize=True).mul(100).rename('count').reset_index()\\\n",
    ".pipe((sns.barplot,'data'), x ='reply_sentiment',y='count',hue='label',palette=\"Set3\")\n",
    "\n",
    "g.axes.set_ylim(0,100)\n",
    "g.axes.set_ylabel('Count (%)')\n",
    "\n",
    "for p in g.axes.patches:\n",
    "    txt = str(p.get_height().round(1)) + '%'\n",
    "    txt_x = p.get_x() \n",
    "    txt_y = p.get_height()\n",
    "    g.axes.text(txt_x,txt_y,txt)"
   ]
  },
  {
   "cell_type": "markdown",
   "id": "advance-rally",
   "metadata": {},
   "source": [
    "## Emotion Analysis"
   ]
  },
  {
   "cell_type": "markdown",
   "id": "spiritual-sampling",
   "metadata": {},
   "source": [
    "### Source Tweets"
   ]
  },
  {
   "cell_type": "code",
   "execution_count": null,
   "id": "coral-trouble",
   "metadata": {},
   "outputs": [],
   "source": [
    "src_tw_df['src_emo_ro'].value_counts(normalize=True)"
   ]
  },
  {
   "cell_type": "code",
   "execution_count": 25,
   "id": "absolute-pharmacology",
   "metadata": {},
   "outputs": [
    {
     "data": {
      "image/png": "[encoded data removed]",
      "text/plain": [
       "<Figure size 432x288 with 1 Axes>"
      ]
     },
     "metadata": {
      "needs_background": "light"
     },
     "output_type": "display_data"
    }
   ],
   "source": [
    "g = src_tw_df.groupby(['label'])['src_emo_ro'].value_counts(normalize=True).mul(100).rename('count').reset_index()\\\n",
    ".pipe((sns.barplot,'data'), x ='label',y='count',hue='src_emo_ro',palette=\"vlag\")\n",
    "\n",
    "g.axes.set_ylim(0,100)\n",
    "g.axes.set_xticklabels(['Non-rumor','Rumor'])\n",
    "g.axes.set_ylabel('Count (%)')\n",
    "\n",
    "for p in g.axes.patches:\n",
    "    txt = str(p.get_height().round(1)) + '%'\n",
    "    txt_x = p.get_x() \n",
    "    txt_y = p.get_height()\n",
    "    g.axes.text(txt_x,txt_y,txt)\n",
    "plt.title('Emotion Analysis of Source tweet (for each label).',fontsize=12)\n",
    "plt.savefig('D:/論文/PHEME9/Code/graph/prince-toronto/src-emotion.pdf',dpi=300)"
   ]
  },
  {
   "cell_type": "markdown",
   "id": "derived-jackson",
   "metadata": {},
   "source": [
    "### Reply Tweets"
   ]
  },
  {
   "cell_type": "code",
   "execution_count": 26,
   "id": "institutional-perfume",
   "metadata": {},
   "outputs": [
    {
     "name": "stderr",
     "output_type": "stream",
     "text": [
      "posx and posy should be finite values\n",
      "posx and posy should be finite values\n",
      "posx and posy should be finite values\n",
      "posx and posy should be finite values\n",
      "posx and posy should be finite values\n",
      "posx and posy should be finite values\n",
      "posx and posy should be finite values\n",
      "posx and posy should be finite values\n",
      "posx and posy should be finite values\n",
      "posx and posy should be finite values\n",
      "posx and posy should be finite values\n",
      "posx and posy should be finite values\n"
     ]
    },
    {
     "data": {
      "image/png": "[encoded data removed]",
      "text/plain": [
       "<Figure size 432x288 with 1 Axes>"
      ]
     },
     "metadata": {
      "needs_background": "light"
     },
     "output_type": "display_data"
    }
   ],
   "source": [
    "g =df.groupby(['label'])['reply_emo_ro'].value_counts(normalize=True).mul(100).rename('count').reset_index()\\\n",
    ".pipe((sns.barplot,'data'), x ='label',y='count',hue='reply_emo_ro',palette=\"Set3\")\n",
    "\n",
    "g.axes.set_ylim(0,100)\n",
    "g.axes.set_xticklabels(['Non-rumor','Rumor'])\n",
    "g.axes.set_ylabel('Count (%)')\n",
    "\n",
    "for p in g.axes.patches:\n",
    "    txt = str(p.get_height().round(1)) + '%'\n",
    "    txt_x = p.get_x() \n",
    "    txt_y = p.get_height()\n",
    "    g.axes.text(txt_x,txt_y,txt)\n",
    "plt.title('Emotion Analysis of Reply tweet (for each label).',fontsize=12)\n",
    "plt.savefig('D:/論文/PHEME9/Code/graph/prince-toronto/reply-emotion.pdf',dpi=300)"
   ]
  },
  {
   "cell_type": "code",
   "execution_count": null,
   "id": "continued-groove",
   "metadata": {},
   "outputs": [],
   "source": []
  }
 ],
 "metadata": {
  "kernelspec": {
   "display_name": "Python 3",
   "language": "python",
   "name": "python3"
  },
  "language_info": {
   "codemirror_mode": {
    "name": "ipython",
    "version": 3
   },
   "file_extension": ".py",
   "mimetype": "text/x-python",
   "name": "python",
   "nbconvert_exporter": "python",
   "pygments_lexer": "ipython3",
   "version": "3.9.1"
  },
  "toc-autonumbering": true,
  "toc-showmarkdowntxt": false
 },
 "nbformat": 4,
 "nbformat_minor": 5
}
