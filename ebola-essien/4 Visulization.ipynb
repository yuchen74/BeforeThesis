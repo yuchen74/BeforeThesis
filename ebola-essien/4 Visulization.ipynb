{
 "cells": [
  {
   "cell_type": "markdown",
   "id": "western-accreditation",
   "metadata": {},
   "source": [
    "# Dataset: *ebola-essien*"
   ]
  },
  {
   "cell_type": "markdown",
   "id": "coastal-change",
   "metadata": {},
   "source": [
    "- df.to_csv(r'D:\\論文\\PHEME9\\Data\\CSV\\ebola-essien-df.csv',index=False)\n",
    "- src_tw_df.to_csv(r'D:\\論文\\PHEME9\\Data\\CSV\\ebola-essien-src.csv',index=False)"
   ]
  },
  {
   "cell_type": "code",
   "execution_count": 1,
   "id": "traditional-longitude",
   "metadata": {},
   "outputs": [],
   "source": [
    "import numpy as np\n",
    "import pandas as pd\n",
    "import datetime \n",
    "import matplotlib.pyplot as plt\n",
    "import seaborn as sns\n",
    "from wordcloud import WordCloud,ImageColorGenerator\n",
    "import nltk\n",
    "from nltk import FreqDist, word_tokenize"
   ]
  },
  {
   "cell_type": "code",
   "execution_count": 3,
   "id": "regulated-masters",
   "metadata": {},
   "outputs": [
    {
     "name": "stdout",
     "output_type": "stream",
     "text": [
      "Index(['src_tweet_id', 'src_user_id', 'src_tweet', 'src_date',\n",
      "       'reply_tweet_id', 'reply_user_id', 'reply_tweet', 'reply_date', 'label',\n",
      "       'cleaned_src_tw', 'cleaned_reply_tw', 'src_sentiment',\n",
      "       'reply_sentiment', 'reply_emotion'],\n",
      "      dtype='object')\n",
      "(212, 14)\n"
     ]
    },
    {
     "data": {
      "text/html": [
       "<div>\n",
       "<style scoped>\n",
       "    .dataframe tbody tr th:only-of-type {\n",
       "        vertical-align: middle;\n",
       "    }\n",
       "\n",
       "    .dataframe tbody tr th {\n",
       "        vertical-align: top;\n",
       "    }\n",
       "\n",
       "    .dataframe thead th {\n",
       "        text-align: right;\n",
       "    }\n",
       "</style>\n",
       "<table border=\"1\" class=\"dataframe\">\n",
       "  <thead>\n",
       "    <tr style=\"text-align: right;\">\n",
       "      <th></th>\n",
       "      <th>src_tweet_id</th>\n",
       "      <th>src_user_id</th>\n",
       "      <th>src_tweet</th>\n",
       "      <th>src_date</th>\n",
       "      <th>reply_tweet_id</th>\n",
       "      <th>reply_user_id</th>\n",
       "      <th>reply_tweet</th>\n",
       "      <th>reply_date</th>\n",
       "      <th>label</th>\n",
       "      <th>cleaned_src_tw</th>\n",
       "      <th>cleaned_reply_tw</th>\n",
       "      <th>src_sentiment</th>\n",
       "      <th>reply_sentiment</th>\n",
       "      <th>reply_emotion</th>\n",
       "    </tr>\n",
       "  </thead>\n",
       "  <tbody>\n",
       "    <tr>\n",
       "      <th>0</th>\n",
       "      <td>521310417696858112</td>\n",
       "      <td>964926744</td>\n",
       "      <td>Breaking news: Ghana international and AC Mila...</td>\n",
       "      <td>Sun Oct 12 14:44:23 +0000 2014</td>\n",
       "      <td>521311862118711296</td>\n",
       "      <td>630241693</td>\n",
       "      <td>“@YuryAlkaev: Breaking news: Ghana internation...</td>\n",
       "      <td>Sun Oct 12 14:50:08 +0000 2014</td>\n",
       "      <td>1</td>\n",
       "      <td>break news ghana intern ac milan star michael ...</td>\n",
       "      <td>yuryalkaev break news ghana intern ac milan st...</td>\n",
       "      <td>Positive</td>\n",
       "      <td>Positive</td>\n",
       "      <td>Fear</td>\n",
       "    </tr>\n",
       "  </tbody>\n",
       "</table>\n",
       "</div>"
      ],
      "text/plain": [
       "         src_tweet_id  src_user_id  \\\n",
       "0  521310417696858112    964926744   \n",
       "\n",
       "                                           src_tweet  \\\n",
       "0  Breaking news: Ghana international and AC Mila...   \n",
       "\n",
       "                         src_date      reply_tweet_id  reply_user_id  \\\n",
       "0  Sun Oct 12 14:44:23 +0000 2014  521311862118711296      630241693   \n",
       "\n",
       "                                         reply_tweet  \\\n",
       "0  “@YuryAlkaev: Breaking news: Ghana internation...   \n",
       "\n",
       "                       reply_date  label  \\\n",
       "0  Sun Oct 12 14:50:08 +0000 2014      1   \n",
       "\n",
       "                                      cleaned_src_tw  \\\n",
       "0  break news ghana intern ac milan star michael ...   \n",
       "\n",
       "                                    cleaned_reply_tw src_sentiment  \\\n",
       "0  yuryalkaev break news ghana intern ac milan st...      Positive   \n",
       "\n",
       "  reply_sentiment reply_emotion  \n",
       "0        Positive          Fear  "
      ]
     },
     "execution_count": 3,
     "metadata": {},
     "output_type": "execute_result"
    }
   ],
   "source": [
    "df = pd.read_csv(r'D:\\論文\\PHEME9\\Data\\CSV\\ebola-essien-df.csv', encoding = 'utf-8', header = 0)\n",
    "print(df.columns)\n",
    "print(df.shape)\n",
    "df.head(1)"
   ]
  },
  {
   "cell_type": "code",
   "execution_count": 4,
   "id": "exposed-encounter",
   "metadata": {},
   "outputs": [
    {
     "name": "stdout",
     "output_type": "stream",
     "text": [
      "Index(['src_tweet_id', 'src_user_id', 'src_tweet', 'src_date', 'label',\n",
      "       'cleaned_src_tw', 'src_sentiment', 'src_emotion'],\n",
      "      dtype='object')\n",
      "(14, 8)\n"
     ]
    },
    {
     "data": {
      "text/html": [
       "<div>\n",
       "<style scoped>\n",
       "    .dataframe tbody tr th:only-of-type {\n",
       "        vertical-align: middle;\n",
       "    }\n",
       "\n",
       "    .dataframe tbody tr th {\n",
       "        vertical-align: top;\n",
       "    }\n",
       "\n",
       "    .dataframe thead th {\n",
       "        text-align: right;\n",
       "    }\n",
       "</style>\n",
       "<table border=\"1\" class=\"dataframe\">\n",
       "  <thead>\n",
       "    <tr style=\"text-align: right;\">\n",
       "      <th></th>\n",
       "      <th>src_tweet_id</th>\n",
       "      <th>src_user_id</th>\n",
       "      <th>src_tweet</th>\n",
       "      <th>src_date</th>\n",
       "      <th>label</th>\n",
       "      <th>cleaned_src_tw</th>\n",
       "      <th>src_sentiment</th>\n",
       "      <th>src_emotion</th>\n",
       "    </tr>\n",
       "  </thead>\n",
       "  <tbody>\n",
       "    <tr>\n",
       "      <th>0</th>\n",
       "      <td>521310417696858112</td>\n",
       "      <td>964926744</td>\n",
       "      <td>Breaking news: Ghana international and AC Mila...</td>\n",
       "      <td>Sun Oct 12 14:44:23 +0000 2014</td>\n",
       "      <td>1</td>\n",
       "      <td>break news ghana intern ac milan star michael ...</td>\n",
       "      <td>Positive</td>\n",
       "      <td>Fear</td>\n",
       "    </tr>\n",
       "  </tbody>\n",
       "</table>\n",
       "</div>"
      ],
      "text/plain": [
       "         src_tweet_id  src_user_id  \\\n",
       "0  521310417696858112    964926744   \n",
       "\n",
       "                                           src_tweet  \\\n",
       "0  Breaking news: Ghana international and AC Mila...   \n",
       "\n",
       "                         src_date  label  \\\n",
       "0  Sun Oct 12 14:44:23 +0000 2014      1   \n",
       "\n",
       "                                      cleaned_src_tw src_sentiment src_emotion  \n",
       "0  break news ghana intern ac milan star michael ...      Positive        Fear  "
      ]
     },
     "execution_count": 4,
     "metadata": {},
     "output_type": "execute_result"
    }
   ],
   "source": [
    "src_tw_df = pd.read_csv(r'D:\\論文\\PHEME9\\Data\\CSV\\ebola-essien-src.csv', encoding = 'utf-8', header =0)\n",
    "print(src_tw_df.columns)\n",
    "print(src_tw_df.shape)\n",
    "src_tw_df.head(1)"
   ]
  },
  {
   "cell_type": "code",
   "execution_count": 8,
   "id": "verified-temperature",
   "metadata": {},
   "outputs": [
    {
     "data": {
      "text/plain": [
       "src_tweet_id        0\n",
       "src_user_id         0\n",
       "src_tweet           0\n",
       "src_date            0\n",
       "reply_tweet_id      0\n",
       "reply_user_id       0\n",
       "reply_tweet         0\n",
       "reply_date          0\n",
       "label               0\n",
       "cleaned_src_tw      0\n",
       "cleaned_reply_tw    0\n",
       "src_sentiment       0\n",
       "reply_sentiment     0\n",
       "reply_emotion       0\n",
       "dtype: int64"
      ]
     },
     "execution_count": 8,
     "metadata": {},
     "output_type": "execute_result"
    }
   ],
   "source": [
    "df.isnull().sum()"
   ]
  },
  {
   "cell_type": "code",
   "execution_count": 6,
   "id": "closed-chemistry",
   "metadata": {},
   "outputs": [
    {
     "data": {
      "text/html": [
       "<div>\n",
       "<style scoped>\n",
       "    .dataframe tbody tr th:only-of-type {\n",
       "        vertical-align: middle;\n",
       "    }\n",
       "\n",
       "    .dataframe tbody tr th {\n",
       "        vertical-align: top;\n",
       "    }\n",
       "\n",
       "    .dataframe thead th {\n",
       "        text-align: right;\n",
       "    }\n",
       "</style>\n",
       "<table border=\"1\" class=\"dataframe\">\n",
       "  <thead>\n",
       "    <tr style=\"text-align: right;\">\n",
       "      <th></th>\n",
       "      <th>reply_tweet</th>\n",
       "      <th>cleaned_reply_tw</th>\n",
       "      <th>reply_sentiment</th>\n",
       "    </tr>\n",
       "  </thead>\n",
       "  <tbody>\n",
       "    <tr>\n",
       "      <th>56</th>\n",
       "      <td>@TheBenchWarming @tp_ricky @JayNanners13</td>\n",
       "      <td>NaN</td>\n",
       "      <td>Neutral</td>\n",
       "    </tr>\n",
       "    <tr>\n",
       "      <th>59</th>\n",
       "      <td>@Sloddeuh @TheBenchWarming @TheMutherfxcker 😂😂😂😂😂</td>\n",
       "      <td>NaN</td>\n",
       "      <td>Neutral</td>\n",
       "    </tr>\n",
       "    <tr>\n",
       "      <th>78</th>\n",
       "      <td>@TransferRelated @FUTCrespo_</td>\n",
       "      <td>NaN</td>\n",
       "      <td>Neutral</td>\n",
       "    </tr>\n",
       "    <tr>\n",
       "      <th>82</th>\n",
       "      <td>@TransferRelated @PaOCallaghan</td>\n",
       "      <td>NaN</td>\n",
       "      <td>Neutral</td>\n",
       "    </tr>\n",
       "    <tr>\n",
       "      <th>89</th>\n",
       "      <td>@grindingAlbo @TransferRelated it's not</td>\n",
       "      <td>NaN</td>\n",
       "      <td>Neutral</td>\n",
       "    </tr>\n",
       "    <tr>\n",
       "      <th>100</th>\n",
       "      <td>@FutbolSergi @Goaldobin</td>\n",
       "      <td>NaN</td>\n",
       "      <td>Neutral</td>\n",
       "    </tr>\n",
       "    <tr>\n",
       "      <th>113</th>\n",
       "      <td>@FutbolLife @blayrobert @Carlosisking7</td>\n",
       "      <td>NaN</td>\n",
       "      <td>Neutral</td>\n",
       "    </tr>\n",
       "    <tr>\n",
       "      <th>135</th>\n",
       "      <td>@JamesChelsea16 @MichaelEssien ;)</td>\n",
       "      <td>NaN</td>\n",
       "      <td>Neutral</td>\n",
       "    </tr>\n",
       "    <tr>\n",
       "      <th>159</th>\n",
       "      <td>@Mourinholic 😕😕 http://t.co/sFoV1v8uDo</td>\n",
       "      <td>NaN</td>\n",
       "      <td>Neutral</td>\n",
       "    </tr>\n",
       "    <tr>\n",
       "      <th>164</th>\n",
       "      <td>@br_uk @S_isley</td>\n",
       "      <td>NaN</td>\n",
       "      <td>Neutral</td>\n",
       "    </tr>\n",
       "    <tr>\n",
       "      <th>171</th>\n",
       "      <td>@br_uk https://t.co/nRjqOF4AgX</td>\n",
       "      <td>NaN</td>\n",
       "      <td>Neutral</td>\n",
       "    </tr>\n",
       "    <tr>\n",
       "      <th>180</th>\n",
       "      <td>@MichaelEssien @Barbig_Wonroe</td>\n",
       "      <td>NaN</td>\n",
       "      <td>Neutral</td>\n",
       "    </tr>\n",
       "    <tr>\n",
       "      <th>207</th>\n",
       "      <td>@Milanello they are</td>\n",
       "      <td>NaN</td>\n",
       "      <td>Neutral</td>\n",
       "    </tr>\n",
       "    <tr>\n",
       "      <th>210</th>\n",
       "      <td>@Milanello They should</td>\n",
       "      <td>NaN</td>\n",
       "      <td>Neutral</td>\n",
       "    </tr>\n",
       "  </tbody>\n",
       "</table>\n",
       "</div>"
      ],
      "text/plain": [
       "                                           reply_tweet cleaned_reply_tw  \\\n",
       "56            @TheBenchWarming @tp_ricky @JayNanners13              NaN   \n",
       "59   @Sloddeuh @TheBenchWarming @TheMutherfxcker 😂😂😂😂😂              NaN   \n",
       "78                        @TransferRelated @FUTCrespo_              NaN   \n",
       "82                      @TransferRelated @PaOCallaghan              NaN   \n",
       "89             @grindingAlbo @TransferRelated it's not              NaN   \n",
       "100                            @FutbolSergi @Goaldobin              NaN   \n",
       "113             @FutbolLife @blayrobert @Carlosisking7              NaN   \n",
       "135                  @JamesChelsea16 @MichaelEssien ;)              NaN   \n",
       "159             @Mourinholic 😕😕 http://t.co/sFoV1v8uDo              NaN   \n",
       "164                                    @br_uk @S_isley              NaN   \n",
       "171                     @br_uk https://t.co/nRjqOF4AgX              NaN   \n",
       "180                      @MichaelEssien @Barbig_Wonroe              NaN   \n",
       "207                                @Milanello they are              NaN   \n",
       "210                             @Milanello They should              NaN   \n",
       "\n",
       "    reply_sentiment  \n",
       "56          Neutral  \n",
       "59          Neutral  \n",
       "78          Neutral  \n",
       "82          Neutral  \n",
       "89          Neutral  \n",
       "100         Neutral  \n",
       "113         Neutral  \n",
       "135         Neutral  \n",
       "159         Neutral  \n",
       "164         Neutral  \n",
       "171         Neutral  \n",
       "180         Neutral  \n",
       "207         Neutral  \n",
       "210         Neutral  "
      ]
     },
     "execution_count": 6,
     "metadata": {},
     "output_type": "execute_result"
    }
   ],
   "source": [
    "df.loc[df.cleaned_reply_tw.isnull(),['reply_tweet','cleaned_reply_tw','reply_sentiment']]"
   ]
  },
  {
   "cell_type": "markdown",
   "id": "natural-packaging",
   "metadata": {},
   "source": [
    "- Delete those meaningless responses."
   ]
  },
  {
   "cell_type": "code",
   "execution_count": 7,
   "id": "acute-novelty",
   "metadata": {},
   "outputs": [],
   "source": [
    "df.dropna(inplace = True)"
   ]
  },
  {
   "cell_type": "code",
   "execution_count": 9,
   "id": "attached-piece",
   "metadata": {},
   "outputs": [
    {
     "data": {
      "text/plain": [
       "src_tweet_id      0\n",
       "src_user_id       0\n",
       "src_tweet         0\n",
       "src_date          0\n",
       "label             0\n",
       "cleaned_src_tw    0\n",
       "src_sentiment     0\n",
       "src_emotion       0\n",
       "dtype: int64"
      ]
     },
     "execution_count": 9,
     "metadata": {},
     "output_type": "execute_result"
    }
   ],
   "source": [
    "src_tw_df.isnull().sum()"
   ]
  },
  {
   "cell_type": "code",
   "execution_count": 10,
   "id": "liquid-printing",
   "metadata": {},
   "outputs": [
    {
     "data": {
      "text/html": [
       "<div>\n",
       "<style scoped>\n",
       "    .dataframe tbody tr th:only-of-type {\n",
       "        vertical-align: middle;\n",
       "    }\n",
       "\n",
       "    .dataframe tbody tr th {\n",
       "        vertical-align: top;\n",
       "    }\n",
       "\n",
       "    .dataframe thead th {\n",
       "        text-align: right;\n",
       "    }\n",
       "</style>\n",
       "<table border=\"1\" class=\"dataframe\">\n",
       "  <thead>\n",
       "    <tr style=\"text-align: right;\">\n",
       "      <th></th>\n",
       "      <th>src_tweet_id</th>\n",
       "      <th>src_user_id</th>\n",
       "      <th>src_tweet</th>\n",
       "      <th>src_date</th>\n",
       "      <th>reply_tweet_id</th>\n",
       "      <th>reply_user_id</th>\n",
       "      <th>reply_tweet</th>\n",
       "      <th>reply_date</th>\n",
       "      <th>label</th>\n",
       "      <th>cleaned_src_tw</th>\n",
       "      <th>cleaned_reply_tw</th>\n",
       "      <th>src_sentiment</th>\n",
       "      <th>reply_sentiment</th>\n",
       "      <th>reply_emotion</th>\n",
       "      <th>src_emotion</th>\n",
       "    </tr>\n",
       "  </thead>\n",
       "  <tbody>\n",
       "    <tr>\n",
       "      <th>0</th>\n",
       "      <td>521310417696858112</td>\n",
       "      <td>964926744</td>\n",
       "      <td>Breaking news: Ghana international and AC Mila...</td>\n",
       "      <td>Sun Oct 12 14:44:23 +0000 2014</td>\n",
       "      <td>521311862118711296</td>\n",
       "      <td>630241693</td>\n",
       "      <td>“@YuryAlkaev: Breaking news: Ghana internation...</td>\n",
       "      <td>Sun Oct 12 14:50:08 +0000 2014</td>\n",
       "      <td>1</td>\n",
       "      <td>break news ghana intern ac milan star michael ...</td>\n",
       "      <td>yuryalkaev break news ghana intern ac milan st...</td>\n",
       "      <td>Positive</td>\n",
       "      <td>Positive</td>\n",
       "      <td>Fear</td>\n",
       "      <td>Fear</td>\n",
       "    </tr>\n",
       "  </tbody>\n",
       "</table>\n",
       "</div>"
      ],
      "text/plain": [
       "         src_tweet_id  src_user_id  \\\n",
       "0  521310417696858112    964926744   \n",
       "\n",
       "                                           src_tweet  \\\n",
       "0  Breaking news: Ghana international and AC Mila...   \n",
       "\n",
       "                         src_date      reply_tweet_id  reply_user_id  \\\n",
       "0  Sun Oct 12 14:44:23 +0000 2014  521311862118711296      630241693   \n",
       "\n",
       "                                         reply_tweet  \\\n",
       "0  “@YuryAlkaev: Breaking news: Ghana internation...   \n",
       "\n",
       "                       reply_date  label  \\\n",
       "0  Sun Oct 12 14:50:08 +0000 2014      1   \n",
       "\n",
       "                                      cleaned_src_tw  \\\n",
       "0  break news ghana intern ac milan star michael ...   \n",
       "\n",
       "                                    cleaned_reply_tw src_sentiment  \\\n",
       "0  yuryalkaev break news ghana intern ac milan st...      Positive   \n",
       "\n",
       "  reply_sentiment reply_emotion src_emotion  \n",
       "0        Positive          Fear        Fear  "
      ]
     },
     "execution_count": 10,
     "metadata": {},
     "output_type": "execute_result"
    }
   ],
   "source": [
    "df1 = pd.merge(df, src_tw_df[['src_tweet_id','src_emotion']], on='src_tweet_id')\n",
    "df1.head(1)"
   ]
  },
  {
   "cell_type": "code",
   "execution_count": 11,
   "id": "floating-universe",
   "metadata": {},
   "outputs": [
    {
     "name": "stdout",
     "output_type": "stream",
     "text": [
      "df's shape:  (198, 14)\n",
      "df1's shape:  (198, 15)\n",
      "src_tw_df's shapes:  (14, 8)\n"
     ]
    }
   ],
   "source": [
    "print(\"df's shape: \",df.shape)\n",
    "print(\"df1's shape: \",df1.shape)\n",
    "print(\"src_tw_df's shapes: \", src_tw_df.shape)"
   ]
  },
  {
   "cell_type": "markdown",
   "id": "fabulous-carrier",
   "metadata": {},
   "source": [
    "## Sentiment Analysis"
   ]
  },
  {
   "cell_type": "code",
   "execution_count": 12,
   "id": "radical-lawrence",
   "metadata": {},
   "outputs": [
    {
     "data": {
      "text/plain": [
       "<AxesSubplot:xlabel='src_sentiment', ylabel='count'>"
      ]
     },
     "execution_count": 12,
     "metadata": {},
     "output_type": "execute_result"
    },
    {
     "data": {
      "image/png": "[encoded data removed]",
      "text/plain": [
       "<Figure size 432x288 with 1 Axes>"
      ]
     },
     "metadata": {
      "needs_background": "light"
     },
     "output_type": "display_data"
    }
   ],
   "source": [
    " a = pd.DataFrame(df.groupby(['src_sentiment','reply_sentiment']).size(),columns=['count']).reset_index()\n",
    "sns.barplot(x = 'src_sentiment', y='count', data = a, hue = 'reply_sentiment')"
   ]
  },
  {
   "cell_type": "markdown",
   "id": "complete-terrorist",
   "metadata": {},
   "source": [
    "1. source tweet analysis"
   ]
  },
  {
   "cell_type": "code",
   "execution_count": null,
   "id": "artificial-tampa",
   "metadata": {},
   "outputs": [],
   "source": [
    "a = pd.DataFrame(src_tw_df.groupby('src_sentiment').size(),columns=['count_src'])\n",
    "relative_count = a.count_src / a.count_src.sum()\n",
    "a['relative_count'] = relative_count\n",
    "a\n",
    "# print(pd.DataFrame(df.groupby('reply_sentiment').size(),columns=['count']))"
   ]
  },
  {
   "cell_type": "code",
   "execution_count": null,
   "id": "animated-bankruptcy",
   "metadata": {},
   "outputs": [],
   "source": [
    "src_tw_df.src_sentiment.value_counts().plot(kind='bar')\n",
    "plt.title('Souce tweet sentiment distribution')\n",
    "plt.xticks(rotation = 0)\n",
    "plt.show()"
   ]
  },
  {
   "cell_type": "code",
   "execution_count": null,
   "id": "logical-robinson",
   "metadata": {},
   "outputs": [],
   "source": [
    "#which sentiment of original posts received most replys\n",
    "b = pd.DataFrame(df.groupby('src_sentiment').size(),columns=['# of replys'])\n",
    "c = a.join(b)\n",
    "c['relative_count_reply'] = c['# of replys'] / c['relative_count'] #consider negative src_tw comstitutes most of the dataset.\n",
    "c\n"
   ]
  },
  {
   "cell_type": "code",
   "execution_count": null,
   "id": "isolated-hungarian",
   "metadata": {},
   "outputs": [],
   "source": [
    "df.src_sentiment.value_counts().plot(kind='bar',stacked=True)"
   ]
  },
  {
   "cell_type": "code",
   "execution_count": null,
   "id": "welsh-hammer",
   "metadata": {},
   "outputs": [],
   "source": [
    "sns.countbar(data = df, x='src_sentiment',hue = 'reply_sentiment')"
   ]
  },
  {
   "cell_type": "code",
   "execution_count": null,
   "id": "differential-julian",
   "metadata": {},
   "outputs": [],
   "source": [
    "# Among those src tweet are negative, which sentiment of replys they received the most.\n",
    "fig = plt.figure(figsize=(15,6))\n",
    "\n",
    "ax1 = fig.add_subplot(131)\n",
    "df.loc[df.src_sentiment =='Negative']['reply_sentiment'].value_counts().plot(kind='bar')\n",
    "ax1.set_ylim([0, 10000])\n",
    "\n",
    "ax2 = fig.add_subplot(132)\n",
    "df.loc[df.src_sentiment =='Neutral']['reply_sentiment'].value_counts().plot(kind='bar')\n",
    "ax2.set_ylim([0, 10000])\n",
    "\n",
    "ax3 = fig.add_subplot(133)\n",
    "df.loc[df.src_sentiment =='Positive']['reply_sentiment'].value_counts().plot(kind='bar')\n",
    "ax3.set_ylim([0, 10000])"
   ]
  },
  {
   "cell_type": "code",
   "execution_count": null,
   "id": "multiple-franklin",
   "metadata": {},
   "outputs": [],
   "source": [
    "# Reply sentiment analysis\n",
    "ax = df.reply_sentiment.value_counts().plot.bar()\n",
    "\n",
    "for i in ax.patches:\n",
    "    height = i.get_height()\n",
    "    ax.text(\n",
    "        i.get_x() + i.get_width() / 2,height, str(height), ha=\"center\", va=\"bottom\"\n",
    "    )\n",
    "plt.xticks(rotation=0)\n",
    "plt.show()"
   ]
  },
  {
   "cell_type": "code",
   "execution_count": null,
   "id": "sporting-reference",
   "metadata": {},
   "outputs": [],
   "source": [
    "# Reply sentiment analysis\n",
    "ax = sns.countplot(data=df1, hue = 'label',x='src_sentiment')\n",
    "\n"
   ]
  },
  {
   "cell_type": "code",
   "execution_count": null,
   "id": "statutory-remainder",
   "metadata": {},
   "outputs": [],
   "source": [
    "text = \" \".join(i for i in df.loc[df.reply_sentiment =='Negative']['cleaned_reply_tw'])\n",
    "plt.figure(figsize=(20,10))\n",
    "wordcloud = WordCloud(background_color=\"black\", font_path='arial').generate(text)\n",
    "plt.imshow(wordcloud,interpolation='bilinear')\n",
    "plt.axis('off')\n",
    "plt.show()"
   ]
  },
  {
   "cell_type": "code",
   "execution_count": null,
   "id": "south-bargain",
   "metadata": {},
   "outputs": [],
   "source": [
    "text_lst = text.split()\n",
    "freq = FreqDist(text_lst)\n",
    "freq.plot(20)\n",
    "pd.DataFrame(freq.items(),columns = ['Word','Frequency']).sort_values('Frequency',ascending=False)[0:10]"
   ]
  },
  {
   "cell_type": "code",
   "execution_count": null,
   "id": "artistic-event",
   "metadata": {},
   "outputs": [],
   "source": [
    "# Souce tweet sentiment analysis\n",
    "ax = src_tw_df.src_sentiment.value_counts().plot.bar()\n",
    "\n",
    "for i in ax.patches:\n",
    "    height = i.get_height()\n",
    "    ax.text(\n",
    "        i.get_x() + i.get_width() / 2,height, str(height), ha=\"center\", va=\"bottom\"\n",
    "    )\n",
    "plt.xticks(rotation=0)\n",
    "plt.show()"
   ]
  },
  {
   "cell_type": "markdown",
   "id": "downtown-aurora",
   "metadata": {},
   "source": [
    "## Keywords"
   ]
  },
  {
   "cell_type": "markdown",
   "id": "placed-calgary",
   "metadata": {},
   "source": [
    "- Reply tweets"
   ]
  },
  {
   "cell_type": "code",
   "execution_count": null,
   "id": "educated-pillow",
   "metadata": {},
   "outputs": [],
   "source": [
    "text = \" \".join(i for i in df['cleaned_reply_tw'])\n",
    "print (\"There are {} words in the combination of all review.\".format(len(text)))"
   ]
  },
  {
   "cell_type": "code",
   "execution_count": null,
   "id": "smart-racing",
   "metadata": {},
   "outputs": [],
   "source": [
    "text_lst = text.split()\n",
    "freq = FreqDist(text_lst)\n",
    "freq.plot(20)\n",
    "pd.DataFrame(freq.items(),columns = ['Word','Frequency']).sort_values('Frequency',ascending=False)[0:10]"
   ]
  },
  {
   "cell_type": "code",
   "execution_count": null,
   "id": "funky-botswana",
   "metadata": {},
   "outputs": [],
   "source": []
  },
  {
   "cell_type": "code",
   "execution_count": null,
   "id": "internal-sandwich",
   "metadata": {},
   "outputs": [],
   "source": []
  }
 ],
 "metadata": {
  "kernelspec": {
   "display_name": "Python 3",
   "language": "python",
   "name": "python3"
  },
  "language_info": {
   "codemirror_mode": {
    "name": "ipython",
    "version": 3
   },
   "file_extension": ".py",
   "mimetype": "text/x-python",
   "name": "python",
   "nbconvert_exporter": "python",
   "pygments_lexer": "ipython3",
   "version": "3.9.1"
  },
  "toc-autonumbering": true,
  "toc-showmarkdowntxt": false
 },
 "nbformat": 4,
 "nbformat_minor": 5
}
