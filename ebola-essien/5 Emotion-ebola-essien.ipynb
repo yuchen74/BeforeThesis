{
 "cells": [
  {
   "cell_type": "markdown",
   "id": "canadian-thunder",
   "metadata": {},
   "source": [
    "# Dataset: *ebola-essien*"
   ]
  },
  {
   "cell_type": "markdown",
   "id": "played-register",
   "metadata": {},
   "source": [
    "- df.to_csv(r'D:\\論文\\PHEME9\\Data\\CSV\\ebola-essien-df.csv',index=False)\n",
    "- src_tw_df.to_csv(r'D:\\論文\\PHEME9\\Data\\CSV\\ebola-essien-src.csv',index=False)"
   ]
  },
  {
   "cell_type": "code",
   "execution_count": 2,
   "id": "greater-offering",
   "metadata": {},
   "outputs": [],
   "source": [
    "import numpy as np\n",
    "import pandas as pd\n",
    "import datetime \n",
    "import matplotlib.pyplot as plt\n",
    "import seaborn as sns"
   ]
  },
  {
   "cell_type": "code",
   "execution_count": 3,
   "id": "russian-certificate",
   "metadata": {},
   "outputs": [],
   "source": [
    "df = pd.read_csv(r'D:\\論文\\PHEME9\\Data\\CSV\\ebola-essien-df-2.csv', encoding = 'utf-8', header = 0)\n",
    "# df.dropna(inplace = True)\n",
    "# df.reset_index(drop=True,inplace=True)\n",
    "src_tw_df = pd.read_csv(r'D:\\論文\\PHEME9\\Data\\CSV\\ebola-essien-src.csv', encoding = 'utf-8', header =0)"
   ]
  },
  {
   "cell_type": "markdown",
   "id": "based-survivor",
   "metadata": {},
   "source": [
    "## Emotion Analysis"
   ]
  },
  {
   "cell_type": "markdown",
   "id": "bacterial-broadcasting",
   "metadata": {},
   "source": [
    "### T5 Based\n",
    "<https://huggingface.co/mrm8488/t5-base-finetuned-emotion?text=I+wish+you+were+here+but+it+is+impossible>"
   ]
  },
  {
   "cell_type": "code",
   "execution_count": 1,
   "id": "signed-pillow",
   "metadata": {},
   "outputs": [
    {
     "name": "stdout",
     "output_type": "stream",
     "text": [
      "INFO:tensorflow:Enabling eager execution\n",
      "INFO:tensorflow:Enabling v2 tensorshape\n",
      "INFO:tensorflow:Enabling resource variables\n",
      "INFO:tensorflow:Enabling tensor equality\n",
      "INFO:tensorflow:Enabling control flow v2\n"
     ]
    }
   ],
   "source": [
    "from transformers import AutoTokenizer, AutoModelWithLMHead, AutoModelForSequenceClassification"
   ]
  },
  {
   "cell_type": "code",
   "execution_count": 4,
   "id": "several-accident",
   "metadata": {},
   "outputs": [
    {
     "name": "stderr",
     "output_type": "stream",
     "text": [
      "c:\\users\\user\\appdata\\local\\programs\\python\\python39\\lib\\site-packages\\transformers\\models\\auto\\modeling_auto.py:694: FutureWarning: The class `AutoModelWithLMHead` is deprecated and will be removed in a future version. Please use `AutoModelForCausalLM` for causal language models, `AutoModelForMaskedLM` for masked language models and `AutoModelForSeq2SeqLM` for encoder-decoder models.\n",
      "  warnings.warn(\n"
     ]
    }
   ],
   "source": [
    "t5_tokenizer = AutoTokenizer.from_pretrained(\"mrm8488/t5-base-finetuned-emotion\",use_fast=False)\n",
    "t5_model = AutoModelWithLMHead.from_pretrained(\"mrm8488/t5-base-finetuned-emotion\")\n",
    "\n",
    "\n",
    "\n",
    "def get_emotion_t5(text):\n",
    "    input_ids = t5_tokenizer.encode(text , return_tensors='pt')\n",
    "    output = t5_model.generate(input_ids=input_ids,max_length=2)\n",
    "  \n",
    "    dec = [t5_tokenizer.decode(ids) for ids in output]\n",
    "    label = dec[0]\n",
    "    return label"
   ]
  },
  {
   "cell_type": "code",
   "execution_count": null,
   "id": "freelance-catholic",
   "metadata": {},
   "outputs": [],
   "source": [
    "emotion_t5 = df.reply_tweet.apply(get_emotion_t5)"
   ]
  },
  {
   "cell_type": "code",
   "execution_count": null,
   "id": "dominant-correspondence",
   "metadata": {},
   "outputs": [],
   "source": [
    "df['reply_emo_t5'] = emotion_t5"
   ]
  },
  {
   "cell_type": "code",
   "execution_count": null,
   "id": "engaged-lesbian",
   "metadata": {},
   "outputs": [],
   "source": [
    "ax = df.reply_emotion.value_counts().plot.bar()\n",
    "\n",
    "for i in ax.patches:\n",
    "    height = i.get_height()\n",
    "    ax.text(\n",
    "        i.get_x() + i.get_width() / 2,height, str(height), ha=\"center\", va=\"bottom\"\n",
    "    )\n",
    "plt.xticks(rotation=0)\n",
    "plt.show()\n",
    "#plt.savefig('D:/論文/PHEME9/Code/graph/ebola-essien/rep-emotion.pdf',dpi=300)"
   ]
  },
  {
   "cell_type": "markdown",
   "id": "modified-weather",
   "metadata": {},
   "source": [
    "### roBERTa-base model\n",
    "<https://huggingface.co/cardiffnlp/twitter-roberta-base-emotion>"
   ]
  },
  {
   "cell_type": "code",
   "execution_count": 5,
   "id": "inappropriate-fundamental",
   "metadata": {},
   "outputs": [],
   "source": [
    "import numpy as np\n",
    "from scipy.special import softmax\n",
    "\n",
    "task='emotion'\n",
    "MODEL = f\"cardiffnlp/twitter-roberta-base-{task}\"\n",
    "ro_tokenizer = AutoTokenizer.from_pretrained(MODEL)\n",
    "ro_model = AutoModelForSequenceClassification.from_pretrained(MODEL)\n"
   ]
  },
  {
   "cell_type": "code",
   "execution_count": 6,
   "id": "centered-viking",
   "metadata": {},
   "outputs": [],
   "source": [
    "def get_emotion_roBERT(text):\n",
    "    \n",
    "    def preprocess(txt):\n",
    "        new_text = []\n",
    "        for t in txt.split(\" \"):\n",
    "            t = '@user' if t.startswith('@') and len(t) > 1 else t\n",
    "            t = 'http' if t.startswith('http') else t\n",
    "            new_text.append(t)\n",
    "        return \" \".join(new_text)\n",
    "    \n",
    "    labels = ['anger','joy','optimism','sadness']\n",
    "    text = preprocess(text)\n",
    "    encoded_input = ro_tokenizer(text, return_tensors='pt')\n",
    "    output = ro_model(**encoded_input)\n",
    "\n",
    "    scores = output[0][0].detach().numpy()\n",
    "    scores = softmax(scores)\n",
    "    ranking = np.argsort(scores)\n",
    "    ranking = ranking[::-1]\n",
    "    emo = labels[ranking[0]]\n",
    "    return emo"
   ]
  },
  {
   "cell_type": "code",
   "execution_count": 14,
   "id": "cleared-radio",
   "metadata": {},
   "outputs": [],
   "source": [
    "emotion_ro = df.reply_tweet.apply(get_emotion_roBERT)"
   ]
  },
  {
   "cell_type": "code",
   "execution_count": 15,
   "id": "gothic-warren",
   "metadata": {},
   "outputs": [],
   "source": [
    "df['reply_emo_ro'] = emotion_ro\n",
    "df.to_csv(r'D:\\論文\\PHEME9\\Data\\CSV\\ebola-essien-df-2.csv',index=False)"
   ]
  },
  {
   "cell_type": "markdown",
   "id": "coupled-medicaid",
   "metadata": {},
   "source": [
    " - robert : 'anger','joy','optimism','sadness'\n",
    " - t5: 'sadness', 'joy', 'love', 'anger', 'fear', 'surprise' \n",
    " - text2emotion: 'angry, 'fear', 'happy, 'sad', 'surprise'"
   ]
  },
  {
   "cell_type": "code",
   "execution_count": 13,
   "id": "interstate-dynamics",
   "metadata": {},
   "outputs": [
    {
     "name": "stdout",
     "output_type": "stream",
     "text": [
      "roBERT based:  anger\n",
      "t5 based:  <pad> sadness\n",
      "lexicon based:  Fear\n"
     ]
    }
   ],
   "source": [
    "print('roBERT based: ',get_emotion_roBERT(df.reply_tweet[2]))\n",
    "print('t5 based: ',get_emotion_t5(df.reply_tweet[2]))\n",
    "print('lexicon based: ', df.reply_emotion[2]) #text2emotion"
   ]
  },
  {
   "cell_type": "code",
   "execution_count": 15,
   "id": "critical-programming",
   "metadata": {},
   "outputs": [
    {
     "name": "stdout",
     "output_type": "stream",
     "text": [
      "roBERT based:  anger\n",
      "t5 based:  <pad> fear\n",
      "lexicon based:  Fear\n"
     ]
    }
   ],
   "source": [
    "print('roBERT based: ',get_emotion_roBERT('wtf'))\n",
    "print('t5 based: ',get_emotion_t5('wtf'))\n",
    "print('lexicon based: ', df.reply_emotion[2])"
   ]
  },
  {
   "cell_type": "code",
   "execution_count": 10,
   "id": "dried-return",
   "metadata": {},
   "outputs": [
    {
     "name": "stdout",
     "output_type": "stream",
     "text": [
      "reply tweet:  “@YuryAlkaev: Breaking news: Ghana international and AC Milan star Michael Essien has contracted Ebola, his club has confirmed.” Wtf\n",
      "cleaned reply tweet:  yuryalkaev break news ghana intern ac milan star michael essien ha contract ebola hi club ha confirm wtf\n"
     ]
    }
   ],
   "source": [
    "print(\"reply tweet: \", df.reply_tweet[2])\n",
    "print(\"cleaned reply tweet: \", df.cleaned_reply_tw[2])"
   ]
  },
  {
   "cell_type": "code",
   "execution_count": null,
   "id": "weekly-patch",
   "metadata": {},
   "outputs": [],
   "source": []
  }
 ],
 "metadata": {
  "kernelspec": {
   "display_name": "Python 3",
   "language": "python",
   "name": "python3"
  },
  "language_info": {
   "codemirror_mode": {
    "name": "ipython",
    "version": 3
   },
   "file_extension": ".py",
   "mimetype": "text/x-python",
   "name": "python",
   "nbconvert_exporter": "python",
   "pygments_lexer": "ipython3",
   "version": "3.9.1"
  },
  "toc-autonumbering": true,
  "toc-showmarkdowntxt": false
 },
 "nbformat": 4,
 "nbformat_minor": 5
}
