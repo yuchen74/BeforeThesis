{
 "cells": [
  {
   "cell_type": "code",
   "execution_count": 1,
   "metadata": {},
   "outputs": [],
   "source": [
    "import numpy as np\n",
    "import pandas as pd\n",
    "import datetime \n",
    "import matplotlib.pyplot as plt\n",
    "import seaborn as sns"
   ]
  },
  {
   "cell_type": "code",
   "execution_count": 2,
   "metadata": {},
   "outputs": [
    {
     "name": "stderr",
     "output_type": "stream",
     "text": [
      "<ipython-input-2-3b5970faf0be>:2: FutureWarning: Passing a negative integer is deprecated in version 1.0 and will not be supported in future version. Instead, use None to not limit the column width.\n",
      "  pd.set_option('display.max_colwidth', -1)\n"
     ]
    }
   ],
   "source": [
    "# to display full text\n",
    "pd.set_option('display.max_colwidth', -1)"
   ]
  },
  {
   "cell_type": "code",
   "execution_count": 3,
   "metadata": {},
   "outputs": [],
   "source": [
    "df = pd.read_csv(r'D:\\論文\\PHEME9\\Data\\CSV\\ebola-essien.csv', encoding = 'utf-8', header = None)"
   ]
  },
  {
   "cell_type": "code",
   "execution_count": 4,
   "metadata": {},
   "outputs": [],
   "source": [
    "df.columns = ['src_tweet_id', 'src_user_id', 'src_tweet','src_date','reply_tweet_id','reply_user_id','reply_tweet','reply_date', 'label']"
   ]
  },
  {
   "cell_type": "code",
   "execution_count": null,
   "metadata": {},
   "outputs": [],
   "source": [
    "df.head()"
   ]
  },
  {
   "cell_type": "code",
   "execution_count": 6,
   "metadata": {},
   "outputs": [
    {
     "data": {
      "text/plain": [
       "(212, 9)"
      ]
     },
     "execution_count": 6,
     "metadata": {},
     "output_type": "execute_result"
    }
   ],
   "source": [
    "df.shape"
   ]
  },
  {
   "cell_type": "markdown",
   "metadata": {},
   "source": [
    "+ change data type"
   ]
  },
  {
   "cell_type": "code",
   "execution_count": 7,
   "metadata": {},
   "outputs": [],
   "source": [
    "df.src_tweet_id = df.src_tweet_id.astype(str)\n",
    "df.src_user_id = df.src_user_id.astype(str)\n",
    "\n",
    "df.reply_tweet_id = df.reply_tweet_id.astype(str)\n",
    "df.reply_tweet_id = df.reply_tweet_id.replace('nan',np.nan)\n",
    "\n",
    "df.reply_user_id = df.reply_user_id.astype(str)\n",
    "df.reply_user_id = df.reply_user_id.replace('nan',np.nan)\n",
    "\n",
    "df.src_date = df.src_date.apply(pd.to_datetime)\n",
    "df.reply_date = df.reply_date.apply(pd.to_datetime)\n",
    "\n",
    "df.reply_tweet = df.reply_tweet.replace(np.nan,\"\")"
   ]
  },
  {
   "cell_type": "markdown",
   "metadata": {},
   "source": [
    "+ Source Tweet Data: **src_tw_df**"
   ]
  },
  {
   "cell_type": "code",
   "execution_count": 8,
   "metadata": {},
   "outputs": [],
   "source": [
    "#Source tweet data\n",
    "src_tw_df = df.iloc[:,[0,1,2,3,8]].copy()\n",
    "src_tw_df = src_tw_df.drop_duplicates().reset_index()"
   ]
  },
  {
   "cell_type": "code",
   "execution_count": 9,
   "metadata": {},
   "outputs": [
    {
     "data": {
      "text/html": [
       "<div>\n",
       "<style scoped>\n",
       "    .dataframe tbody tr th:only-of-type {\n",
       "        vertical-align: middle;\n",
       "    }\n",
       "\n",
       "    .dataframe tbody tr th {\n",
       "        vertical-align: top;\n",
       "    }\n",
       "\n",
       "    .dataframe thead th {\n",
       "        text-align: right;\n",
       "    }\n",
       "</style>\n",
       "<table border=\"1\" class=\"dataframe\">\n",
       "  <thead>\n",
       "    <tr style=\"text-align: right;\">\n",
       "      <th></th>\n",
       "      <th>index</th>\n",
       "      <th>src_tweet_id</th>\n",
       "      <th>src_user_id</th>\n",
       "      <th>src_tweet</th>\n",
       "      <th>src_date</th>\n",
       "      <th>label</th>\n",
       "    </tr>\n",
       "  </thead>\n",
       "  <tbody>\n",
       "    <tr>\n",
       "      <th>0</th>\n",
       "      <td>0</td>\n",
       "      <td>521310417696858112</td>\n",
       "      <td>964926744</td>\n",
       "      <td>Breaking news: Ghana international and AC Milan star Michael Essien has contracted Ebola, his club has confirmed.</td>\n",
       "      <td>2014-10-12 14:44:23+00:00</td>\n",
       "      <td>1</td>\n",
       "    </tr>\n",
       "    <tr>\n",
       "      <th>1</th>\n",
       "      <td>26</td>\n",
       "      <td>521346721226711040</td>\n",
       "      <td>579635019</td>\n",
       "      <td>Unconfirmed reports claim that Michael Essien has contracted Ebola. http://t.co/VASQrZdLhH</td>\n",
       "      <td>2014-10-12 17:08:39+00:00</td>\n",
       "      <td>1</td>\n",
       "    </tr>\n",
       "    <tr>\n",
       "      <th>2</th>\n",
       "      <td>52</td>\n",
       "      <td>521350916872876033</td>\n",
       "      <td>2449736654</td>\n",
       "      <td>BREAKING: Unconfirmed reports claim AC Milan midfielder Michael Essien has contracted the Ebola virus. #GetWellSoon http://t.co/9h2spi4T0J</td>\n",
       "      <td>2014-10-12 17:25:19+00:00</td>\n",
       "      <td>1</td>\n",
       "    </tr>\n",
       "    <tr>\n",
       "      <th>3</th>\n",
       "      <td>70</td>\n",
       "      <td>521358118597689344</td>\n",
       "      <td>24044553</td>\n",
       "      <td>Milan have stated that the reports about Essien having Ebola are completely false.\\nhttp://t.co/Sb9v9ulfTX\\n@MichaelEssien</td>\n",
       "      <td>2014-10-12 17:53:56+00:00</td>\n",
       "      <td>1</td>\n",
       "    </tr>\n",
       "    <tr>\n",
       "      <th>4</th>\n",
       "      <td>74</td>\n",
       "      <td>521359454672269313</td>\n",
       "      <td>2330299633</td>\n",
       "      <td>AC Milan midfielder Michael Essien has been diagnosed with Ebola. Get well soon Michael. [Daily Times] http://t.co/swnPfExdFx</td>\n",
       "      <td>2014-10-12 17:59:15+00:00</td>\n",
       "      <td>1</td>\n",
       "    </tr>\n",
       "  </tbody>\n",
       "</table>\n",
       "</div>"
      ],
      "text/plain": [
       "   index        src_tweet_id src_user_id  \\\n",
       "0  0      521310417696858112  964926744    \n",
       "1  26     521346721226711040  579635019    \n",
       "2  52     521350916872876033  2449736654   \n",
       "3  70     521358118597689344  24044553     \n",
       "4  74     521359454672269313  2330299633   \n",
       "\n",
       "                                                                                                                                    src_tweet  \\\n",
       "0  Breaking news: Ghana international and AC Milan star Michael Essien has contracted Ebola, his club has confirmed.                            \n",
       "1  Unconfirmed reports claim that Michael Essien has contracted Ebola. http://t.co/VASQrZdLhH                                                   \n",
       "2  BREAKING: Unconfirmed reports claim AC Milan midfielder Michael Essien has contracted the Ebola virus. #GetWellSoon http://t.co/9h2spi4T0J   \n",
       "3  Milan have stated that the reports about Essien having Ebola are completely false.\\nhttp://t.co/Sb9v9ulfTX\\n@MichaelEssien                   \n",
       "4  AC Milan midfielder Michael Essien has been diagnosed with Ebola. Get well soon Michael. [Daily Times] http://t.co/swnPfExdFx                \n",
       "\n",
       "                   src_date  label  \n",
       "0 2014-10-12 14:44:23+00:00  1      \n",
       "1 2014-10-12 17:08:39+00:00  1      \n",
       "2 2014-10-12 17:25:19+00:00  1      \n",
       "3 2014-10-12 17:53:56+00:00  1      \n",
       "4 2014-10-12 17:59:15+00:00  1      "
      ]
     },
     "execution_count": 9,
     "metadata": {},
     "output_type": "execute_result"
    }
   ],
   "source": [
    "src_tw_df.head()"
   ]
  },
  {
   "cell_type": "markdown",
   "metadata": {},
   "source": [
    "# EDA"
   ]
  },
  {
   "cell_type": "markdown",
   "metadata": {},
   "source": [
    "## Missing Value"
   ]
  },
  {
   "cell_type": "code",
   "execution_count": 10,
   "metadata": {},
   "outputs": [
    {
     "data": {
      "text/plain": [
       "src_tweet_id      0\n",
       "src_user_id       0\n",
       "src_tweet         0\n",
       "src_date          0\n",
       "reply_tweet_id    0\n",
       "reply_user_id     0\n",
       "reply_tweet       0\n",
       "reply_date        0\n",
       "label             0\n",
       "dtype: int64"
      ]
     },
     "execution_count": 10,
     "metadata": {},
     "output_type": "execute_result"
    }
   ],
   "source": [
    "df.isnull().sum()"
   ]
  },
  {
   "cell_type": "markdown",
   "metadata": {},
   "source": [
    "+ drop rows where there is missing value."
   ]
  },
  {
   "cell_type": "code",
   "execution_count": 11,
   "metadata": {},
   "outputs": [],
   "source": [
    "df.dropna(inplace=True)"
   ]
  },
  {
   "cell_type": "markdown",
   "metadata": {},
   "source": [
    "## Statistics"
   ]
  },
  {
   "cell_type": "code",
   "execution_count": 12,
   "metadata": {},
   "outputs": [
    {
     "name": "stdout",
     "output_type": "stream",
     "text": [
      "# of source tweets: 14\n",
      "# of source users: 12\n",
      "# of reply users: 182\n",
      "# of reply tweets: 212\n"
     ]
    }
   ],
   "source": [
    "print(\"# of source tweets:\",src_tw_df.src_tweet_id.nunique())\n",
    "print(\"# of source users:\",src_tw_df.src_user_id.nunique())\n",
    "print(\"# of reply users:\",df.reply_user_id.nunique())\n",
    "print(\"# of reply tweets:\",df.reply_tweet_id.nunique())"
   ]
  },
  {
   "cell_type": "markdown",
   "metadata": {},
   "source": [
    "## Visualiztion "
   ]
  },
  {
   "cell_type": "code",
   "execution_count": 14,
   "metadata": {},
   "outputs": [
    {
     "data": {
      "image/png": "[encoded data removed]",
      "text/plain": [
       "<Figure size 432x288 with 1 Axes>"
      ]
     },
     "metadata": {
      "needs_background": "light"
     },
     "output_type": "display_data"
    }
   ],
   "source": [
    "reply_user = df.reply_user_id.value_counts().sort_values(ascending=False).to_frame()\n",
    "reply_user.rename(columns={'reply_user_id' :'count'},inplace=True)\n",
    "sns.boxplot(data=reply_user ,x='count')\n",
    "plt.title(\"A few users replied multiple times\")\n",
    "plt.savefig('graph/ebola-essien/reply_user-1.pdf',dpi=300)"
   ]
  },
  {
   "cell_type": "code",
   "execution_count": 15,
   "metadata": {},
   "outputs": [
    {
     "data": {
      "text/plain": [
       "24"
      ]
     },
     "execution_count": 15,
     "metadata": {},
     "output_type": "execute_result"
    }
   ],
   "source": [
    "more_freq_reply_user = reply_user.loc[reply_user['count'] > 1].index\n",
    "len(more_freq_reply_user)"
   ]
  },
  {
   "cell_type": "code",
   "execution_count": 16,
   "metadata": {},
   "outputs": [
    {
     "data": {
      "image/png": "[encoded data removed]",
      "text/plain": [
       "<Figure size 432x288 with 1 Axes>"
      ]
     },
     "metadata": {
      "needs_background": "light"
     },
     "output_type": "display_data"
    }
   ],
   "source": [
    "more_freq = df[df['reply_user_id'].isin(more_freq_reply_user)]\n",
    "# more_freq.label.value_counts().\n",
    "sns.countplot(data=more_freq ,x='label')\n",
    "plt.title('Frequent users replied more to rumours')\n",
    "plt.savefig('graph/ebola-essien/reply_user-2.pdf',dpi=300)"
   ]
  },
  {
   "cell_type": "code",
   "execution_count": 17,
   "metadata": {},
   "outputs": [
    {
     "name": "stdout",
     "output_type": "stream",
     "text": [
      "            count\n",
      "24044553    2    \n",
      "1262229906  2    \n",
      "964926744   1    \n",
      "2330299633  1    \n",
      "315113964   1    \n",
      "301413580   1    \n",
      "1594903015  1    \n",
      "1561123663  1    \n",
      "1742526258  1    \n",
      "579635019   1    \n",
      "159412087   1    \n",
      "2449736654  1    \n"
     ]
    },
    {
     "data": {
      "image/png": "[encoded data removed]",
      "text/plain": [
       "<Figure size 432x288 with 1 Axes>"
      ]
     },
     "metadata": {
      "needs_background": "light"
     },
     "output_type": "display_data"
    },
    {
     "data": {
      "text/plain": [
       "<Figure size 432x288 with 0 Axes>"
      ]
     },
     "metadata": {},
     "output_type": "display_data"
    }
   ],
   "source": [
    "source_user = src_tw_df.src_user_id.value_counts().sort_values(ascending=False).to_frame()\n",
    "source_user.rename(columns={'src_user_id' :'count'},inplace=True)\n",
    "print(source_user)\n",
    "sns.boxplot(data=source_user ,x='count')\n",
    "plt.title('a few user tweeted more than once',fontsize = 12)\n",
    "plt.show()\n",
    "plt.savefig('graph/ebola-essien/source_user-1.pdf',dpi=300)"
   ]
  },
  {
   "cell_type": "code",
   "execution_count": 18,
   "metadata": {},
   "outputs": [
    {
     "data": {
      "image/png": "[encoded data removed]",
      "text/plain": [
       "<Figure size 432x288 with 1 Axes>"
      ]
     },
     "metadata": {
      "needs_background": "light"
     },
     "output_type": "display_data"
    }
   ],
   "source": [
    "more_freq_src_user = source_user.loc[source_user['count'] > 1].index\n",
    "more_freq_src_user\n",
    "more_freq = src_tw_df[src_tw_df['src_user_id'].isin(more_freq_src_user)]\n",
    "# more_freq.label.value_counts().\n",
    "sns.countplot(data=more_freq ,x='label')\n",
    "plt.title('Most of source tweets posted by frequent users were rumours.')\n",
    "plt.savefig('graph/ebola-essien/src_user-2.pdf',dpi=300)"
   ]
  },
  {
   "cell_type": "code",
   "execution_count": null,
   "metadata": {},
   "outputs": [],
   "source": [
    "df.groupby('src_tweet_id')['label'].value_counts().sort_values('label')#.plot(kind = 'bar')\n",
    "# plt.title('Rumour tweet are more than non-rumor tweet',fontsize = 14)\n",
    "# plt.xlabel('Rumor / Non-Rumour', fontsize=12)\n",
    "# plt.ylabel('Count', fontsize=12)\n",
    "# plt.show()"
   ]
  }
 ],
 "metadata": {
  "kernelspec": {
   "display_name": "Python 3",
   "language": "python",
   "name": "python3"
  },
  "language_info": {
   "codemirror_mode": {
    "name": "ipython",
    "version": 3
   },
   "file_extension": ".py",
   "mimetype": "text/x-python",
   "name": "python",
   "nbconvert_exporter": "python",
   "pygments_lexer": "ipython3",
   "version": "3.9.1"
  },
  "toc-autonumbering": false,
  "toc-showmarkdowntxt": true
 },
 "nbformat": 4,
 "nbformat_minor": 4
}
