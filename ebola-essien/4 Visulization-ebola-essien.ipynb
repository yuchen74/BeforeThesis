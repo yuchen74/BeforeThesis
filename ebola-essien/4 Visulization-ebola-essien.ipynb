{
 "cells": [
  {
   "cell_type": "markdown",
   "id": "level-microphone",
   "metadata": {},
   "source": [
    "# Dataset: *ebola-essien*"
   ]
  },
  {
   "cell_type": "markdown",
   "id": "congressional-census",
   "metadata": {},
   "source": [
    "- df.to_csv(r'D:\\論文\\PHEME9\\Data\\CSV\\ebola-essien-df.csv',index=False)\n",
    "- src_tw_df.to_csv(r'D:\\論文\\PHEME9\\Data\\CSV\\ebola-essien-src.csv',index=False)"
   ]
  },
  {
   "cell_type": "code",
   "execution_count": 1,
   "id": "respected-medication",
   "metadata": {},
   "outputs": [],
   "source": [
    "import numpy as np\n",
    "import pandas as pd\n",
    "import datetime \n",
    "import matplotlib.pyplot as plt\n",
    "import seaborn as sns\n",
    "from wordcloud import WordCloud,ImageColorGenerator\n",
    "import nltk\n",
    "from nltk import FreqDist, word_tokenize"
   ]
  },
  {
   "cell_type": "code",
   "execution_count": 2,
   "id": "eight-metallic",
   "metadata": {},
   "outputs": [
    {
     "name": "stdout",
     "output_type": "stream",
     "text": [
      "Index(['src_tweet_id', 'src_user_id', 'src_tweet', 'src_date',\n",
      "       'reply_tweet_id', 'reply_user_id', 'reply_tweet', 'reply_date', 'label',\n",
      "       'cleaned_src_tw', 'cleaned_reply_tw', 'src_sentiment',\n",
      "       'reply_sentiment', 'reply_emotion'],\n",
      "      dtype='object')\n",
      "(212, 14)\n"
     ]
    },
    {
     "data": {
      "text/html": [
       "<div>\n",
       "<style scoped>\n",
       "    .dataframe tbody tr th:only-of-type {\n",
       "        vertical-align: middle;\n",
       "    }\n",
       "\n",
       "    .dataframe tbody tr th {\n",
       "        vertical-align: top;\n",
       "    }\n",
       "\n",
       "    .dataframe thead th {\n",
       "        text-align: right;\n",
       "    }\n",
       "</style>\n",
       "<table border=\"1\" class=\"dataframe\">\n",
       "  <thead>\n",
       "    <tr style=\"text-align: right;\">\n",
       "      <th></th>\n",
       "      <th>src_tweet_id</th>\n",
       "      <th>src_user_id</th>\n",
       "      <th>src_tweet</th>\n",
       "      <th>src_date</th>\n",
       "      <th>reply_tweet_id</th>\n",
       "      <th>reply_user_id</th>\n",
       "      <th>reply_tweet</th>\n",
       "      <th>reply_date</th>\n",
       "      <th>label</th>\n",
       "      <th>cleaned_src_tw</th>\n",
       "      <th>cleaned_reply_tw</th>\n",
       "      <th>src_sentiment</th>\n",
       "      <th>reply_sentiment</th>\n",
       "      <th>reply_emotion</th>\n",
       "    </tr>\n",
       "  </thead>\n",
       "  <tbody>\n",
       "    <tr>\n",
       "      <th>0</th>\n",
       "      <td>521310417696858112</td>\n",
       "      <td>964926744</td>\n",
       "      <td>Breaking news: Ghana international and AC Mila...</td>\n",
       "      <td>Sun Oct 12 14:44:23 +0000 2014</td>\n",
       "      <td>521311862118711296</td>\n",
       "      <td>630241693</td>\n",
       "      <td>“@YuryAlkaev: Breaking news: Ghana internation...</td>\n",
       "      <td>Sun Oct 12 14:50:08 +0000 2014</td>\n",
       "      <td>1</td>\n",
       "      <td>break news ghana intern ac milan star michael ...</td>\n",
       "      <td>yuryalkaev break news ghana intern ac milan st...</td>\n",
       "      <td>Positive</td>\n",
       "      <td>Positive</td>\n",
       "      <td>Fear</td>\n",
       "    </tr>\n",
       "  </tbody>\n",
       "</table>\n",
       "</div>"
      ],
      "text/plain": [
       "         src_tweet_id  src_user_id  \\\n",
       "0  521310417696858112    964926744   \n",
       "\n",
       "                                           src_tweet  \\\n",
       "0  Breaking news: Ghana international and AC Mila...   \n",
       "\n",
       "                         src_date      reply_tweet_id  reply_user_id  \\\n",
       "0  Sun Oct 12 14:44:23 +0000 2014  521311862118711296      630241693   \n",
       "\n",
       "                                         reply_tweet  \\\n",
       "0  “@YuryAlkaev: Breaking news: Ghana internation...   \n",
       "\n",
       "                       reply_date  label  \\\n",
       "0  Sun Oct 12 14:50:08 +0000 2014      1   \n",
       "\n",
       "                                      cleaned_src_tw  \\\n",
       "0  break news ghana intern ac milan star michael ...   \n",
       "\n",
       "                                    cleaned_reply_tw src_sentiment  \\\n",
       "0  yuryalkaev break news ghana intern ac milan st...      Positive   \n",
       "\n",
       "  reply_sentiment reply_emotion  \n",
       "0        Positive          Fear  "
      ]
     },
     "execution_count": 2,
     "metadata": {},
     "output_type": "execute_result"
    }
   ],
   "source": [
    "df = pd.read_csv(r'D:\\論文\\PHEME9\\Data\\CSV\\ebola-essien-df.csv', encoding = 'utf-8', header = 0)\n",
    "print(df.columns)\n",
    "print(df.shape)\n",
    "df.head(1)"
   ]
  },
  {
   "cell_type": "code",
   "execution_count": 3,
   "id": "relative-sponsorship",
   "metadata": {},
   "outputs": [
    {
     "name": "stdout",
     "output_type": "stream",
     "text": [
      "Index(['src_tweet_id', 'src_user_id', 'src_tweet', 'src_date', 'label',\n",
      "       'cleaned_src_tw', 'src_sentiment', 'src_emotion'],\n",
      "      dtype='object')\n",
      "(14, 8)\n"
     ]
    },
    {
     "data": {
      "text/html": [
       "<div>\n",
       "<style scoped>\n",
       "    .dataframe tbody tr th:only-of-type {\n",
       "        vertical-align: middle;\n",
       "    }\n",
       "\n",
       "    .dataframe tbody tr th {\n",
       "        vertical-align: top;\n",
       "    }\n",
       "\n",
       "    .dataframe thead th {\n",
       "        text-align: right;\n",
       "    }\n",
       "</style>\n",
       "<table border=\"1\" class=\"dataframe\">\n",
       "  <thead>\n",
       "    <tr style=\"text-align: right;\">\n",
       "      <th></th>\n",
       "      <th>src_tweet_id</th>\n",
       "      <th>src_user_id</th>\n",
       "      <th>src_tweet</th>\n",
       "      <th>src_date</th>\n",
       "      <th>label</th>\n",
       "      <th>cleaned_src_tw</th>\n",
       "      <th>src_sentiment</th>\n",
       "      <th>src_emotion</th>\n",
       "    </tr>\n",
       "  </thead>\n",
       "  <tbody>\n",
       "    <tr>\n",
       "      <th>0</th>\n",
       "      <td>521310417696858112</td>\n",
       "      <td>964926744</td>\n",
       "      <td>Breaking news: Ghana international and AC Mila...</td>\n",
       "      <td>Sun Oct 12 14:44:23 +0000 2014</td>\n",
       "      <td>1</td>\n",
       "      <td>break news ghana intern ac milan star michael ...</td>\n",
       "      <td>Positive</td>\n",
       "      <td>Fear</td>\n",
       "    </tr>\n",
       "  </tbody>\n",
       "</table>\n",
       "</div>"
      ],
      "text/plain": [
       "         src_tweet_id  src_user_id  \\\n",
       "0  521310417696858112    964926744   \n",
       "\n",
       "                                           src_tweet  \\\n",
       "0  Breaking news: Ghana international and AC Mila...   \n",
       "\n",
       "                         src_date  label  \\\n",
       "0  Sun Oct 12 14:44:23 +0000 2014      1   \n",
       "\n",
       "                                      cleaned_src_tw src_sentiment src_emotion  \n",
       "0  break news ghana intern ac milan star michael ...      Positive        Fear  "
      ]
     },
     "execution_count": 3,
     "metadata": {},
     "output_type": "execute_result"
    }
   ],
   "source": [
    "src_tw_df = pd.read_csv(r'D:\\論文\\PHEME9\\Data\\CSV\\ebola-essien-src.csv', encoding = 'utf-8', header =0)\n",
    "print(src_tw_df.columns)\n",
    "print(src_tw_df.shape)\n",
    "src_tw_df.head(1)"
   ]
  },
  {
   "cell_type": "code",
   "execution_count": 4,
   "id": "verbal-crisis",
   "metadata": {},
   "outputs": [
    {
     "data": {
      "text/plain": [
       "src_tweet_id         0\n",
       "src_user_id          0\n",
       "src_tweet            0\n",
       "src_date             0\n",
       "reply_tweet_id       0\n",
       "reply_user_id        0\n",
       "reply_tweet          0\n",
       "reply_date           0\n",
       "label                0\n",
       "cleaned_src_tw       0\n",
       "cleaned_reply_tw    14\n",
       "src_sentiment        0\n",
       "reply_sentiment      0\n",
       "reply_emotion        0\n",
       "dtype: int64"
      ]
     },
     "execution_count": 4,
     "metadata": {},
     "output_type": "execute_result"
    }
   ],
   "source": [
    "df.isnull().sum()"
   ]
  },
  {
   "cell_type": "code",
   "execution_count": 5,
   "id": "boolean-exemption",
   "metadata": {},
   "outputs": [
    {
     "data": {
      "text/html": [
       "<div>\n",
       "<style scoped>\n",
       "    .dataframe tbody tr th:only-of-type {\n",
       "        vertical-align: middle;\n",
       "    }\n",
       "\n",
       "    .dataframe tbody tr th {\n",
       "        vertical-align: top;\n",
       "    }\n",
       "\n",
       "    .dataframe thead th {\n",
       "        text-align: right;\n",
       "    }\n",
       "</style>\n",
       "<table border=\"1\" class=\"dataframe\">\n",
       "  <thead>\n",
       "    <tr style=\"text-align: right;\">\n",
       "      <th></th>\n",
       "      <th>reply_tweet</th>\n",
       "      <th>cleaned_reply_tw</th>\n",
       "      <th>reply_sentiment</th>\n",
       "    </tr>\n",
       "  </thead>\n",
       "  <tbody>\n",
       "    <tr>\n",
       "      <th>56</th>\n",
       "      <td>@TheBenchWarming @tp_ricky @JayNanners13</td>\n",
       "      <td>NaN</td>\n",
       "      <td>Neutral</td>\n",
       "    </tr>\n",
       "    <tr>\n",
       "      <th>59</th>\n",
       "      <td>@Sloddeuh @TheBenchWarming @TheMutherfxcker 😂😂😂😂😂</td>\n",
       "      <td>NaN</td>\n",
       "      <td>Neutral</td>\n",
       "    </tr>\n",
       "    <tr>\n",
       "      <th>78</th>\n",
       "      <td>@TransferRelated @FUTCrespo_</td>\n",
       "      <td>NaN</td>\n",
       "      <td>Neutral</td>\n",
       "    </tr>\n",
       "    <tr>\n",
       "      <th>82</th>\n",
       "      <td>@TransferRelated @PaOCallaghan</td>\n",
       "      <td>NaN</td>\n",
       "      <td>Neutral</td>\n",
       "    </tr>\n",
       "    <tr>\n",
       "      <th>89</th>\n",
       "      <td>@grindingAlbo @TransferRelated it's not</td>\n",
       "      <td>NaN</td>\n",
       "      <td>Neutral</td>\n",
       "    </tr>\n",
       "    <tr>\n",
       "      <th>100</th>\n",
       "      <td>@FutbolSergi @Goaldobin</td>\n",
       "      <td>NaN</td>\n",
       "      <td>Neutral</td>\n",
       "    </tr>\n",
       "    <tr>\n",
       "      <th>113</th>\n",
       "      <td>@FutbolLife @blayrobert @Carlosisking7</td>\n",
       "      <td>NaN</td>\n",
       "      <td>Neutral</td>\n",
       "    </tr>\n",
       "    <tr>\n",
       "      <th>135</th>\n",
       "      <td>@JamesChelsea16 @MichaelEssien ;)</td>\n",
       "      <td>NaN</td>\n",
       "      <td>Neutral</td>\n",
       "    </tr>\n",
       "    <tr>\n",
       "      <th>159</th>\n",
       "      <td>@Mourinholic 😕😕 http://t.co/sFoV1v8uDo</td>\n",
       "      <td>NaN</td>\n",
       "      <td>Neutral</td>\n",
       "    </tr>\n",
       "    <tr>\n",
       "      <th>164</th>\n",
       "      <td>@br_uk @S_isley</td>\n",
       "      <td>NaN</td>\n",
       "      <td>Neutral</td>\n",
       "    </tr>\n",
       "    <tr>\n",
       "      <th>171</th>\n",
       "      <td>@br_uk https://t.co/nRjqOF4AgX</td>\n",
       "      <td>NaN</td>\n",
       "      <td>Neutral</td>\n",
       "    </tr>\n",
       "    <tr>\n",
       "      <th>180</th>\n",
       "      <td>@MichaelEssien @Barbig_Wonroe</td>\n",
       "      <td>NaN</td>\n",
       "      <td>Neutral</td>\n",
       "    </tr>\n",
       "    <tr>\n",
       "      <th>207</th>\n",
       "      <td>@Milanello they are</td>\n",
       "      <td>NaN</td>\n",
       "      <td>Neutral</td>\n",
       "    </tr>\n",
       "    <tr>\n",
       "      <th>210</th>\n",
       "      <td>@Milanello They should</td>\n",
       "      <td>NaN</td>\n",
       "      <td>Neutral</td>\n",
       "    </tr>\n",
       "  </tbody>\n",
       "</table>\n",
       "</div>"
      ],
      "text/plain": [
       "                                           reply_tweet cleaned_reply_tw  \\\n",
       "56            @TheBenchWarming @tp_ricky @JayNanners13              NaN   \n",
       "59   @Sloddeuh @TheBenchWarming @TheMutherfxcker 😂😂😂😂😂              NaN   \n",
       "78                        @TransferRelated @FUTCrespo_              NaN   \n",
       "82                      @TransferRelated @PaOCallaghan              NaN   \n",
       "89             @grindingAlbo @TransferRelated it's not              NaN   \n",
       "100                            @FutbolSergi @Goaldobin              NaN   \n",
       "113             @FutbolLife @blayrobert @Carlosisking7              NaN   \n",
       "135                  @JamesChelsea16 @MichaelEssien ;)              NaN   \n",
       "159             @Mourinholic 😕😕 http://t.co/sFoV1v8uDo              NaN   \n",
       "164                                    @br_uk @S_isley              NaN   \n",
       "171                     @br_uk https://t.co/nRjqOF4AgX              NaN   \n",
       "180                      @MichaelEssien @Barbig_Wonroe              NaN   \n",
       "207                                @Milanello they are              NaN   \n",
       "210                             @Milanello They should              NaN   \n",
       "\n",
       "    reply_sentiment  \n",
       "56          Neutral  \n",
       "59          Neutral  \n",
       "78          Neutral  \n",
       "82          Neutral  \n",
       "89          Neutral  \n",
       "100         Neutral  \n",
       "113         Neutral  \n",
       "135         Neutral  \n",
       "159         Neutral  \n",
       "164         Neutral  \n",
       "171         Neutral  \n",
       "180         Neutral  \n",
       "207         Neutral  \n",
       "210         Neutral  "
      ]
     },
     "execution_count": 5,
     "metadata": {},
     "output_type": "execute_result"
    }
   ],
   "source": [
    "df.loc[df.cleaned_reply_tw.isnull(),['reply_tweet','cleaned_reply_tw','reply_sentiment']]"
   ]
  },
  {
   "cell_type": "markdown",
   "id": "palestinian-jersey",
   "metadata": {},
   "source": [
    "- Delete those meaningless responses."
   ]
  },
  {
   "cell_type": "code",
   "execution_count": 6,
   "id": "sized-daily",
   "metadata": {},
   "outputs": [],
   "source": [
    "df.dropna(inplace = True)"
   ]
  },
  {
   "cell_type": "code",
   "execution_count": 7,
   "id": "enhanced-attention",
   "metadata": {},
   "outputs": [
    {
     "data": {
      "text/plain": [
       "src_tweet_id      0\n",
       "src_user_id       0\n",
       "src_tweet         0\n",
       "src_date          0\n",
       "label             0\n",
       "cleaned_src_tw    0\n",
       "src_sentiment     0\n",
       "src_emotion       0\n",
       "dtype: int64"
      ]
     },
     "execution_count": 7,
     "metadata": {},
     "output_type": "execute_result"
    }
   ],
   "source": [
    "src_tw_df.isnull().sum()"
   ]
  },
  {
   "cell_type": "code",
   "execution_count": 9,
   "id": "muslim-administration",
   "metadata": {},
   "outputs": [
    {
     "data": {
      "text/html": [
       "<div>\n",
       "<style scoped>\n",
       "    .dataframe tbody tr th:only-of-type {\n",
       "        vertical-align: middle;\n",
       "    }\n",
       "\n",
       "    .dataframe tbody tr th {\n",
       "        vertical-align: top;\n",
       "    }\n",
       "\n",
       "    .dataframe thead th {\n",
       "        text-align: right;\n",
       "    }\n",
       "</style>\n",
       "<table border=\"1\" class=\"dataframe\">\n",
       "  <thead>\n",
       "    <tr style=\"text-align: right;\">\n",
       "      <th></th>\n",
       "      <th>src_tweet_id</th>\n",
       "      <th>src_user_id</th>\n",
       "      <th>src_tweet</th>\n",
       "      <th>src_date</th>\n",
       "      <th>reply_tweet_id</th>\n",
       "      <th>reply_user_id</th>\n",
       "      <th>reply_tweet</th>\n",
       "      <th>reply_date</th>\n",
       "      <th>label</th>\n",
       "      <th>cleaned_src_tw</th>\n",
       "      <th>cleaned_reply_tw</th>\n",
       "      <th>src_sentiment</th>\n",
       "      <th>reply_sentiment</th>\n",
       "      <th>reply_emotion</th>\n",
       "      <th>src_emotion</th>\n",
       "    </tr>\n",
       "  </thead>\n",
       "  <tbody>\n",
       "    <tr>\n",
       "      <th>0</th>\n",
       "      <td>521310417696858112</td>\n",
       "      <td>964926744</td>\n",
       "      <td>Breaking news: Ghana international and AC Mila...</td>\n",
       "      <td>Sun Oct 12 14:44:23 +0000 2014</td>\n",
       "      <td>521311862118711296</td>\n",
       "      <td>630241693</td>\n",
       "      <td>“@YuryAlkaev: Breaking news: Ghana internation...</td>\n",
       "      <td>Sun Oct 12 14:50:08 +0000 2014</td>\n",
       "      <td>1</td>\n",
       "      <td>break news ghana intern ac milan star michael ...</td>\n",
       "      <td>yuryalkaev break news ghana intern ac milan st...</td>\n",
       "      <td>Positive</td>\n",
       "      <td>Positive</td>\n",
       "      <td>Fear</td>\n",
       "      <td>Fear</td>\n",
       "    </tr>\n",
       "  </tbody>\n",
       "</table>\n",
       "</div>"
      ],
      "text/plain": [
       "         src_tweet_id  src_user_id  \\\n",
       "0  521310417696858112    964926744   \n",
       "\n",
       "                                           src_tweet  \\\n",
       "0  Breaking news: Ghana international and AC Mila...   \n",
       "\n",
       "                         src_date      reply_tweet_id  reply_user_id  \\\n",
       "0  Sun Oct 12 14:44:23 +0000 2014  521311862118711296      630241693   \n",
       "\n",
       "                                         reply_tweet  \\\n",
       "0  “@YuryAlkaev: Breaking news: Ghana internation...   \n",
       "\n",
       "                       reply_date  label  \\\n",
       "0  Sun Oct 12 14:50:08 +0000 2014      1   \n",
       "\n",
       "                                      cleaned_src_tw  \\\n",
       "0  break news ghana intern ac milan star michael ...   \n",
       "\n",
       "                                    cleaned_reply_tw src_sentiment  \\\n",
       "0  yuryalkaev break news ghana intern ac milan st...      Positive   \n",
       "\n",
       "  reply_sentiment reply_emotion src_emotion  \n",
       "0        Positive          Fear        Fear  "
      ]
     },
     "execution_count": 9,
     "metadata": {},
     "output_type": "execute_result"
    }
   ],
   "source": [
    "df1 = pd.merge(df, src_tw_df[['src_tweet_id','src_sentiment','src_emo_te']], on='src_tweet_id')\n",
    "df1.head(1)"
   ]
  },
  {
   "cell_type": "code",
   "execution_count": 11,
   "id": "recreational-swimming",
   "metadata": {},
   "outputs": [
    {
     "name": "stdout",
     "output_type": "stream",
     "text": [
      "df's shape:  (198, 14)\n",
      "df1's shape:  (198, 15)\n",
      "src_tw_df's shapes:  (14, 8)\n"
     ]
    }
   ],
   "source": [
    "print(\"df's shape: \",df.shape)\n",
    "print(\"df1's shape: \",df1.shape)\n",
    "print(\"src_tw_df's shapes: \", src_tw_df.shape)"
   ]
  },
  {
   "cell_type": "markdown",
   "id": "adjusted-synthesis",
   "metadata": {},
   "source": [
    "## Sentiment Analysis"
   ]
  },
  {
   "cell_type": "markdown",
   "id": "thrown-community",
   "metadata": {},
   "source": [
    "### Source tweet Analysis"
   ]
  },
  {
   "cell_type": "code",
   "execution_count": 14,
   "id": "expected-chain",
   "metadata": {},
   "outputs": [
    {
     "data": {
      "image/png": "[encoded data removed]",
      "text/plain": [
       "<Figure size 432x288 with 1 Axes>"
      ]
     },
     "metadata": {
      "needs_background": "light"
     },
     "output_type": "display_data"
    }
   ],
   "source": [
    "# Souce tweet sentiment analysis\n",
    "ax = src_tw_df.src_sentiment.value_counts().plot.bar()\n",
    "\n",
    "for i in ax.patches:\n",
    "    height = i.get_height()\n",
    "    ax.text(\n",
    "        i.get_x() + i.get_width() / 2,height, str(height), ha=\"center\", va=\"bottom\"\n",
    "    )\n",
    "plt.title('10 out of 14 Source tweets were positive.',color='#607c8e')\n",
    "plt.suptitle('Sentiment Distribution among Source Tweets')\n",
    "plt.xticks(rotation=0)\n",
    "plt.savefig('D:/論文/PHEME9/Code/graph/ebola-essien/src-sentiment.pdf',dpi=300)\n"
   ]
  },
  {
   "cell_type": "code",
   "execution_count": 38,
   "id": "little-regression",
   "metadata": {},
   "outputs": [
    {
     "name": "stdout",
     "output_type": "stream",
     "text": [
      "  src_sentiment reply_sentiment  count\n",
      "0      Negative        Negative      3\n",
      "1      Negative         Neutral      1\n",
      "2       Neutral        Negative     11\n",
      "3       Neutral         Neutral     12\n",
      "4       Neutral        Positive      2\n",
      "5      Positive        Negative     41\n",
      "6      Positive         Neutral     58\n",
      "7      Positive        Positive     70\n"
     ]
    },
    {
     "data": {
      "image/png": "[encoded data removed]",
      "text/plain": [
       "<Figure size 648x432 with 1 Axes>"
      ]
     },
     "metadata": {
      "needs_background": "light"
     },
     "output_type": "display_data"
    }
   ],
   "source": [
    "#which sentiment of original posts received most replys\n",
    "a = pd.DataFrame(df.groupby(['src_sentiment','reply_sentiment']).size(),columns=['count']).reset_index()\n",
    "print(a)\n",
    "plt.figure(figsize=(9,6))\n",
    "ax = sns.barplot(x = 'src_sentiment', y='count', data = a, hue = 'reply_sentiment')\n",
    "title='Sentiment Distribution among Reply Tweets under each Sentiment Class of Source Tweet' \n",
    "ax.set_title(title, loc='center', wrap=True, y=1)\n",
    "\n",
    "plt.savefig('D:/論文/PHEME9/Code/graph/ebola-essien/repnsrc-sentiment.pdf',dpi=300)\n",
    "#positive source tweets tend to receive positive replys, vice versa."
   ]
  },
  {
   "cell_type": "code",
   "execution_count": 40,
   "id": "incident-silence",
   "metadata": {},
   "outputs": [
    {
     "data": {
      "text/plain": [
       "1    14\n",
       "Name: label, dtype: int64"
      ]
     },
     "execution_count": 40,
     "metadata": {},
     "output_type": "execute_result"
    }
   ],
   "source": [
    "# There was no non-rumour tweets to this event in the dataset.\n",
    "src_tw_df.label.value_counts()"
   ]
  },
  {
   "cell_type": "markdown",
   "id": "needed-edinburgh",
   "metadata": {},
   "source": [
    "### Reply tweet Analysis"
   ]
  },
  {
   "cell_type": "code",
   "execution_count": 49,
   "id": "joint-winning",
   "metadata": {},
   "outputs": [
    {
     "data": {
      "image/png": "[encoded data removed]",
      "text/plain": [
       "<Figure size 432x288 with 1 Axes>"
      ]
     },
     "metadata": {
      "needs_background": "light"
     },
     "output_type": "display_data"
    }
   ],
   "source": [
    "ax = df.reply_sentiment.value_counts().plot.bar()\n",
    "\n",
    "for i in ax.patches:\n",
    "    height = i.get_height()\n",
    "    ax.text(\n",
    "        i.get_x() + i.get_width() / 2,height, str(height), ha=\"center\", va=\"bottom\"\n",
    "    )\n",
    "plt.title('Sentiment Distribution among Reply Tweets')\n",
    "plt.xticks(rotation=0)\n",
    "plt.savefig('D:/論文/PHEME9/Code/graph/ebola-essien/rep-label-sentiment.pdf',dpi=300)\n"
   ]
  },
  {
   "cell_type": "markdown",
   "id": "proper-suicide",
   "metadata": {},
   "source": [
    "## Keywords Extraction"
   ]
  },
  {
   "cell_type": "markdown",
   "id": "received-prince",
   "metadata": {},
   "source": [
    "### Source Tweet Analysis"
   ]
  },
  {
   "cell_type": "code",
   "execution_count": 50,
   "id": "regional-thursday",
   "metadata": {},
   "outputs": [],
   "source": [
    "src_sen = src_tw_df.cleaned_src_tw.apply(word_tokenize)\n",
    "src_tw_list = []\n",
    "for sen in src_sen:\n",
    "    for token in sen:\n",
    "        src_tw_list.append(token)\n",
    "\n",
    "src_tw_doc = \" \".join(src_tw_list)"
   ]
  },
  {
   "cell_type": "code",
   "execution_count": 51,
   "id": "adapted-welcome",
   "metadata": {},
   "outputs": [
    {
     "name": "stdout",
     "output_type": "stream",
     "text": [
      "There are 162 words in all the source tweets.\n"
     ]
    }
   ],
   "source": [
    "print (\"There are {} words in all the source tweets.\".format(len(src_tw_list)))"
   ]
  },
  {
   "cell_type": "code",
   "execution_count": 63,
   "id": "developmental-blogger",
   "metadata": {},
   "outputs": [
    {
     "name": "stdout",
     "output_type": "stream",
     "text": [
      "There are 64 unique words in all the source tweets.\n"
     ]
    }
   ],
   "source": [
    "def n_unique(list1):\n",
    "    list_set = set(list1)\n",
    "    unique_list = (list(list_set))\n",
    "    n = len(unique_list)\n",
    "    return (n,unique_list)\n",
    "print (\"There are {} unique words in all the source tweets.\"\\\n",
    "       .format(n_unique(src_tw_list)[0]))"
   ]
  },
  {
   "cell_type": "code",
   "execution_count": 72,
   "id": "strategic-freedom",
   "metadata": {},
   "outputs": [
    {
     "data": {
      "image/png": "[encoded data removed]",
      "text/plain": [
       "<Figure size 504x360 with 1 Axes>"
      ]
     },
     "metadata": {
      "needs_background": "light"
     },
     "output_type": "display_data"
    },
    {
     "data": {
      "text/html": [
       "<div>\n",
       "<style scoped>\n",
       "    .dataframe tbody tr th:only-of-type {\n",
       "        vertical-align: middle;\n",
       "    }\n",
       "\n",
       "    .dataframe tbody tr th {\n",
       "        vertical-align: top;\n",
       "    }\n",
       "\n",
       "    .dataframe thead th {\n",
       "        text-align: right;\n",
       "    }\n",
       "</style>\n",
       "<table border=\"1\" class=\"dataframe\">\n",
       "  <thead>\n",
       "    <tr style=\"text-align: right;\">\n",
       "      <th></th>\n",
       "      <th>Word</th>\n",
       "      <th>Frequency</th>\n",
       "    </tr>\n",
       "  </thead>\n",
       "  <tbody>\n",
       "    <tr>\n",
       "      <th>0</th>\n",
       "      <td>ebola</td>\n",
       "      <td>12</td>\n",
       "    </tr>\n",
       "    <tr>\n",
       "      <th>1</th>\n",
       "      <td>essien</td>\n",
       "      <td>12</td>\n",
       "    </tr>\n",
       "    <tr>\n",
       "      <th>2</th>\n",
       "      <td>michael</td>\n",
       "      <td>11</td>\n",
       "    </tr>\n",
       "    <tr>\n",
       "      <th>3</th>\n",
       "      <td>milan</td>\n",
       "      <td>8</td>\n",
       "    </tr>\n",
       "    <tr>\n",
       "      <th>4</th>\n",
       "      <td>ha</td>\n",
       "      <td>8</td>\n",
       "    </tr>\n",
       "    <tr>\n",
       "      <th>5</th>\n",
       "      <td>report</td>\n",
       "      <td>7</td>\n",
       "    </tr>\n",
       "    <tr>\n",
       "      <th>6</th>\n",
       "      <td>contract</td>\n",
       "      <td>7</td>\n",
       "    </tr>\n",
       "    <tr>\n",
       "      <th>7</th>\n",
       "      <td>ac</td>\n",
       "      <td>6</td>\n",
       "    </tr>\n",
       "    <tr>\n",
       "      <th>8</th>\n",
       "      <td>rumour</td>\n",
       "      <td>4</td>\n",
       "    </tr>\n",
       "    <tr>\n",
       "      <th>9</th>\n",
       "      <td>well</td>\n",
       "      <td>4</td>\n",
       "    </tr>\n",
       "    <tr>\n",
       "      <th>10</th>\n",
       "      <td>midfield</td>\n",
       "      <td>4</td>\n",
       "    </tr>\n",
       "    <tr>\n",
       "      <th>11</th>\n",
       "      <td>fals</td>\n",
       "      <td>4</td>\n",
       "    </tr>\n",
       "    <tr>\n",
       "      <th>12</th>\n",
       "      <td>veri</td>\n",
       "      <td>4</td>\n",
       "    </tr>\n",
       "    <tr>\n",
       "      <th>13</th>\n",
       "      <td>amp</td>\n",
       "      <td>3</td>\n",
       "    </tr>\n",
       "    <tr>\n",
       "      <th>14</th>\n",
       "      <td>diagnos</td>\n",
       "      <td>2</td>\n",
       "    </tr>\n",
       "    <tr>\n",
       "      <th>15</th>\n",
       "      <td>internet</td>\n",
       "      <td>2</td>\n",
       "    </tr>\n",
       "    <tr>\n",
       "      <th>16</th>\n",
       "      <td>truth</td>\n",
       "      <td>2</td>\n",
       "    </tr>\n",
       "    <tr>\n",
       "      <th>17</th>\n",
       "      <td>news</td>\n",
       "      <td>2</td>\n",
       "    </tr>\n",
       "    <tr>\n",
       "      <th>18</th>\n",
       "      <td>time</td>\n",
       "      <td>2</td>\n",
       "    </tr>\n",
       "    <tr>\n",
       "      <th>19</th>\n",
       "      <td>daili</td>\n",
       "      <td>2</td>\n",
       "    </tr>\n",
       "  </tbody>\n",
       "</table>\n",
       "</div>"
      ],
      "text/plain": [
       "        Word  Frequency\n",
       "0      ebola         12\n",
       "1     essien         12\n",
       "2    michael         11\n",
       "3      milan          8\n",
       "4         ha          8\n",
       "5     report          7\n",
       "6   contract          7\n",
       "7         ac          6\n",
       "8     rumour          4\n",
       "9       well          4\n",
       "10  midfield          4\n",
       "11      fals          4\n",
       "12      veri          4\n",
       "13       amp          3\n",
       "14   diagnos          2\n",
       "15  internet          2\n",
       "16     truth          2\n",
       "17      news          2\n",
       "18      time          2\n",
       "19     daili          2"
      ]
     },
     "execution_count": 72,
     "metadata": {},
     "output_type": "execute_result"
    }
   ],
   "source": [
    "freq = FreqDist(src_tw_list)\n",
    "c = pd.DataFrame(freq.items(),columns = ['Word','Frequency'])\\\n",
    "    .sort_values('Frequency',ascending=False)\n",
    "c.reset_index(inplace=True,drop=True)\n",
    "\n",
    "fig = plt.figure(figsize = (7,5))\n",
    "sns.lineplot(data=c.head(20),x='Word',y='Frequency')   \n",
    "plt.xticks(rotation=45)\n",
    "plt.title('Frequency of Words in Source Tweets')\n",
    "plt.show()    \n",
    "fig.savefig('D:/論文/PHEME9/Code/graph/ebola-essien/freqDist.pdf',dpi=300)\n",
    "c.head(20)"
   ]
  },
  {
   "cell_type": "code",
   "execution_count": null,
   "id": "little-playing",
   "metadata": {},
   "outputs": [],
   "source": []
  }
 ],
 "metadata": {
  "kernelspec": {
   "display_name": "Python 3",
   "language": "python",
   "name": "python3"
  },
  "language_info": {
   "codemirror_mode": {
    "name": "ipython",
    "version": 3
   },
   "file_extension": ".py",
   "mimetype": "text/x-python",
   "name": "python",
   "nbconvert_exporter": "python",
   "pygments_lexer": "ipython3",
   "version": "3.9.1"
  },
  "toc-autonumbering": true,
  "toc-showmarkdowntxt": false
 },
 "nbformat": 4,
 "nbformat_minor": 5
}
